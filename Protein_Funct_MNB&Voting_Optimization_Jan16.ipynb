{
 "cells": [
  {
   "cell_type": "code",
   "execution_count": 1,
   "metadata": {
    "collapsed": true
   },
   "outputs": [],
   "source": [
    "import pandas as pd\n",
    "import numpy as np\n",
    "import seaborn as sns\n",
    "import matplotlib.pyplot as plt\n",
    "import time\n",
    "import re\n",
    "import nltk\n",
    "import math\n",
    "import pickle\n",
    "\n",
    "from sklearn.ensemble import VotingClassifier\n",
    "from sklearn.linear_model import PassiveAggressiveClassifier\n",
    "from sklearn.naive_bayes import MultinomialNB\n",
    "from sklearn import linear_model\n",
    "\n",
    "from sklearn import svm\n",
    "from sklearn.preprocessing import StandardScaler\n",
    "from sklearn.model_selection import train_test_split, GridSearchCV\n",
    "from sklearn.tree import DecisionTreeClassifier\n",
    "from sklearn.linear_model import LogisticRegression\n",
    "from sklearn.neighbors import KNeighborsClassifier\n",
    "from sklearn.ensemble import RandomForestClassifier\n",
    "from nltk.corpus import stopwords\n",
    "from sklearn.feature_extraction.text import TfidfVectorizer\n",
    "from sklearn.feature_extraction.text import CountVectorizer\n",
    "import sklearn.metrics\n",
    "from sklearn.metrics import confusion_matrix\n",
    "from Bio.SeqUtils.ProtParam import ProteinAnalysis\n",
    "from imblearn.over_sampling import SMOTE\n",
    "from sklearn.model_selection import cross_val_score, cross_val_predict\n",
    "\n",
    "%matplotlib inline"
   ]
  },
  {
   "cell_type": "code",
   "execution_count": 2,
   "metadata": {
    "collapsed": true
   },
   "outputs": [],
   "source": [
    "# Data taken from https://www.kaggle.com/shahir/protein-data-set\n",
    "# This is a protein data set retrieved from Research Collaboratory for Structural Bioinformatics (RCSB) Protein Data Bank (PDB)."
   ]
  },
  {
   "cell_type": "code",
   "execution_count": 3,
   "metadata": {},
   "outputs": [
    {
     "data": {
      "text/html": [
       "<div>\n",
       "<style scoped>\n",
       "    .dataframe tbody tr th:only-of-type {\n",
       "        vertical-align: middle;\n",
       "    }\n",
       "\n",
       "    .dataframe tbody tr th {\n",
       "        vertical-align: top;\n",
       "    }\n",
       "\n",
       "    .dataframe thead th {\n",
       "        text-align: right;\n",
       "    }\n",
       "</style>\n",
       "<table border=\"1\" class=\"dataframe\">\n",
       "  <thead>\n",
       "    <tr style=\"text-align: right;\">\n",
       "      <th></th>\n",
       "      <th>structureId</th>\n",
       "      <th>classification</th>\n",
       "      <th>experimentalTechnique</th>\n",
       "      <th>macromoleculeType</th>\n",
       "      <th>residueCount</th>\n",
       "      <th>resolution</th>\n",
       "      <th>structureMolecularWeight</th>\n",
       "      <th>crystallizationMethod</th>\n",
       "      <th>crystallizationTempK</th>\n",
       "      <th>densityMatthews</th>\n",
       "      <th>densityPercentSol</th>\n",
       "      <th>pdbxDetails</th>\n",
       "      <th>phValue</th>\n",
       "      <th>publicationYear</th>\n",
       "    </tr>\n",
       "  </thead>\n",
       "  <tbody>\n",
       "    <tr>\n",
       "      <th>0</th>\n",
       "      <td>100D</td>\n",
       "      <td>DNA-RNA HYBRID</td>\n",
       "      <td>X-RAY DIFFRACTION</td>\n",
       "      <td>DNA/RNA Hybrid</td>\n",
       "      <td>20</td>\n",
       "      <td>1.90</td>\n",
       "      <td>6360.30</td>\n",
       "      <td>VAPOR DIFFUSION, HANGING DROP</td>\n",
       "      <td>NaN</td>\n",
       "      <td>1.78</td>\n",
       "      <td>30.89</td>\n",
       "      <td>pH 7.00, VAPOR DIFFUSION, HANGING DROP</td>\n",
       "      <td>7.0</td>\n",
       "      <td>1994.0</td>\n",
       "    </tr>\n",
       "    <tr>\n",
       "      <th>1</th>\n",
       "      <td>101D</td>\n",
       "      <td>DNA</td>\n",
       "      <td>X-RAY DIFFRACTION</td>\n",
       "      <td>DNA</td>\n",
       "      <td>24</td>\n",
       "      <td>2.25</td>\n",
       "      <td>7939.35</td>\n",
       "      <td>NaN</td>\n",
       "      <td>NaN</td>\n",
       "      <td>2.00</td>\n",
       "      <td>38.45</td>\n",
       "      <td>NaN</td>\n",
       "      <td>NaN</td>\n",
       "      <td>1995.0</td>\n",
       "    </tr>\n",
       "    <tr>\n",
       "      <th>2</th>\n",
       "      <td>101M</td>\n",
       "      <td>OXYGEN TRANSPORT</td>\n",
       "      <td>X-RAY DIFFRACTION</td>\n",
       "      <td>Protein</td>\n",
       "      <td>154</td>\n",
       "      <td>2.07</td>\n",
       "      <td>18112.80</td>\n",
       "      <td>NaN</td>\n",
       "      <td>NaN</td>\n",
       "      <td>3.09</td>\n",
       "      <td>60.20</td>\n",
       "      <td>3.0 M AMMONIUM SULFATE, 20 MM TRIS, 1MM EDTA, ...</td>\n",
       "      <td>9.0</td>\n",
       "      <td>1999.0</td>\n",
       "    </tr>\n",
       "  </tbody>\n",
       "</table>\n",
       "</div>"
      ],
      "text/plain": [
       "  structureId    classification experimentalTechnique macromoleculeType  \\\n",
       "0        100D    DNA-RNA HYBRID     X-RAY DIFFRACTION    DNA/RNA Hybrid   \n",
       "1        101D               DNA     X-RAY DIFFRACTION               DNA   \n",
       "2        101M  OXYGEN TRANSPORT     X-RAY DIFFRACTION           Protein   \n",
       "\n",
       "   residueCount  resolution  structureMolecularWeight  \\\n",
       "0            20        1.90                   6360.30   \n",
       "1            24        2.25                   7939.35   \n",
       "2           154        2.07                  18112.80   \n",
       "\n",
       "           crystallizationMethod  crystallizationTempK  densityMatthews  \\\n",
       "0  VAPOR DIFFUSION, HANGING DROP                   NaN             1.78   \n",
       "1                            NaN                   NaN             2.00   \n",
       "2                            NaN                   NaN             3.09   \n",
       "\n",
       "   densityPercentSol                                        pdbxDetails  \\\n",
       "0              30.89             pH 7.00, VAPOR DIFFUSION, HANGING DROP   \n",
       "1              38.45                                                NaN   \n",
       "2              60.20  3.0 M AMMONIUM SULFATE, 20 MM TRIS, 1MM EDTA, ...   \n",
       "\n",
       "   phValue  publicationYear  \n",
       "0      7.0           1994.0  \n",
       "1      NaN           1995.0  \n",
       "2      9.0           1999.0  "
      ]
     },
     "execution_count": 3,
     "metadata": {},
     "output_type": "execute_result"
    }
   ],
   "source": [
    "df1 = pd.read_csv('pdb_data_no_dups.csv')\n",
    "df2 = pd.read_csv('pdb_data_seq.csv')\n",
    "df1.head(3)"
   ]
  },
  {
   "cell_type": "code",
   "execution_count": 4,
   "metadata": {},
   "outputs": [
    {
     "data": {
      "text/html": [
       "<div>\n",
       "<style scoped>\n",
       "    .dataframe tbody tr th:only-of-type {\n",
       "        vertical-align: middle;\n",
       "    }\n",
       "\n",
       "    .dataframe tbody tr th {\n",
       "        vertical-align: top;\n",
       "    }\n",
       "\n",
       "    .dataframe thead th {\n",
       "        text-align: right;\n",
       "    }\n",
       "</style>\n",
       "<table border=\"1\" class=\"dataframe\">\n",
       "  <thead>\n",
       "    <tr style=\"text-align: right;\">\n",
       "      <th></th>\n",
       "      <th>structureId</th>\n",
       "      <th>chainId</th>\n",
       "      <th>sequence</th>\n",
       "      <th>residueCount</th>\n",
       "      <th>macromoleculeType</th>\n",
       "    </tr>\n",
       "  </thead>\n",
       "  <tbody>\n",
       "    <tr>\n",
       "      <th>0</th>\n",
       "      <td>100D</td>\n",
       "      <td>A</td>\n",
       "      <td>CCGGCGCCGG</td>\n",
       "      <td>20</td>\n",
       "      <td>DNA/RNA Hybrid</td>\n",
       "    </tr>\n",
       "    <tr>\n",
       "      <th>1</th>\n",
       "      <td>100D</td>\n",
       "      <td>B</td>\n",
       "      <td>CCGGCGCCGG</td>\n",
       "      <td>20</td>\n",
       "      <td>DNA/RNA Hybrid</td>\n",
       "    </tr>\n",
       "    <tr>\n",
       "      <th>2</th>\n",
       "      <td>101D</td>\n",
       "      <td>A</td>\n",
       "      <td>CGCGAATTCGCG</td>\n",
       "      <td>24</td>\n",
       "      <td>DNA</td>\n",
       "    </tr>\n",
       "    <tr>\n",
       "      <th>3</th>\n",
       "      <td>101D</td>\n",
       "      <td>B</td>\n",
       "      <td>CGCGAATTCGCG</td>\n",
       "      <td>24</td>\n",
       "      <td>DNA</td>\n",
       "    </tr>\n",
       "    <tr>\n",
       "      <th>4</th>\n",
       "      <td>101M</td>\n",
       "      <td>A</td>\n",
       "      <td>MVLSEGEWQLVLHVWAKVEADVAGHGQDILIRLFKSHPETLEKFDR...</td>\n",
       "      <td>154</td>\n",
       "      <td>Protein</td>\n",
       "    </tr>\n",
       "  </tbody>\n",
       "</table>\n",
       "</div>"
      ],
      "text/plain": [
       "  structureId chainId                                           sequence  \\\n",
       "0        100D       A                                         CCGGCGCCGG   \n",
       "1        100D       B                                         CCGGCGCCGG   \n",
       "2        101D       A                                       CGCGAATTCGCG   \n",
       "3        101D       B                                       CGCGAATTCGCG   \n",
       "4        101M       A  MVLSEGEWQLVLHVWAKVEADVAGHGQDILIRLFKSHPETLEKFDR...   \n",
       "\n",
       "   residueCount macromoleculeType  \n",
       "0            20    DNA/RNA Hybrid  \n",
       "1            20    DNA/RNA Hybrid  \n",
       "2            24               DNA  \n",
       "3            24               DNA  \n",
       "4           154           Protein  "
      ]
     },
     "execution_count": 4,
     "metadata": {},
     "output_type": "execute_result"
    }
   ],
   "source": [
    "df2.head()"
   ]
  },
  {
   "cell_type": "code",
   "execution_count": 5,
   "metadata": {},
   "outputs": [
    {
     "data": {
      "text/plain": [
       "Index(['structureId', 'classification', 'experimentalTechnique',\n",
       "       'macromoleculeType', 'residueCount', 'resolution',\n",
       "       'structureMolecularWeight', 'crystallizationMethod',\n",
       "       'crystallizationTempK', 'densityMatthews', 'densityPercentSol',\n",
       "       'pdbxDetails', 'phValue', 'publicationYear'],\n",
       "      dtype='object')"
      ]
     },
     "execution_count": 5,
     "metadata": {},
     "output_type": "execute_result"
    }
   ],
   "source": [
    "df1.columns"
   ]
  },
  {
   "cell_type": "code",
   "execution_count": 6,
   "metadata": {},
   "outputs": [
    {
     "data": {
      "text/plain": [
       "Index(['structureId', 'chainId', 'sequence', 'residueCount',\n",
       "       'macromoleculeType'],\n",
       "      dtype='object')"
      ]
     },
     "execution_count": 6,
     "metadata": {},
     "output_type": "execute_result"
    }
   ],
   "source": [
    "df2.columns"
   ]
  },
  {
   "cell_type": "code",
   "execution_count": 7,
   "metadata": {},
   "outputs": [
    {
     "data": {
      "text/plain": [
       "(141401, 14)"
      ]
     },
     "execution_count": 7,
     "metadata": {},
     "output_type": "execute_result"
    }
   ],
   "source": [
    "df1.shape"
   ]
  },
  {
   "cell_type": "code",
   "execution_count": 8,
   "metadata": {},
   "outputs": [
    {
     "data": {
      "text/plain": [
       "(467304, 5)"
      ]
     },
     "execution_count": 8,
     "metadata": {},
     "output_type": "execute_result"
    }
   ],
   "source": [
    "df2.shape"
   ]
  },
  {
   "cell_type": "code",
   "execution_count": 9,
   "metadata": {
    "collapsed": true
   },
   "outputs": [],
   "source": [
    "df3 = pd.merge(df1, df2, on=['structureId','macromoleculeType','residueCount'])"
   ]
  },
  {
   "cell_type": "code",
   "execution_count": 10,
   "metadata": {},
   "outputs": [
    {
     "data": {
      "text/plain": [
       "(471149, 16)"
      ]
     },
     "execution_count": 10,
     "metadata": {},
     "output_type": "execute_result"
    }
   ],
   "source": [
    "df3.shape"
   ]
  },
  {
   "cell_type": "code",
   "execution_count": 11,
   "metadata": {},
   "outputs": [
    {
     "data": {
      "text/html": [
       "<div>\n",
       "<style scoped>\n",
       "    .dataframe tbody tr th:only-of-type {\n",
       "        vertical-align: middle;\n",
       "    }\n",
       "\n",
       "    .dataframe tbody tr th {\n",
       "        vertical-align: top;\n",
       "    }\n",
       "\n",
       "    .dataframe thead th {\n",
       "        text-align: right;\n",
       "    }\n",
       "</style>\n",
       "<table border=\"1\" class=\"dataframe\">\n",
       "  <thead>\n",
       "    <tr style=\"text-align: right;\">\n",
       "      <th></th>\n",
       "      <th>structureId</th>\n",
       "      <th>classification</th>\n",
       "      <th>experimentalTechnique</th>\n",
       "      <th>macromoleculeType</th>\n",
       "      <th>residueCount</th>\n",
       "      <th>resolution</th>\n",
       "      <th>structureMolecularWeight</th>\n",
       "      <th>crystallizationMethod</th>\n",
       "      <th>crystallizationTempK</th>\n",
       "      <th>densityMatthews</th>\n",
       "      <th>densityPercentSol</th>\n",
       "      <th>pdbxDetails</th>\n",
       "      <th>phValue</th>\n",
       "      <th>publicationYear</th>\n",
       "      <th>chainId</th>\n",
       "      <th>sequence</th>\n",
       "    </tr>\n",
       "  </thead>\n",
       "  <tbody>\n",
       "    <tr>\n",
       "      <th>0</th>\n",
       "      <td>100D</td>\n",
       "      <td>DNA-RNA HYBRID</td>\n",
       "      <td>X-RAY DIFFRACTION</td>\n",
       "      <td>DNA/RNA Hybrid</td>\n",
       "      <td>20</td>\n",
       "      <td>1.90</td>\n",
       "      <td>6360.30</td>\n",
       "      <td>VAPOR DIFFUSION, HANGING DROP</td>\n",
       "      <td>NaN</td>\n",
       "      <td>1.78</td>\n",
       "      <td>30.89</td>\n",
       "      <td>pH 7.00, VAPOR DIFFUSION, HANGING DROP</td>\n",
       "      <td>7.0</td>\n",
       "      <td>1994.0</td>\n",
       "      <td>A</td>\n",
       "      <td>CCGGCGCCGG</td>\n",
       "    </tr>\n",
       "    <tr>\n",
       "      <th>1</th>\n",
       "      <td>100D</td>\n",
       "      <td>DNA-RNA HYBRID</td>\n",
       "      <td>X-RAY DIFFRACTION</td>\n",
       "      <td>DNA/RNA Hybrid</td>\n",
       "      <td>20</td>\n",
       "      <td>1.90</td>\n",
       "      <td>6360.30</td>\n",
       "      <td>VAPOR DIFFUSION, HANGING DROP</td>\n",
       "      <td>NaN</td>\n",
       "      <td>1.78</td>\n",
       "      <td>30.89</td>\n",
       "      <td>pH 7.00, VAPOR DIFFUSION, HANGING DROP</td>\n",
       "      <td>7.0</td>\n",
       "      <td>1994.0</td>\n",
       "      <td>B</td>\n",
       "      <td>CCGGCGCCGG</td>\n",
       "    </tr>\n",
       "    <tr>\n",
       "      <th>2</th>\n",
       "      <td>101D</td>\n",
       "      <td>DNA</td>\n",
       "      <td>X-RAY DIFFRACTION</td>\n",
       "      <td>DNA</td>\n",
       "      <td>24</td>\n",
       "      <td>2.25</td>\n",
       "      <td>7939.35</td>\n",
       "      <td>NaN</td>\n",
       "      <td>NaN</td>\n",
       "      <td>2.00</td>\n",
       "      <td>38.45</td>\n",
       "      <td>NaN</td>\n",
       "      <td>NaN</td>\n",
       "      <td>1995.0</td>\n",
       "      <td>A</td>\n",
       "      <td>CGCGAATTCGCG</td>\n",
       "    </tr>\n",
       "    <tr>\n",
       "      <th>3</th>\n",
       "      <td>101D</td>\n",
       "      <td>DNA</td>\n",
       "      <td>X-RAY DIFFRACTION</td>\n",
       "      <td>DNA</td>\n",
       "      <td>24</td>\n",
       "      <td>2.25</td>\n",
       "      <td>7939.35</td>\n",
       "      <td>NaN</td>\n",
       "      <td>NaN</td>\n",
       "      <td>2.00</td>\n",
       "      <td>38.45</td>\n",
       "      <td>NaN</td>\n",
       "      <td>NaN</td>\n",
       "      <td>1995.0</td>\n",
       "      <td>B</td>\n",
       "      <td>CGCGAATTCGCG</td>\n",
       "    </tr>\n",
       "    <tr>\n",
       "      <th>4</th>\n",
       "      <td>101M</td>\n",
       "      <td>OXYGEN TRANSPORT</td>\n",
       "      <td>X-RAY DIFFRACTION</td>\n",
       "      <td>Protein</td>\n",
       "      <td>154</td>\n",
       "      <td>2.07</td>\n",
       "      <td>18112.80</td>\n",
       "      <td>NaN</td>\n",
       "      <td>NaN</td>\n",
       "      <td>3.09</td>\n",
       "      <td>60.20</td>\n",
       "      <td>3.0 M AMMONIUM SULFATE, 20 MM TRIS, 1MM EDTA, ...</td>\n",
       "      <td>9.0</td>\n",
       "      <td>1999.0</td>\n",
       "      <td>A</td>\n",
       "      <td>MVLSEGEWQLVLHVWAKVEADVAGHGQDILIRLFKSHPETLEKFDR...</td>\n",
       "    </tr>\n",
       "  </tbody>\n",
       "</table>\n",
       "</div>"
      ],
      "text/plain": [
       "  structureId    classification experimentalTechnique macromoleculeType  \\\n",
       "0        100D    DNA-RNA HYBRID     X-RAY DIFFRACTION    DNA/RNA Hybrid   \n",
       "1        100D    DNA-RNA HYBRID     X-RAY DIFFRACTION    DNA/RNA Hybrid   \n",
       "2        101D               DNA     X-RAY DIFFRACTION               DNA   \n",
       "3        101D               DNA     X-RAY DIFFRACTION               DNA   \n",
       "4        101M  OXYGEN TRANSPORT     X-RAY DIFFRACTION           Protein   \n",
       "\n",
       "   residueCount  resolution  structureMolecularWeight  \\\n",
       "0            20        1.90                   6360.30   \n",
       "1            20        1.90                   6360.30   \n",
       "2            24        2.25                   7939.35   \n",
       "3            24        2.25                   7939.35   \n",
       "4           154        2.07                  18112.80   \n",
       "\n",
       "           crystallizationMethod  crystallizationTempK  densityMatthews  \\\n",
       "0  VAPOR DIFFUSION, HANGING DROP                   NaN             1.78   \n",
       "1  VAPOR DIFFUSION, HANGING DROP                   NaN             1.78   \n",
       "2                            NaN                   NaN             2.00   \n",
       "3                            NaN                   NaN             2.00   \n",
       "4                            NaN                   NaN             3.09   \n",
       "\n",
       "   densityPercentSol                                        pdbxDetails  \\\n",
       "0              30.89             pH 7.00, VAPOR DIFFUSION, HANGING DROP   \n",
       "1              30.89             pH 7.00, VAPOR DIFFUSION, HANGING DROP   \n",
       "2              38.45                                                NaN   \n",
       "3              38.45                                                NaN   \n",
       "4              60.20  3.0 M AMMONIUM SULFATE, 20 MM TRIS, 1MM EDTA, ...   \n",
       "\n",
       "   phValue  publicationYear chainId  \\\n",
       "0      7.0           1994.0       A   \n",
       "1      7.0           1994.0       B   \n",
       "2      NaN           1995.0       A   \n",
       "3      NaN           1995.0       B   \n",
       "4      9.0           1999.0       A   \n",
       "\n",
       "                                            sequence  \n",
       "0                                         CCGGCGCCGG  \n",
       "1                                         CCGGCGCCGG  \n",
       "2                                       CGCGAATTCGCG  \n",
       "3                                       CGCGAATTCGCG  \n",
       "4  MVLSEGEWQLVLHVWAKVEADVAGHGQDILIRLFKSHPETLEKFDR...  "
      ]
     },
     "execution_count": 11,
     "metadata": {},
     "output_type": "execute_result"
    }
   ],
   "source": [
    "df3.head()"
   ]
  },
  {
   "cell_type": "code",
   "execution_count": 12,
   "metadata": {},
   "outputs": [
    {
     "data": {
      "text/html": [
       "<div>\n",
       "<style scoped>\n",
       "    .dataframe tbody tr th:only-of-type {\n",
       "        vertical-align: middle;\n",
       "    }\n",
       "\n",
       "    .dataframe tbody tr th {\n",
       "        vertical-align: top;\n",
       "    }\n",
       "\n",
       "    .dataframe thead th {\n",
       "        text-align: right;\n",
       "    }\n",
       "</style>\n",
       "<table border=\"1\" class=\"dataframe\">\n",
       "  <thead>\n",
       "    <tr style=\"text-align: right;\">\n",
       "      <th></th>\n",
       "      <th>structureId</th>\n",
       "      <th>classification</th>\n",
       "      <th>experimentalTechnique</th>\n",
       "      <th>macromoleculeType</th>\n",
       "      <th>residueCount</th>\n",
       "      <th>resolution</th>\n",
       "      <th>structureMolecularWeight</th>\n",
       "      <th>crystallizationMethod</th>\n",
       "      <th>crystallizationTempK</th>\n",
       "      <th>densityMatthews</th>\n",
       "      <th>densityPercentSol</th>\n",
       "      <th>pdbxDetails</th>\n",
       "      <th>phValue</th>\n",
       "      <th>publicationYear</th>\n",
       "      <th>chainId</th>\n",
       "      <th>sequence</th>\n",
       "    </tr>\n",
       "  </thead>\n",
       "  <tbody>\n",
       "    <tr>\n",
       "      <th>471144</th>\n",
       "      <td>9XIA</td>\n",
       "      <td>ISOMERASE(INTRAMOLECULAR OXIDOREDUCTASE)</td>\n",
       "      <td>X-RAY DIFFRACTION</td>\n",
       "      <td>Protein</td>\n",
       "      <td>388</td>\n",
       "      <td>1.9</td>\n",
       "      <td>43542.29</td>\n",
       "      <td>NaN</td>\n",
       "      <td>NaN</td>\n",
       "      <td>2.79</td>\n",
       "      <td>55.93</td>\n",
       "      <td>NaN</td>\n",
       "      <td>NaN</td>\n",
       "      <td>1989.0</td>\n",
       "      <td>A</td>\n",
       "      <td>MNYQPTPEDRFTFGLWTVGWQGRDPFGDATRRALDPVESVQRLAEL...</td>\n",
       "    </tr>\n",
       "    <tr>\n",
       "      <th>471145</th>\n",
       "      <td>9XIM</td>\n",
       "      <td>ISOMERASE(INTRAMOLECULAR OXIDOREDUCTASE)</td>\n",
       "      <td>X-RAY DIFFRACTION</td>\n",
       "      <td>Protein</td>\n",
       "      <td>1572</td>\n",
       "      <td>2.4</td>\n",
       "      <td>174722.12</td>\n",
       "      <td>NaN</td>\n",
       "      <td>NaN</td>\n",
       "      <td>3.96</td>\n",
       "      <td>68.92</td>\n",
       "      <td>NaN</td>\n",
       "      <td>NaN</td>\n",
       "      <td>1992.0</td>\n",
       "      <td>A</td>\n",
       "      <td>SVQATREDKFSFGLWTVGWQARDAFGDATRTALDPVEAVHKLAEIG...</td>\n",
       "    </tr>\n",
       "    <tr>\n",
       "      <th>471146</th>\n",
       "      <td>9XIM</td>\n",
       "      <td>ISOMERASE(INTRAMOLECULAR OXIDOREDUCTASE)</td>\n",
       "      <td>X-RAY DIFFRACTION</td>\n",
       "      <td>Protein</td>\n",
       "      <td>1572</td>\n",
       "      <td>2.4</td>\n",
       "      <td>174722.12</td>\n",
       "      <td>NaN</td>\n",
       "      <td>NaN</td>\n",
       "      <td>3.96</td>\n",
       "      <td>68.92</td>\n",
       "      <td>NaN</td>\n",
       "      <td>NaN</td>\n",
       "      <td>1992.0</td>\n",
       "      <td>B</td>\n",
       "      <td>SVQATREDKFSFGLWTVGWQARDAFGDATRTALDPVEAVHKLAEIG...</td>\n",
       "    </tr>\n",
       "    <tr>\n",
       "      <th>471147</th>\n",
       "      <td>9XIM</td>\n",
       "      <td>ISOMERASE(INTRAMOLECULAR OXIDOREDUCTASE)</td>\n",
       "      <td>X-RAY DIFFRACTION</td>\n",
       "      <td>Protein</td>\n",
       "      <td>1572</td>\n",
       "      <td>2.4</td>\n",
       "      <td>174722.12</td>\n",
       "      <td>NaN</td>\n",
       "      <td>NaN</td>\n",
       "      <td>3.96</td>\n",
       "      <td>68.92</td>\n",
       "      <td>NaN</td>\n",
       "      <td>NaN</td>\n",
       "      <td>1992.0</td>\n",
       "      <td>C</td>\n",
       "      <td>SVQATREDKFSFGLWTVGWQARDAFGDATRTALDPVEAVHKLAEIG...</td>\n",
       "    </tr>\n",
       "    <tr>\n",
       "      <th>471148</th>\n",
       "      <td>9XIM</td>\n",
       "      <td>ISOMERASE(INTRAMOLECULAR OXIDOREDUCTASE)</td>\n",
       "      <td>X-RAY DIFFRACTION</td>\n",
       "      <td>Protein</td>\n",
       "      <td>1572</td>\n",
       "      <td>2.4</td>\n",
       "      <td>174722.12</td>\n",
       "      <td>NaN</td>\n",
       "      <td>NaN</td>\n",
       "      <td>3.96</td>\n",
       "      <td>68.92</td>\n",
       "      <td>NaN</td>\n",
       "      <td>NaN</td>\n",
       "      <td>1992.0</td>\n",
       "      <td>D</td>\n",
       "      <td>SVQATREDKFSFGLWTVGWQARDAFGDATRTALDPVEAVHKLAEIG...</td>\n",
       "    </tr>\n",
       "  </tbody>\n",
       "</table>\n",
       "</div>"
      ],
      "text/plain": [
       "       structureId                            classification  \\\n",
       "471144        9XIA  ISOMERASE(INTRAMOLECULAR OXIDOREDUCTASE)   \n",
       "471145        9XIM  ISOMERASE(INTRAMOLECULAR OXIDOREDUCTASE)   \n",
       "471146        9XIM  ISOMERASE(INTRAMOLECULAR OXIDOREDUCTASE)   \n",
       "471147        9XIM  ISOMERASE(INTRAMOLECULAR OXIDOREDUCTASE)   \n",
       "471148        9XIM  ISOMERASE(INTRAMOLECULAR OXIDOREDUCTASE)   \n",
       "\n",
       "       experimentalTechnique macromoleculeType  residueCount  resolution  \\\n",
       "471144     X-RAY DIFFRACTION           Protein           388         1.9   \n",
       "471145     X-RAY DIFFRACTION           Protein          1572         2.4   \n",
       "471146     X-RAY DIFFRACTION           Protein          1572         2.4   \n",
       "471147     X-RAY DIFFRACTION           Protein          1572         2.4   \n",
       "471148     X-RAY DIFFRACTION           Protein          1572         2.4   \n",
       "\n",
       "        structureMolecularWeight crystallizationMethod  crystallizationTempK  \\\n",
       "471144                  43542.29                   NaN                   NaN   \n",
       "471145                 174722.12                   NaN                   NaN   \n",
       "471146                 174722.12                   NaN                   NaN   \n",
       "471147                 174722.12                   NaN                   NaN   \n",
       "471148                 174722.12                   NaN                   NaN   \n",
       "\n",
       "        densityMatthews  densityPercentSol pdbxDetails  phValue  \\\n",
       "471144             2.79              55.93         NaN      NaN   \n",
       "471145             3.96              68.92         NaN      NaN   \n",
       "471146             3.96              68.92         NaN      NaN   \n",
       "471147             3.96              68.92         NaN      NaN   \n",
       "471148             3.96              68.92         NaN      NaN   \n",
       "\n",
       "        publicationYear chainId  \\\n",
       "471144           1989.0       A   \n",
       "471145           1992.0       A   \n",
       "471146           1992.0       B   \n",
       "471147           1992.0       C   \n",
       "471148           1992.0       D   \n",
       "\n",
       "                                                 sequence  \n",
       "471144  MNYQPTPEDRFTFGLWTVGWQGRDPFGDATRRALDPVESVQRLAEL...  \n",
       "471145  SVQATREDKFSFGLWTVGWQARDAFGDATRTALDPVEAVHKLAEIG...  \n",
       "471146  SVQATREDKFSFGLWTVGWQARDAFGDATRTALDPVEAVHKLAEIG...  \n",
       "471147  SVQATREDKFSFGLWTVGWQARDAFGDATRTALDPVEAVHKLAEIG...  \n",
       "471148  SVQATREDKFSFGLWTVGWQARDAFGDATRTALDPVEAVHKLAEIG...  "
      ]
     },
     "execution_count": 12,
     "metadata": {},
     "output_type": "execute_result"
    }
   ],
   "source": [
    "df3.tail()"
   ]
  },
  {
   "cell_type": "code",
   "execution_count": 13,
   "metadata": {},
   "outputs": [
    {
     "data": {
      "text/plain": [
       "structureId                  object\n",
       "classification               object\n",
       "experimentalTechnique        object\n",
       "macromoleculeType            object\n",
       "residueCount                  int64\n",
       "resolution                  float64\n",
       "structureMolecularWeight    float64\n",
       "crystallizationMethod        object\n",
       "crystallizationTempK        float64\n",
       "densityMatthews             float64\n",
       "densityPercentSol           float64\n",
       "pdbxDetails                  object\n",
       "phValue                     float64\n",
       "publicationYear             float64\n",
       "chainId                      object\n",
       "sequence                     object\n",
       "dtype: object"
      ]
     },
     "execution_count": 13,
     "metadata": {},
     "output_type": "execute_result"
    }
   ],
   "source": [
    "df3.dtypes"
   ]
  },
  {
   "cell_type": "code",
   "execution_count": 14,
   "metadata": {},
   "outputs": [
    {
     "data": {
      "text/plain": [
       "Index(['structureId', 'classification', 'experimentalTechnique',\n",
       "       'macromoleculeType', 'residueCount', 'resolution',\n",
       "       'structureMolecularWeight', 'crystallizationMethod',\n",
       "       'crystallizationTempK', 'densityMatthews', 'densityPercentSol',\n",
       "       'pdbxDetails', 'phValue', 'publicationYear', 'chainId', 'sequence'],\n",
       "      dtype='object')"
      ]
     },
     "execution_count": 14,
     "metadata": {},
     "output_type": "execute_result"
    }
   ],
   "source": [
    "df3.columns"
   ]
  },
  {
   "cell_type": "code",
   "execution_count": 15,
   "metadata": {
    "collapsed": true
   },
   "outputs": [],
   "source": [
    "mask = df3['macromoleculeType'] == 'Protein'"
   ]
  },
  {
   "cell_type": "code",
   "execution_count": 16,
   "metadata": {},
   "outputs": [
    {
     "data": {
      "text/html": [
       "<div>\n",
       "<style scoped>\n",
       "    .dataframe tbody tr th:only-of-type {\n",
       "        vertical-align: middle;\n",
       "    }\n",
       "\n",
       "    .dataframe tbody tr th {\n",
       "        vertical-align: top;\n",
       "    }\n",
       "\n",
       "    .dataframe thead th {\n",
       "        text-align: right;\n",
       "    }\n",
       "</style>\n",
       "<table border=\"1\" class=\"dataframe\">\n",
       "  <thead>\n",
       "    <tr style=\"text-align: right;\">\n",
       "      <th></th>\n",
       "      <th>structureId</th>\n",
       "      <th>classification</th>\n",
       "      <th>experimentalTechnique</th>\n",
       "      <th>macromoleculeType</th>\n",
       "      <th>residueCount</th>\n",
       "      <th>resolution</th>\n",
       "      <th>structureMolecularWeight</th>\n",
       "      <th>crystallizationMethod</th>\n",
       "      <th>crystallizationTempK</th>\n",
       "      <th>densityMatthews</th>\n",
       "      <th>densityPercentSol</th>\n",
       "      <th>pdbxDetails</th>\n",
       "      <th>phValue</th>\n",
       "      <th>publicationYear</th>\n",
       "      <th>chainId</th>\n",
       "      <th>sequence</th>\n",
       "    </tr>\n",
       "  </thead>\n",
       "  <tbody>\n",
       "    <tr>\n",
       "      <th>4</th>\n",
       "      <td>101M</td>\n",
       "      <td>OXYGEN TRANSPORT</td>\n",
       "      <td>X-RAY DIFFRACTION</td>\n",
       "      <td>Protein</td>\n",
       "      <td>154</td>\n",
       "      <td>2.07</td>\n",
       "      <td>18112.80</td>\n",
       "      <td>NaN</td>\n",
       "      <td>NaN</td>\n",
       "      <td>3.09</td>\n",
       "      <td>60.20</td>\n",
       "      <td>3.0 M AMMONIUM SULFATE, 20 MM TRIS, 1MM EDTA, ...</td>\n",
       "      <td>9.0</td>\n",
       "      <td>1999.0</td>\n",
       "      <td>A</td>\n",
       "      <td>MVLSEGEWQLVLHVWAKVEADVAGHGQDILIRLFKSHPETLEKFDR...</td>\n",
       "    </tr>\n",
       "    <tr>\n",
       "      <th>7</th>\n",
       "      <td>102L</td>\n",
       "      <td>HYDROLASE(O-GLYCOSYL)</td>\n",
       "      <td>X-RAY DIFFRACTION</td>\n",
       "      <td>Protein</td>\n",
       "      <td>165</td>\n",
       "      <td>1.74</td>\n",
       "      <td>18926.61</td>\n",
       "      <td>NaN</td>\n",
       "      <td>NaN</td>\n",
       "      <td>2.75</td>\n",
       "      <td>55.28</td>\n",
       "      <td>NaN</td>\n",
       "      <td>NaN</td>\n",
       "      <td>1993.0</td>\n",
       "      <td>A</td>\n",
       "      <td>MNIFEMLRIDEGLRLKIYKDTEGYYTIGIGHLLTKSPSLNAAAKSE...</td>\n",
       "    </tr>\n",
       "    <tr>\n",
       "      <th>8</th>\n",
       "      <td>102M</td>\n",
       "      <td>OXYGEN TRANSPORT</td>\n",
       "      <td>X-RAY DIFFRACTION</td>\n",
       "      <td>Protein</td>\n",
       "      <td>154</td>\n",
       "      <td>1.84</td>\n",
       "      <td>18010.64</td>\n",
       "      <td>NaN</td>\n",
       "      <td>NaN</td>\n",
       "      <td>3.09</td>\n",
       "      <td>60.20</td>\n",
       "      <td>3.0 M AMMONIUM SULFATE, 20 MM TRIS, 1MM EDTA, ...</td>\n",
       "      <td>9.0</td>\n",
       "      <td>1999.0</td>\n",
       "      <td>A</td>\n",
       "      <td>MVLSEGEWQLVLHVWAKVEADVAGHGQDILIRLFKSHPETLEKFDR...</td>\n",
       "    </tr>\n",
       "    <tr>\n",
       "      <th>11</th>\n",
       "      <td>103L</td>\n",
       "      <td>HYDROLASE(O-GLYCOSYL)</td>\n",
       "      <td>X-RAY DIFFRACTION</td>\n",
       "      <td>Protein</td>\n",
       "      <td>167</td>\n",
       "      <td>1.90</td>\n",
       "      <td>19092.72</td>\n",
       "      <td>NaN</td>\n",
       "      <td>NaN</td>\n",
       "      <td>2.70</td>\n",
       "      <td>54.46</td>\n",
       "      <td>NaN</td>\n",
       "      <td>NaN</td>\n",
       "      <td>1993.0</td>\n",
       "      <td>A</td>\n",
       "      <td>MNIFEMLRIDEGLRLKIYKDTEGYYTIGIGHLLTKSPSLNSLDAAK...</td>\n",
       "    </tr>\n",
       "    <tr>\n",
       "      <th>12</th>\n",
       "      <td>103M</td>\n",
       "      <td>OXYGEN TRANSPORT</td>\n",
       "      <td>X-RAY DIFFRACTION</td>\n",
       "      <td>Protein</td>\n",
       "      <td>154</td>\n",
       "      <td>2.07</td>\n",
       "      <td>18093.78</td>\n",
       "      <td>NaN</td>\n",
       "      <td>NaN</td>\n",
       "      <td>3.09</td>\n",
       "      <td>60.30</td>\n",
       "      <td>3.0 M AMMONIUM SULFATE, 20 MM TRIS, 1MM EDTA, ...</td>\n",
       "      <td>9.0</td>\n",
       "      <td>1999.0</td>\n",
       "      <td>A</td>\n",
       "      <td>MVLSEGEWQLVLHVWAKVEADVAGHGQDILIRLFKSHPETLEKFDR...</td>\n",
       "    </tr>\n",
       "  </tbody>\n",
       "</table>\n",
       "</div>"
      ],
      "text/plain": [
       "   structureId         classification experimentalTechnique macromoleculeType  \\\n",
       "4         101M       OXYGEN TRANSPORT     X-RAY DIFFRACTION           Protein   \n",
       "7         102L  HYDROLASE(O-GLYCOSYL)     X-RAY DIFFRACTION           Protein   \n",
       "8         102M       OXYGEN TRANSPORT     X-RAY DIFFRACTION           Protein   \n",
       "11        103L  HYDROLASE(O-GLYCOSYL)     X-RAY DIFFRACTION           Protein   \n",
       "12        103M       OXYGEN TRANSPORT     X-RAY DIFFRACTION           Protein   \n",
       "\n",
       "    residueCount  resolution  structureMolecularWeight crystallizationMethod  \\\n",
       "4            154        2.07                  18112.80                   NaN   \n",
       "7            165        1.74                  18926.61                   NaN   \n",
       "8            154        1.84                  18010.64                   NaN   \n",
       "11           167        1.90                  19092.72                   NaN   \n",
       "12           154        2.07                  18093.78                   NaN   \n",
       "\n",
       "    crystallizationTempK  densityMatthews  densityPercentSol  \\\n",
       "4                    NaN             3.09              60.20   \n",
       "7                    NaN             2.75              55.28   \n",
       "8                    NaN             3.09              60.20   \n",
       "11                   NaN             2.70              54.46   \n",
       "12                   NaN             3.09              60.30   \n",
       "\n",
       "                                          pdbxDetails  phValue  \\\n",
       "4   3.0 M AMMONIUM SULFATE, 20 MM TRIS, 1MM EDTA, ...      9.0   \n",
       "7                                                 NaN      NaN   \n",
       "8   3.0 M AMMONIUM SULFATE, 20 MM TRIS, 1MM EDTA, ...      9.0   \n",
       "11                                                NaN      NaN   \n",
       "12  3.0 M AMMONIUM SULFATE, 20 MM TRIS, 1MM EDTA, ...      9.0   \n",
       "\n",
       "    publicationYear chainId                                           sequence  \n",
       "4            1999.0       A  MVLSEGEWQLVLHVWAKVEADVAGHGQDILIRLFKSHPETLEKFDR...  \n",
       "7            1993.0       A  MNIFEMLRIDEGLRLKIYKDTEGYYTIGIGHLLTKSPSLNAAAKSE...  \n",
       "8            1999.0       A  MVLSEGEWQLVLHVWAKVEADVAGHGQDILIRLFKSHPETLEKFDR...  \n",
       "11           1993.0       A  MNIFEMLRIDEGLRLKIYKDTEGYYTIGIGHLLTKSPSLNSLDAAK...  \n",
       "12           1999.0       A  MVLSEGEWQLVLHVWAKVEADVAGHGQDILIRLFKSHPETLEKFDR...  "
      ]
     },
     "execution_count": 16,
     "metadata": {},
     "output_type": "execute_result"
    }
   ],
   "source": [
    "proteins = df3[mask]\n",
    "proteins.head()"
   ]
  },
  {
   "cell_type": "code",
   "execution_count": 17,
   "metadata": {},
   "outputs": [
    {
     "data": {
      "text/plain": [
       "(346325, 16)"
      ]
     },
     "execution_count": 17,
     "metadata": {},
     "output_type": "execute_result"
    }
   ],
   "source": [
    "proteins.shape"
   ]
  },
  {
   "cell_type": "code",
   "execution_count": 18,
   "metadata": {},
   "outputs": [
    {
     "data": {
      "text/plain": [
       "Protein    346325\n",
       "Name: macromoleculeType, dtype: int64"
      ]
     },
     "execution_count": 18,
     "metadata": {},
     "output_type": "execute_result"
    }
   ],
   "source": [
    "# Sanity check for protein sequences only\n",
    "proteins.macromoleculeType.value_counts()"
   ]
  },
  {
   "cell_type": "code",
   "execution_count": 19,
   "metadata": {},
   "outputs": [
    {
     "data": {
      "text/plain": [
       "4    MVLSEGEWQLVLHVWAKVEADVAGHGQDILIRLFKSHPETLEKFDR...\n",
       "7    MNIFEMLRIDEGLRLKIYKDTEGYYTIGIGHLLTKSPSLNAAAKSE...\n",
       "8    MVLSEGEWQLVLHVWAKVEADVAGHGQDILIRLFKSHPETLEKFDR...\n",
       "Name: sequence, dtype: object"
      ]
     },
     "execution_count": 19,
     "metadata": {},
     "output_type": "execute_result"
    }
   ],
   "source": [
    "proteins['sequence'].head(3)"
   ]
  },
  {
   "cell_type": "markdown",
   "metadata": {},
   "source": [
    "## Classification of Proteins: Logistic Regression Model"
   ]
  },
  {
   "cell_type": "code",
   "execution_count": 20,
   "metadata": {},
   "outputs": [
    {
     "data": {
      "text/plain": [
       "HYDROLASE                                  46336\n",
       "TRANSFERASE                                36424\n",
       "OXIDOREDUCTASE                             34322\n",
       "IMMUNE SYSTEM                              15615\n",
       "LYASE                                      11682\n",
       "HYDROLASE/HYDROLASE INHIBITOR              11218\n",
       "TRANSCRIPTION                               8919\n",
       "VIRAL PROTEIN                               8495\n",
       "TRANSPORT PROTEIN                           8371\n",
       "VIRUS                                       6972\n",
       "SIGNALING PROTEIN                           6470\n",
       "ISOMERASE                                   6356\n",
       "LIGASE                                      4964\n",
       "MEMBRANE PROTEIN                            4891\n",
       "PROTEIN BINDING                             4884\n",
       "STRUCTURAL PROTEIN                          4335\n",
       "CHAPERONE                                   4156\n",
       "STRUCTURAL GENOMICS, UNKNOWN FUNCTION       3548\n",
       "SUGAR BINDING PROTEIN                       3474\n",
       "DNA BINDING PROTEIN                         3199\n",
       "PHOTOSYNTHESIS                              3139\n",
       "ELECTRON TRANSPORT                          3047\n",
       "TRANSFERASE/TRANSFERASE INHIBITOR           3032\n",
       "METAL BINDING PROTEIN                       3023\n",
       "CELL ADHESION                               2999\n",
       "UNKNOWN FUNCTION                            2843\n",
       "PROTEIN TRANSPORT                           2674\n",
       "TOXIN                                       2626\n",
       "CELL CYCLE                                  2496\n",
       "RNA BINDING PROTEIN                         1969\n",
       "DE NOVO PROTEIN                             1635\n",
       "HORMONE                                     1523\n",
       "GENE REGULATION                             1501\n",
       "OXIDOREDUCTASE/OXIDOREDUCTASE INHIBITOR     1474\n",
       "APOPTOSIS                                   1382\n",
       "Name: classification, dtype: int64"
      ]
     },
     "execution_count": 20,
     "metadata": {},
     "output_type": "execute_result"
    }
   ],
   "source": [
    "proteins.classification.value_counts()[:35]"
   ]
  },
  {
   "cell_type": "code",
   "execution_count": 21,
   "metadata": {},
   "outputs": [
    {
     "data": {
      "text/plain": [
       "ISOMERASE/IMMUNOSUPPRESSANT                 217\n",
       "ENDOCYTOSIS/EXOCYTOSIS                      217\n",
       "MEMBRANE PROTEIN, TRANSPORT PROTEIN         215\n",
       "ISOMERASE/ISOMERASE INHIBITOR               212\n",
       "IMMUNE SYSTEM/VIRAL PROTEIN                 210\n",
       "VIRUS/IMMUNE SYSTEM                         203\n",
       "TRANSFERASE/ANTIBIOTIC                      202\n",
       "TRANSCRIPTION REGULATION                    197\n",
       "Structural Genomics, Unknown function       195\n",
       "RECOMBINATION                               192\n",
       "DIOXYGENASE                                 189\n",
       "HYDROLASE/PEPTIDE                           188\n",
       "IRON STORAGE                                187\n",
       "RIBOSOMAL PROTEIN                           187\n",
       "PHOSPHOTRANSFERASE                          180\n",
       "ACETYLCHOLINE-BINDING PROTEIN               180\n",
       "HYDROLASE(O-GLYCOSYL)                       180\n",
       "Structural genomics, unknown function       166\n",
       "ELECTRON TRANSPORT,PHOTOSYNTHESIS           160\n",
       "TRANSPORT                                   160\n",
       "ISOMERASE(INTRAMOLECULAR OXIDOREDUCTASE)    158\n",
       "GLYCOPROTEIN                                156\n",
       "SIGNALING PROTEIN/INHIBITOR                 155\n",
       "oxidoreductase/oxidoreductase inhibitor     151\n",
       "TRANSFERASE/TRANSCRIPTION                   150\n",
       "ANTIVIRAL PROTEIN                           148\n",
       "Viral protein/Immune system                 144\n",
       "OXYGEN BINDING                              143\n",
       "Transferase/Transferase inhibitor           143\n",
       "Oxidoreductase/Oxidoreductase inhibitor     142\n",
       "Name: classification, dtype: int64"
      ]
     },
     "execution_count": 21,
     "metadata": {},
     "output_type": "execute_result"
    }
   ],
   "source": [
    "proteins.classification.value_counts()[92:122]"
   ]
  },
  {
   "cell_type": "markdown",
   "metadata": {},
   "source": [
    "## 5 Classes of Proteins"
   ]
  },
  {
   "cell_type": "code",
   "execution_count": 22,
   "metadata": {},
   "outputs": [
    {
     "data": {
      "text/html": [
       "<div>\n",
       "<style scoped>\n",
       "    .dataframe tbody tr th:only-of-type {\n",
       "        vertical-align: middle;\n",
       "    }\n",
       "\n",
       "    .dataframe tbody tr th {\n",
       "        vertical-align: top;\n",
       "    }\n",
       "\n",
       "    .dataframe thead th {\n",
       "        text-align: right;\n",
       "    }\n",
       "</style>\n",
       "<table border=\"1\" class=\"dataframe\">\n",
       "  <thead>\n",
       "    <tr style=\"text-align: right;\">\n",
       "      <th></th>\n",
       "      <th>structureId</th>\n",
       "      <th>classification</th>\n",
       "      <th>experimentalTechnique</th>\n",
       "      <th>macromoleculeType</th>\n",
       "      <th>residueCount</th>\n",
       "      <th>resolution</th>\n",
       "      <th>structureMolecularWeight</th>\n",
       "      <th>crystallizationMethod</th>\n",
       "      <th>crystallizationTempK</th>\n",
       "      <th>densityMatthews</th>\n",
       "      <th>densityPercentSol</th>\n",
       "      <th>pdbxDetails</th>\n",
       "      <th>phValue</th>\n",
       "      <th>publicationYear</th>\n",
       "      <th>chainId</th>\n",
       "      <th>sequence</th>\n",
       "    </tr>\n",
       "  </thead>\n",
       "  <tbody>\n",
       "    <tr>\n",
       "      <th>67</th>\n",
       "      <td>117E</td>\n",
       "      <td>HYDROLASE</td>\n",
       "      <td>X-RAY DIFFRACTION</td>\n",
       "      <td>Protein</td>\n",
       "      <td>572</td>\n",
       "      <td>2.15</td>\n",
       "      <td>65203.21</td>\n",
       "      <td>NaN</td>\n",
       "      <td>NaN</td>\n",
       "      <td>2.71</td>\n",
       "      <td>54.69</td>\n",
       "      <td>17-19% MPD, 25 MM MES, PH 6.0, 1 MM MNCL2, 0.5...</td>\n",
       "      <td>6.0</td>\n",
       "      <td>1998.0</td>\n",
       "      <td>A</td>\n",
       "      <td>TYTTRQIGAKNTLEYKVYIEKDGKPVSAFHDIPLYADKENNIFNMV...</td>\n",
       "    </tr>\n",
       "    <tr>\n",
       "      <th>68</th>\n",
       "      <td>117E</td>\n",
       "      <td>HYDROLASE</td>\n",
       "      <td>X-RAY DIFFRACTION</td>\n",
       "      <td>Protein</td>\n",
       "      <td>572</td>\n",
       "      <td>2.15</td>\n",
       "      <td>65203.21</td>\n",
       "      <td>NaN</td>\n",
       "      <td>NaN</td>\n",
       "      <td>2.71</td>\n",
       "      <td>54.69</td>\n",
       "      <td>17-19% MPD, 25 MM MES, PH 6.0, 1 MM MNCL2, 0.5...</td>\n",
       "      <td>6.0</td>\n",
       "      <td>1998.0</td>\n",
       "      <td>B</td>\n",
       "      <td>TYTTRQIGAKNTLEYKVYIEKDGKPVSAFHDIPLYADKENNIFNMV...</td>\n",
       "    </tr>\n",
       "    <tr>\n",
       "      <th>74</th>\n",
       "      <td>11AS</td>\n",
       "      <td>LIGASE</td>\n",
       "      <td>X-RAY DIFFRACTION</td>\n",
       "      <td>Protein</td>\n",
       "      <td>660</td>\n",
       "      <td>2.50</td>\n",
       "      <td>73530.97</td>\n",
       "      <td>NaN</td>\n",
       "      <td>NaN</td>\n",
       "      <td>2.30</td>\n",
       "      <td>47.00</td>\n",
       "      <td>PROTEIN CRYSTALLIZED FROM 45% SATURATED AMMONI...</td>\n",
       "      <td>7.5</td>\n",
       "      <td>1998.0</td>\n",
       "      <td>A</td>\n",
       "      <td>MKTAYIAKQRQISFVKSHFSRQLEERLGLIEVQAPILSRVGDGTQD...</td>\n",
       "    </tr>\n",
       "    <tr>\n",
       "      <th>75</th>\n",
       "      <td>11AS</td>\n",
       "      <td>LIGASE</td>\n",
       "      <td>X-RAY DIFFRACTION</td>\n",
       "      <td>Protein</td>\n",
       "      <td>660</td>\n",
       "      <td>2.50</td>\n",
       "      <td>73530.97</td>\n",
       "      <td>NaN</td>\n",
       "      <td>NaN</td>\n",
       "      <td>2.30</td>\n",
       "      <td>47.00</td>\n",
       "      <td>PROTEIN CRYSTALLIZED FROM 45% SATURATED AMMONI...</td>\n",
       "      <td>7.5</td>\n",
       "      <td>1998.0</td>\n",
       "      <td>B</td>\n",
       "      <td>MKTAYIAKQRQISFVKSHFSRQLEERLGLIEVQAPILSRVGDGTQD...</td>\n",
       "    </tr>\n",
       "    <tr>\n",
       "      <th>76</th>\n",
       "      <td>11BA</td>\n",
       "      <td>HYDROLASE</td>\n",
       "      <td>X-RAY DIFFRACTION</td>\n",
       "      <td>Protein</td>\n",
       "      <td>248</td>\n",
       "      <td>2.06</td>\n",
       "      <td>28700.28</td>\n",
       "      <td>NaN</td>\n",
       "      <td>NaN</td>\n",
       "      <td>2.48</td>\n",
       "      <td>50.36</td>\n",
       "      <td>pH 4.8</td>\n",
       "      <td>4.8</td>\n",
       "      <td>1998.0</td>\n",
       "      <td>A</td>\n",
       "      <td>KESAAAKFERQHMDSGNSPSSSSNYCNLMMCCRKMTQGKCKPVNTF...</td>\n",
       "    </tr>\n",
       "  </tbody>\n",
       "</table>\n",
       "</div>"
      ],
      "text/plain": [
       "   structureId classification experimentalTechnique macromoleculeType  \\\n",
       "67        117E      HYDROLASE     X-RAY DIFFRACTION           Protein   \n",
       "68        117E      HYDROLASE     X-RAY DIFFRACTION           Protein   \n",
       "74        11AS         LIGASE     X-RAY DIFFRACTION           Protein   \n",
       "75        11AS         LIGASE     X-RAY DIFFRACTION           Protein   \n",
       "76        11BA      HYDROLASE     X-RAY DIFFRACTION           Protein   \n",
       "\n",
       "    residueCount  resolution  structureMolecularWeight crystallizationMethod  \\\n",
       "67           572        2.15                  65203.21                   NaN   \n",
       "68           572        2.15                  65203.21                   NaN   \n",
       "74           660        2.50                  73530.97                   NaN   \n",
       "75           660        2.50                  73530.97                   NaN   \n",
       "76           248        2.06                  28700.28                   NaN   \n",
       "\n",
       "    crystallizationTempK  densityMatthews  densityPercentSol  \\\n",
       "67                   NaN             2.71              54.69   \n",
       "68                   NaN             2.71              54.69   \n",
       "74                   NaN             2.30              47.00   \n",
       "75                   NaN             2.30              47.00   \n",
       "76                   NaN             2.48              50.36   \n",
       "\n",
       "                                          pdbxDetails  phValue  \\\n",
       "67  17-19% MPD, 25 MM MES, PH 6.0, 1 MM MNCL2, 0.5...      6.0   \n",
       "68  17-19% MPD, 25 MM MES, PH 6.0, 1 MM MNCL2, 0.5...      6.0   \n",
       "74  PROTEIN CRYSTALLIZED FROM 45% SATURATED AMMONI...      7.5   \n",
       "75  PROTEIN CRYSTALLIZED FROM 45% SATURATED AMMONI...      7.5   \n",
       "76                                             pH 4.8      4.8   \n",
       "\n",
       "    publicationYear chainId                                           sequence  \n",
       "67           1998.0       A  TYTTRQIGAKNTLEYKVYIEKDGKPVSAFHDIPLYADKENNIFNMV...  \n",
       "68           1998.0       B  TYTTRQIGAKNTLEYKVYIEKDGKPVSAFHDIPLYADKENNIFNMV...  \n",
       "74           1998.0       A  MKTAYIAKQRQISFVKSHFSRQLEERLGLIEVQAPILSRVGDGTQD...  \n",
       "75           1998.0       B  MKTAYIAKQRQISFVKSHFSRQLEERLGLIEVQAPILSRVGDGTQD...  \n",
       "76           1998.0       A  KESAAAKFERQHMDSGNSPSSSSNYCNLMMCCRKMTQGKCKPVNTF...  "
      ]
     },
     "execution_count": 22,
     "metadata": {},
     "output_type": "execute_result"
    }
   ],
   "source": [
    "mask = ((proteins.classification == 'HYDROLASE') | (proteins.classification == 'TRANSFERASE')\\\n",
    "      |(proteins.classification == 'IMMUNE SYSTEM')\\\n",
    "      | (proteins.classification == 'ISOMERASE') |(proteins.classification == 'LIGASE'))\n",
    "\n",
    "data = proteins[mask]\n",
    "data.head()"
   ]
  },
  {
   "cell_type": "code",
   "execution_count": 23,
   "metadata": {},
   "outputs": [
    {
     "name": "stderr",
     "output_type": "stream",
     "text": [
      "/Users/scottlew/miniconda3/lib/python3.6/site-packages/ipykernel/__main__.py:4: SettingWithCopyWarning: \n",
      "A value is trying to be set on a copy of a slice from a DataFrame.\n",
      "Try using .loc[row_indexer,col_indexer] = value instead\n",
      "\n",
      "See the caveats in the documentation: http://pandas.pydata.org/pandas-docs/stable/user_guide/indexing.html#returning-a-view-versus-a-copy\n"
     ]
    }
   ],
   "source": [
    "from sklearn import preprocessing\n",
    "le = preprocessing.LabelEncoder()\n",
    "le.fit(data.classification)\n",
    "data['type'] = le.transform(data['classification'])"
   ]
  },
  {
   "cell_type": "code",
   "execution_count": 24,
   "metadata": {},
   "outputs": [
    {
     "data": {
      "text/html": [
       "<div>\n",
       "<style scoped>\n",
       "    .dataframe tbody tr th:only-of-type {\n",
       "        vertical-align: middle;\n",
       "    }\n",
       "\n",
       "    .dataframe tbody tr th {\n",
       "        vertical-align: top;\n",
       "    }\n",
       "\n",
       "    .dataframe thead th {\n",
       "        text-align: right;\n",
       "    }\n",
       "</style>\n",
       "<table border=\"1\" class=\"dataframe\">\n",
       "  <thead>\n",
       "    <tr style=\"text-align: right;\">\n",
       "      <th></th>\n",
       "      <th>structureId</th>\n",
       "      <th>classification</th>\n",
       "      <th>experimentalTechnique</th>\n",
       "      <th>macromoleculeType</th>\n",
       "      <th>residueCount</th>\n",
       "      <th>resolution</th>\n",
       "      <th>structureMolecularWeight</th>\n",
       "      <th>crystallizationMethod</th>\n",
       "      <th>crystallizationTempK</th>\n",
       "      <th>densityMatthews</th>\n",
       "      <th>densityPercentSol</th>\n",
       "      <th>pdbxDetails</th>\n",
       "      <th>phValue</th>\n",
       "      <th>publicationYear</th>\n",
       "      <th>chainId</th>\n",
       "      <th>sequence</th>\n",
       "      <th>type</th>\n",
       "    </tr>\n",
       "  </thead>\n",
       "  <tbody>\n",
       "    <tr>\n",
       "      <th>67</th>\n",
       "      <td>117E</td>\n",
       "      <td>HYDROLASE</td>\n",
       "      <td>X-RAY DIFFRACTION</td>\n",
       "      <td>Protein</td>\n",
       "      <td>572</td>\n",
       "      <td>2.15</td>\n",
       "      <td>65203.21</td>\n",
       "      <td>NaN</td>\n",
       "      <td>NaN</td>\n",
       "      <td>2.71</td>\n",
       "      <td>54.69</td>\n",
       "      <td>17-19% MPD, 25 MM MES, PH 6.0, 1 MM MNCL2, 0.5...</td>\n",
       "      <td>6.0</td>\n",
       "      <td>1998.0</td>\n",
       "      <td>A</td>\n",
       "      <td>TYTTRQIGAKNTLEYKVYIEKDGKPVSAFHDIPLYADKENNIFNMV...</td>\n",
       "      <td>0</td>\n",
       "    </tr>\n",
       "    <tr>\n",
       "      <th>68</th>\n",
       "      <td>117E</td>\n",
       "      <td>HYDROLASE</td>\n",
       "      <td>X-RAY DIFFRACTION</td>\n",
       "      <td>Protein</td>\n",
       "      <td>572</td>\n",
       "      <td>2.15</td>\n",
       "      <td>65203.21</td>\n",
       "      <td>NaN</td>\n",
       "      <td>NaN</td>\n",
       "      <td>2.71</td>\n",
       "      <td>54.69</td>\n",
       "      <td>17-19% MPD, 25 MM MES, PH 6.0, 1 MM MNCL2, 0.5...</td>\n",
       "      <td>6.0</td>\n",
       "      <td>1998.0</td>\n",
       "      <td>B</td>\n",
       "      <td>TYTTRQIGAKNTLEYKVYIEKDGKPVSAFHDIPLYADKENNIFNMV...</td>\n",
       "      <td>0</td>\n",
       "    </tr>\n",
       "    <tr>\n",
       "      <th>74</th>\n",
       "      <td>11AS</td>\n",
       "      <td>LIGASE</td>\n",
       "      <td>X-RAY DIFFRACTION</td>\n",
       "      <td>Protein</td>\n",
       "      <td>660</td>\n",
       "      <td>2.50</td>\n",
       "      <td>73530.97</td>\n",
       "      <td>NaN</td>\n",
       "      <td>NaN</td>\n",
       "      <td>2.30</td>\n",
       "      <td>47.00</td>\n",
       "      <td>PROTEIN CRYSTALLIZED FROM 45% SATURATED AMMONI...</td>\n",
       "      <td>7.5</td>\n",
       "      <td>1998.0</td>\n",
       "      <td>A</td>\n",
       "      <td>MKTAYIAKQRQISFVKSHFSRQLEERLGLIEVQAPILSRVGDGTQD...</td>\n",
       "      <td>3</td>\n",
       "    </tr>\n",
       "    <tr>\n",
       "      <th>75</th>\n",
       "      <td>11AS</td>\n",
       "      <td>LIGASE</td>\n",
       "      <td>X-RAY DIFFRACTION</td>\n",
       "      <td>Protein</td>\n",
       "      <td>660</td>\n",
       "      <td>2.50</td>\n",
       "      <td>73530.97</td>\n",
       "      <td>NaN</td>\n",
       "      <td>NaN</td>\n",
       "      <td>2.30</td>\n",
       "      <td>47.00</td>\n",
       "      <td>PROTEIN CRYSTALLIZED FROM 45% SATURATED AMMONI...</td>\n",
       "      <td>7.5</td>\n",
       "      <td>1998.0</td>\n",
       "      <td>B</td>\n",
       "      <td>MKTAYIAKQRQISFVKSHFSRQLEERLGLIEVQAPILSRVGDGTQD...</td>\n",
       "      <td>3</td>\n",
       "    </tr>\n",
       "    <tr>\n",
       "      <th>76</th>\n",
       "      <td>11BA</td>\n",
       "      <td>HYDROLASE</td>\n",
       "      <td>X-RAY DIFFRACTION</td>\n",
       "      <td>Protein</td>\n",
       "      <td>248</td>\n",
       "      <td>2.06</td>\n",
       "      <td>28700.28</td>\n",
       "      <td>NaN</td>\n",
       "      <td>NaN</td>\n",
       "      <td>2.48</td>\n",
       "      <td>50.36</td>\n",
       "      <td>pH 4.8</td>\n",
       "      <td>4.8</td>\n",
       "      <td>1998.0</td>\n",
       "      <td>A</td>\n",
       "      <td>KESAAAKFERQHMDSGNSPSSSSNYCNLMMCCRKMTQGKCKPVNTF...</td>\n",
       "      <td>0</td>\n",
       "    </tr>\n",
       "  </tbody>\n",
       "</table>\n",
       "</div>"
      ],
      "text/plain": [
       "   structureId classification experimentalTechnique macromoleculeType  \\\n",
       "67        117E      HYDROLASE     X-RAY DIFFRACTION           Protein   \n",
       "68        117E      HYDROLASE     X-RAY DIFFRACTION           Protein   \n",
       "74        11AS         LIGASE     X-RAY DIFFRACTION           Protein   \n",
       "75        11AS         LIGASE     X-RAY DIFFRACTION           Protein   \n",
       "76        11BA      HYDROLASE     X-RAY DIFFRACTION           Protein   \n",
       "\n",
       "    residueCount  resolution  structureMolecularWeight crystallizationMethod  \\\n",
       "67           572        2.15                  65203.21                   NaN   \n",
       "68           572        2.15                  65203.21                   NaN   \n",
       "74           660        2.50                  73530.97                   NaN   \n",
       "75           660        2.50                  73530.97                   NaN   \n",
       "76           248        2.06                  28700.28                   NaN   \n",
       "\n",
       "    crystallizationTempK  densityMatthews  densityPercentSol  \\\n",
       "67                   NaN             2.71              54.69   \n",
       "68                   NaN             2.71              54.69   \n",
       "74                   NaN             2.30              47.00   \n",
       "75                   NaN             2.30              47.00   \n",
       "76                   NaN             2.48              50.36   \n",
       "\n",
       "                                          pdbxDetails  phValue  \\\n",
       "67  17-19% MPD, 25 MM MES, PH 6.0, 1 MM MNCL2, 0.5...      6.0   \n",
       "68  17-19% MPD, 25 MM MES, PH 6.0, 1 MM MNCL2, 0.5...      6.0   \n",
       "74  PROTEIN CRYSTALLIZED FROM 45% SATURATED AMMONI...      7.5   \n",
       "75  PROTEIN CRYSTALLIZED FROM 45% SATURATED AMMONI...      7.5   \n",
       "76                                             pH 4.8      4.8   \n",
       "\n",
       "    publicationYear chainId  \\\n",
       "67           1998.0       A   \n",
       "68           1998.0       B   \n",
       "74           1998.0       A   \n",
       "75           1998.0       B   \n",
       "76           1998.0       A   \n",
       "\n",
       "                                             sequence  type  \n",
       "67  TYTTRQIGAKNTLEYKVYIEKDGKPVSAFHDIPLYADKENNIFNMV...     0  \n",
       "68  TYTTRQIGAKNTLEYKVYIEKDGKPVSAFHDIPLYADKENNIFNMV...     0  \n",
       "74  MKTAYIAKQRQISFVKSHFSRQLEERLGLIEVQAPILSRVGDGTQD...     3  \n",
       "75  MKTAYIAKQRQISFVKSHFSRQLEERLGLIEVQAPILSRVGDGTQD...     3  \n",
       "76  KESAAAKFERQHMDSGNSPSSSSNYCNLMMCCRKMTQGKCKPVNTF...     0  "
      ]
     },
     "execution_count": 24,
     "metadata": {},
     "output_type": "execute_result"
    }
   ],
   "source": [
    "data.head()"
   ]
  },
  {
   "cell_type": "code",
   "execution_count": 25,
   "metadata": {},
   "outputs": [
    {
     "data": {
      "text/plain": [
       "Index(['structureId', 'classification', 'experimentalTechnique',\n",
       "       'macromoleculeType', 'residueCount', 'resolution',\n",
       "       'structureMolecularWeight', 'crystallizationMethod',\n",
       "       'crystallizationTempK', 'densityMatthews', 'densityPercentSol',\n",
       "       'pdbxDetails', 'phValue', 'publicationYear', 'chainId', 'sequence',\n",
       "       'type'],\n",
       "      dtype='object')"
      ]
     },
     "execution_count": 25,
     "metadata": {},
     "output_type": "execute_result"
    }
   ],
   "source": [
    "data.columns"
   ]
  },
  {
   "cell_type": "code",
   "execution_count": 26,
   "metadata": {},
   "outputs": [
    {
     "data": {
      "text/plain": [
       "HYDROLASE        46336\n",
       "TRANSFERASE      36424\n",
       "IMMUNE SYSTEM    15615\n",
       "ISOMERASE         6356\n",
       "LIGASE            4964\n",
       "Name: classification, dtype: int64"
      ]
     },
     "execution_count": 26,
     "metadata": {},
     "output_type": "execute_result"
    }
   ],
   "source": [
    "data.classification.value_counts()"
   ]
  },
  {
   "cell_type": "code",
   "execution_count": 27,
   "metadata": {},
   "outputs": [
    {
     "data": {
      "text/plain": [
       "0    46336\n",
       "4    36424\n",
       "1    15615\n",
       "2     6356\n",
       "3     4964\n",
       "Name: type, dtype: int64"
      ]
     },
     "execution_count": 27,
     "metadata": {},
     "output_type": "execute_result"
    }
   ],
   "source": [
    "data.type.value_counts()"
   ]
  },
  {
   "cell_type": "code",
   "execution_count": 28,
   "metadata": {},
   "outputs": [
    {
     "data": {
      "text/html": [
       "<div>\n",
       "<style scoped>\n",
       "    .dataframe tbody tr th:only-of-type {\n",
       "        vertical-align: middle;\n",
       "    }\n",
       "\n",
       "    .dataframe tbody tr th {\n",
       "        vertical-align: top;\n",
       "    }\n",
       "\n",
       "    .dataframe thead th {\n",
       "        text-align: right;\n",
       "    }\n",
       "</style>\n",
       "<table border=\"1\" class=\"dataframe\">\n",
       "  <thead>\n",
       "    <tr style=\"text-align: right;\">\n",
       "      <th></th>\n",
       "      <th>structureId</th>\n",
       "      <th>classification</th>\n",
       "      <th>experimentalTechnique</th>\n",
       "      <th>macromoleculeType</th>\n",
       "      <th>residueCount</th>\n",
       "      <th>resolution</th>\n",
       "      <th>structureMolecularWeight</th>\n",
       "      <th>crystallizationMethod</th>\n",
       "      <th>crystallizationTempK</th>\n",
       "      <th>densityMatthews</th>\n",
       "      <th>densityPercentSol</th>\n",
       "      <th>pdbxDetails</th>\n",
       "      <th>phValue</th>\n",
       "      <th>publicationYear</th>\n",
       "      <th>chainId</th>\n",
       "      <th>sequence</th>\n",
       "      <th>type</th>\n",
       "    </tr>\n",
       "  </thead>\n",
       "  <tbody>\n",
       "    <tr>\n",
       "      <th>269367</th>\n",
       "      <td>4FNR</td>\n",
       "      <td>HYDROLASE</td>\n",
       "      <td>X-RAY DIFFRACTION</td>\n",
       "      <td>Protein</td>\n",
       "      <td>2916</td>\n",
       "      <td>3.20</td>\n",
       "      <td>333231.59</td>\n",
       "      <td>VAPOR DIFFUSION, SITTING DROP</td>\n",
       "      <td>292.0</td>\n",
       "      <td>2.27</td>\n",
       "      <td>45.83</td>\n",
       "      <td>20% PEG 4000, 80mM sodium acetate, 6.4% isopro...</td>\n",
       "      <td>7.0</td>\n",
       "      <td>2012.0</td>\n",
       "      <td>B</td>\n",
       "      <td>MSVAYNPQTKQFHLRAGKASYVMQLFRSGYLAHVYWGKAVRDVRGA...</td>\n",
       "      <td>0</td>\n",
       "    </tr>\n",
       "    <tr>\n",
       "      <th>33384</th>\n",
       "      <td>1MEN</td>\n",
       "      <td>TRANSFERASE</td>\n",
       "      <td>X-RAY DIFFRACTION</td>\n",
       "      <td>Protein</td>\n",
       "      <td>669</td>\n",
       "      <td>2.23</td>\n",
       "      <td>73220.38</td>\n",
       "      <td>VAPOR DIFFUSION, SITTING DROP</td>\n",
       "      <td>282.0</td>\n",
       "      <td>2.80</td>\n",
       "      <td>55.70</td>\n",
       "      <td>PEG4000, PEG400, NaCl, Tris pH 8.5, 2mM beta-G...</td>\n",
       "      <td>8.5</td>\n",
       "      <td>2002.0</td>\n",
       "      <td>B</td>\n",
       "      <td>ASMTGGQQMGRILVAVLISGTGSNLQALIDSTREPNSSAQIDIVIS...</td>\n",
       "      <td>4</td>\n",
       "    </tr>\n",
       "    <tr>\n",
       "      <th>329303</th>\n",
       "      <td>4UI3</td>\n",
       "      <td>TRANSFERASE</td>\n",
       "      <td>X-RAY DIFFRACTION</td>\n",
       "      <td>Protein</td>\n",
       "      <td>478</td>\n",
       "      <td>2.00</td>\n",
       "      <td>55564.81</td>\n",
       "      <td>NaN</td>\n",
       "      <td>NaN</td>\n",
       "      <td>2.40</td>\n",
       "      <td>50.00</td>\n",
       "      <td>0.2 M LISO4, 0.1 M TRIS HCL, 22% PEG3350, PH 8.5</td>\n",
       "      <td>8.5</td>\n",
       "      <td>2016.0</td>\n",
       "      <td>A</td>\n",
       "      <td>MHHHHHHSSGVDLGTENLYFQSMLNTSGSGTILIDLSPDDKEFQSV...</td>\n",
       "      <td>4</td>\n",
       "    </tr>\n",
       "  </tbody>\n",
       "</table>\n",
       "</div>"
      ],
      "text/plain": [
       "       structureId classification experimentalTechnique macromoleculeType  \\\n",
       "269367        4FNR      HYDROLASE     X-RAY DIFFRACTION           Protein   \n",
       "33384         1MEN    TRANSFERASE     X-RAY DIFFRACTION           Protein   \n",
       "329303        4UI3    TRANSFERASE     X-RAY DIFFRACTION           Protein   \n",
       "\n",
       "        residueCount  resolution  structureMolecularWeight  \\\n",
       "269367          2916        3.20                 333231.59   \n",
       "33384            669        2.23                  73220.38   \n",
       "329303           478        2.00                  55564.81   \n",
       "\n",
       "                crystallizationMethod  crystallizationTempK  densityMatthews  \\\n",
       "269367  VAPOR DIFFUSION, SITTING DROP                 292.0             2.27   \n",
       "33384   VAPOR DIFFUSION, SITTING DROP                 282.0             2.80   \n",
       "329303                            NaN                   NaN             2.40   \n",
       "\n",
       "        densityPercentSol                                        pdbxDetails  \\\n",
       "269367              45.83  20% PEG 4000, 80mM sodium acetate, 6.4% isopro...   \n",
       "33384               55.70  PEG4000, PEG400, NaCl, Tris pH 8.5, 2mM beta-G...   \n",
       "329303              50.00   0.2 M LISO4, 0.1 M TRIS HCL, 22% PEG3350, PH 8.5   \n",
       "\n",
       "        phValue  publicationYear chainId  \\\n",
       "269367      7.0           2012.0       B   \n",
       "33384       8.5           2002.0       B   \n",
       "329303      8.5           2016.0       A   \n",
       "\n",
       "                                                 sequence  type  \n",
       "269367  MSVAYNPQTKQFHLRAGKASYVMQLFRSGYLAHVYWGKAVRDVRGA...     0  \n",
       "33384   ASMTGGQQMGRILVAVLISGTGSNLQALIDSTREPNSSAQIDIVIS...     4  \n",
       "329303  MHHHHHHSSGVDLGTENLYFQSMLNTSGSGTILIDLSPDDKEFQSV...     4  "
      ]
     },
     "execution_count": 28,
     "metadata": {},
     "output_type": "execute_result"
    }
   ],
   "source": [
    "# permute/scramble/shuffle rows of the dataframe\n",
    "data = data.sample(frac=1)\n",
    "data.head(3)"
   ]
  },
  {
   "cell_type": "code",
   "execution_count": 29,
   "metadata": {},
   "outputs": [
    {
     "data": {
      "text/plain": [
       "structureId                  object\n",
       "classification               object\n",
       "experimentalTechnique        object\n",
       "macromoleculeType            object\n",
       "residueCount                  int64\n",
       "resolution                  float64\n",
       "structureMolecularWeight    float64\n",
       "crystallizationMethod        object\n",
       "crystallizationTempK        float64\n",
       "densityMatthews             float64\n",
       "densityPercentSol           float64\n",
       "pdbxDetails                  object\n",
       "phValue                     float64\n",
       "publicationYear             float64\n",
       "chainId                      object\n",
       "sequence                     object\n",
       "type                          int64\n",
       "dtype: object"
      ]
     },
     "execution_count": 29,
     "metadata": {},
     "output_type": "execute_result"
    }
   ],
   "source": [
    "data.dtypes"
   ]
  },
  {
   "cell_type": "code",
   "execution_count": 30,
   "metadata": {},
   "outputs": [
    {
     "data": {
      "text/plain": [
       "structureId                     0\n",
       "classification                  0\n",
       "experimentalTechnique           0\n",
       "macromoleculeType               0\n",
       "residueCount                    0\n",
       "resolution                   1567\n",
       "structureMolecularWeight        0\n",
       "crystallizationMethod       26937\n",
       "crystallizationTempK        26065\n",
       "densityMatthews              5498\n",
       "densityPercentSol            5462\n",
       "pdbxDetails                  8929\n",
       "phValue                     21930\n",
       "publicationYear             18657\n",
       "chainId                         1\n",
       "sequence                        0\n",
       "type                            0\n",
       "dtype: int64"
      ]
     },
     "execution_count": 30,
     "metadata": {},
     "output_type": "execute_result"
    }
   ],
   "source": [
    "#data.isna.sum()\n",
    "data.isnull().sum(axis = 0)"
   ]
  },
  {
   "cell_type": "code",
   "execution_count": 31,
   "metadata": {},
   "outputs": [
    {
     "data": {
      "text/plain": [
       "(109695, 17)"
      ]
     },
     "execution_count": 31,
     "metadata": {},
     "output_type": "execute_result"
    }
   ],
   "source": [
    "data.shape"
   ]
  },
  {
   "cell_type": "code",
   "execution_count": 32,
   "metadata": {},
   "outputs": [
    {
     "name": "stdout",
     "output_type": "stream",
     "text": [
      "109695\n"
     ]
    }
   ],
   "source": [
    "seqs = data.sequence\n",
    "print(len(seqs))"
   ]
  },
  {
   "cell_type": "code",
   "execution_count": 33,
   "metadata": {},
   "outputs": [
    {
     "name": "stdout",
     "output_type": "stream",
     "text": [
      "30529\n"
     ]
    }
   ],
   "source": [
    "unique_seqs = list(set(seqs))\n",
    "print(len(unique_seqs))"
   ]
  },
  {
   "cell_type": "code",
   "execution_count": 34,
   "metadata": {},
   "outputs": [
    {
     "data": {
      "text/html": [
       "<div>\n",
       "<style scoped>\n",
       "    .dataframe tbody tr th:only-of-type {\n",
       "        vertical-align: middle;\n",
       "    }\n",
       "\n",
       "    .dataframe tbody tr th {\n",
       "        vertical-align: top;\n",
       "    }\n",
       "\n",
       "    .dataframe thead th {\n",
       "        text-align: right;\n",
       "    }\n",
       "</style>\n",
       "<table border=\"1\" class=\"dataframe\">\n",
       "  <thead>\n",
       "    <tr style=\"text-align: right;\">\n",
       "      <th></th>\n",
       "      <th>structureId</th>\n",
       "      <th>classification</th>\n",
       "      <th>experimentalTechnique</th>\n",
       "      <th>macromoleculeType</th>\n",
       "      <th>residueCount</th>\n",
       "      <th>resolution</th>\n",
       "      <th>structureMolecularWeight</th>\n",
       "      <th>crystallizationMethod</th>\n",
       "      <th>crystallizationTempK</th>\n",
       "      <th>densityMatthews</th>\n",
       "      <th>densityPercentSol</th>\n",
       "      <th>pdbxDetails</th>\n",
       "      <th>phValue</th>\n",
       "      <th>publicationYear</th>\n",
       "      <th>chainId</th>\n",
       "      <th>sequence</th>\n",
       "      <th>type</th>\n",
       "    </tr>\n",
       "  </thead>\n",
       "  <tbody>\n",
       "    <tr>\n",
       "      <th>269367</th>\n",
       "      <td>4FNR</td>\n",
       "      <td>HYDROLASE</td>\n",
       "      <td>X-RAY DIFFRACTION</td>\n",
       "      <td>Protein</td>\n",
       "      <td>2916</td>\n",
       "      <td>3.20</td>\n",
       "      <td>333231.59</td>\n",
       "      <td>VAPOR DIFFUSION, SITTING DROP</td>\n",
       "      <td>292.0</td>\n",
       "      <td>2.27</td>\n",
       "      <td>45.83</td>\n",
       "      <td>20% PEG 4000, 80mM sodium acetate, 6.4% isopro...</td>\n",
       "      <td>7.0</td>\n",
       "      <td>2012.0</td>\n",
       "      <td>B</td>\n",
       "      <td>MSVAYNPQTKQFHLRAGKASYVMQLFRSGYLAHVYWGKAVRDVRGA...</td>\n",
       "      <td>0</td>\n",
       "    </tr>\n",
       "    <tr>\n",
       "      <th>33384</th>\n",
       "      <td>1MEN</td>\n",
       "      <td>TRANSFERASE</td>\n",
       "      <td>X-RAY DIFFRACTION</td>\n",
       "      <td>Protein</td>\n",
       "      <td>669</td>\n",
       "      <td>2.23</td>\n",
       "      <td>73220.38</td>\n",
       "      <td>VAPOR DIFFUSION, SITTING DROP</td>\n",
       "      <td>282.0</td>\n",
       "      <td>2.80</td>\n",
       "      <td>55.70</td>\n",
       "      <td>PEG4000, PEG400, NaCl, Tris pH 8.5, 2mM beta-G...</td>\n",
       "      <td>8.5</td>\n",
       "      <td>2002.0</td>\n",
       "      <td>B</td>\n",
       "      <td>ASMTGGQQMGRILVAVLISGTGSNLQALIDSTREPNSSAQIDIVIS...</td>\n",
       "      <td>4</td>\n",
       "    </tr>\n",
       "    <tr>\n",
       "      <th>329303</th>\n",
       "      <td>4UI3</td>\n",
       "      <td>TRANSFERASE</td>\n",
       "      <td>X-RAY DIFFRACTION</td>\n",
       "      <td>Protein</td>\n",
       "      <td>478</td>\n",
       "      <td>2.00</td>\n",
       "      <td>55564.81</td>\n",
       "      <td>NaN</td>\n",
       "      <td>NaN</td>\n",
       "      <td>2.40</td>\n",
       "      <td>50.00</td>\n",
       "      <td>0.2 M LISO4, 0.1 M TRIS HCL, 22% PEG3350, PH 8.5</td>\n",
       "      <td>8.5</td>\n",
       "      <td>2016.0</td>\n",
       "      <td>A</td>\n",
       "      <td>MHHHHHHSSGVDLGTENLYFQSMLNTSGSGTILIDLSPDDKEFQSV...</td>\n",
       "      <td>4</td>\n",
       "    </tr>\n",
       "    <tr>\n",
       "      <th>103246</th>\n",
       "      <td>2I65</td>\n",
       "      <td>HYDROLASE</td>\n",
       "      <td>X-RAY DIFFRACTION</td>\n",
       "      <td>Protein</td>\n",
       "      <td>524</td>\n",
       "      <td>1.90</td>\n",
       "      <td>62085.66</td>\n",
       "      <td>VAPOR DIFFUSION, HANGING DROP</td>\n",
       "      <td>298.0</td>\n",
       "      <td>2.12</td>\n",
       "      <td>41.87</td>\n",
       "      <td>100 mM MES, 10% PEG 4000, pH 6.5, VAPOR DIFFUS...</td>\n",
       "      <td>6.5</td>\n",
       "      <td>2006.0</td>\n",
       "      <td>A</td>\n",
       "      <td>KREAEARWRQTWSGPGTTKRFPETVLARCVKYTEIHPEMRHVDCQS...</td>\n",
       "      <td>0</td>\n",
       "    </tr>\n",
       "    <tr>\n",
       "      <th>102479</th>\n",
       "      <td>2HYB</td>\n",
       "      <td>TRANSFERASE</td>\n",
       "      <td>X-RAY DIFFRACTION</td>\n",
       "      <td>Protein</td>\n",
       "      <td>2208</td>\n",
       "      <td>2.50</td>\n",
       "      <td>247850.06</td>\n",
       "      <td>VAPOR DIFFUSION, HANGING DROP</td>\n",
       "      <td>298.0</td>\n",
       "      <td>2.22</td>\n",
       "      <td>44.67</td>\n",
       "      <td>20mg/ml protein,  0.1M Bis-Tris pH5.5  0.2M Li...</td>\n",
       "      <td>5.5</td>\n",
       "      <td>NaN</td>\n",
       "      <td>E</td>\n",
       "      <td>MSEVVKKFMYLNRKAPYGTIYAWEALEVVLIGAAFDQDVCVLFLDD...</td>\n",
       "      <td>4</td>\n",
       "    </tr>\n",
       "  </tbody>\n",
       "</table>\n",
       "</div>"
      ],
      "text/plain": [
       "       structureId classification experimentalTechnique macromoleculeType  \\\n",
       "269367        4FNR      HYDROLASE     X-RAY DIFFRACTION           Protein   \n",
       "33384         1MEN    TRANSFERASE     X-RAY DIFFRACTION           Protein   \n",
       "329303        4UI3    TRANSFERASE     X-RAY DIFFRACTION           Protein   \n",
       "103246        2I65      HYDROLASE     X-RAY DIFFRACTION           Protein   \n",
       "102479        2HYB    TRANSFERASE     X-RAY DIFFRACTION           Protein   \n",
       "\n",
       "        residueCount  resolution  structureMolecularWeight  \\\n",
       "269367          2916        3.20                 333231.59   \n",
       "33384            669        2.23                  73220.38   \n",
       "329303           478        2.00                  55564.81   \n",
       "103246           524        1.90                  62085.66   \n",
       "102479          2208        2.50                 247850.06   \n",
       "\n",
       "                crystallizationMethod  crystallizationTempK  densityMatthews  \\\n",
       "269367  VAPOR DIFFUSION, SITTING DROP                 292.0             2.27   \n",
       "33384   VAPOR DIFFUSION, SITTING DROP                 282.0             2.80   \n",
       "329303                            NaN                   NaN             2.40   \n",
       "103246  VAPOR DIFFUSION, HANGING DROP                 298.0             2.12   \n",
       "102479  VAPOR DIFFUSION, HANGING DROP                 298.0             2.22   \n",
       "\n",
       "        densityPercentSol                                        pdbxDetails  \\\n",
       "269367              45.83  20% PEG 4000, 80mM sodium acetate, 6.4% isopro...   \n",
       "33384               55.70  PEG4000, PEG400, NaCl, Tris pH 8.5, 2mM beta-G...   \n",
       "329303              50.00   0.2 M LISO4, 0.1 M TRIS HCL, 22% PEG3350, PH 8.5   \n",
       "103246              41.87  100 mM MES, 10% PEG 4000, pH 6.5, VAPOR DIFFUS...   \n",
       "102479              44.67  20mg/ml protein,  0.1M Bis-Tris pH5.5  0.2M Li...   \n",
       "\n",
       "        phValue  publicationYear chainId  \\\n",
       "269367      7.0           2012.0       B   \n",
       "33384       8.5           2002.0       B   \n",
       "329303      8.5           2016.0       A   \n",
       "103246      6.5           2006.0       A   \n",
       "102479      5.5              NaN       E   \n",
       "\n",
       "                                                 sequence  type  \n",
       "269367  MSVAYNPQTKQFHLRAGKASYVMQLFRSGYLAHVYWGKAVRDVRGA...     0  \n",
       "33384   ASMTGGQQMGRILVAVLISGTGSNLQALIDSTREPNSSAQIDIVIS...     4  \n",
       "329303  MHHHHHHSSGVDLGTENLYFQSMLNTSGSGTILIDLSPDDKEFQSV...     4  \n",
       "103246  KREAEARWRQTWSGPGTTKRFPETVLARCVKYTEIHPEMRHVDCQS...     0  \n",
       "102479  MSEVVKKFMYLNRKAPYGTIYAWEALEVVLIGAAFDQDVCVLFLDD...     4  "
      ]
     },
     "execution_count": 34,
     "metadata": {},
     "output_type": "execute_result"
    }
   ],
   "source": [
    "# remove the duplicate protein sequences\n",
    "data = data.drop_duplicates(subset='sequence', keep=\"first\")\n",
    "\n",
    "# remove nan from 'sequence' column\n",
    "data = data[data['sequence'].notnull()]\n",
    "data.head()"
   ]
  },
  {
   "cell_type": "code",
   "execution_count": 35,
   "metadata": {},
   "outputs": [
    {
     "data": {
      "text/plain": [
       "(30529, 17)"
      ]
     },
     "execution_count": 35,
     "metadata": {},
     "output_type": "execute_result"
    }
   ],
   "source": [
    "data.shape"
   ]
  },
  {
   "cell_type": "markdown",
   "metadata": {},
   "source": [
    "## Load additional isomerase & ligase protein sequences from csv files"
   ]
  },
  {
   "cell_type": "code",
   "execution_count": 36,
   "metadata": {},
   "outputs": [
    {
     "data": {
      "text/html": [
       "<div>\n",
       "<style scoped>\n",
       "    .dataframe tbody tr th:only-of-type {\n",
       "        vertical-align: middle;\n",
       "    }\n",
       "\n",
       "    .dataframe tbody tr th {\n",
       "        vertical-align: top;\n",
       "    }\n",
       "\n",
       "    .dataframe thead th {\n",
       "        text-align: right;\n",
       "    }\n",
       "</style>\n",
       "<table border=\"1\" class=\"dataframe\">\n",
       "  <thead>\n",
       "    <tr style=\"text-align: right;\">\n",
       "      <th></th>\n",
       "      <th>name</th>\n",
       "      <th>sequence</th>\n",
       "      <th>classification</th>\n",
       "      <th>type</th>\n",
       "    </tr>\n",
       "  </thead>\n",
       "  <tbody>\n",
       "    <tr>\n",
       "      <th>0</th>\n",
       "      <td>sp|P61615|IDI2_SACSH</td>\n",
       "      <td>MPDIVNRKVEHVEIAAFENVDGLSSSTFLNDVILVHQGFPGISFSE...</td>\n",
       "      <td>ISOMERASE</td>\n",
       "      <td>2</td>\n",
       "    </tr>\n",
       "    <tr>\n",
       "      <th>1</th>\n",
       "      <td>sp|Q746I8|IDI2_THET2</td>\n",
       "      <td>MNIRERKRKHLEACLEGEVAYQKTTTGLEGFRLRYQALAGLALGEV...</td>\n",
       "      <td>ISOMERASE</td>\n",
       "      <td>2</td>\n",
       "    </tr>\n",
       "    <tr>\n",
       "      <th>2</th>\n",
       "      <td>sp|Q8ZWV0|PGMI_PYRAE</td>\n",
       "      <td>MSQLLQDYLNWENYILRRVDFPTSYVVEGEVVRIEAMPRLYISGMG...</td>\n",
       "      <td>ISOMERASE</td>\n",
       "      <td>2</td>\n",
       "    </tr>\n",
       "    <tr>\n",
       "      <th>3</th>\n",
       "      <td>sp|P42126|ECI1_HUMAN</td>\n",
       "      <td>MALVASVRVPARVLLRAGARLPGAALGRTERAAGGGDGARRFGSQR...</td>\n",
       "      <td>ISOMERASE</td>\n",
       "      <td>2</td>\n",
       "    </tr>\n",
       "    <tr>\n",
       "      <th>4</th>\n",
       "      <td>sp|Q9WUR2|ECI2_MOUSE</td>\n",
       "      <td>MAAVTWSRARCWCPSVLQVFRLQVAKLHLGRPTMRASQQDFENALN...</td>\n",
       "      <td>ISOMERASE</td>\n",
       "      <td>2</td>\n",
       "    </tr>\n",
       "  </tbody>\n",
       "</table>\n",
       "</div>"
      ],
      "text/plain": [
       "                   name                                           sequence  \\\n",
       "0  sp|P61615|IDI2_SACSH  MPDIVNRKVEHVEIAAFENVDGLSSSTFLNDVILVHQGFPGISFSE...   \n",
       "1  sp|Q746I8|IDI2_THET2  MNIRERKRKHLEACLEGEVAYQKTTTGLEGFRLRYQALAGLALGEV...   \n",
       "2  sp|Q8ZWV0|PGMI_PYRAE  MSQLLQDYLNWENYILRRVDFPTSYVVEGEVVRIEAMPRLYISGMG...   \n",
       "3  sp|P42126|ECI1_HUMAN  MALVASVRVPARVLLRAGARLPGAALGRTERAAGGGDGARRFGSQR...   \n",
       "4  sp|Q9WUR2|ECI2_MOUSE  MAAVTWSRARCWCPSVLQVFRLQVAKLHLGRPTMRASQQDFENALN...   \n",
       "\n",
       "  classification  type  \n",
       "0      ISOMERASE     2  \n",
       "1      ISOMERASE     2  \n",
       "2      ISOMERASE     2  \n",
       "3      ISOMERASE     2  \n",
       "4      ISOMERASE     2  "
      ]
     },
     "execution_count": 36,
     "metadata": {},
     "output_type": "execute_result"
    }
   ],
   "source": [
    "isomerase = pd.read_csv('uniprot-isomerase.csv')\n",
    "\n",
    "isomerase.head()"
   ]
  },
  {
   "cell_type": "code",
   "execution_count": 37,
   "metadata": {},
   "outputs": [
    {
     "data": {
      "text/html": [
       "<div>\n",
       "<style scoped>\n",
       "    .dataframe tbody tr th:only-of-type {\n",
       "        vertical-align: middle;\n",
       "    }\n",
       "\n",
       "    .dataframe tbody tr th {\n",
       "        vertical-align: top;\n",
       "    }\n",
       "\n",
       "    .dataframe thead th {\n",
       "        text-align: right;\n",
       "    }\n",
       "</style>\n",
       "<table border=\"1\" class=\"dataframe\">\n",
       "  <thead>\n",
       "    <tr style=\"text-align: right;\">\n",
       "      <th></th>\n",
       "      <th>structureId</th>\n",
       "      <th>sequence</th>\n",
       "      <th>classification</th>\n",
       "      <th>type</th>\n",
       "    </tr>\n",
       "  </thead>\n",
       "  <tbody>\n",
       "    <tr>\n",
       "      <th>0</th>\n",
       "      <td>sp|P61615|IDI2_SACSH</td>\n",
       "      <td>MPDIVNRKVEHVEIAAFENVDGLSSSTFLNDVILVHQGFPGISFSE...</td>\n",
       "      <td>ISOMERASE</td>\n",
       "      <td>2</td>\n",
       "    </tr>\n",
       "    <tr>\n",
       "      <th>1</th>\n",
       "      <td>sp|Q746I8|IDI2_THET2</td>\n",
       "      <td>MNIRERKRKHLEACLEGEVAYQKTTTGLEGFRLRYQALAGLALGEV...</td>\n",
       "      <td>ISOMERASE</td>\n",
       "      <td>2</td>\n",
       "    </tr>\n",
       "    <tr>\n",
       "      <th>2</th>\n",
       "      <td>sp|Q8ZWV0|PGMI_PYRAE</td>\n",
       "      <td>MSQLLQDYLNWENYILRRVDFPTSYVVEGEVVRIEAMPRLYISGMG...</td>\n",
       "      <td>ISOMERASE</td>\n",
       "      <td>2</td>\n",
       "    </tr>\n",
       "    <tr>\n",
       "      <th>3</th>\n",
       "      <td>sp|P42126|ECI1_HUMAN</td>\n",
       "      <td>MALVASVRVPARVLLRAGARLPGAALGRTERAAGGGDGARRFGSQR...</td>\n",
       "      <td>ISOMERASE</td>\n",
       "      <td>2</td>\n",
       "    </tr>\n",
       "    <tr>\n",
       "      <th>4</th>\n",
       "      <td>sp|Q9WUR2|ECI2_MOUSE</td>\n",
       "      <td>MAAVTWSRARCWCPSVLQVFRLQVAKLHLGRPTMRASQQDFENALN...</td>\n",
       "      <td>ISOMERASE</td>\n",
       "      <td>2</td>\n",
       "    </tr>\n",
       "  </tbody>\n",
       "</table>\n",
       "</div>"
      ],
      "text/plain": [
       "            structureId                                           sequence  \\\n",
       "0  sp|P61615|IDI2_SACSH  MPDIVNRKVEHVEIAAFENVDGLSSSTFLNDVILVHQGFPGISFSE...   \n",
       "1  sp|Q746I8|IDI2_THET2  MNIRERKRKHLEACLEGEVAYQKTTTGLEGFRLRYQALAGLALGEV...   \n",
       "2  sp|Q8ZWV0|PGMI_PYRAE  MSQLLQDYLNWENYILRRVDFPTSYVVEGEVVRIEAMPRLYISGMG...   \n",
       "3  sp|P42126|ECI1_HUMAN  MALVASVRVPARVLLRAGARLPGAALGRTERAAGGGDGARRFGSQR...   \n",
       "4  sp|Q9WUR2|ECI2_MOUSE  MAAVTWSRARCWCPSVLQVFRLQVAKLHLGRPTMRASQQDFENALN...   \n",
       "\n",
       "  classification  type  \n",
       "0      ISOMERASE     2  \n",
       "1      ISOMERASE     2  \n",
       "2      ISOMERASE     2  \n",
       "3      ISOMERASE     2  \n",
       "4      ISOMERASE     2  "
      ]
     },
     "execution_count": 37,
     "metadata": {},
     "output_type": "execute_result"
    }
   ],
   "source": [
    "isomerase.columns = ['structureId', 'sequence', 'classification', 'type']\n",
    "isomerase.head()"
   ]
  },
  {
   "cell_type": "code",
   "execution_count": 38,
   "metadata": {},
   "outputs": [
    {
     "data": {
      "text/html": [
       "<div>\n",
       "<style scoped>\n",
       "    .dataframe tbody tr th:only-of-type {\n",
       "        vertical-align: middle;\n",
       "    }\n",
       "\n",
       "    .dataframe tbody tr th {\n",
       "        vertical-align: top;\n",
       "    }\n",
       "\n",
       "    .dataframe thead th {\n",
       "        text-align: right;\n",
       "    }\n",
       "</style>\n",
       "<table border=\"1\" class=\"dataframe\">\n",
       "  <thead>\n",
       "    <tr style=\"text-align: right;\">\n",
       "      <th></th>\n",
       "      <th>structureId</th>\n",
       "      <th>sequence</th>\n",
       "      <th>classification</th>\n",
       "      <th>type</th>\n",
       "    </tr>\n",
       "  </thead>\n",
       "  <tbody>\n",
       "    <tr>\n",
       "      <th>0</th>\n",
       "      <td>sp|P50747|BPL1_HUMAN</td>\n",
       "      <td>MEDRLHMDNGLVPQKIVSVHLQDSTLKEVKDQVSNKQAQILEPKPE...</td>\n",
       "      <td>LIGASE</td>\n",
       "      <td>3</td>\n",
       "    </tr>\n",
       "    <tr>\n",
       "      <th>1</th>\n",
       "      <td>sp|O14975|S27A2_HUMAN</td>\n",
       "      <td>MLSAIYTVLAGLLFLPLLVNLCCPYFFQDIGYFLKVAAVGRRVRSY...</td>\n",
       "      <td>LIGASE</td>\n",
       "      <td>3</td>\n",
       "    </tr>\n",
       "    <tr>\n",
       "      <th>2</th>\n",
       "      <td>sp|P97524|S27A2_RAT</td>\n",
       "      <td>MLPVLYTGLAGLLLLPLLLTCCCPYLLQDVRFFLQLANMARQVRSY...</td>\n",
       "      <td>LIGASE</td>\n",
       "      <td>3</td>\n",
       "    </tr>\n",
       "    <tr>\n",
       "      <th>3</th>\n",
       "      <td>sp|O35488|S27A2_MOUSE</td>\n",
       "      <td>MLPVLYTGLAGLLLLPLLLTCCCPYLLQDVRYFLRLANMARRVRSY...</td>\n",
       "      <td>LIGASE</td>\n",
       "      <td>3</td>\n",
       "    </tr>\n",
       "    <tr>\n",
       "      <th>4</th>\n",
       "      <td>sp|P33121|ACSL1_HUMAN</td>\n",
       "      <td>MQAHELFRYFRMPELVDFRQYVRTLPTNTLMGFGAFAALTTFWYAT...</td>\n",
       "      <td>LIGASE</td>\n",
       "      <td>3</td>\n",
       "    </tr>\n",
       "  </tbody>\n",
       "</table>\n",
       "</div>"
      ],
      "text/plain": [
       "             structureId                                           sequence  \\\n",
       "0   sp|P50747|BPL1_HUMAN  MEDRLHMDNGLVPQKIVSVHLQDSTLKEVKDQVSNKQAQILEPKPE...   \n",
       "1  sp|O14975|S27A2_HUMAN  MLSAIYTVLAGLLFLPLLVNLCCPYFFQDIGYFLKVAAVGRRVRSY...   \n",
       "2    sp|P97524|S27A2_RAT  MLPVLYTGLAGLLLLPLLLTCCCPYLLQDVRFFLQLANMARQVRSY...   \n",
       "3  sp|O35488|S27A2_MOUSE  MLPVLYTGLAGLLLLPLLLTCCCPYLLQDVRYFLRLANMARRVRSY...   \n",
       "4  sp|P33121|ACSL1_HUMAN  MQAHELFRYFRMPELVDFRQYVRTLPTNTLMGFGAFAALTTFWYAT...   \n",
       "\n",
       "  classification  type  \n",
       "0         LIGASE     3  \n",
       "1         LIGASE     3  \n",
       "2         LIGASE     3  \n",
       "3         LIGASE     3  \n",
       "4         LIGASE     3  "
      ]
     },
     "execution_count": 38,
     "metadata": {},
     "output_type": "execute_result"
    }
   ],
   "source": [
    "ligase = pd.read_csv('uniprot-ligase.csv')\n",
    "ligase.columns = ['structureId', 'sequence', 'classification', 'type']\n",
    "ligase.head()"
   ]
  },
  {
   "cell_type": "code",
   "execution_count": 39,
   "metadata": {},
   "outputs": [
    {
     "data": {
      "text/plain": [
       "(30529, 4)"
      ]
     },
     "execution_count": 39,
     "metadata": {},
     "output_type": "execute_result"
    }
   ],
   "source": [
    "df_1 = data[['structureId', 'sequence', 'classification', 'type']]\n",
    "df_1.shape"
   ]
  },
  {
   "cell_type": "code",
   "execution_count": 40,
   "metadata": {},
   "outputs": [
    {
     "data": {
      "text/html": [
       "<div>\n",
       "<style scoped>\n",
       "    .dataframe tbody tr th:only-of-type {\n",
       "        vertical-align: middle;\n",
       "    }\n",
       "\n",
       "    .dataframe tbody tr th {\n",
       "        vertical-align: top;\n",
       "    }\n",
       "\n",
       "    .dataframe thead th {\n",
       "        text-align: right;\n",
       "    }\n",
       "</style>\n",
       "<table border=\"1\" class=\"dataframe\">\n",
       "  <thead>\n",
       "    <tr style=\"text-align: right;\">\n",
       "      <th></th>\n",
       "      <th>structureId</th>\n",
       "      <th>sequence</th>\n",
       "      <th>classification</th>\n",
       "      <th>type</th>\n",
       "    </tr>\n",
       "  </thead>\n",
       "  <tbody>\n",
       "    <tr>\n",
       "      <th>269367</th>\n",
       "      <td>4FNR</td>\n",
       "      <td>MSVAYNPQTKQFHLRAGKASYVMQLFRSGYLAHVYWGKAVRDVRGA...</td>\n",
       "      <td>HYDROLASE</td>\n",
       "      <td>0</td>\n",
       "    </tr>\n",
       "    <tr>\n",
       "      <th>33384</th>\n",
       "      <td>1MEN</td>\n",
       "      <td>ASMTGGQQMGRILVAVLISGTGSNLQALIDSTREPNSSAQIDIVIS...</td>\n",
       "      <td>TRANSFERASE</td>\n",
       "      <td>4</td>\n",
       "    </tr>\n",
       "    <tr>\n",
       "      <th>329303</th>\n",
       "      <td>4UI3</td>\n",
       "      <td>MHHHHHHSSGVDLGTENLYFQSMLNTSGSGTILIDLSPDDKEFQSV...</td>\n",
       "      <td>TRANSFERASE</td>\n",
       "      <td>4</td>\n",
       "    </tr>\n",
       "    <tr>\n",
       "      <th>103246</th>\n",
       "      <td>2I65</td>\n",
       "      <td>KREAEARWRQTWSGPGTTKRFPETVLARCVKYTEIHPEMRHVDCQS...</td>\n",
       "      <td>HYDROLASE</td>\n",
       "      <td>0</td>\n",
       "    </tr>\n",
       "    <tr>\n",
       "      <th>102479</th>\n",
       "      <td>2HYB</td>\n",
       "      <td>MSEVVKKFMYLNRKAPYGTIYAWEALEVVLIGAAFDQDVCVLFLDD...</td>\n",
       "      <td>TRANSFERASE</td>\n",
       "      <td>4</td>\n",
       "    </tr>\n",
       "  </tbody>\n",
       "</table>\n",
       "</div>"
      ],
      "text/plain": [
       "       structureId                                           sequence  \\\n",
       "269367        4FNR  MSVAYNPQTKQFHLRAGKASYVMQLFRSGYLAHVYWGKAVRDVRGA...   \n",
       "33384         1MEN  ASMTGGQQMGRILVAVLISGTGSNLQALIDSTREPNSSAQIDIVIS...   \n",
       "329303        4UI3  MHHHHHHSSGVDLGTENLYFQSMLNTSGSGTILIDLSPDDKEFQSV...   \n",
       "103246        2I65  KREAEARWRQTWSGPGTTKRFPETVLARCVKYTEIHPEMRHVDCQS...   \n",
       "102479        2HYB  MSEVVKKFMYLNRKAPYGTIYAWEALEVVLIGAAFDQDVCVLFLDD...   \n",
       "\n",
       "       classification  type  \n",
       "269367      HYDROLASE     0  \n",
       "33384     TRANSFERASE     4  \n",
       "329303    TRANSFERASE     4  \n",
       "103246      HYDROLASE     0  \n",
       "102479    TRANSFERASE     4  "
      ]
     },
     "execution_count": 40,
     "metadata": {},
     "output_type": "execute_result"
    }
   ],
   "source": [
    "df_1.head()"
   ]
  },
  {
   "cell_type": "code",
   "execution_count": 41,
   "metadata": {},
   "outputs": [
    {
     "data": {
      "text/html": [
       "<div>\n",
       "<style scoped>\n",
       "    .dataframe tbody tr th:only-of-type {\n",
       "        vertical-align: middle;\n",
       "    }\n",
       "\n",
       "    .dataframe tbody tr th {\n",
       "        vertical-align: top;\n",
       "    }\n",
       "\n",
       "    .dataframe thead th {\n",
       "        text-align: right;\n",
       "    }\n",
       "</style>\n",
       "<table border=\"1\" class=\"dataframe\">\n",
       "  <thead>\n",
       "    <tr style=\"text-align: right;\">\n",
       "      <th></th>\n",
       "      <th>structureId</th>\n",
       "      <th>sequence</th>\n",
       "      <th>classification</th>\n",
       "      <th>type</th>\n",
       "    </tr>\n",
       "  </thead>\n",
       "  <tbody>\n",
       "    <tr>\n",
       "      <th>3987</th>\n",
       "      <td>sp|Q6LXQ4|G6PI_METMP</td>\n",
       "      <td>MNGELSFKYDNVMEENLGNLGISNGKLESFNNESSKIIEILKEKEL...</td>\n",
       "      <td>ISOMERASE</td>\n",
       "      <td>2</td>\n",
       "    </tr>\n",
       "    <tr>\n",
       "      <th>13945</th>\n",
       "      <td>sp|Q1QU82|ALR_CHRSD</td>\n",
       "      <td>MSRPLIADIDLDALRRNYCLARDQAPHSRAIAVVKADAYGHGAVAC...</td>\n",
       "      <td>ISOMERASE</td>\n",
       "      <td>2</td>\n",
       "    </tr>\n",
       "    <tr>\n",
       "      <th>3286</th>\n",
       "      <td>sp|Q5JE38|GPI_THEKO</td>\n",
       "      <td>MEYKRPIGLDIDLETGVIPGAKKLVRRLSDLKGYFLDEEAYNELLK...</td>\n",
       "      <td>ISOMERASE</td>\n",
       "      <td>2</td>\n",
       "    </tr>\n",
       "  </tbody>\n",
       "</table>\n",
       "</div>"
      ],
      "text/plain": [
       "                structureId  \\\n",
       "3987   sp|Q6LXQ4|G6PI_METMP   \n",
       "13945   sp|Q1QU82|ALR_CHRSD   \n",
       "3286    sp|Q5JE38|GPI_THEKO   \n",
       "\n",
       "                                                sequence classification  type  \n",
       "3987   MNGELSFKYDNVMEENLGNLGISNGKLESFNNESSKIIEILKEKEL...      ISOMERASE     2  \n",
       "13945  MSRPLIADIDLDALRRNYCLARDQAPHSRAIAVVKADAYGHGAVAC...      ISOMERASE     2  \n",
       "3286   MEYKRPIGLDIDLETGVIPGAKKLVRRLSDLKGYFLDEEAYNELLK...      ISOMERASE     2  "
      ]
     },
     "execution_count": 41,
     "metadata": {},
     "output_type": "execute_result"
    }
   ],
   "source": [
    "# scramble isomerase sequences in dataframe\n",
    "isomerase = isomerase.sample(frac=1)\n",
    "isomerase.head(3)"
   ]
  },
  {
   "cell_type": "code",
   "execution_count": 42,
   "metadata": {},
   "outputs": [
    {
     "data": {
      "text/plain": [
       "(15534, 4)"
      ]
     },
     "execution_count": 42,
     "metadata": {},
     "output_type": "execute_result"
    }
   ],
   "source": [
    "isomerase.shape"
   ]
  },
  {
   "cell_type": "code",
   "execution_count": 43,
   "metadata": {},
   "outputs": [
    {
     "data": {
      "text/plain": [
       "(32792, 4)"
      ]
     },
     "execution_count": 43,
     "metadata": {},
     "output_type": "execute_result"
    }
   ],
   "source": [
    "ligase.shape"
   ]
  },
  {
   "cell_type": "markdown",
   "metadata": {},
   "source": [
    "## Add more protein sequences"
   ]
  },
  {
   "cell_type": "code",
   "execution_count": 44,
   "metadata": {},
   "outputs": [
    {
     "data": {
      "text/html": [
       "<div>\n",
       "<style scoped>\n",
       "    .dataframe tbody tr th:only-of-type {\n",
       "        vertical-align: middle;\n",
       "    }\n",
       "\n",
       "    .dataframe tbody tr th {\n",
       "        vertical-align: top;\n",
       "    }\n",
       "\n",
       "    .dataframe thead th {\n",
       "        text-align: right;\n",
       "    }\n",
       "</style>\n",
       "<table border=\"1\" class=\"dataframe\">\n",
       "  <thead>\n",
       "    <tr style=\"text-align: right;\">\n",
       "      <th></th>\n",
       "      <th>name</th>\n",
       "      <th>sequence</th>\n",
       "      <th>classification</th>\n",
       "      <th>type</th>\n",
       "    </tr>\n",
       "  </thead>\n",
       "  <tbody>\n",
       "    <tr>\n",
       "      <th>0</th>\n",
       "      <td>sp|Q8CFC4|BGAT2_RAT</td>\n",
       "      <td>MKDLRFGRLKCYSLHLGILPLTVLVLVFFCFVCLSLRSQEWGHPGA...</td>\n",
       "      <td>TRANSFERASE</td>\n",
       "      <td>4</td>\n",
       "    </tr>\n",
       "    <tr>\n",
       "      <th>1</th>\n",
       "      <td>sp|Q9ET32|BGAT1_RAT</td>\n",
       "      <td>MDLRGRPKCYSLHLGILPFIVLVLVFFGYGFLSHKIQEFRNPGGET...</td>\n",
       "      <td>TRANSFERASE</td>\n",
       "      <td>4</td>\n",
       "    </tr>\n",
       "    <tr>\n",
       "      <th>2</th>\n",
       "      <td>sp|P16442|BGAT_HUMAN</td>\n",
       "      <td>MAEVLRTLAGKPKCHALRPMILFLIMLVLVLFGYGVLSPRSLMPGS...</td>\n",
       "      <td>TRANSFERASE</td>\n",
       "      <td>4</td>\n",
       "    </tr>\n",
       "    <tr>\n",
       "      <th>3</th>\n",
       "      <td>sp|P38649|BGAT_MOUSE</td>\n",
       "      <td>MNLRGRPKCNFLHLGILPFAVFVLVFFGYLFLSFRSQNLGHPGAVT...</td>\n",
       "      <td>TRANSFERASE</td>\n",
       "      <td>4</td>\n",
       "    </tr>\n",
       "    <tr>\n",
       "      <th>4</th>\n",
       "      <td>sp|P0AC75|KDTA_ECOLI</td>\n",
       "      <td>MLELLYTALLYLIQPLIWIRLWVRGRKAPAYRKRWGERYGFYRHPL...</td>\n",
       "      <td>TRANSFERASE</td>\n",
       "      <td>4</td>\n",
       "    </tr>\n",
       "  </tbody>\n",
       "</table>\n",
       "</div>"
      ],
      "text/plain": [
       "                   name                                           sequence  \\\n",
       "0   sp|Q8CFC4|BGAT2_RAT  MKDLRFGRLKCYSLHLGILPLTVLVLVFFCFVCLSLRSQEWGHPGA...   \n",
       "1   sp|Q9ET32|BGAT1_RAT  MDLRGRPKCYSLHLGILPFIVLVLVFFGYGFLSHKIQEFRNPGGET...   \n",
       "2  sp|P16442|BGAT_HUMAN  MAEVLRTLAGKPKCHALRPMILFLIMLVLVLFGYGVLSPRSLMPGS...   \n",
       "3  sp|P38649|BGAT_MOUSE  MNLRGRPKCNFLHLGILPFAVFVLVFFGYLFLSFRSQNLGHPGAVT...   \n",
       "4  sp|P0AC75|KDTA_ECOLI  MLELLYTALLYLIQPLIWIRLWVRGRKAPAYRKRWGERYGFYRHPL...   \n",
       "\n",
       "  classification  type  \n",
       "0    TRANSFERASE     4  \n",
       "1    TRANSFERASE     4  \n",
       "2    TRANSFERASE     4  \n",
       "3    TRANSFERASE     4  \n",
       "4    TRANSFERASE     4  "
      ]
     },
     "execution_count": 44,
     "metadata": {},
     "output_type": "execute_result"
    }
   ],
   "source": [
    "tf = pd.read_csv('uniprot-transferase-reviewed.csv')\n",
    "tf.head()"
   ]
  },
  {
   "cell_type": "code",
   "execution_count": 45,
   "metadata": {},
   "outputs": [
    {
     "data": {
      "text/plain": [
       "(86338, 4)"
      ]
     },
     "execution_count": 45,
     "metadata": {},
     "output_type": "execute_result"
    }
   ],
   "source": [
    "tf.shape"
   ]
  },
  {
   "cell_type": "code",
   "execution_count": 46,
   "metadata": {},
   "outputs": [
    {
     "data": {
      "text/plain": [
       "(28492, 4)"
      ]
     },
     "execution_count": 46,
     "metadata": {},
     "output_type": "execute_result"
    }
   ],
   "source": [
    "tf2 = tf.sample(frac=0.33)\n",
    "tf2.shape"
   ]
  },
  {
   "cell_type": "code",
   "execution_count": null,
   "metadata": {
    "collapsed": true
   },
   "outputs": [],
   "source": []
  },
  {
   "cell_type": "code",
   "execution_count": 47,
   "metadata": {},
   "outputs": [
    {
     "name": "stderr",
     "output_type": "stream",
     "text": [
      "/Users/scottlew/miniconda3/lib/python3.6/site-packages/ipykernel/__main__.py:1: FutureWarning: Sorting because non-concatenation axis is not aligned. A future version\n",
      "of pandas will change to not sort by default.\n",
      "\n",
      "To accept the future behavior, pass 'sort=False'.\n",
      "\n",
      "To retain the current behavior and silence the warning, pass 'sort=True'.\n",
      "\n",
      "  if __name__ == '__main__':\n"
     ]
    },
    {
     "data": {
      "text/plain": [
       "(107347, 5)"
      ]
     },
     "execution_count": 47,
     "metadata": {},
     "output_type": "execute_result"
    }
   ],
   "source": [
    "df_3 = pd.concat([df_1,isomerase,ligase,tf2])\n",
    "df_3.shape"
   ]
  },
  {
   "cell_type": "code",
   "execution_count": 48,
   "metadata": {},
   "outputs": [
    {
     "data": {
      "text/plain": [
       "TRANSFERASE      37774\n",
       "LIGASE           34309\n",
       "ISOMERASE        17140\n",
       "HYDROLASE        12664\n",
       "IMMUNE SYSTEM     5460\n",
       "Name: classification, dtype: int64"
      ]
     },
     "execution_count": 48,
     "metadata": {},
     "output_type": "execute_result"
    }
   ],
   "source": [
    "df_3.classification.value_counts()"
   ]
  },
  {
   "cell_type": "code",
   "execution_count": 49,
   "metadata": {},
   "outputs": [
    {
     "data": {
      "text/plain": [
       "4    37774\n",
       "3    34309\n",
       "2    17140\n",
       "0    12664\n",
       "1     5460\n",
       "Name: type, dtype: int64"
      ]
     },
     "execution_count": 49,
     "metadata": {},
     "output_type": "execute_result"
    }
   ],
   "source": [
    "df_3.type.value_counts()"
   ]
  },
  {
   "cell_type": "markdown",
   "metadata": {},
   "source": [
    "## Remove Duplicate Sequences"
   ]
  },
  {
   "cell_type": "code",
   "execution_count": 50,
   "metadata": {},
   "outputs": [
    {
     "data": {
      "text/html": [
       "<div>\n",
       "<style scoped>\n",
       "    .dataframe tbody tr th:only-of-type {\n",
       "        vertical-align: middle;\n",
       "    }\n",
       "\n",
       "    .dataframe tbody tr th {\n",
       "        vertical-align: top;\n",
       "    }\n",
       "\n",
       "    .dataframe thead th {\n",
       "        text-align: right;\n",
       "    }\n",
       "</style>\n",
       "<table border=\"1\" class=\"dataframe\">\n",
       "  <thead>\n",
       "    <tr style=\"text-align: right;\">\n",
       "      <th></th>\n",
       "      <th>classification</th>\n",
       "      <th>name</th>\n",
       "      <th>sequence</th>\n",
       "      <th>structureId</th>\n",
       "      <th>type</th>\n",
       "    </tr>\n",
       "  </thead>\n",
       "  <tbody>\n",
       "    <tr>\n",
       "      <th>269367</th>\n",
       "      <td>HYDROLASE</td>\n",
       "      <td>NaN</td>\n",
       "      <td>MSVAYNPQTKQFHLRAGKASYVMQLFRSGYLAHVYWGKAVRDVRGA...</td>\n",
       "      <td>4FNR</td>\n",
       "      <td>0</td>\n",
       "    </tr>\n",
       "    <tr>\n",
       "      <th>33384</th>\n",
       "      <td>TRANSFERASE</td>\n",
       "      <td>NaN</td>\n",
       "      <td>ASMTGGQQMGRILVAVLISGTGSNLQALIDSTREPNSSAQIDIVIS...</td>\n",
       "      <td>1MEN</td>\n",
       "      <td>4</td>\n",
       "    </tr>\n",
       "    <tr>\n",
       "      <th>329303</th>\n",
       "      <td>TRANSFERASE</td>\n",
       "      <td>NaN</td>\n",
       "      <td>MHHHHHHSSGVDLGTENLYFQSMLNTSGSGTILIDLSPDDKEFQSV...</td>\n",
       "      <td>4UI3</td>\n",
       "      <td>4</td>\n",
       "    </tr>\n",
       "    <tr>\n",
       "      <th>103246</th>\n",
       "      <td>HYDROLASE</td>\n",
       "      <td>NaN</td>\n",
       "      <td>KREAEARWRQTWSGPGTTKRFPETVLARCVKYTEIHPEMRHVDCQS...</td>\n",
       "      <td>2I65</td>\n",
       "      <td>0</td>\n",
       "    </tr>\n",
       "    <tr>\n",
       "      <th>102479</th>\n",
       "      <td>TRANSFERASE</td>\n",
       "      <td>NaN</td>\n",
       "      <td>MSEVVKKFMYLNRKAPYGTIYAWEALEVVLIGAAFDQDVCVLFLDD...</td>\n",
       "      <td>2HYB</td>\n",
       "      <td>4</td>\n",
       "    </tr>\n",
       "  </tbody>\n",
       "</table>\n",
       "</div>"
      ],
      "text/plain": [
       "       classification name                                           sequence  \\\n",
       "269367      HYDROLASE  NaN  MSVAYNPQTKQFHLRAGKASYVMQLFRSGYLAHVYWGKAVRDVRGA...   \n",
       "33384     TRANSFERASE  NaN  ASMTGGQQMGRILVAVLISGTGSNLQALIDSTREPNSSAQIDIVIS...   \n",
       "329303    TRANSFERASE  NaN  MHHHHHHSSGVDLGTENLYFQSMLNTSGSGTILIDLSPDDKEFQSV...   \n",
       "103246      HYDROLASE  NaN  KREAEARWRQTWSGPGTTKRFPETVLARCVKYTEIHPEMRHVDCQS...   \n",
       "102479    TRANSFERASE  NaN  MSEVVKKFMYLNRKAPYGTIYAWEALEVVLIGAAFDQDVCVLFLDD...   \n",
       "\n",
       "       structureId  type  \n",
       "269367        4FNR     0  \n",
       "33384         1MEN     4  \n",
       "329303        4UI3     4  \n",
       "103246        2I65     0  \n",
       "102479        2HYB     4  "
      ]
     },
     "execution_count": 50,
     "metadata": {},
     "output_type": "execute_result"
    }
   ],
   "source": [
    "# remove the duplicate protein sequences\n",
    "df_3 = df_3.drop_duplicates(subset='sequence', keep=\"first\")\n",
    "\n",
    "# remove nan from 'sequence' column\n",
    "df_3 = df_3[df_3['sequence'].notnull()]\n",
    "df_3.head()"
   ]
  },
  {
   "cell_type": "code",
   "execution_count": 51,
   "metadata": {},
   "outputs": [
    {
     "data": {
      "text/plain": [
       "(104985, 5)"
      ]
     },
     "execution_count": 51,
     "metadata": {},
     "output_type": "execute_result"
    }
   ],
   "source": [
    "df_3.shape"
   ]
  },
  {
   "cell_type": "markdown",
   "metadata": {},
   "source": [
    "## Classifier of Protein Sequences: Predict 5 Classes"
   ]
  },
  {
   "cell_type": "markdown",
   "metadata": {},
   "source": [
    "## CountVectorizer: Count peptide frequency, transform the data"
   ]
  },
  {
   "cell_type": "code",
   "execution_count": 52,
   "metadata": {
    "collapsed": true
   },
   "outputs": [],
   "source": [
    "# In this case, hexapeptide frequency is used for analysis\n",
    "vect_ = CountVectorizer(min_df=1,token_pattern=r'\\w{1}',ngram_range=(6,6))"
   ]
  },
  {
   "cell_type": "markdown",
   "metadata": {},
   "source": [
    "## Split the data into training & test sets for classification model"
   ]
  },
  {
   "cell_type": "code",
   "execution_count": 53,
   "metadata": {
    "collapsed": true
   },
   "outputs": [],
   "source": [
    "X = vect_.fit_transform(df_3.sequence)\n",
    "y = df_3.type"
   ]
  },
  {
   "cell_type": "code",
   "execution_count": 54,
   "metadata": {},
   "outputs": [
    {
     "name": "stdout",
     "output_type": "stream",
     "text": [
      "(83988, 14220572) (83988,)\n",
      "(20997, 14220572) (20997,)\n"
     ]
    }
   ],
   "source": [
    "# Split the data into training and test sets\n",
    "X_train, X_test, y_train, y_test = train_test_split(X,y, test_size=0.2,random_state =42)\n",
    "print(X_train.shape, y_train.shape)\n",
    "print(X_test.shape, y_test.shape)"
   ]
  },
  {
   "cell_type": "code",
   "execution_count": 55,
   "metadata": {},
   "outputs": [
    {
     "data": {
      "text/plain": [
       "4    7083\n",
       "3    6817\n",
       "2    3466\n",
       "0    2493\n",
       "1    1138\n",
       "Name: type, dtype: int64"
      ]
     },
     "execution_count": 55,
     "metadata": {},
     "output_type": "execute_result"
    }
   ],
   "source": [
    "y_test.value_counts()"
   ]
  },
  {
   "cell_type": "markdown",
   "metadata": {},
   "source": [
    "## MNB Classifier Model"
   ]
  },
  {
   "cell_type": "code",
   "execution_count": 56,
   "metadata": {},
   "outputs": [
    {
     "name": "stdout",
     "output_type": "stream",
     "text": [
      "MNB classifier Score: 0.82\n",
      "\n"
     ]
    }
   ],
   "source": [
    "mnb = MultinomialNB()\n",
    "mnb.fit(X_train, y_train)\n",
    "# evaluate accuracy of our model on test data\n",
    "print(\"MNB classifier Score: {:.2f}\".format(mnb.score(X_test, y_test)))\n",
    "print()"
   ]
  },
  {
   "cell_type": "markdown",
   "metadata": {},
   "source": [
    "## MNB Classifier Optimization"
   ]
  },
  {
   "cell_type": "code",
   "execution_count": 73,
   "metadata": {},
   "outputs": [
    {
     "name": "stdout",
     "output_type": "stream",
     "text": [
      "Alpha:  36.0\n",
      "Score:  0.90089060342\n",
      "\n",
      "Alpha:  36.5\n",
      "Score:  0.900938229271\n",
      "\n",
      "Alpha:  37.0\n",
      "Score:  0.900985855122\n",
      "\n",
      "Alpha:  37.5\n",
      "Score:  0.900842977568\n",
      "\n",
      "Alpha:  38.0\n",
      "Score:  0.900795351717\n",
      "\n",
      "Alpha:  38.5\n",
      "Score:  0.900938229271\n",
      "\n",
      "Alpha:  39.0\n",
      "Score:  0.900938229271\n",
      "\n",
      "Alpha:  39.5\n",
      "Score:  0.901033480973\n",
      "\n"
     ]
    }
   ],
   "source": [
    "#alphas = np.arange(0.1,5.5,0.1)\n",
    "alphas = np.arange(36,40,0.5)\n",
    "# Iterate over the alphas and print the corresponding score\n",
    "for alpha in alphas:\n",
    "    nb_op = MultinomialNB(alpha=alpha)\n",
    "    nb_op.fit(X_train, y_train)\n",
    "    print('Alpha: ', alpha)\n",
    "    print('Score: ',nb_op.score(X_test, y_test) )\n",
    "    print()"
   ]
  },
  {
   "cell_type": "code",
   "execution_count": null,
   "metadata": {
    "collapsed": true
   },
   "outputs": [],
   "source": []
  },
  {
   "cell_type": "code",
   "execution_count": null,
   "metadata": {
    "collapsed": true
   },
   "outputs": [],
   "source": []
  },
  {
   "cell_type": "code",
   "execution_count": 86,
   "metadata": {},
   "outputs": [
    {
     "name": "stdout",
     "output_type": "stream",
     "text": [
      "Majority Voting Classifier Score: 0.92\n",
      "\n",
      "CPU times: user 1min 18s, sys: 4.43 s, total: 1min 23s\n",
      "Wall time: 1min 21s\n"
     ]
    }
   ],
   "source": [
    "%%time\n",
    "clf1 = linear_model.SGDClassifier(max_iter=1000, tol=1e-3)\n",
    "clf2 = PassiveAggressiveClassifier()\n",
    "clf3 = MultinomialNB(alpha=50)\n",
    "\n",
    "eclf1 = VotingClassifier(estimators=[('sgd', clf1), ('pac', clf2), ('mnb', clf3)], voting='hard')\n",
    "eclf1 = eclf1.fit(X_train, y_train)\n",
    "# evaluate accuracy of our model on test data\n",
    "print(\"Majority Voting Classifier Score: {:.2f}\".format(eclf1.score(X_test, y_test)))\n",
    "print()"
   ]
  },
  {
   "cell_type": "code",
   "execution_count": 87,
   "metadata": {},
   "outputs": [
    {
     "name": "stdout",
     "output_type": "stream",
     "text": [
      "Confusion Matrix for Voting Model\n",
      "\n",
      "[[2079   41    6   37  330]\n",
      " [  48  961    1    3  125]\n",
      " [  53   21 3248   12  132]\n",
      " [ 168   82   20 6292  255]\n",
      " [ 140   61   10   45 6827]]\n"
     ]
    }
   ],
   "source": [
    "# Generate Confusion Matrix for Voting Model\n",
    "actual = y_test\n",
    "predictions = eclf1.predict(X_test)\n",
    "print('Confusion Matrix for Voting Model')\n",
    "print()\n",
    "cm = confusion_matrix(actual,predictions)\n",
    "print(cm)"
   ]
  },
  {
   "cell_type": "code",
   "execution_count": 88,
   "metadata": {},
   "outputs": [
    {
     "data": {
      "image/png": "[encoded data removed]",
      "text/plain": [
       "<matplotlib.figure.Figure at 0x1a74730828>"
      ]
     },
     "metadata": {},
     "output_type": "display_data"
    }
   ],
   "source": [
    "# Nice plot of confusion matrix\n",
    "# Adjust size of confusion matrix by following code taken from StackOverflow\n",
    "# https://stackoverflow.com/questions/43021762/matplotlib-how-to-change-figsize-for-matshow\n",
    "plt.figure(figsize=(10,5))\n",
    "plt.matshow(cm, fignum=1)\n",
    "\n",
    "plt.title('Confusion Matrix Plot for Voting Model')\n",
    "plt.colorbar()\n",
    "plt.xlabel('Predicted')\n",
    "plt.ylabel('Actual')\n",
    "\n",
    "plt.show()"
   ]
  },
  {
   "cell_type": "markdown",
   "metadata": {},
   "source": [
    "## Cross Validation of Model"
   ]
  },
  {
   "cell_type": "code",
   "execution_count": 89,
   "metadata": {},
   "outputs": [
    {
     "data": {
      "text/plain": [
       "(104985, 14220572)"
      ]
     },
     "execution_count": 89,
     "metadata": {},
     "output_type": "execute_result"
    }
   ],
   "source": [
    "vector_ = CountVectorizer(min_df=1,token_pattern=r'\\w{1}',ngram_range=(6,6))\n",
    "X = vect_.fit_transform(df_3.sequence)\n",
    "y = df_3.type\n",
    "\n",
    "X.shape"
   ]
  },
  {
   "cell_type": "code",
   "execution_count": 90,
   "metadata": {},
   "outputs": [
    {
     "name": "stdout",
     "output_type": "stream",
     "text": [
      "Cross-validation scores for Voting Classifier: [ 0.79836175  0.91827793  0.9402324   0.93703862  0.90654473]\n",
      "\n",
      "The average accuracy score for Voting Classifier is: \n",
      "0.900091086937\n"
     ]
    }
   ],
   "source": [
    "#instantiate a logistic regression classifier\n",
    "clf1 = linear_model.SGDClassifier(max_iter=1000, tol=1e-3)\n",
    "clf2 = PassiveAggressiveClassifier()\n",
    "clf3 = MultinomialNB(alpha=50)\n",
    "\n",
    "vote_cv = VotingClassifier(estimators=[('sgd', clf1), ('pac', clf2), ('mnb', clf3)], voting='hard')\n",
    "scores = cross_val_score(vote_cv,X,y, cv = 5)\n",
    "print(\"Cross-validation scores for Voting Classifier: {}\".format(scores))\n",
    "print()\n",
    "print(\"The average accuracy score for Voting Classifier is: \")\n",
    "print(np.mean(scores))"
   ]
  },
  {
   "cell_type": "code",
   "execution_count": null,
   "metadata": {
    "collapsed": true
   },
   "outputs": [],
   "source": []
  }
 ],
 "metadata": {
  "kernelspec": {
   "display_name": "Python [default]",
   "language": "python",
   "name": "python3"
  },
  "language_info": {
   "codemirror_mode": {
    "name": "ipython",
    "version": 3
   },
   "file_extension": ".py",
   "mimetype": "text/x-python",
   "name": "python",
   "nbconvert_exporter": "python",
   "pygments_lexer": "ipython3",
   "version": "3.6.9"
  }
 },
 "nbformat": 4,
 "nbformat_minor": 2
}
