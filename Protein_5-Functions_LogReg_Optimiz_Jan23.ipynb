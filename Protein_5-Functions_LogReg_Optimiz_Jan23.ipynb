{
 "cells": [
  {
   "cell_type": "code",
   "execution_count": 1,
   "metadata": {
    "collapsed": true
   },
   "outputs": [],
   "source": [
    "import pandas as pd\n",
    "import numpy as np\n",
    "import seaborn as sns\n",
    "import matplotlib.pyplot as plt\n",
    "import time\n",
    "import re\n",
    "import nltk\n",
    "import math\n",
    "import pickle\n",
    "\n",
    "from sklearn import svm\n",
    "from sklearn.preprocessing import StandardScaler\n",
    "from sklearn.model_selection import train_test_split, GridSearchCV\n",
    "from sklearn.tree import DecisionTreeClassifier\n",
    "from sklearn.linear_model import LogisticRegression\n",
    "from sklearn.neighbors import KNeighborsClassifier\n",
    "from sklearn.ensemble import RandomForestClassifier\n",
    "from nltk.corpus import stopwords\n",
    "from sklearn.feature_extraction.text import TfidfVectorizer\n",
    "from sklearn.feature_extraction.text import CountVectorizer\n",
    "import sklearn.metrics\n",
    "from sklearn.metrics import confusion_matrix\n",
    "from Bio.SeqUtils.ProtParam import ProteinAnalysis\n",
    "from imblearn.over_sampling import SMOTE\n",
    "from sklearn.model_selection import cross_val_score, cross_val_predict\n",
    "\n",
    "%matplotlib inline"
   ]
  },
  {
   "cell_type": "code",
   "execution_count": 2,
   "metadata": {
    "collapsed": true
   },
   "outputs": [],
   "source": [
    "# Data taken from https://www.kaggle.com/shahir/protein-data-set\n",
    "# This is a protein data set retrieved from Research Collaboratory for Structural Bioinformatics (RCSB) Protein Data Bank (PDB)."
   ]
  },
  {
   "cell_type": "code",
   "execution_count": 3,
   "metadata": {},
   "outputs": [
    {
     "data": {
      "text/html": [
       "<div>\n",
       "<style scoped>\n",
       "    .dataframe tbody tr th:only-of-type {\n",
       "        vertical-align: middle;\n",
       "    }\n",
       "\n",
       "    .dataframe tbody tr th {\n",
       "        vertical-align: top;\n",
       "    }\n",
       "\n",
       "    .dataframe thead th {\n",
       "        text-align: right;\n",
       "    }\n",
       "</style>\n",
       "<table border=\"1\" class=\"dataframe\">\n",
       "  <thead>\n",
       "    <tr style=\"text-align: right;\">\n",
       "      <th></th>\n",
       "      <th>classification</th>\n",
       "      <th>name</th>\n",
       "      <th>sequence</th>\n",
       "      <th>structureId</th>\n",
       "      <th>type</th>\n",
       "    </tr>\n",
       "  </thead>\n",
       "  <tbody>\n",
       "    <tr>\n",
       "      <th>0</th>\n",
       "      <td>TRANSFERASE</td>\n",
       "      <td>NaN</td>\n",
       "      <td>MEIYEGKLTAEGLRFGIVASRFNHALVDRLVEGAIDCIVRHGGREE...</td>\n",
       "      <td>5MPP</td>\n",
       "      <td>4</td>\n",
       "    </tr>\n",
       "    <tr>\n",
       "      <th>1</th>\n",
       "      <td>HYDROLASE</td>\n",
       "      <td>NaN</td>\n",
       "      <td>MKFTLTIAGLLAVGSTAAPTTEKRNPGGIDYVQNYNGDVADFQYNE...</td>\n",
       "      <td>3M4F</td>\n",
       "      <td>0</td>\n",
       "    </tr>\n",
       "    <tr>\n",
       "      <th>2</th>\n",
       "      <td>TRANSFERASE</td>\n",
       "      <td>NaN</td>\n",
       "      <td>MRGSHHHHHHGSMKRAVITGLGIVSSIGNNQQEVLASLREGRSGIT...</td>\n",
       "      <td>2BYY</td>\n",
       "      <td>4</td>\n",
       "    </tr>\n",
       "    <tr>\n",
       "      <th>3</th>\n",
       "      <td>HYDROLASE</td>\n",
       "      <td>NaN</td>\n",
       "      <td>STGSATTTPIDSLDDAYITPVQIGTPAQTLNLDFDTGSSDLWVFSS...</td>\n",
       "      <td>4YCY</td>\n",
       "      <td>0</td>\n",
       "    </tr>\n",
       "    <tr>\n",
       "      <th>4</th>\n",
       "      <td>TRANSFERASE</td>\n",
       "      <td>NaN</td>\n",
       "      <td>GSGMMRYLHKIELELNRLTSRYPFFKKIAFDAEIIKLVDDLNVDEN...</td>\n",
       "      <td>3AQC</td>\n",
       "      <td>4</td>\n",
       "    </tr>\n",
       "  </tbody>\n",
       "</table>\n",
       "</div>"
      ],
      "text/plain": [
       "  classification name                                           sequence  \\\n",
       "0    TRANSFERASE  NaN  MEIYEGKLTAEGLRFGIVASRFNHALVDRLVEGAIDCIVRHGGREE...   \n",
       "1      HYDROLASE  NaN  MKFTLTIAGLLAVGSTAAPTTEKRNPGGIDYVQNYNGDVADFQYNE...   \n",
       "2    TRANSFERASE  NaN  MRGSHHHHHHGSMKRAVITGLGIVSSIGNNQQEVLASLREGRSGIT...   \n",
       "3      HYDROLASE  NaN  STGSATTTPIDSLDDAYITPVQIGTPAQTLNLDFDTGSSDLWVFSS...   \n",
       "4    TRANSFERASE  NaN  GSGMMRYLHKIELELNRLTSRYPFFKKIAFDAEIIKLVDDLNVDEN...   \n",
       "\n",
       "  structureId  type  \n",
       "0        5MPP     4  \n",
       "1        3M4F     0  \n",
       "2        2BYY     4  \n",
       "3        4YCY     0  \n",
       "4        3AQC     4  "
      ]
     },
     "execution_count": 3,
     "metadata": {},
     "output_type": "execute_result"
    }
   ],
   "source": [
    "# read in data from csv file\n",
    "df = pd.read_csv('proteins-5-functions.csv')\n",
    "\n",
    "df.head()"
   ]
  },
  {
   "cell_type": "markdown",
   "metadata": {},
   "source": [
    "## Classification of Proteins: Logistic Regression Model"
   ]
  },
  {
   "cell_type": "markdown",
   "metadata": {},
   "source": [
    "## 5 Classes of Proteins"
   ]
  },
  {
   "cell_type": "markdown",
   "metadata": {},
   "source": [
    "## CountVectorizer: Count peptide frequency, transform the data"
   ]
  },
  {
   "cell_type": "code",
   "execution_count": 4,
   "metadata": {
    "collapsed": true
   },
   "outputs": [],
   "source": [
    "# In this case, peptide frequency is used for analysis\n",
    "peptide_size = 6\n",
    "vect_ = CountVectorizer(min_df=1,token_pattern=r'\\w{1}',ngram_range=(peptide_size,peptide_size))"
   ]
  },
  {
   "cell_type": "markdown",
   "metadata": {},
   "source": [
    "## Use a smaller amount of data to find optimum C value"
   ]
  },
  {
   "cell_type": "code",
   "execution_count": 9,
   "metadata": {},
   "outputs": [
    {
     "data": {
      "text/plain": [
       "(10496, 5)"
      ]
     },
     "execution_count": 9,
     "metadata": {},
     "output_type": "execute_result"
    }
   ],
   "source": [
    "df_new = df.sample(frac=0.10)\n",
    "df_new.shape"
   ]
  },
  {
   "cell_type": "code",
   "execution_count": 10,
   "metadata": {},
   "outputs": [
    {
     "data": {
      "text/html": [
       "<div>\n",
       "<style scoped>\n",
       "    .dataframe tbody tr th:only-of-type {\n",
       "        vertical-align: middle;\n",
       "    }\n",
       "\n",
       "    .dataframe tbody tr th {\n",
       "        vertical-align: top;\n",
       "    }\n",
       "\n",
       "    .dataframe thead th {\n",
       "        text-align: right;\n",
       "    }\n",
       "</style>\n",
       "<table border=\"1\" class=\"dataframe\">\n",
       "  <thead>\n",
       "    <tr style=\"text-align: right;\">\n",
       "      <th></th>\n",
       "      <th>classification</th>\n",
       "      <th>name</th>\n",
       "      <th>sequence</th>\n",
       "      <th>structureId</th>\n",
       "      <th>type</th>\n",
       "    </tr>\n",
       "  </thead>\n",
       "  <tbody>\n",
       "    <tr>\n",
       "      <th>102319</th>\n",
       "      <td>TRANSFERASE</td>\n",
       "      <td>sp|Q2RMC5|GLMU_MOOTA</td>\n",
       "      <td>MADTVAVILAAGQGKRMHSRRPKVLHRIAGRCLVEHVLAAVGEAGI...</td>\n",
       "      <td>NaN</td>\n",
       "      <td>4</td>\n",
       "    </tr>\n",
       "    <tr>\n",
       "      <th>29913</th>\n",
       "      <td>TRANSFERASE</td>\n",
       "      <td>NaN</td>\n",
       "      <td>NDPDTLEIYS</td>\n",
       "      <td>2A0T</td>\n",
       "      <td>4</td>\n",
       "    </tr>\n",
       "    <tr>\n",
       "      <th>44613</th>\n",
       "      <td>ISOMERASE</td>\n",
       "      <td>NaN</td>\n",
       "      <td>MKHLKNNTKKFTALLFALLFSMSIAGCNMIEKTPEAIEKSPVAKVG...</td>\n",
       "      <td>sp|Q899I2|PRSA_CLOTE</td>\n",
       "      <td>2</td>\n",
       "    </tr>\n",
       "    <tr>\n",
       "      <th>32691</th>\n",
       "      <td>ISOMERASE</td>\n",
       "      <td>NaN</td>\n",
       "      <td>MTTLEAIKFDRTNVTLQILDQLLIPYSTEYLNIEGVDDAYDAIKSM...</td>\n",
       "      <td>sp|A5DNT0|MTNA_PICGU</td>\n",
       "      <td>2</td>\n",
       "    </tr>\n",
       "    <tr>\n",
       "      <th>30207</th>\n",
       "      <td>HYDROLASE</td>\n",
       "      <td>NaN</td>\n",
       "      <td>ATSTKKLHKEPATLIKAIDGDTVKLMYKGQPMTFRLLEVDTPEFNE...</td>\n",
       "      <td>5ISR</td>\n",
       "      <td>0</td>\n",
       "    </tr>\n",
       "  </tbody>\n",
       "</table>\n",
       "</div>"
      ],
      "text/plain": [
       "       classification                  name  \\\n",
       "102319    TRANSFERASE  sp|Q2RMC5|GLMU_MOOTA   \n",
       "29913     TRANSFERASE                   NaN   \n",
       "44613       ISOMERASE                   NaN   \n",
       "32691       ISOMERASE                   NaN   \n",
       "30207       HYDROLASE                   NaN   \n",
       "\n",
       "                                                 sequence  \\\n",
       "102319  MADTVAVILAAGQGKRMHSRRPKVLHRIAGRCLVEHVLAAVGEAGI...   \n",
       "29913                                          NDPDTLEIYS   \n",
       "44613   MKHLKNNTKKFTALLFALLFSMSIAGCNMIEKTPEAIEKSPVAKVG...   \n",
       "32691   MTTLEAIKFDRTNVTLQILDQLLIPYSTEYLNIEGVDDAYDAIKSM...   \n",
       "30207   ATSTKKLHKEPATLIKAIDGDTVKLMYKGQPMTFRLLEVDTPEFNE...   \n",
       "\n",
       "                 structureId  type  \n",
       "102319                   NaN     4  \n",
       "29913                   2A0T     4  \n",
       "44613   sp|Q899I2|PRSA_CLOTE     2  \n",
       "32691   sp|A5DNT0|MTNA_PICGU     2  \n",
       "30207                   5ISR     0  "
      ]
     },
     "execution_count": 10,
     "metadata": {},
     "output_type": "execute_result"
    }
   ],
   "source": [
    "df_new.head()"
   ]
  },
  {
   "cell_type": "code",
   "execution_count": 12,
   "metadata": {},
   "outputs": [
    {
     "data": {
      "text/plain": [
       "Index(['classification', 'name', 'sequence', 'structureId', 'type'], dtype='object')"
      ]
     },
     "execution_count": 12,
     "metadata": {},
     "output_type": "execute_result"
    }
   ],
   "source": [
    "df_new.columns"
   ]
  },
  {
   "cell_type": "markdown",
   "metadata": {},
   "source": [
    "## Split the data into training & test sets for classification model"
   ]
  },
  {
   "cell_type": "code",
   "execution_count": 13,
   "metadata": {
    "collapsed": true
   },
   "outputs": [],
   "source": [
    "X = vect_.fit_transform(df_new.sequence)\n",
    "y = df_new.type"
   ]
  },
  {
   "cell_type": "code",
   "execution_count": 14,
   "metadata": {},
   "outputs": [
    {
     "name": "stdout",
     "output_type": "stream",
     "text": [
      "(8396, 3126417) (8396,)\n",
      "(2100, 3126417) (2100,)\n"
     ]
    }
   ],
   "source": [
    "# Split the data into training and test sets\n",
    "X_train, X_test, y_train, y_test = train_test_split(X,y, test_size=0.2,random_state =42)\n",
    "print(X_train.shape, y_train.shape)\n",
    "print(X_test.shape, y_test.shape)"
   ]
  },
  {
   "cell_type": "code",
   "execution_count": 15,
   "metadata": {},
   "outputs": [
    {
     "data": {
      "text/plain": [
       "4    731\n",
       "3    679\n",
       "2    330\n",
       "0    257\n",
       "1    103\n",
       "Name: type, dtype: int64"
      ]
     },
     "execution_count": 15,
     "metadata": {},
     "output_type": "execute_result"
    }
   ],
   "source": [
    "y_test.value_counts()"
   ]
  },
  {
   "cell_type": "markdown",
   "metadata": {},
   "source": [
    "## Optimization of Logistic Regression Model"
   ]
  },
  {
   "cell_type": "code",
   "execution_count": 16,
   "metadata": {},
   "outputs": [
    {
     "name": "stderr",
     "output_type": "stream",
     "text": [
      "/Users/scottlew/miniconda3/lib/python3.6/site-packages/sklearn/linear_model/logistic.py:432: FutureWarning: Default solver will be changed to 'lbfgs' in 0.22. Specify a solver to silence this warning.\n",
      "  FutureWarning)\n",
      "/Users/scottlew/miniconda3/lib/python3.6/site-packages/sklearn/linear_model/logistic.py:469: FutureWarning: Default multi_class will be changed to 'auto' in 0.22. Specify the multi_class option to silence this warning.\n",
      "  \"this warning.\", FutureWarning)\n"
     ]
    },
    {
     "name": "stdout",
     "output_type": "stream",
     "text": [
      "C Value:  0.001\n",
      "Score:  0.632857142857\n",
      "\n",
      "C Value:  0.01\n",
      "Score:  0.710952380952\n",
      "\n",
      "C Value:  0.1\n",
      "Score:  0.740952380952\n",
      "\n",
      "C Value:  1.0\n",
      "Score:  0.754285714286\n",
      "\n",
      "C Value:  10\n",
      "Score:  0.694285714286\n",
      "\n",
      "C Value:  100\n",
      "Score:  0.659047619048\n",
      "\n"
     ]
    }
   ],
   "source": [
    "C_s = [0.001,0.01,0.1,1.0,10,100]\n",
    "# Iterate over the alphas and print the corresponding score\n",
    "for c in C_s:\n",
    "    lr_op = LogisticRegression(C = c)\n",
    "    lr_op.fit(X_train, y_train)\n",
    "    print('C Value: ', c)\n",
    "    print('Score: ',lr_op.score(X_test, y_test) )\n",
    "    print()"
   ]
  },
  {
   "cell_type": "code",
   "execution_count": 17,
   "metadata": {},
   "outputs": [
    {
     "name": "stderr",
     "output_type": "stream",
     "text": [
      "/Users/scottlew/miniconda3/lib/python3.6/site-packages/sklearn/linear_model/logistic.py:432: FutureWarning: Default solver will be changed to 'lbfgs' in 0.22. Specify a solver to silence this warning.\n",
      "  FutureWarning)\n",
      "/Users/scottlew/miniconda3/lib/python3.6/site-packages/sklearn/linear_model/logistic.py:469: FutureWarning: Default multi_class will be changed to 'auto' in 0.22. Specify the multi_class option to silence this warning.\n",
      "  \"this warning.\", FutureWarning)\n"
     ]
    },
    {
     "name": "stdout",
     "output_type": "stream",
     "text": [
      "C Value:  1.0\n",
      "Score:  0.754285714286\n",
      "\n",
      "C Value:  1.5\n",
      "Score:  0.758095238095\n",
      "\n",
      "C Value:  2.0\n",
      "Score:  0.762380952381\n",
      "\n",
      "C Value:  2.5\n",
      "Score:  0.76619047619\n",
      "\n",
      "C Value:  3.0\n",
      "Score:  0.769047619048\n",
      "\n",
      "C Value:  3.5\n",
      "Score:  0.767619047619\n",
      "\n",
      "C Value:  4.0\n",
      "Score:  0.760476190476\n",
      "\n",
      "C Value:  4.5\n",
      "Score:  0.752380952381\n",
      "\n",
      "C Value:  5.0\n",
      "Score:  0.743333333333\n",
      "\n",
      "C Value:  5.5\n",
      "Score:  0.737142857143\n",
      "\n",
      "C Value:  6.0\n",
      "Score:  0.73\n",
      "\n",
      "C Value:  6.5\n",
      "Score:  0.723333333333\n",
      "\n",
      "C Value:  7.0\n",
      "Score:  0.71619047619\n",
      "\n",
      "C Value:  7.5\n",
      "Score:  0.711904761905\n",
      "\n",
      "C Value:  8.0\n",
      "Score:  0.70619047619\n",
      "\n",
      "C Value:  8.5\n",
      "Score:  0.703333333333\n",
      "\n",
      "C Value:  9.0\n",
      "Score:  0.698571428571\n",
      "\n",
      "C Value:  9.5\n",
      "Score:  0.696666666667\n",
      "\n",
      "C Value:  10.0\n",
      "Score:  0.694285714286\n",
      "\n"
     ]
    }
   ],
   "source": [
    "C_s = np.arange(1,10.5,0.5)\n",
    "# Iterate over the alphas and print the corresponding score\n",
    "for c in C_s:\n",
    "    lr_op = LogisticRegression(C = c)\n",
    "    lr_op.fit(X_train, y_train)\n",
    "    print('C Value: ', c)\n",
    "    print('Score: ',lr_op.score(X_test, y_test) )\n",
    "    print()"
   ]
  },
  {
   "cell_type": "markdown",
   "metadata": {},
   "source": [
    "## Train & test optimized logistic regression model with entire dataset"
   ]
  },
  {
   "cell_type": "code",
   "execution_count": 18,
   "metadata": {},
   "outputs": [
    {
     "name": "stdout",
     "output_type": "stream",
     "text": [
      "(83964, 14277858) (83964,)\n",
      "(20992, 14277858) (20992,)\n"
     ]
    }
   ],
   "source": [
    "X = vect_.fit_transform(df.sequence)\n",
    "y = df.type\n",
    "\n",
    "# Split the data into training and test sets\n",
    "X_train, X_test, y_train, y_test = train_test_split(X,y, test_size=0.2,random_state =42)\n",
    "print(X_train.shape, y_train.shape)\n",
    "print(X_test.shape, y_test.shape)"
   ]
  },
  {
   "cell_type": "code",
   "execution_count": 19,
   "metadata": {},
   "outputs": [
    {
     "data": {
      "text/plain": [
       "4    7121\n",
       "3    6732\n",
       "2    3480\n",
       "0    2590\n",
       "1    1069\n",
       "Name: type, dtype: int64"
      ]
     },
     "execution_count": 19,
     "metadata": {},
     "output_type": "execute_result"
    }
   ],
   "source": [
    "y_test.value_counts()"
   ]
  },
  {
   "cell_type": "code",
   "execution_count": 20,
   "metadata": {},
   "outputs": [
    {
     "name": "stderr",
     "output_type": "stream",
     "text": [
      "/Users/scottlew/miniconda3/lib/python3.6/site-packages/sklearn/linear_model/logistic.py:432: FutureWarning: Default solver will be changed to 'lbfgs' in 0.22. Specify a solver to silence this warning.\n",
      "  FutureWarning)\n",
      "/Users/scottlew/miniconda3/lib/python3.6/site-packages/sklearn/linear_model/logistic.py:469: FutureWarning: Default multi_class will be changed to 'auto' in 0.22. Specify the multi_class option to silence this warning.\n",
      "  \"this warning.\", FutureWarning)\n",
      "/Users/scottlew/miniconda3/lib/python3.6/site-packages/sklearn/svm/base.py:929: ConvergenceWarning: Liblinear failed to converge, increase the number of iterations.\n",
      "  \"the number of iterations.\", ConvergenceWarning)\n"
     ]
    },
    {
     "name": "stdout",
     "output_type": "stream",
     "text": [
      "Logistic Regression Score: 0.92\n"
     ]
    }
   ],
   "source": [
    "# Logistic Regression with optimized C value\n",
    "lr = LogisticRegression(C=3.0)\n",
    "lr.fit(X_train, y_train)\n",
    "lr.predict(X_test)\n",
    "print(\"Logistic Regression Score: {:.2f}\".format(lr.score(X_test, y_test)))"
   ]
  },
  {
   "cell_type": "code",
   "execution_count": 21,
   "metadata": {
    "collapsed": true
   },
   "outputs": [],
   "source": [
    "import pickle\n",
    "\n",
    "# Save the Modle to file in the current working directory\n",
    "\n",
    "Pkl_Filename = \"lr_function5_hexa.pkl\"  \n",
    "\n",
    "with open(Pkl_Filename, 'wb') as file:  \n",
    "    pickle.dump(lr, file)"
   ]
  },
  {
   "cell_type": "code",
   "execution_count": 22,
   "metadata": {},
   "outputs": [
    {
     "data": {
      "text/plain": [
       "LogisticRegression(C=3.0, class_weight=None, dual=False, fit_intercept=True,\n",
       "                   intercept_scaling=1, l1_ratio=None, max_iter=100,\n",
       "                   multi_class='warn', n_jobs=None, penalty='l2',\n",
       "                   random_state=None, solver='warn', tol=0.0001, verbose=0,\n",
       "                   warm_start=False)"
      ]
     },
     "execution_count": 22,
     "metadata": {},
     "output_type": "execute_result"
    }
   ],
   "source": [
    "# Load the Model back from file\n",
    "\n",
    "with open(Pkl_Filename, 'rb') as file:  \n",
    "    Pickled_lr = pickle.load(file)\n",
    "\n",
    "Pickled_lr"
   ]
  },
  {
   "cell_type": "code",
   "execution_count": null,
   "metadata": {
    "collapsed": true
   },
   "outputs": [],
   "source": []
  }
 ],
 "metadata": {
  "kernelspec": {
   "display_name": "Python [default]",
   "language": "python",
   "name": "python3"
  },
  "language_info": {
   "codemirror_mode": {
    "name": "ipython",
    "version": 3
   },
   "file_extension": ".py",
   "mimetype": "text/x-python",
   "name": "python",
   "nbconvert_exporter": "python",
   "pygments_lexer": "ipython3",
   "version": "3.6.9"
  }
 },
 "nbformat": 4,
 "nbformat_minor": 2
}
