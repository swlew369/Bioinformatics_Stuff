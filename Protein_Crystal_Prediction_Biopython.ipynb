{
 "cells": [
  {
   "cell_type": "code",
   "execution_count": 1,
   "metadata": {
    "collapsed": true
   },
   "outputs": [],
   "source": [
    "import pandas as pd\n",
    "import numpy as np\n",
    "import seaborn as sns\n",
    "import matplotlib.pyplot as plt\n",
    "import time\n",
    "import re\n",
    "import nltk\n",
    "import math\n",
    "from sklearn import svm\n",
    "from sklearn.preprocessing import StandardScaler\n",
    "from sklearn.model_selection import train_test_split, GridSearchCV\n",
    "from sklearn.linear_model import LogisticRegression\n",
    "from sklearn.neighbors import KNeighborsClassifier\n",
    "from sklearn.ensemble import RandomForestClassifier\n",
    "from nltk.corpus import stopwords\n",
    "from sklearn.feature_extraction.text import TfidfVectorizer\n",
    "from sklearn.feature_extraction.text import CountVectorizer\n",
    "import sklearn.metrics\n",
    "from sklearn.metrics import confusion_matrix\n",
    "from Bio.SeqUtils.ProtParam import ProteinAnalysis\n",
    "from imblearn.over_sampling import SMOTE\n",
    "\n",
    "%matplotlib inline"
   ]
  },
  {
   "cell_type": "code",
   "execution_count": 2,
   "metadata": {},
   "outputs": [
    {
     "data": {
      "text/html": [
       "<div>\n",
       "<style scoped>\n",
       "    .dataframe tbody tr th:only-of-type {\n",
       "        vertical-align: middle;\n",
       "    }\n",
       "\n",
       "    .dataframe tbody tr th {\n",
       "        vertical-align: top;\n",
       "    }\n",
       "\n",
       "    .dataframe thead th {\n",
       "        text-align: right;\n",
       "    }\n",
       "</style>\n",
       "<table border=\"1\" class=\"dataframe\">\n",
       "  <thead>\n",
       "    <tr style=\"text-align: right;\">\n",
       "      <th></th>\n",
       "      <th>0</th>\n",
       "      <th>1</th>\n",
       "      <th>2</th>\n",
       "    </tr>\n",
       "  </thead>\n",
       "  <tbody>\n",
       "    <tr>\n",
       "      <th>0</th>\n",
       "      <td>ATCG3D_18</td>\n",
       "      <td>DYKDDDDAMGQPGNGSAFLLAPNRSHAPDHDVTQQRDEVWVVGMGI...</td>\n",
       "      <td>1</td>\n",
       "    </tr>\n",
       "    <tr>\n",
       "      <th>1</th>\n",
       "      <td>BSGCAIR30348</td>\n",
       "      <td>MDKKYDITAVLNEDSSMTAISDQFQITLDARPKHTAKGFGPLAALL...</td>\n",
       "      <td>1</td>\n",
       "    </tr>\n",
       "    <tr>\n",
       "      <th>2</th>\n",
       "      <td>BSGCAIR30512</td>\n",
       "      <td>MTESFTRRERLRLRRDFLLIFKEGKSLQNEYFVVLFRKNGLDYSRL...</td>\n",
       "      <td>1</td>\n",
       "    </tr>\n",
       "    <tr>\n",
       "      <th>3</th>\n",
       "      <td>BSGCAIR30561</td>\n",
       "      <td>MEHDERTHVPVELRAAGVVLLNERGDILLVQEKGIPGHPEKAGLWH...</td>\n",
       "      <td>1</td>\n",
       "    </tr>\n",
       "    <tr>\n",
       "      <th>4</th>\n",
       "      <td>BSGCAIR30591</td>\n",
       "      <td>MFYKEENFKKTEIGEIPEDWEIVELKDVCKKIKAGGTPKTSVEEYY...</td>\n",
       "      <td>1</td>\n",
       "    </tr>\n",
       "    <tr>\n",
       "      <th>5</th>\n",
       "      <td>BSGCAIR30656</td>\n",
       "      <td>MAIRLYKLAVALGVFIVSAPAFSHGHHSHGKPLTEVEQKAANGVFD...</td>\n",
       "      <td>1</td>\n",
       "    </tr>\n",
       "    <tr>\n",
       "      <th>6</th>\n",
       "      <td>BSGCAIR31213</td>\n",
       "      <td>MKDIDTLISNNALWSKMLVEEDPGFFEKLAQAQKPRFLWIGCSDSR...</td>\n",
       "      <td>1</td>\n",
       "    </tr>\n",
       "    <tr>\n",
       "      <th>7</th>\n",
       "      <td>GO.102486</td>\n",
       "      <td>GSHMQRQRPPSRAGGDMDRLQSALALYEEAMGYTYAAALRAAAAVG...</td>\n",
       "      <td>1</td>\n",
       "    </tr>\n",
       "    <tr>\n",
       "      <th>8</th>\n",
       "      <td>GO.102706</td>\n",
       "      <td>LDQILRATVEEVRAFLGTDRVKVYRFDPEGHGTVVAEARGGERLPS...</td>\n",
       "      <td>1</td>\n",
       "    </tr>\n",
       "    <tr>\n",
       "      <th>9</th>\n",
       "      <td>GO.110986</td>\n",
       "      <td>GSPDPEIFRQRFRQFGYQDSPGPREAVSQLRELCRLWLRPETHTKE...</td>\n",
       "      <td>1</td>\n",
       "    </tr>\n",
       "  </tbody>\n",
       "</table>\n",
       "</div>"
      ],
      "text/plain": [
       "               0                                                  1  2\n",
       "0     ATCG3D_18   DYKDDDDAMGQPGNGSAFLLAPNRSHAPDHDVTQQRDEVWVVGMGI...  1\n",
       "1  BSGCAIR30348   MDKKYDITAVLNEDSSMTAISDQFQITLDARPKHTAKGFGPLAALL...  1\n",
       "2  BSGCAIR30512   MTESFTRRERLRLRRDFLLIFKEGKSLQNEYFVVLFRKNGLDYSRL...  1\n",
       "3  BSGCAIR30561   MEHDERTHVPVELRAAGVVLLNERGDILLVQEKGIPGHPEKAGLWH...  1\n",
       "4  BSGCAIR30591   MFYKEENFKKTEIGEIPEDWEIVELKDVCKKIKAGGTPKTSVEEYY...  1\n",
       "5  BSGCAIR30656   MAIRLYKLAVALGVFIVSAPAFSHGHHSHGKPLTEVEQKAANGVFD...  1\n",
       "6  BSGCAIR31213   MKDIDTLISNNALWSKMLVEEDPGFFEKLAQAQKPRFLWIGCSDSR...  1\n",
       "7     GO.102486   GSHMQRQRPPSRAGGDMDRLQSALALYEEAMGYTYAAALRAAAAVG...  1\n",
       "8     GO.102706   LDQILRATVEEVRAFLGTDRVKVYRFDPEGHGTVVAEARGGERLPS...  1\n",
       "9     GO.110986   GSPDPEIFRQRFRQFGYQDSPGPREAVSQLRELCRLWLRPETHTKE...  1"
      ]
     },
     "execution_count": 2,
     "metadata": {},
     "output_type": "execute_result"
    }
   ],
   "source": [
    "df = pd.read_csv('xtal_2.csv',header = None)\n",
    "df.head(10)"
   ]
  },
  {
   "cell_type": "code",
   "execution_count": 3,
   "metadata": {},
   "outputs": [
    {
     "data": {
      "text/html": [
       "<div>\n",
       "<style scoped>\n",
       "    .dataframe tbody tr th:only-of-type {\n",
       "        vertical-align: middle;\n",
       "    }\n",
       "\n",
       "    .dataframe tbody tr th {\n",
       "        vertical-align: top;\n",
       "    }\n",
       "\n",
       "    .dataframe thead th {\n",
       "        text-align: right;\n",
       "    }\n",
       "</style>\n",
       "<table border=\"1\" class=\"dataframe\">\n",
       "  <thead>\n",
       "    <tr style=\"text-align: right;\">\n",
       "      <th></th>\n",
       "      <th>id</th>\n",
       "      <th>sequence</th>\n",
       "      <th>result</th>\n",
       "    </tr>\n",
       "  </thead>\n",
       "  <tbody>\n",
       "    <tr>\n",
       "      <th>0</th>\n",
       "      <td>ATCG3D_18</td>\n",
       "      <td>DYKDDDDAMGQPGNGSAFLLAPNRSHAPDHDVTQQRDEVWVVGMGI...</td>\n",
       "      <td>1</td>\n",
       "    </tr>\n",
       "    <tr>\n",
       "      <th>1</th>\n",
       "      <td>BSGCAIR30348</td>\n",
       "      <td>MDKKYDITAVLNEDSSMTAISDQFQITLDARPKHTAKGFGPLAALL...</td>\n",
       "      <td>1</td>\n",
       "    </tr>\n",
       "    <tr>\n",
       "      <th>2</th>\n",
       "      <td>BSGCAIR30512</td>\n",
       "      <td>MTESFTRRERLRLRRDFLLIFKEGKSLQNEYFVVLFRKNGLDYSRL...</td>\n",
       "      <td>1</td>\n",
       "    </tr>\n",
       "    <tr>\n",
       "      <th>3</th>\n",
       "      <td>BSGCAIR30561</td>\n",
       "      <td>MEHDERTHVPVELRAAGVVLLNERGDILLVQEKGIPGHPEKAGLWH...</td>\n",
       "      <td>1</td>\n",
       "    </tr>\n",
       "    <tr>\n",
       "      <th>4</th>\n",
       "      <td>BSGCAIR30591</td>\n",
       "      <td>MFYKEENFKKTEIGEIPEDWEIVELKDVCKKIKAGGTPKTSVEEYY...</td>\n",
       "      <td>1</td>\n",
       "    </tr>\n",
       "  </tbody>\n",
       "</table>\n",
       "</div>"
      ],
      "text/plain": [
       "              id                                           sequence  result\n",
       "0     ATCG3D_18   DYKDDDDAMGQPGNGSAFLLAPNRSHAPDHDVTQQRDEVWVVGMGI...       1\n",
       "1  BSGCAIR30348   MDKKYDITAVLNEDSSMTAISDQFQITLDARPKHTAKGFGPLAALL...       1\n",
       "2  BSGCAIR30512   MTESFTRRERLRLRRDFLLIFKEGKSLQNEYFVVLFRKNGLDYSRL...       1\n",
       "3  BSGCAIR30561   MEHDERTHVPVELRAAGVVLLNERGDILLVQEKGIPGHPEKAGLWH...       1\n",
       "4  BSGCAIR30591   MFYKEENFKKTEIGEIPEDWEIVELKDVCKKIKAGGTPKTSVEEYY...       1"
      ]
     },
     "execution_count": 3,
     "metadata": {},
     "output_type": "execute_result"
    }
   ],
   "source": [
    "df.columns = ['id','sequence','result']\n",
    "df.head()"
   ]
  },
  {
   "cell_type": "code",
   "execution_count": 4,
   "metadata": {},
   "outputs": [
    {
     "data": {
      "text/plain": [
       "(4791, 3)"
      ]
     },
     "execution_count": 4,
     "metadata": {},
     "output_type": "execute_result"
    }
   ],
   "source": [
    "df.shape"
   ]
  },
  {
   "cell_type": "code",
   "execution_count": 5,
   "metadata": {},
   "outputs": [
    {
     "data": {
      "text/plain": [
       "id          object\n",
       "sequence    object\n",
       "result       int64\n",
       "dtype: object"
      ]
     },
     "execution_count": 5,
     "metadata": {},
     "output_type": "execute_result"
    }
   ],
   "source": [
    "df.dtypes"
   ]
  },
  {
   "cell_type": "code",
   "execution_count": 6,
   "metadata": {},
   "outputs": [
    {
     "data": {
      "text/plain": [
       "result  result\n",
       "0       0         3913\n",
       "1       1          878\n",
       "Name: result, dtype: int64"
      ]
     },
     "execution_count": 6,
     "metadata": {},
     "output_type": "execute_result"
    }
   ],
   "source": [
    "# Count the number of 0's(failures) & 1's,(success) in the result column\n",
    "df.groupby('result')['result'].value_counts()"
   ]
  },
  {
   "cell_type": "code",
   "execution_count": 7,
   "metadata": {
    "collapsed": true
   },
   "outputs": [],
   "source": [
    "df['sequence'] = df['sequence'].str.replace('X','G')"
   ]
  },
  {
   "cell_type": "markdown",
   "metadata": {},
   "source": [
    "## Derive Features Using Biopython"
   ]
  },
  {
   "cell_type": "code",
   "execution_count": 8,
   "metadata": {
    "collapsed": true
   },
   "outputs": [],
   "source": [
    "df['MW'] = df['sequence'].apply(lambda seq: ProteinAnalysis(seq).molecular_weight())"
   ]
  },
  {
   "cell_type": "code",
   "execution_count": 9,
   "metadata": {
    "collapsed": true
   },
   "outputs": [],
   "source": [
    "df['grav'] = df['sequence'].apply(lambda seq: ProteinAnalysis(seq).gravy())"
   ]
  },
  {
   "cell_type": "code",
   "execution_count": 10,
   "metadata": {
    "collapsed": true
   },
   "outputs": [],
   "source": [
    "df['instability'] = df['sequence'].apply(lambda seq: ProteinAnalysis(seq).instability_index())"
   ]
  },
  {
   "cell_type": "code",
   "execution_count": 11,
   "metadata": {
    "collapsed": true
   },
   "outputs": [],
   "source": [
    "df['isoelectric'] = df['sequence'].apply(lambda seq: ProteinAnalysis(seq).isoelectric_point())"
   ]
  },
  {
   "cell_type": "code",
   "execution_count": 12,
   "metadata": {
    "collapsed": true
   },
   "outputs": [],
   "source": [
    "df['aromaticity'] = df['sequence'].apply(lambda seq: ProteinAnalysis(seq).aromaticity())"
   ]
  },
  {
   "cell_type": "code",
   "execution_count": 13,
   "metadata": {
    "collapsed": true
   },
   "outputs": [],
   "source": [
    "df['helix'] = df['sequence'].apply(lambda seq: ProteinAnalysis(seq).secondary_structure_fraction()[0])"
   ]
  },
  {
   "cell_type": "code",
   "execution_count": 14,
   "metadata": {},
   "outputs": [
    {
     "data": {
      "text/html": [
       "<div>\n",
       "<style scoped>\n",
       "    .dataframe tbody tr th:only-of-type {\n",
       "        vertical-align: middle;\n",
       "    }\n",
       "\n",
       "    .dataframe tbody tr th {\n",
       "        vertical-align: top;\n",
       "    }\n",
       "\n",
       "    .dataframe thead th {\n",
       "        text-align: right;\n",
       "    }\n",
       "</style>\n",
       "<table border=\"1\" class=\"dataframe\">\n",
       "  <thead>\n",
       "    <tr style=\"text-align: right;\">\n",
       "      <th></th>\n",
       "      <th>id</th>\n",
       "      <th>sequence</th>\n",
       "      <th>result</th>\n",
       "      <th>MW</th>\n",
       "      <th>grav</th>\n",
       "      <th>instability</th>\n",
       "      <th>isoelectric</th>\n",
       "      <th>aromaticity</th>\n",
       "      <th>helix</th>\n",
       "    </tr>\n",
       "  </thead>\n",
       "  <tbody>\n",
       "    <tr>\n",
       "      <th>0</th>\n",
       "      <td>ATCG3D_18</td>\n",
       "      <td>DYKDDDDAMGQPGNGSAFLLAPNRSHAPDHDVTQQRDEVWVVGMGI...</td>\n",
       "      <td>1</td>\n",
       "      <td>55892.4681</td>\n",
       "      <td>0.149796</td>\n",
       "      <td>36.865122</td>\n",
       "      <td>8.900085</td>\n",
       "      <td>0.118367</td>\n",
       "      <td>0.375510</td>\n",
       "    </tr>\n",
       "    <tr>\n",
       "      <th>1</th>\n",
       "      <td>BSGCAIR30348</td>\n",
       "      <td>MDKKYDITAVLNEDSSMTAISDQFQITLDARPKHTAKGFGPLAALL...</td>\n",
       "      <td>1</td>\n",
       "      <td>15468.5888</td>\n",
       "      <td>-0.114184</td>\n",
       "      <td>44.349645</td>\n",
       "      <td>6.499084</td>\n",
       "      <td>0.056738</td>\n",
       "      <td>0.283688</td>\n",
       "    </tr>\n",
       "    <tr>\n",
       "      <th>2</th>\n",
       "      <td>BSGCAIR30512</td>\n",
       "      <td>MTESFTRRERLRLRRDFLLIFKEGKSLQNEYFVVLFRKNGLDYSRL...</td>\n",
       "      <td>1</td>\n",
       "      <td>14316.7996</td>\n",
       "      <td>-0.582051</td>\n",
       "      <td>53.325641</td>\n",
       "      <td>11.247742</td>\n",
       "      <td>0.119658</td>\n",
       "      <td>0.384615</td>\n",
       "    </tr>\n",
       "    <tr>\n",
       "      <th>3</th>\n",
       "      <td>BSGCAIR30561</td>\n",
       "      <td>MEHDERTHVPVELRAAGVVLLNERGDILLVQEKGIPGHPEKAGLWH...</td>\n",
       "      <td>1</td>\n",
       "      <td>17568.7576</td>\n",
       "      <td>-0.200629</td>\n",
       "      <td>56.282453</td>\n",
       "      <td>5.010071</td>\n",
       "      <td>0.081761</td>\n",
       "      <td>0.308176</td>\n",
       "    </tr>\n",
       "    <tr>\n",
       "      <th>4</th>\n",
       "      <td>BSGCAIR30591</td>\n",
       "      <td>MFYKEENFKKTEIGEIPEDWEIVELKDVCKKIKAGGTPKTSVEEYY...</td>\n",
       "      <td>1</td>\n",
       "      <td>48567.0197</td>\n",
       "      <td>-0.443059</td>\n",
       "      <td>33.561694</td>\n",
       "      <td>9.300720</td>\n",
       "      <td>0.082353</td>\n",
       "      <td>0.329412</td>\n",
       "    </tr>\n",
       "  </tbody>\n",
       "</table>\n",
       "</div>"
      ],
      "text/plain": [
       "              id                                           sequence  result  \\\n",
       "0     ATCG3D_18   DYKDDDDAMGQPGNGSAFLLAPNRSHAPDHDVTQQRDEVWVVGMGI...       1   \n",
       "1  BSGCAIR30348   MDKKYDITAVLNEDSSMTAISDQFQITLDARPKHTAKGFGPLAALL...       1   \n",
       "2  BSGCAIR30512   MTESFTRRERLRLRRDFLLIFKEGKSLQNEYFVVLFRKNGLDYSRL...       1   \n",
       "3  BSGCAIR30561   MEHDERTHVPVELRAAGVVLLNERGDILLVQEKGIPGHPEKAGLWH...       1   \n",
       "4  BSGCAIR30591   MFYKEENFKKTEIGEIPEDWEIVELKDVCKKIKAGGTPKTSVEEYY...       1   \n",
       "\n",
       "           MW      grav  instability  isoelectric  aromaticity     helix  \n",
       "0  55892.4681  0.149796    36.865122     8.900085     0.118367  0.375510  \n",
       "1  15468.5888 -0.114184    44.349645     6.499084     0.056738  0.283688  \n",
       "2  14316.7996 -0.582051    53.325641    11.247742     0.119658  0.384615  \n",
       "3  17568.7576 -0.200629    56.282453     5.010071     0.081761  0.308176  \n",
       "4  48567.0197 -0.443059    33.561694     9.300720     0.082353  0.329412  "
      ]
     },
     "execution_count": 14,
     "metadata": {},
     "output_type": "execute_result"
    }
   ],
   "source": [
    "df.head()"
   ]
  },
  {
   "cell_type": "code",
   "execution_count": 15,
   "metadata": {},
   "outputs": [
    {
     "data": {
      "text/html": [
       "<div>\n",
       "<style scoped>\n",
       "    .dataframe tbody tr th:only-of-type {\n",
       "        vertical-align: middle;\n",
       "    }\n",
       "\n",
       "    .dataframe tbody tr th {\n",
       "        vertical-align: top;\n",
       "    }\n",
       "\n",
       "    .dataframe thead th {\n",
       "        text-align: right;\n",
       "    }\n",
       "</style>\n",
       "<table border=\"1\" class=\"dataframe\">\n",
       "  <thead>\n",
       "    <tr style=\"text-align: right;\">\n",
       "      <th></th>\n",
       "      <th>id</th>\n",
       "      <th>sequence</th>\n",
       "      <th>result</th>\n",
       "      <th>MW</th>\n",
       "      <th>grav</th>\n",
       "      <th>instability</th>\n",
       "      <th>isoelectric</th>\n",
       "      <th>aromaticity</th>\n",
       "      <th>helix</th>\n",
       "    </tr>\n",
       "  </thead>\n",
       "  <tbody>\n",
       "    <tr>\n",
       "      <th>4786</th>\n",
       "      <td>MytuD.00386.a</td>\n",
       "      <td>MSDLVRVERKGRVTTVILNRPASRNAVNGPTAAALCAAFEQFDRDD...</td>\n",
       "      <td>0</td>\n",
       "      <td>27441.1254</td>\n",
       "      <td>0.058555</td>\n",
       "      <td>40.635741</td>\n",
       "      <td>7.688293</td>\n",
       "      <td>0.04943</td>\n",
       "      <td>0.250951</td>\n",
       "    </tr>\n",
       "    <tr>\n",
       "      <th>4787</th>\n",
       "      <td>MytuD.00386.a</td>\n",
       "      <td>MSDLVRVERKGRVTTVILNRPASRNAVNGPTAAALCAAFEQFDRDD...</td>\n",
       "      <td>0</td>\n",
       "      <td>27441.1254</td>\n",
       "      <td>0.058555</td>\n",
       "      <td>40.635741</td>\n",
       "      <td>7.688293</td>\n",
       "      <td>0.04943</td>\n",
       "      <td>0.250951</td>\n",
       "    </tr>\n",
       "    <tr>\n",
       "      <th>4788</th>\n",
       "      <td>MytuD.00386.a</td>\n",
       "      <td>MSDLVRVERKGRVTTVILNRPASRNAVNGPTAAALCAAFEQFDRDD...</td>\n",
       "      <td>0</td>\n",
       "      <td>27441.1254</td>\n",
       "      <td>0.058555</td>\n",
       "      <td>40.635741</td>\n",
       "      <td>7.688293</td>\n",
       "      <td>0.04943</td>\n",
       "      <td>0.250951</td>\n",
       "    </tr>\n",
       "    <tr>\n",
       "      <th>4789</th>\n",
       "      <td>MytuD.00386.a</td>\n",
       "      <td>MSDLVRVERKGRVTTVILNRPASRNAVNGPTAAALCAAFEQFDRDD...</td>\n",
       "      <td>0</td>\n",
       "      <td>27441.1254</td>\n",
       "      <td>0.058555</td>\n",
       "      <td>40.635741</td>\n",
       "      <td>7.688293</td>\n",
       "      <td>0.04943</td>\n",
       "      <td>0.250951</td>\n",
       "    </tr>\n",
       "    <tr>\n",
       "      <th>4790</th>\n",
       "      <td>MytuD.00386.a</td>\n",
       "      <td>MSDLVRVERKGRVTTVILNRPASRNAVNGPTAAALCAAFEQFDRDD...</td>\n",
       "      <td>0</td>\n",
       "      <td>27441.1254</td>\n",
       "      <td>0.058555</td>\n",
       "      <td>40.635741</td>\n",
       "      <td>7.688293</td>\n",
       "      <td>0.04943</td>\n",
       "      <td>0.250951</td>\n",
       "    </tr>\n",
       "  </tbody>\n",
       "</table>\n",
       "</div>"
      ],
      "text/plain": [
       "                  id                                           sequence  \\\n",
       "4786  MytuD.00386.a   MSDLVRVERKGRVTTVILNRPASRNAVNGPTAAALCAAFEQFDRDD...   \n",
       "4787  MytuD.00386.a   MSDLVRVERKGRVTTVILNRPASRNAVNGPTAAALCAAFEQFDRDD...   \n",
       "4788  MytuD.00386.a   MSDLVRVERKGRVTTVILNRPASRNAVNGPTAAALCAAFEQFDRDD...   \n",
       "4789  MytuD.00386.a   MSDLVRVERKGRVTTVILNRPASRNAVNGPTAAALCAAFEQFDRDD...   \n",
       "4790  MytuD.00386.a   MSDLVRVERKGRVTTVILNRPASRNAVNGPTAAALCAAFEQFDRDD...   \n",
       "\n",
       "      result          MW      grav  instability  isoelectric  aromaticity  \\\n",
       "4786       0  27441.1254  0.058555    40.635741     7.688293      0.04943   \n",
       "4787       0  27441.1254  0.058555    40.635741     7.688293      0.04943   \n",
       "4788       0  27441.1254  0.058555    40.635741     7.688293      0.04943   \n",
       "4789       0  27441.1254  0.058555    40.635741     7.688293      0.04943   \n",
       "4790       0  27441.1254  0.058555    40.635741     7.688293      0.04943   \n",
       "\n",
       "         helix  \n",
       "4786  0.250951  \n",
       "4787  0.250951  \n",
       "4788  0.250951  \n",
       "4789  0.250951  \n",
       "4790  0.250951  "
      ]
     },
     "execution_count": 15,
     "metadata": {},
     "output_type": "execute_result"
    }
   ],
   "source": [
    "df.tail()"
   ]
  },
  {
   "cell_type": "code",
   "execution_count": 16,
   "metadata": {
    "collapsed": true
   },
   "outputs": [],
   "source": [
    "def xtal_ornot(val):\n",
    "    if val == 1:\n",
    "        return 'crystal'\n",
    "    else:\n",
    "        return 'none'"
   ]
  },
  {
   "cell_type": "code",
   "execution_count": 17,
   "metadata": {
    "collapsed": true
   },
   "outputs": [],
   "source": [
    "df['status'] = df.result.apply(xtal_ornot)"
   ]
  },
  {
   "cell_type": "code",
   "execution_count": 18,
   "metadata": {},
   "outputs": [
    {
     "data": {
      "text/plain": [
       "none       3913\n",
       "crystal     878\n",
       "Name: status, dtype: int64"
      ]
     },
     "execution_count": 18,
     "metadata": {},
     "output_type": "execute_result"
    }
   ],
   "source": [
    "df.status.value_counts()"
   ]
  },
  {
   "cell_type": "code",
   "execution_count": 19,
   "metadata": {},
   "outputs": [
    {
     "data": {
      "text/plain": [
       "Index(['id', 'sequence', 'result', 'MW', 'grav', 'instability', 'isoelectric',\n",
       "       'aromaticity', 'helix', 'status'],\n",
       "      dtype='object')"
      ]
     },
     "execution_count": 19,
     "metadata": {},
     "output_type": "execute_result"
    }
   ],
   "source": [
    "df.columns"
   ]
  },
  {
   "cell_type": "code",
   "execution_count": 20,
   "metadata": {},
   "outputs": [
    {
     "data": {
      "text/plain": [
       "id              object\n",
       "sequence        object\n",
       "result           int64\n",
       "MW             float64\n",
       "grav           float64\n",
       "instability    float64\n",
       "isoelectric    float64\n",
       "aromaticity    float64\n",
       "helix          float64\n",
       "status          object\n",
       "dtype: object"
      ]
     },
     "execution_count": 20,
     "metadata": {},
     "output_type": "execute_result"
    }
   ],
   "source": [
    "df.dtypes"
   ]
  },
  {
   "cell_type": "markdown",
   "metadata": {},
   "source": [
    "## EDA"
   ]
  },
  {
   "cell_type": "code",
   "execution_count": 21,
   "metadata": {},
   "outputs": [
    {
     "name": "stderr",
     "output_type": "stream",
     "text": [
      "/Users/scottlew/miniconda3/lib/python3.6/site-packages/seaborn/categorical.py:462: FutureWarning: remove_na is deprecated and is a private function. Do not use.\n",
      "  box_data = remove_na(group_data)\n"
     ]
    },
    {
     "data": {
      "text/plain": [
       "<matplotlib.text.Text at 0x110ada588>"
      ]
     },
     "execution_count": 21,
     "metadata": {},
     "output_type": "execute_result"
    },
    {
     "data": {
      "image/png": "[encoded data removed]",
      "text/plain": [
       "<matplotlib.figure.Figure at 0x1101ab588>"
      ]
     },
     "metadata": {},
     "output_type": "display_data"
    }
   ],
   "source": [
    "#sns.boxplot()\n",
    "my_pal = {\"none\": \"r\", \"crystal\": \"b\"}\n",
    "fig, ax = plt.subplots(figsize=(9, 6))\n",
    "for axis in ['top','bottom','left','right']:\n",
    "    ax.spines[axis].set_linewidth(2.5)\n",
    "sns.boxplot(x=\"status\", y=\"grav\", data=df, palette=my_pal)\n",
    "plt.xlabel('Protein Result',weight = 'bold',size =20)\n",
    "plt.ylabel('GRAVY',weight = 'bold',size =20)"
   ]
  },
  {
   "cell_type": "markdown",
   "metadata": {},
   "source": [
    "## Balanced Dataset"
   ]
  },
  {
   "cell_type": "markdown",
   "metadata": {},
   "source": [
    "## Create small dataframe of equal number of proteins that crystallized & ones that did not crystallize."
   ]
  },
  {
   "cell_type": "code",
   "execution_count": 22,
   "metadata": {},
   "outputs": [
    {
     "data": {
      "text/html": [
       "<div>\n",
       "<style scoped>\n",
       "    .dataframe tbody tr th:only-of-type {\n",
       "        vertical-align: middle;\n",
       "    }\n",
       "\n",
       "    .dataframe tbody tr th {\n",
       "        vertical-align: top;\n",
       "    }\n",
       "\n",
       "    .dataframe thead th {\n",
       "        text-align: right;\n",
       "    }\n",
       "</style>\n",
       "<table border=\"1\" class=\"dataframe\">\n",
       "  <thead>\n",
       "    <tr style=\"text-align: right;\">\n",
       "      <th></th>\n",
       "      <th>id</th>\n",
       "      <th>sequence</th>\n",
       "      <th>result</th>\n",
       "      <th>MW</th>\n",
       "      <th>grav</th>\n",
       "      <th>instability</th>\n",
       "      <th>isoelectric</th>\n",
       "      <th>aromaticity</th>\n",
       "      <th>helix</th>\n",
       "      <th>status</th>\n",
       "    </tr>\n",
       "  </thead>\n",
       "  <tbody>\n",
       "    <tr>\n",
       "      <th>0</th>\n",
       "      <td>ATCG3D_18</td>\n",
       "      <td>DYKDDDDAMGQPGNGSAFLLAPNRSHAPDHDVTQQRDEVWVVGMGI...</td>\n",
       "      <td>1</td>\n",
       "      <td>55892.4681</td>\n",
       "      <td>0.149796</td>\n",
       "      <td>36.865122</td>\n",
       "      <td>8.900085</td>\n",
       "      <td>0.118367</td>\n",
       "      <td>0.375510</td>\n",
       "      <td>crystal</td>\n",
       "    </tr>\n",
       "    <tr>\n",
       "      <th>1</th>\n",
       "      <td>BSGCAIR30348</td>\n",
       "      <td>MDKKYDITAVLNEDSSMTAISDQFQITLDARPKHTAKGFGPLAALL...</td>\n",
       "      <td>1</td>\n",
       "      <td>15468.5888</td>\n",
       "      <td>-0.114184</td>\n",
       "      <td>44.349645</td>\n",
       "      <td>6.499084</td>\n",
       "      <td>0.056738</td>\n",
       "      <td>0.283688</td>\n",
       "      <td>crystal</td>\n",
       "    </tr>\n",
       "    <tr>\n",
       "      <th>2</th>\n",
       "      <td>BSGCAIR30512</td>\n",
       "      <td>MTESFTRRERLRLRRDFLLIFKEGKSLQNEYFVVLFRKNGLDYSRL...</td>\n",
       "      <td>1</td>\n",
       "      <td>14316.7996</td>\n",
       "      <td>-0.582051</td>\n",
       "      <td>53.325641</td>\n",
       "      <td>11.247742</td>\n",
       "      <td>0.119658</td>\n",
       "      <td>0.384615</td>\n",
       "      <td>crystal</td>\n",
       "    </tr>\n",
       "    <tr>\n",
       "      <th>3</th>\n",
       "      <td>BSGCAIR30561</td>\n",
       "      <td>MEHDERTHVPVELRAAGVVLLNERGDILLVQEKGIPGHPEKAGLWH...</td>\n",
       "      <td>1</td>\n",
       "      <td>17568.7576</td>\n",
       "      <td>-0.200629</td>\n",
       "      <td>56.282453</td>\n",
       "      <td>5.010071</td>\n",
       "      <td>0.081761</td>\n",
       "      <td>0.308176</td>\n",
       "      <td>crystal</td>\n",
       "    </tr>\n",
       "    <tr>\n",
       "      <th>4</th>\n",
       "      <td>BSGCAIR30591</td>\n",
       "      <td>MFYKEENFKKTEIGEIPEDWEIVELKDVCKKIKAGGTPKTSVEEYY...</td>\n",
       "      <td>1</td>\n",
       "      <td>48567.0197</td>\n",
       "      <td>-0.443059</td>\n",
       "      <td>33.561694</td>\n",
       "      <td>9.300720</td>\n",
       "      <td>0.082353</td>\n",
       "      <td>0.329412</td>\n",
       "      <td>crystal</td>\n",
       "    </tr>\n",
       "  </tbody>\n",
       "</table>\n",
       "</div>"
      ],
      "text/plain": [
       "              id                                           sequence  result  \\\n",
       "0     ATCG3D_18   DYKDDDDAMGQPGNGSAFLLAPNRSHAPDHDVTQQRDEVWVVGMGI...       1   \n",
       "1  BSGCAIR30348   MDKKYDITAVLNEDSSMTAISDQFQITLDARPKHTAKGFGPLAALL...       1   \n",
       "2  BSGCAIR30512   MTESFTRRERLRLRRDFLLIFKEGKSLQNEYFVVLFRKNGLDYSRL...       1   \n",
       "3  BSGCAIR30561   MEHDERTHVPVELRAAGVVLLNERGDILLVQEKGIPGHPEKAGLWH...       1   \n",
       "4  BSGCAIR30591   MFYKEENFKKTEIGEIPEDWEIVELKDVCKKIKAGGTPKTSVEEYY...       1   \n",
       "\n",
       "           MW      grav  instability  isoelectric  aromaticity     helix  \\\n",
       "0  55892.4681  0.149796    36.865122     8.900085     0.118367  0.375510   \n",
       "1  15468.5888 -0.114184    44.349645     6.499084     0.056738  0.283688   \n",
       "2  14316.7996 -0.582051    53.325641    11.247742     0.119658  0.384615   \n",
       "3  17568.7576 -0.200629    56.282453     5.010071     0.081761  0.308176   \n",
       "4  48567.0197 -0.443059    33.561694     9.300720     0.082353  0.329412   \n",
       "\n",
       "    status  \n",
       "0  crystal  \n",
       "1  crystal  \n",
       "2  crystal  \n",
       "3  crystal  \n",
       "4  crystal  "
      ]
     },
     "execution_count": 22,
     "metadata": {},
     "output_type": "execute_result"
    }
   ],
   "source": [
    "crystals = df[df.result == 1]\n",
    "crystals.head()"
   ]
  },
  {
   "cell_type": "code",
   "execution_count": 23,
   "metadata": {},
   "outputs": [
    {
     "data": {
      "text/plain": [
       "(878, 10)"
      ]
     },
     "execution_count": 23,
     "metadata": {},
     "output_type": "execute_result"
    }
   ],
   "source": [
    "crystals.shape"
   ]
  },
  {
   "cell_type": "code",
   "execution_count": 24,
   "metadata": {},
   "outputs": [
    {
     "data": {
      "text/html": [
       "<div>\n",
       "<style scoped>\n",
       "    .dataframe tbody tr th:only-of-type {\n",
       "        vertical-align: middle;\n",
       "    }\n",
       "\n",
       "    .dataframe tbody tr th {\n",
       "        vertical-align: top;\n",
       "    }\n",
       "\n",
       "    .dataframe thead th {\n",
       "        text-align: right;\n",
       "    }\n",
       "</style>\n",
       "<table border=\"1\" class=\"dataframe\">\n",
       "  <thead>\n",
       "    <tr style=\"text-align: right;\">\n",
       "      <th></th>\n",
       "      <th>id</th>\n",
       "      <th>sequence</th>\n",
       "      <th>result</th>\n",
       "      <th>MW</th>\n",
       "      <th>grav</th>\n",
       "      <th>instability</th>\n",
       "      <th>isoelectric</th>\n",
       "      <th>aromaticity</th>\n",
       "      <th>helix</th>\n",
       "      <th>status</th>\n",
       "    </tr>\n",
       "  </thead>\n",
       "  <tbody>\n",
       "    <tr>\n",
       "      <th>426</th>\n",
       "      <td>APC7908</td>\n",
       "      <td>MNQHLLGNPKLTVTHVNEVKAGINHIVVDSVQYGNQEMIMEKDGTV...</td>\n",
       "      <td>0</td>\n",
       "      <td>64247.1960</td>\n",
       "      <td>-0.637500</td>\n",
       "      <td>33.412911</td>\n",
       "      <td>5.361267</td>\n",
       "      <td>0.114286</td>\n",
       "      <td>0.303571</td>\n",
       "      <td>none</td>\n",
       "    </tr>\n",
       "    <tr>\n",
       "      <th>439</th>\n",
       "      <td>APC7603</td>\n",
       "      <td>MSETATWQPSASIPNLLKRAAIMAEIRRFFADRGVLEVETPCMSQA...</td>\n",
       "      <td>0</td>\n",
       "      <td>36855.3571</td>\n",
       "      <td>-0.340923</td>\n",
       "      <td>46.948000</td>\n",
       "      <td>5.113708</td>\n",
       "      <td>0.083077</td>\n",
       "      <td>0.283077</td>\n",
       "      <td>none</td>\n",
       "    </tr>\n",
       "    <tr>\n",
       "      <th>519</th>\n",
       "      <td>hsk002000585.2</td>\n",
       "      <td>RRAGSVKRGEARLFGPTERQSERPLRPSAARRPEMLSGKKAAAAAA...</td>\n",
       "      <td>0</td>\n",
       "      <td>96758.8193</td>\n",
       "      <td>-0.413995</td>\n",
       "      <td>42.953725</td>\n",
       "      <td>6.816711</td>\n",
       "      <td>0.065463</td>\n",
       "      <td>0.261851</td>\n",
       "      <td>none</td>\n",
       "    </tr>\n",
       "    <tr>\n",
       "      <th>881</th>\n",
       "      <td>GO.35285</td>\n",
       "      <td>MARRKRRNFSKQASEILNEYFYSHLSNPYPSEEAKEELARKCGITV...</td>\n",
       "      <td>0</td>\n",
       "      <td>9610.7849</td>\n",
       "      <td>-0.961905</td>\n",
       "      <td>74.678690</td>\n",
       "      <td>9.946838</td>\n",
       "      <td>0.107143</td>\n",
       "      <td>0.226190</td>\n",
       "      <td>none</td>\n",
       "    </tr>\n",
       "    <tr>\n",
       "      <th>882</th>\n",
       "      <td>GO.36643</td>\n",
       "      <td>SEKLAASTEPQGPRPVLGRESVQVPDDQDFRSFRSECEAEVGWNLT...</td>\n",
       "      <td>0</td>\n",
       "      <td>33004.2342</td>\n",
       "      <td>-0.531271</td>\n",
       "      <td>50.902749</td>\n",
       "      <td>6.654846</td>\n",
       "      <td>0.085911</td>\n",
       "      <td>0.285223</td>\n",
       "      <td>none</td>\n",
       "    </tr>\n",
       "  </tbody>\n",
       "</table>\n",
       "</div>"
      ],
      "text/plain": [
       "                  id                                           sequence  \\\n",
       "426         APC7908   MNQHLLGNPKLTVTHVNEVKAGINHIVVDSVQYGNQEMIMEKDGTV...   \n",
       "439         APC7603   MSETATWQPSASIPNLLKRAAIMAEIRRFFADRGVLEVETPCMSQA...   \n",
       "519  hsk002000585.2   RRAGSVKRGEARLFGPTERQSERPLRPSAARRPEMLSGKKAAAAAA...   \n",
       "881        GO.35285   MARRKRRNFSKQASEILNEYFYSHLSNPYPSEEAKEELARKCGITV...   \n",
       "882        GO.36643   SEKLAASTEPQGPRPVLGRESVQVPDDQDFRSFRSECEAEVGWNLT...   \n",
       "\n",
       "     result          MW      grav  instability  isoelectric  aromaticity  \\\n",
       "426       0  64247.1960 -0.637500    33.412911     5.361267     0.114286   \n",
       "439       0  36855.3571 -0.340923    46.948000     5.113708     0.083077   \n",
       "519       0  96758.8193 -0.413995    42.953725     6.816711     0.065463   \n",
       "881       0   9610.7849 -0.961905    74.678690     9.946838     0.107143   \n",
       "882       0  33004.2342 -0.531271    50.902749     6.654846     0.085911   \n",
       "\n",
       "        helix status  \n",
       "426  0.303571   none  \n",
       "439  0.283077   none  \n",
       "519  0.261851   none  \n",
       "881  0.226190   none  \n",
       "882  0.285223   none  "
      ]
     },
     "execution_count": 24,
     "metadata": {},
     "output_type": "execute_result"
    }
   ],
   "source": [
    "no_xtal = df[df.result == 0]\n",
    "no_xtal.head()"
   ]
  },
  {
   "cell_type": "code",
   "execution_count": 25,
   "metadata": {},
   "outputs": [
    {
     "data": {
      "text/plain": [
       "(3913, 10)"
      ]
     },
     "execution_count": 25,
     "metadata": {},
     "output_type": "execute_result"
    }
   ],
   "source": [
    "no_xtal.shape"
   ]
  },
  {
   "cell_type": "code",
   "execution_count": 26,
   "metadata": {
    "collapsed": true
   },
   "outputs": [],
   "source": [
    "df_xtal = crystals.sample(n=400)\n",
    "df_no_xtal = no_xtal.sample(n=400)"
   ]
  },
  {
   "cell_type": "code",
   "execution_count": 27,
   "metadata": {},
   "outputs": [
    {
     "data": {
      "text/plain": [
       "(400, 10)"
      ]
     },
     "execution_count": 27,
     "metadata": {},
     "output_type": "execute_result"
    }
   ],
   "source": [
    "df_xtal.shape"
   ]
  },
  {
   "cell_type": "code",
   "execution_count": 28,
   "metadata": {},
   "outputs": [
    {
     "data": {
      "text/plain": [
       "(400, 10)"
      ]
     },
     "execution_count": 28,
     "metadata": {},
     "output_type": "execute_result"
    }
   ],
   "source": [
    "df_no_xtal.shape"
   ]
  },
  {
   "cell_type": "code",
   "execution_count": 29,
   "metadata": {},
   "outputs": [
    {
     "data": {
      "text/html": [
       "<div>\n",
       "<style scoped>\n",
       "    .dataframe tbody tr th:only-of-type {\n",
       "        vertical-align: middle;\n",
       "    }\n",
       "\n",
       "    .dataframe tbody tr th {\n",
       "        vertical-align: top;\n",
       "    }\n",
       "\n",
       "    .dataframe thead th {\n",
       "        text-align: right;\n",
       "    }\n",
       "</style>\n",
       "<table border=\"1\" class=\"dataframe\">\n",
       "  <thead>\n",
       "    <tr style=\"text-align: right;\">\n",
       "      <th></th>\n",
       "      <th>id</th>\n",
       "      <th>sequence</th>\n",
       "      <th>result</th>\n",
       "      <th>MW</th>\n",
       "      <th>grav</th>\n",
       "      <th>instability</th>\n",
       "      <th>isoelectric</th>\n",
       "      <th>aromaticity</th>\n",
       "      <th>helix</th>\n",
       "      <th>status</th>\n",
       "    </tr>\n",
       "  </thead>\n",
       "  <tbody>\n",
       "    <tr>\n",
       "      <th>3057</th>\n",
       "      <td>MytuD.00386.a</td>\n",
       "      <td>MSDLVRVERKGRVTTVILNRPASRNAVNGPTAAALCAAFEQFDRDD...</td>\n",
       "      <td>0</td>\n",
       "      <td>27441.1254</td>\n",
       "      <td>0.058555</td>\n",
       "      <td>40.635741</td>\n",
       "      <td>7.688293</td>\n",
       "      <td>0.04943</td>\n",
       "      <td>0.250951</td>\n",
       "      <td>none</td>\n",
       "    </tr>\n",
       "    <tr>\n",
       "      <th>4370</th>\n",
       "      <td>MytuD.00386.a</td>\n",
       "      <td>MSDLVRVERKGRVTTVILNRPASRNAVNGPTAAALCAAFEQFDRDD...</td>\n",
       "      <td>0</td>\n",
       "      <td>27441.1254</td>\n",
       "      <td>0.058555</td>\n",
       "      <td>40.635741</td>\n",
       "      <td>7.688293</td>\n",
       "      <td>0.04943</td>\n",
       "      <td>0.250951</td>\n",
       "      <td>none</td>\n",
       "    </tr>\n",
       "    <tr>\n",
       "      <th>3903</th>\n",
       "      <td>MytuD.00386.a</td>\n",
       "      <td>MSDLVRVERKGRVTTVILNRPASRNAVNGPTAAALCAAFEQFDRDD...</td>\n",
       "      <td>0</td>\n",
       "      <td>27441.1254</td>\n",
       "      <td>0.058555</td>\n",
       "      <td>40.635741</td>\n",
       "      <td>7.688293</td>\n",
       "      <td>0.04943</td>\n",
       "      <td>0.250951</td>\n",
       "      <td>none</td>\n",
       "    </tr>\n",
       "  </tbody>\n",
       "</table>\n",
       "</div>"
      ],
      "text/plain": [
       "                  id                                           sequence  \\\n",
       "3057  MytuD.00386.a   MSDLVRVERKGRVTTVILNRPASRNAVNGPTAAALCAAFEQFDRDD...   \n",
       "4370  MytuD.00386.a   MSDLVRVERKGRVTTVILNRPASRNAVNGPTAAALCAAFEQFDRDD...   \n",
       "3903  MytuD.00386.a   MSDLVRVERKGRVTTVILNRPASRNAVNGPTAAALCAAFEQFDRDD...   \n",
       "\n",
       "      result          MW      grav  instability  isoelectric  aromaticity  \\\n",
       "3057       0  27441.1254  0.058555    40.635741     7.688293      0.04943   \n",
       "4370       0  27441.1254  0.058555    40.635741     7.688293      0.04943   \n",
       "3903       0  27441.1254  0.058555    40.635741     7.688293      0.04943   \n",
       "\n",
       "         helix status  \n",
       "3057  0.250951   none  \n",
       "4370  0.250951   none  \n",
       "3903  0.250951   none  "
      ]
     },
     "execution_count": 29,
     "metadata": {},
     "output_type": "execute_result"
    }
   ],
   "source": [
    "# concat the two dataframes\n",
    "df_rand = pd.concat([df_xtal,df_no_xtal])\n",
    "# permute/scramble/shuffle rows of the dataframe\n",
    "df_rand = df_rand.sample(frac=1)\n",
    "df_rand.head(3)"
   ]
  },
  {
   "cell_type": "code",
   "execution_count": 30,
   "metadata": {},
   "outputs": [
    {
     "data": {
      "text/plain": [
       "(800, 10)"
      ]
     },
     "execution_count": 30,
     "metadata": {},
     "output_type": "execute_result"
    }
   ],
   "source": [
    "df_rand.shape"
   ]
  },
  {
   "cell_type": "code",
   "execution_count": 31,
   "metadata": {},
   "outputs": [
    {
     "data": {
      "text/plain": [
       "id              object\n",
       "sequence        object\n",
       "result           int64\n",
       "MW             float64\n",
       "grav           float64\n",
       "instability    float64\n",
       "isoelectric    float64\n",
       "aromaticity    float64\n",
       "helix          float64\n",
       "status          object\n",
       "dtype: object"
      ]
     },
     "execution_count": 31,
     "metadata": {},
     "output_type": "execute_result"
    }
   ],
   "source": [
    "df_rand.dtypes"
   ]
  },
  {
   "cell_type": "code",
   "execution_count": 32,
   "metadata": {
    "collapsed": true
   },
   "outputs": [],
   "source": [
    "#print(vect_3.get_feature_names())"
   ]
  },
  {
   "cell_type": "code",
   "execution_count": 33,
   "metadata": {
    "collapsed": true
   },
   "outputs": [],
   "source": [
    "predictors = ['MW', 'grav', 'instability', 'isoelectric','aromaticity', 'helix']\n",
    "X = df_rand[predictors]\n",
    "y = df_rand.result"
   ]
  },
  {
   "cell_type": "markdown",
   "metadata": {},
   "source": [
    "## Split the data into training & test sets"
   ]
  },
  {
   "cell_type": "code",
   "execution_count": 34,
   "metadata": {
    "collapsed": true
   },
   "outputs": [],
   "source": [
    "# Note: will try to split the data first, then transform with the vectorizer\n",
    "X_train, X_test, y_train, y_test = train_test_split(X,y, test_size=0.2,random_state =42)"
   ]
  },
  {
   "cell_type": "code",
   "execution_count": 35,
   "metadata": {},
   "outputs": [
    {
     "data": {
      "text/plain": [
       "0    325\n",
       "1    315\n",
       "Name: result, dtype: int64"
      ]
     },
     "execution_count": 35,
     "metadata": {},
     "output_type": "execute_result"
    }
   ],
   "source": [
    "# Count the number of 0's(failures) & 1's,(success) in the result column\n",
    "y_train.value_counts()"
   ]
  },
  {
   "cell_type": "code",
   "execution_count": 36,
   "metadata": {},
   "outputs": [
    {
     "data": {
      "text/plain": [
       "(640, 6)"
      ]
     },
     "execution_count": 36,
     "metadata": {},
     "output_type": "execute_result"
    }
   ],
   "source": [
    "X_train.shape"
   ]
  },
  {
   "cell_type": "code",
   "execution_count": 37,
   "metadata": {},
   "outputs": [
    {
     "data": {
      "text/plain": [
       "1    85\n",
       "0    75\n",
       "Name: result, dtype: int64"
      ]
     },
     "execution_count": 37,
     "metadata": {},
     "output_type": "execute_result"
    }
   ],
   "source": [
    "# Count the number of 0's(failures) & 1's,(success) in the result column\n",
    "y_test.value_counts()"
   ]
  },
  {
   "cell_type": "code",
   "execution_count": 38,
   "metadata": {
    "collapsed": true
   },
   "outputs": [],
   "source": [
    "#X_train"
   ]
  },
  {
   "cell_type": "code",
   "execution_count": 39,
   "metadata": {
    "collapsed": true
   },
   "outputs": [],
   "source": [
    "#X_test"
   ]
  },
  {
   "cell_type": "code",
   "execution_count": 40,
   "metadata": {},
   "outputs": [
    {
     "data": {
      "text/plain": [
       "3631    0\n",
       "1105    0\n",
       "87      1\n",
       "355     1\n",
       "766     1\n",
       "       ..\n",
       "4471    0\n",
       "967     0\n",
       "3426    0\n",
       "985     0\n",
       "160     1\n",
       "Name: result, Length: 640, dtype: int64"
      ]
     },
     "execution_count": 40,
     "metadata": {},
     "output_type": "execute_result"
    }
   ],
   "source": [
    "y_train"
   ]
  },
  {
   "cell_type": "code",
   "execution_count": 41,
   "metadata": {},
   "outputs": [
    {
     "data": {
      "text/plain": [
       "1    85\n",
       "0    75\n",
       "Name: result, dtype: int64"
      ]
     },
     "execution_count": 41,
     "metadata": {},
     "output_type": "execute_result"
    }
   ],
   "source": [
    "y_test.value_counts()"
   ]
  },
  {
   "cell_type": "code",
   "execution_count": 42,
   "metadata": {},
   "outputs": [
    {
     "name": "stdout",
     "output_type": "stream",
     "text": [
      "Logistic Regression Score For Balanced Dataset: 0.94\n"
     ]
    },
    {
     "name": "stderr",
     "output_type": "stream",
     "text": [
      "/Users/scottlew/miniconda3/lib/python3.6/site-packages/sklearn/linear_model/logistic.py:432: FutureWarning: Default solver will be changed to 'lbfgs' in 0.22. Specify a solver to silence this warning.\n",
      "  FutureWarning)\n"
     ]
    }
   ],
   "source": [
    "# Logistic Regression \n",
    "lr = LogisticRegression()\n",
    "lr.fit(X_train, y_train)\n",
    "lr.predict(X_test)\n",
    "print(\"Logistic Regression Score For Balanced Dataset: {:.2f}\".format(lr.score(X_test, y_test)))"
   ]
  },
  {
   "cell_type": "code",
   "execution_count": 43,
   "metadata": {},
   "outputs": [
    {
     "name": "stdout",
     "output_type": "stream",
     "text": [
      "Confusion Matrix for Logistic Regression Model Using Balanced Data\n",
      "\n",
      "[[74  1]\n",
      " [ 9 76]]\n"
     ]
    }
   ],
   "source": [
    "# Generate Confusion Matrix for Logistic Regression\n",
    "actual = y_test\n",
    "predictions = lr.predict(X_test)\n",
    "print('Confusion Matrix for Logistic Regression Model Using Balanced Data')\n",
    "print()\n",
    "cm = confusion_matrix(actual,predictions)\n",
    "print(cm)"
   ]
  },
  {
   "cell_type": "code",
   "execution_count": 76,
   "metadata": {},
   "outputs": [
    {
     "data": {
      "image/png": "[encoded data removed]",
      "text/plain": [
       "<matplotlib.figure.Figure at 0x113f4eb00>"
      ]
     },
     "metadata": {},
     "output_type": "display_data"
    }
   ],
   "source": [
    "# Nice plot of confusion matrix\n",
    "# Adjust size of confusion matrix by following code taken from StackOverflow\n",
    "# https://stackoverflow.com/questions/43021762/matplotlib-how-to-change-figsize-for-matshow\n",
    "plt.figure(figsize=(10,5))\n",
    "plt.matshow(cm, fignum=1)\n",
    "\n",
    "plt.title('Confusion Matrix Plot for Logistic Regression Model Using Balanced Data')\n",
    "plt.colorbar()\n",
    "plt.xlabel('Predicted')\n",
    "plt.ylabel('Actual')\n",
    "\n",
    "plt.show()"
   ]
  },
  {
   "cell_type": "markdown",
   "metadata": {},
   "source": [
    "## Logistic Regression On The Entire Data: Unbalanced data set where more proteins failed to crystallize than those that did crystallize."
   ]
  },
  {
   "cell_type": "code",
   "execution_count": 45,
   "metadata": {},
   "outputs": [
    {
     "data": {
      "text/plain": [
       "(4791, 10)"
      ]
     },
     "execution_count": 45,
     "metadata": {},
     "output_type": "execute_result"
    }
   ],
   "source": [
    "# scramble the data before using and splitting\n",
    "data = df.sample(frac=1)\n",
    "data.shape"
   ]
  },
  {
   "cell_type": "code",
   "execution_count": 46,
   "metadata": {},
   "outputs": [
    {
     "data": {
      "text/html": [
       "<div>\n",
       "<style scoped>\n",
       "    .dataframe tbody tr th:only-of-type {\n",
       "        vertical-align: middle;\n",
       "    }\n",
       "\n",
       "    .dataframe tbody tr th {\n",
       "        vertical-align: top;\n",
       "    }\n",
       "\n",
       "    .dataframe thead th {\n",
       "        text-align: right;\n",
       "    }\n",
       "</style>\n",
       "<table border=\"1\" class=\"dataframe\">\n",
       "  <thead>\n",
       "    <tr style=\"text-align: right;\">\n",
       "      <th></th>\n",
       "      <th>id</th>\n",
       "      <th>sequence</th>\n",
       "      <th>result</th>\n",
       "      <th>MW</th>\n",
       "      <th>grav</th>\n",
       "      <th>instability</th>\n",
       "      <th>isoelectric</th>\n",
       "      <th>aromaticity</th>\n",
       "      <th>helix</th>\n",
       "      <th>status</th>\n",
       "    </tr>\n",
       "  </thead>\n",
       "  <tbody>\n",
       "    <tr>\n",
       "      <th>0</th>\n",
       "      <td>ATCG3D_18</td>\n",
       "      <td>DYKDDDDAMGQPGNGSAFLLAPNRSHAPDHDVTQQRDEVWVVGMGI...</td>\n",
       "      <td>1</td>\n",
       "      <td>55892.4681</td>\n",
       "      <td>0.149796</td>\n",
       "      <td>36.865122</td>\n",
       "      <td>8.900085</td>\n",
       "      <td>0.118367</td>\n",
       "      <td>0.375510</td>\n",
       "      <td>crystal</td>\n",
       "    </tr>\n",
       "    <tr>\n",
       "      <th>1</th>\n",
       "      <td>BSGCAIR30348</td>\n",
       "      <td>MDKKYDITAVLNEDSSMTAISDQFQITLDARPKHTAKGFGPLAALL...</td>\n",
       "      <td>1</td>\n",
       "      <td>15468.5888</td>\n",
       "      <td>-0.114184</td>\n",
       "      <td>44.349645</td>\n",
       "      <td>6.499084</td>\n",
       "      <td>0.056738</td>\n",
       "      <td>0.283688</td>\n",
       "      <td>crystal</td>\n",
       "    </tr>\n",
       "    <tr>\n",
       "      <th>2</th>\n",
       "      <td>BSGCAIR30512</td>\n",
       "      <td>MTESFTRRERLRLRRDFLLIFKEGKSLQNEYFVVLFRKNGLDYSRL...</td>\n",
       "      <td>1</td>\n",
       "      <td>14316.7996</td>\n",
       "      <td>-0.582051</td>\n",
       "      <td>53.325641</td>\n",
       "      <td>11.247742</td>\n",
       "      <td>0.119658</td>\n",
       "      <td>0.384615</td>\n",
       "      <td>crystal</td>\n",
       "    </tr>\n",
       "  </tbody>\n",
       "</table>\n",
       "</div>"
      ],
      "text/plain": [
       "              id                                           sequence  result  \\\n",
       "0     ATCG3D_18   DYKDDDDAMGQPGNGSAFLLAPNRSHAPDHDVTQQRDEVWVVGMGI...       1   \n",
       "1  BSGCAIR30348   MDKKYDITAVLNEDSSMTAISDQFQITLDARPKHTAKGFGPLAALL...       1   \n",
       "2  BSGCAIR30512   MTESFTRRERLRLRRDFLLIFKEGKSLQNEYFVVLFRKNGLDYSRL...       1   \n",
       "\n",
       "           MW      grav  instability  isoelectric  aromaticity     helix  \\\n",
       "0  55892.4681  0.149796    36.865122     8.900085     0.118367  0.375510   \n",
       "1  15468.5888 -0.114184    44.349645     6.499084     0.056738  0.283688   \n",
       "2  14316.7996 -0.582051    53.325641    11.247742     0.119658  0.384615   \n",
       "\n",
       "    status  \n",
       "0  crystal  \n",
       "1  crystal  \n",
       "2  crystal  "
      ]
     },
     "execution_count": 46,
     "metadata": {},
     "output_type": "execute_result"
    }
   ],
   "source": [
    "df.head(3)"
   ]
  },
  {
   "cell_type": "code",
   "execution_count": 47,
   "metadata": {},
   "outputs": [
    {
     "data": {
      "text/html": [
       "<div>\n",
       "<style scoped>\n",
       "    .dataframe tbody tr th:only-of-type {\n",
       "        vertical-align: middle;\n",
       "    }\n",
       "\n",
       "    .dataframe tbody tr th {\n",
       "        vertical-align: top;\n",
       "    }\n",
       "\n",
       "    .dataframe thead th {\n",
       "        text-align: right;\n",
       "    }\n",
       "</style>\n",
       "<table border=\"1\" class=\"dataframe\">\n",
       "  <thead>\n",
       "    <tr style=\"text-align: right;\">\n",
       "      <th></th>\n",
       "      <th>id</th>\n",
       "      <th>sequence</th>\n",
       "      <th>result</th>\n",
       "      <th>MW</th>\n",
       "      <th>grav</th>\n",
       "      <th>instability</th>\n",
       "      <th>isoelectric</th>\n",
       "      <th>aromaticity</th>\n",
       "      <th>helix</th>\n",
       "      <th>status</th>\n",
       "    </tr>\n",
       "  </thead>\n",
       "  <tbody>\n",
       "    <tr>\n",
       "      <th>3896</th>\n",
       "      <td>MytuD.00386.a</td>\n",
       "      <td>MSDLVRVERKGRVTTVILNRPASRNAVNGPTAAALCAAFEQFDRDD...</td>\n",
       "      <td>0</td>\n",
       "      <td>27441.1254</td>\n",
       "      <td>0.058555</td>\n",
       "      <td>40.635741</td>\n",
       "      <td>7.688293</td>\n",
       "      <td>0.04943</td>\n",
       "      <td>0.250951</td>\n",
       "      <td>none</td>\n",
       "    </tr>\n",
       "    <tr>\n",
       "      <th>2253</th>\n",
       "      <td>MytuD.00386.a</td>\n",
       "      <td>MSDLVRVERKGRVTTVILNRPASRNAVNGPTAAALCAAFEQFDRDD...</td>\n",
       "      <td>0</td>\n",
       "      <td>27441.1254</td>\n",
       "      <td>0.058555</td>\n",
       "      <td>40.635741</td>\n",
       "      <td>7.688293</td>\n",
       "      <td>0.04943</td>\n",
       "      <td>0.250951</td>\n",
       "      <td>none</td>\n",
       "    </tr>\n",
       "    <tr>\n",
       "      <th>1545</th>\n",
       "      <td>MytuD.00386.a</td>\n",
       "      <td>MSDLVRVERKGRVTTVILNRPASRNAVNGPTAAALCAAFEQFDRDD...</td>\n",
       "      <td>0</td>\n",
       "      <td>27441.1254</td>\n",
       "      <td>0.058555</td>\n",
       "      <td>40.635741</td>\n",
       "      <td>7.688293</td>\n",
       "      <td>0.04943</td>\n",
       "      <td>0.250951</td>\n",
       "      <td>none</td>\n",
       "    </tr>\n",
       "  </tbody>\n",
       "</table>\n",
       "</div>"
      ],
      "text/plain": [
       "                  id                                           sequence  \\\n",
       "3896  MytuD.00386.a   MSDLVRVERKGRVTTVILNRPASRNAVNGPTAAALCAAFEQFDRDD...   \n",
       "2253  MytuD.00386.a   MSDLVRVERKGRVTTVILNRPASRNAVNGPTAAALCAAFEQFDRDD...   \n",
       "1545  MytuD.00386.a   MSDLVRVERKGRVTTVILNRPASRNAVNGPTAAALCAAFEQFDRDD...   \n",
       "\n",
       "      result          MW      grav  instability  isoelectric  aromaticity  \\\n",
       "3896       0  27441.1254  0.058555    40.635741     7.688293      0.04943   \n",
       "2253       0  27441.1254  0.058555    40.635741     7.688293      0.04943   \n",
       "1545       0  27441.1254  0.058555    40.635741     7.688293      0.04943   \n",
       "\n",
       "         helix status  \n",
       "3896  0.250951   none  \n",
       "2253  0.250951   none  \n",
       "1545  0.250951   none  "
      ]
     },
     "execution_count": 47,
     "metadata": {},
     "output_type": "execute_result"
    }
   ],
   "source": [
    "data.head(3)"
   ]
  },
  {
   "cell_type": "code",
   "execution_count": 48,
   "metadata": {},
   "outputs": [
    {
     "data": {
      "text/plain": [
       "result  result\n",
       "0       0         3913\n",
       "1       1          878\n",
       "Name: result, dtype: int64"
      ]
     },
     "execution_count": 48,
     "metadata": {},
     "output_type": "execute_result"
    }
   ],
   "source": [
    "data.groupby('result')['result'].value_counts()"
   ]
  },
  {
   "cell_type": "code",
   "execution_count": 49,
   "metadata": {
    "collapsed": true
   },
   "outputs": [],
   "source": [
    "predictors = ['MW', 'grav', 'instability', 'isoelectric','aromaticity', 'helix']\n",
    "\n",
    "X = data[predictors]\n",
    "y = data.result"
   ]
  },
  {
   "cell_type": "code",
   "execution_count": 50,
   "metadata": {},
   "outputs": [
    {
     "data": {
      "text/plain": [
       "(4791, 6)"
      ]
     },
     "execution_count": 50,
     "metadata": {},
     "output_type": "execute_result"
    }
   ],
   "source": [
    "X.shape"
   ]
  },
  {
   "cell_type": "code",
   "execution_count": 51,
   "metadata": {
    "collapsed": true
   },
   "outputs": [],
   "source": [
    "# Now split the data\n",
    "X_train, X_test, y_train, y_test = train_test_split(X,y , test_size=0.2,random_state =42)"
   ]
  },
  {
   "cell_type": "code",
   "execution_count": 52,
   "metadata": {},
   "outputs": [
    {
     "data": {
      "text/plain": [
       "(3832, 6)"
      ]
     },
     "execution_count": 52,
     "metadata": {},
     "output_type": "execute_result"
    }
   ],
   "source": [
    "X_train.shape"
   ]
  },
  {
   "cell_type": "code",
   "execution_count": 53,
   "metadata": {},
   "outputs": [
    {
     "data": {
      "text/plain": [
       "(959, 6)"
      ]
     },
     "execution_count": 53,
     "metadata": {},
     "output_type": "execute_result"
    }
   ],
   "source": [
    "X_test.shape"
   ]
  },
  {
   "cell_type": "code",
   "execution_count": 54,
   "metadata": {},
   "outputs": [
    {
     "data": {
      "text/plain": [
       "0    3115\n",
       "1     717\n",
       "Name: result, dtype: int64"
      ]
     },
     "execution_count": 54,
     "metadata": {},
     "output_type": "execute_result"
    }
   ],
   "source": [
    "# Count the number of 0's(failures) & 1's,(success) in the result column\n",
    "y_train.value_counts()"
   ]
  },
  {
   "cell_type": "code",
   "execution_count": 55,
   "metadata": {},
   "outputs": [
    {
     "data": {
      "text/plain": [
       "0    798\n",
       "1    161\n",
       "Name: result, dtype: int64"
      ]
     },
     "execution_count": 55,
     "metadata": {},
     "output_type": "execute_result"
    }
   ],
   "source": [
    "# Count the number of 0's(failures) & 1's,(success) in the result column\n",
    "y_test.value_counts()"
   ]
  },
  {
   "cell_type": "code",
   "execution_count": 56,
   "metadata": {
    "collapsed": true
   },
   "outputs": [],
   "source": [
    "#X_train"
   ]
  },
  {
   "cell_type": "code",
   "execution_count": 57,
   "metadata": {
    "collapsed": true
   },
   "outputs": [],
   "source": [
    "#X_test"
   ]
  },
  {
   "cell_type": "code",
   "execution_count": 58,
   "metadata": {},
   "outputs": [
    {
     "name": "stdout",
     "output_type": "stream",
     "text": [
      "Score for Unbalanced dataset: 0.89\n"
     ]
    },
    {
     "name": "stderr",
     "output_type": "stream",
     "text": [
      "/Users/scottlew/miniconda3/lib/python3.6/site-packages/sklearn/linear_model/logistic.py:432: FutureWarning: Default solver will be changed to 'lbfgs' in 0.22. Specify a solver to silence this warning.\n",
      "  FutureWarning)\n"
     ]
    }
   ],
   "source": [
    "# Logistic Regression \n",
    "lr = LogisticRegression()\n",
    "lr.fit(X_train, y_train)\n",
    "predictions = lr.predict(X_test)\n",
    "print(\"Score for Unbalanced dataset: {:.2f}\".format(lr.score(X_test, y_test)))"
   ]
  },
  {
   "cell_type": "code",
   "execution_count": 59,
   "metadata": {},
   "outputs": [
    {
     "data": {
      "text/plain": [
       "array([1, 0, 0, 0, 0, 0, 0, 0, 0, 0, 0, 0, 0, 0, 0, 0, 0, 0, 0, 0, 0, 0, 0,\n",
       "       0, 0, 0, 0, 0, 0, 0, 0, 0, 0, 0, 0, 0, 0, 0, 0, 0, 0, 0, 0, 0, 0, 0,\n",
       "       0, 0, 0, 0, 0, 0, 0, 0, 0, 0, 0, 0, 0, 0, 0, 0, 0, 0, 0, 0, 0, 0, 0,\n",
       "       0, 0, 0, 0, 0, 0, 0, 0, 0, 0, 0, 0, 0, 0, 0, 0, 0, 0, 0, 0, 0, 0, 0,\n",
       "       0, 0, 0, 0, 0, 0, 0, 0, 0, 0, 0, 0, 0, 0, 0, 0, 0, 0, 1, 0, 0, 0, 0,\n",
       "       0, 0, 0, 0, 0, 0, 1, 0, 0, 0, 0, 0, 0, 0, 0, 0, 0, 0, 1, 0, 0, 0, 1,\n",
       "       0, 0, 0, 0, 0, 0, 0, 0, 1, 0, 0, 0, 0, 0, 0, 0, 0, 0, 0, 0, 0, 0, 0,\n",
       "       0, 0, 0, 0, 0, 0, 0, 0, 0, 0, 0, 0, 0, 0, 0, 0, 0, 0, 0, 0, 0, 0, 0,\n",
       "       0, 0, 0, 0, 1, 0, 0, 0, 0, 0, 0, 0, 0, 1, 0, 0, 0, 0, 0, 0, 0, 1, 0,\n",
       "       0, 0, 1, 0, 0, 0, 0, 0, 0, 0, 0, 1, 0, 0, 1, 0, 0, 0, 0, 0, 0, 0, 0,\n",
       "       0, 1, 0, 0, 0, 0, 0, 0, 0, 0, 0, 0, 0, 0, 0, 0, 0, 0, 0, 0, 0, 0, 0,\n",
       "       1, 0, 0, 0, 0, 0, 0, 0, 0, 0, 1, 0, 0, 0, 0, 0, 1, 0, 0, 0, 0, 0, 0,\n",
       "       0, 0, 1, 0, 0, 0, 0, 1, 0, 0, 0, 0, 0, 0, 0, 0, 0, 0, 0, 0, 0, 0, 0,\n",
       "       0, 0, 0, 0, 0, 0, 0, 0, 0, 0, 0, 0, 0, 0, 0, 0, 0, 0, 0, 0, 0, 0, 0,\n",
       "       0, 0, 1, 0, 0, 0, 0, 0, 0, 0, 0, 0, 0, 0, 0, 0, 0, 0, 0, 0, 0, 0, 0,\n",
       "       0, 0, 0, 0, 0, 0, 0, 1, 0, 0, 0, 1, 0, 0, 0, 0, 0, 0, 0, 0, 1, 0, 0,\n",
       "       0, 0, 0, 0, 0, 0, 0, 1, 1, 1, 0, 0, 0, 0, 0, 0, 0, 0, 0, 0, 0, 0, 0,\n",
       "       0, 0, 0, 0, 0, 0, 0, 0, 1, 0, 0, 0, 0, 0, 0, 0, 0, 1, 1, 0, 0, 0, 0,\n",
       "       0, 0, 0, 0, 0, 0, 0, 0, 0, 0, 0, 1, 0, 0, 1, 0, 1, 0, 0, 0, 0, 0, 0,\n",
       "       1, 0, 0, 0, 0, 0, 0, 0, 0, 0, 0, 0, 0, 0, 0, 0, 0, 0, 0, 0, 0, 0, 0,\n",
       "       0, 0, 0, 0, 1, 0, 0, 0, 0, 0, 1, 0, 0, 0, 0, 0, 0, 0, 0, 0, 0, 0, 0,\n",
       "       0, 0, 0, 0, 0, 0, 0, 0, 0, 0, 0, 0, 0, 0, 0, 0, 0, 0, 0, 0, 0, 0, 0,\n",
       "       0, 0, 0, 0, 0, 0, 0, 0, 0, 0, 0, 0, 0, 0, 1, 0, 1, 0, 0, 1, 0, 0, 0,\n",
       "       0, 0, 0, 0, 0, 0, 0, 0, 0, 0, 0, 0, 0, 0, 0, 0, 0, 0, 0, 0, 0, 0, 0,\n",
       "       0, 0, 0, 0, 0, 0, 0, 0, 0, 0, 0, 0, 0, 1, 0, 0, 0, 0, 0, 0, 0, 0, 0,\n",
       "       0, 0, 0, 0, 0, 0, 0, 0, 0, 0, 0, 0, 0, 1, 0, 0, 0, 0, 0, 0, 0, 1, 0,\n",
       "       0, 0, 0, 0, 0, 0, 0, 0, 0, 0, 0, 0, 0, 0, 0, 0, 0, 0, 0, 0, 0, 0, 0,\n",
       "       0, 0, 0, 0, 0, 0, 0, 0, 0, 0, 0, 0, 0, 0, 0, 0, 0, 0, 0, 0, 0, 0, 0,\n",
       "       0, 0, 0, 0, 0, 0, 0, 0, 0, 0, 0, 0, 0, 0, 0, 0, 1, 0, 0, 0, 0, 0, 0,\n",
       "       0, 0, 0, 0, 0, 0, 1, 0, 1, 1, 0, 0, 0, 0, 0, 0, 0, 0, 0, 0, 0, 0, 0,\n",
       "       0, 0, 0, 0, 0, 0, 0, 0, 0, 0, 0, 0, 0, 0, 0, 0, 0, 0, 0, 0, 0, 0, 0,\n",
       "       0, 1, 0, 1, 0, 0, 0, 0, 0, 0, 0, 0, 0, 0, 0, 0, 0, 0, 0, 0, 0, 0, 0,\n",
       "       0, 0, 0, 0, 0, 0, 0, 0, 1, 0, 0, 0, 0, 0, 0, 0, 1, 0, 0, 1, 0, 0, 0,\n",
       "       1, 0, 0, 0, 0, 0, 0, 0, 0, 0, 0, 0, 0, 1, 1, 0, 0, 0, 0, 0, 0, 0, 0,\n",
       "       1, 0, 0, 1, 1, 0, 0, 0, 0, 0, 0, 0, 0, 0, 0, 0, 0, 0, 0, 0, 0, 0, 0,\n",
       "       0, 0, 0, 0, 0, 0, 0, 0, 0, 0, 0, 0, 0, 0, 0, 0, 0, 0, 0, 0, 0, 0, 0,\n",
       "       0, 0, 0, 0, 0, 0, 0, 0, 0, 0, 0, 0, 0, 0, 0, 0, 0, 0, 0, 0, 0, 0, 0,\n",
       "       0, 1, 0, 0, 0, 0, 0, 0, 0, 0, 0, 0, 0, 0, 0, 0, 0, 0, 0, 0, 0, 0, 0,\n",
       "       0, 0, 0, 0, 1, 0, 0, 0, 0, 0, 1, 0, 1, 0, 0, 1, 0, 0, 0, 0, 0, 0, 0,\n",
       "       0, 0, 0, 0, 0, 0, 0, 0, 0, 0, 0, 0, 0, 0, 0, 0, 0, 0, 0, 1, 0, 0, 0,\n",
       "       0, 0, 0, 0, 0, 0, 0, 1, 1, 0, 0, 0, 0, 0, 0, 0, 0, 0, 0, 0, 0, 0, 0,\n",
       "       1, 0, 0, 0, 0, 0, 0, 0, 0, 0, 0, 0, 0, 0, 0, 0])"
      ]
     },
     "execution_count": 59,
     "metadata": {},
     "output_type": "execute_result"
    }
   ],
   "source": [
    "predictions"
   ]
  },
  {
   "cell_type": "markdown",
   "metadata": {},
   "source": [
    "## Confusion Matrix"
   ]
  },
  {
   "cell_type": "code",
   "execution_count": 60,
   "metadata": {},
   "outputs": [
    {
     "name": "stdout",
     "output_type": "stream",
     "text": [
      "Confusion Matrix for Logistic Regression Model Using Unbalanced Dataset\n",
      "\n",
      "[[793   5]\n",
      " [102  59]]\n"
     ]
    }
   ],
   "source": [
    "# Generate Confusion Matrix for Logistic Regression\n",
    "actual = y_test\n",
    "predictions = lr.predict(X_test)\n",
    "#results = confusion_matrix(actual, predictions) \n",
    "#print(predictions)\n",
    "print('Confusion Matrix for Logistic Regression Model Using Unbalanced Dataset')\n",
    "print()\n",
    "cm = confusion_matrix(actual,predictions)\n",
    "print(cm)"
   ]
  },
  {
   "cell_type": "code",
   "execution_count": 61,
   "metadata": {},
   "outputs": [
    {
     "data": {
      "image/png": "[encoded data removed]",
      "text/plain": [
       "<matplotlib.figure.Figure at 0x113f4e9b0>"
      ]
     },
     "metadata": {},
     "output_type": "display_data"
    }
   ],
   "source": [
    "# Nice plot of confusion matrix\n",
    "# Adjust size of confusion matrix by following code taken from StackOverflow\n",
    "# https://stackoverflow.com/questions/43021762/matplotlib-how-to-change-figsize-for-matshow\n",
    "plt.figure(figsize=(10,5))\n",
    "plt.matshow(cm, fignum=1)\n",
    "\n",
    "plt.title('Confusion Matrix Plot')\n",
    "plt.colorbar()\n",
    "plt.xlabel('Predicted')\n",
    "plt.ylabel('Actual')\n",
    "\n",
    "plt.show()"
   ]
  },
  {
   "cell_type": "markdown",
   "metadata": {},
   "source": [
    "## Decision Tree Classifier"
   ]
  },
  {
   "cell_type": "code",
   "execution_count": 62,
   "metadata": {},
   "outputs": [
    {
     "name": "stdout",
     "output_type": "stream",
     "text": [
      "Decision Tree Classifier Score For Unbalanced Dataset: 0.98\n"
     ]
    }
   ],
   "source": [
    "from sklearn.tree import DecisionTreeClassifier\n",
    "#dtc = DecisionTreeClassifier(random_state=0).fit(X_train, y_train)\n",
    "dtc = DecisionTreeClassifier(random_state=0).fit(X_train, y_train)\n",
    "predictions = dtc.predict(X_test)\n",
    "print(\"Decision Tree Classifier Score For Unbalanced Dataset: {:.2f}\".format(dtc.score(X_test, y_test)))"
   ]
  },
  {
   "cell_type": "code",
   "execution_count": 63,
   "metadata": {},
   "outputs": [
    {
     "name": "stdout",
     "output_type": "stream",
     "text": [
      "{'MW': 0.010661296140779292, 'grav': 0.010775145508624445, 'instability': 0.006168186868131832, 'isoelectric': 0.017192715786327046, 'aromaticity': 0.011127374384774668, 'helix': 0.94407528131136265}\n"
     ]
    }
   ],
   "source": [
    "print(dict(zip(predictors, dtc.feature_importances_)))"
   ]
  },
  {
   "cell_type": "code",
   "execution_count": 64,
   "metadata": {},
   "outputs": [
    {
     "name": "stdout",
     "output_type": "stream",
     "text": [
      "Confusion Matrix for Decision Tree Model Using Unbalanced Dataset\n",
      "\n",
      "[[790   8]\n",
      " [ 10 151]]\n"
     ]
    }
   ],
   "source": [
    "# Generate Confusion Matrix for Decision Tree Classifier\n",
    "actual = y_test\n",
    "predictions = dtc.predict(X_test)\n",
    "print('Confusion Matrix for Decision Tree Model Using Unbalanced Dataset')\n",
    "print()\n",
    "cm = confusion_matrix(actual,predictions)\n",
    "print(cm)"
   ]
  },
  {
   "cell_type": "code",
   "execution_count": 77,
   "metadata": {},
   "outputs": [
    {
     "data": {
      "image/png": "[encoded data removed]",
      "text/plain": [
       "<matplotlib.figure.Figure at 0x1146ba940>"
      ]
     },
     "metadata": {},
     "output_type": "display_data"
    }
   ],
   "source": [
    "# Nice plot of confusion matrix\n",
    "# Adjust size of confusion matrix by following code taken from StackOverflow\n",
    "# https://stackoverflow.com/questions/43021762/matplotlib-how-to-change-figsize-for-matshow\n",
    "plt.figure(figsize=(10,5))\n",
    "plt.matshow(cm, fignum=1)\n",
    "\n",
    "plt.title('Confusion Matrix Plot for Decision Tree Model Using Unbalanced Dataset')\n",
    "plt.colorbar()\n",
    "plt.xlabel('Predicted')\n",
    "plt.ylabel('Actual')\n",
    "\n",
    "plt.show()"
   ]
  },
  {
   "cell_type": "markdown",
   "metadata": {},
   "source": [
    "## Synthetic Data Using SMOTE To Address The Imbalance "
   ]
  },
  {
   "cell_type": "code",
   "execution_count": 66,
   "metadata": {},
   "outputs": [
    {
     "data": {
      "text/plain": [
       "array([3115, 3115])"
      ]
     },
     "execution_count": 66,
     "metadata": {},
     "output_type": "execute_result"
    }
   ],
   "source": [
    "smt = SMOTE()\n",
    "X_train, y_train = smt.fit_sample(X_train, y_train)\n",
    "\n",
    "np.bincount(y_train)"
   ]
  },
  {
   "cell_type": "code",
   "execution_count": 67,
   "metadata": {},
   "outputs": [
    {
     "name": "stdout",
     "output_type": "stream",
     "text": [
      " Logistic Regression Classifier With SMOTE Synthetic Data Score: 0.98\n"
     ]
    },
    {
     "name": "stderr",
     "output_type": "stream",
     "text": [
      "/Users/scottlew/miniconda3/lib/python3.6/site-packages/sklearn/linear_model/logistic.py:432: FutureWarning: Default solver will be changed to 'lbfgs' in 0.22. Specify a solver to silence this warning.\n",
      "  FutureWarning)\n"
     ]
    }
   ],
   "source": [
    "# Logistic Regression for prediction\n",
    "lr = LogisticRegression()\n",
    "lr.fit(X_train, y_train)\n",
    "predictions = lr.predict(X_test)\n",
    "print(\" Logistic Regression Classifier With SMOTE Synthetic Data Score: {:.2f}\".format(lr.score(X_test, y_test)))"
   ]
  },
  {
   "cell_type": "code",
   "execution_count": 68,
   "metadata": {},
   "outputs": [
    {
     "name": "stdout",
     "output_type": "stream",
     "text": [
      "Confusion Matrix for Logistic Regression Model Using Synthetic Balanced Dataset\n",
      "\n",
      "[[791   7]\n",
      " [ 12 149]]\n"
     ]
    }
   ],
   "source": [
    "# Generate Confusion Matrix for Logistic Regression\n",
    "actual = y_test\n",
    "predictions = lr.predict(X_test)\n",
    "print('Confusion Matrix for Logistic Regression Model Using Synthetic Balanced Dataset')\n",
    "print()\n",
    "cm = confusion_matrix(actual,predictions)\n",
    "print(cm)"
   ]
  },
  {
   "cell_type": "code",
   "execution_count": 69,
   "metadata": {},
   "outputs": [
    {
     "data": {
      "image/png": "[encoded data removed]",
      "text/plain": [
       "<matplotlib.figure.Figure at 0x1144ac8d0>"
      ]
     },
     "metadata": {},
     "output_type": "display_data"
    }
   ],
   "source": [
    "# Nice plot of confusion matrix\n",
    "# Adjust size of confusion matrix by following code taken from StackOverflow\n",
    "# https://stackoverflow.com/questions/43021762/matplotlib-how-to-change-figsize-for-matshow\n",
    "plt.figure(figsize=(10,5))\n",
    "plt.matshow(cm, fignum=1)\n",
    "\n",
    "plt.title('Confusion Matrix Plot For Logistic Regression Classifier With SMOTE Synthetic Data')\n",
    "plt.colorbar()\n",
    "plt.xlabel('Predicted')\n",
    "plt.ylabel('Actual')\n",
    "\n",
    "plt.show()"
   ]
  },
  {
   "cell_type": "markdown",
   "metadata": {},
   "source": [
    "## Predict whether a well-known crystallizable protein, chicken lysozyme, will crystallize or not using MW, gravy, instability, isoelectric point, aromaticity, helical content. "
   ]
  },
  {
   "cell_type": "code",
   "execution_count": 70,
   "metadata": {
    "collapsed": true
   },
   "outputs": [],
   "source": [
    "# The following sequence is for the hen egg white lysozyme protein which is known to crystallize\n",
    "seq = 'KVFGRCELAAAMKRHGLDNYRGYSLGNWVCAAKFESNFNTQATNRNTDGSTDYGILQINSRWWCNDGRTPGSRNLCNIPCSALLSSDITASVNCAKKIVSDGNGMNAWVAWRNRCKGTDVQAWIRGCRL'"
   ]
  },
  {
   "cell_type": "code",
   "execution_count": 71,
   "metadata": {},
   "outputs": [
    {
     "data": {
      "text/plain": [
       "[14313.003999999983,\n",
       " -0.47209302325581387,\n",
       " 16.09147286821705,\n",
       " 9.32379150390625,\n",
       " 0.09302325581395349,\n",
       " 0.24806201550387597]"
      ]
     },
     "execution_count": 71,
     "metadata": {},
     "output_type": "execute_result"
    }
   ],
   "source": [
    "# 'MW', 'grav', 'instability', 'isoelectric','aromaticity', 'helix'\n",
    "analysed_seq = ProteinAnalysis(seq)\n",
    "X_ch = []\n",
    "X_ch.append(analysed_seq.molecular_weight())\n",
    "X_ch.append(analysed_seq.gravy())\n",
    "X_ch.append(analysed_seq.instability_index())\n",
    "X_ch.append(analysed_seq.isoelectric_point())\n",
    "X_ch.append(analysed_seq.aromaticity())\n",
    "X_ch.append(analysed_seq.secondary_structure_fraction()[0])\n",
    "\n",
    "X_ch"
   ]
  },
  {
   "cell_type": "code",
   "execution_count": 72,
   "metadata": {},
   "outputs": [
    {
     "data": {
      "text/plain": [
       "(6,)"
      ]
     },
     "execution_count": 72,
     "metadata": {},
     "output_type": "execute_result"
    }
   ],
   "source": [
    "X_ = x = np.array(X_ch)\n",
    "X_.shape"
   ]
  },
  {
   "cell_type": "code",
   "execution_count": 73,
   "metadata": {},
   "outputs": [
    {
     "data": {
      "text/plain": [
       "(1, 6)"
      ]
     },
     "execution_count": 73,
     "metadata": {},
     "output_type": "execute_result"
    }
   ],
   "source": [
    "X_chicken = X_.reshape(1,6)\n",
    "X_chicken.shape"
   ]
  },
  {
   "cell_type": "code",
   "execution_count": 74,
   "metadata": {},
   "outputs": [
    {
     "data": {
      "text/plain": [
       "array([[  1.43130040e+04,  -4.72093023e-01,   1.60914729e+01,\n",
       "          9.32379150e+00,   9.30232558e-02,   2.48062016e-01]])"
      ]
     },
     "execution_count": 74,
     "metadata": {},
     "output_type": "execute_result"
    }
   ],
   "source": [
    "X_chicken"
   ]
  },
  {
   "cell_type": "code",
   "execution_count": 75,
   "metadata": {},
   "outputs": [
    {
     "data": {
      "text/plain": [
       "1"
      ]
     },
     "execution_count": 75,
     "metadata": {},
     "output_type": "execute_result"
    }
   ],
   "source": [
    "predict = lr.predict(X_chicken)\n",
    "predict[0]"
   ]
  },
  {
   "cell_type": "markdown",
   "metadata": {
    "collapsed": true
   },
   "source": [
    "## The Logistic Regression Model predicts lysozyme will crystallize!"
   ]
  },
  {
   "cell_type": "code",
   "execution_count": null,
   "metadata": {
    "collapsed": true
   },
   "outputs": [],
   "source": []
  }
 ],
 "metadata": {
  "kernelspec": {
   "display_name": "Python [default]",
   "language": "python",
   "name": "python3"
  },
  "language_info": {
   "codemirror_mode": {
    "name": "ipython",
    "version": 3
   },
   "file_extension": ".py",
   "mimetype": "text/x-python",
   "name": "python",
   "nbconvert_exporter": "python",
   "pygments_lexer": "ipython3",
   "version": "3.6.9"
  }
 },
 "nbformat": 4,
 "nbformat_minor": 2
}
