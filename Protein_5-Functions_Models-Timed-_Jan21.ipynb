{
 "cells": [
  {
   "cell_type": "code",
   "execution_count": 1,
   "metadata": {
    "collapsed": true
   },
   "outputs": [],
   "source": [
    "import pandas as pd\n",
    "import numpy as np\n",
    "import seaborn as sns\n",
    "import matplotlib.pyplot as plt\n",
    "import time\n",
    "import re\n",
    "import nltk\n",
    "import math\n",
    "import pickle\n",
    "\n",
    "from sklearn.ensemble import VotingClassifier\n",
    "from sklearn.linear_model import PassiveAggressiveClassifier\n",
    "from sklearn.linear_model import RidgeClassifier\n",
    "from sklearn.naive_bayes import MultinomialNB\n",
    "from sklearn import linear_model\n",
    "from sklearn.linear_model import Perceptron\n",
    "\n",
    "from sklearn import svm\n",
    "from sklearn.preprocessing import StandardScaler\n",
    "from sklearn.model_selection import train_test_split, GridSearchCV\n",
    "from sklearn.tree import DecisionTreeClassifier\n",
    "from sklearn.linear_model import LogisticRegression\n",
    "from sklearn.neighbors import KNeighborsClassifier\n",
    "from sklearn.ensemble import RandomForestClassifier\n",
    "from nltk.corpus import stopwords\n",
    "from sklearn.feature_extraction.text import TfidfVectorizer\n",
    "from sklearn.feature_extraction.text import CountVectorizer\n",
    "import sklearn.metrics\n",
    "from sklearn.metrics import confusion_matrix\n",
    "from sklearn.metrics import classification_report\n",
    "\n",
    "from Bio.SeqUtils.ProtParam import ProteinAnalysis\n",
    "from imblearn.over_sampling import SMOTE\n",
    "from sklearn.model_selection import cross_val_score, cross_val_predict\n",
    "\n",
    "%matplotlib inline"
   ]
  },
  {
   "cell_type": "code",
   "execution_count": 2,
   "metadata": {},
   "outputs": [
    {
     "data": {
      "text/html": [
       "<div>\n",
       "<style scoped>\n",
       "    .dataframe tbody tr th:only-of-type {\n",
       "        vertical-align: middle;\n",
       "    }\n",
       "\n",
       "    .dataframe tbody tr th {\n",
       "        vertical-align: top;\n",
       "    }\n",
       "\n",
       "    .dataframe thead th {\n",
       "        text-align: right;\n",
       "    }\n",
       "</style>\n",
       "<table border=\"1\" class=\"dataframe\">\n",
       "  <thead>\n",
       "    <tr style=\"text-align: right;\">\n",
       "      <th></th>\n",
       "      <th>classification</th>\n",
       "      <th>name</th>\n",
       "      <th>sequence</th>\n",
       "      <th>structureId</th>\n",
       "      <th>type</th>\n",
       "    </tr>\n",
       "  </thead>\n",
       "  <tbody>\n",
       "    <tr>\n",
       "      <th>0</th>\n",
       "      <td>TRANSFERASE</td>\n",
       "      <td>NaN</td>\n",
       "      <td>MEIYEGKLTAEGLRFGIVASRFNHALVDRLVEGAIDCIVRHGGREE...</td>\n",
       "      <td>5MPP</td>\n",
       "      <td>4</td>\n",
       "    </tr>\n",
       "    <tr>\n",
       "      <th>1</th>\n",
       "      <td>HYDROLASE</td>\n",
       "      <td>NaN</td>\n",
       "      <td>MKFTLTIAGLLAVGSTAAPTTEKRNPGGIDYVQNYNGDVADFQYNE...</td>\n",
       "      <td>3M4F</td>\n",
       "      <td>0</td>\n",
       "    </tr>\n",
       "    <tr>\n",
       "      <th>2</th>\n",
       "      <td>TRANSFERASE</td>\n",
       "      <td>NaN</td>\n",
       "      <td>MRGSHHHHHHGSMKRAVITGLGIVSSIGNNQQEVLASLREGRSGIT...</td>\n",
       "      <td>2BYY</td>\n",
       "      <td>4</td>\n",
       "    </tr>\n",
       "    <tr>\n",
       "      <th>3</th>\n",
       "      <td>HYDROLASE</td>\n",
       "      <td>NaN</td>\n",
       "      <td>STGSATTTPIDSLDDAYITPVQIGTPAQTLNLDFDTGSSDLWVFSS...</td>\n",
       "      <td>4YCY</td>\n",
       "      <td>0</td>\n",
       "    </tr>\n",
       "    <tr>\n",
       "      <th>4</th>\n",
       "      <td>TRANSFERASE</td>\n",
       "      <td>NaN</td>\n",
       "      <td>GSGMMRYLHKIELELNRLTSRYPFFKKIAFDAEIIKLVDDLNVDEN...</td>\n",
       "      <td>3AQC</td>\n",
       "      <td>4</td>\n",
       "    </tr>\n",
       "  </tbody>\n",
       "</table>\n",
       "</div>"
      ],
      "text/plain": [
       "  classification name                                           sequence  \\\n",
       "0    TRANSFERASE  NaN  MEIYEGKLTAEGLRFGIVASRFNHALVDRLVEGAIDCIVRHGGREE...   \n",
       "1      HYDROLASE  NaN  MKFTLTIAGLLAVGSTAAPTTEKRNPGGIDYVQNYNGDVADFQYNE...   \n",
       "2    TRANSFERASE  NaN  MRGSHHHHHHGSMKRAVITGLGIVSSIGNNQQEVLASLREGRSGIT...   \n",
       "3      HYDROLASE  NaN  STGSATTTPIDSLDDAYITPVQIGTPAQTLNLDFDTGSSDLWVFSS...   \n",
       "4    TRANSFERASE  NaN  GSGMMRYLHKIELELNRLTSRYPFFKKIAFDAEIIKLVDDLNVDEN...   \n",
       "\n",
       "  structureId  type  \n",
       "0        5MPP     4  \n",
       "1        3M4F     0  \n",
       "2        2BYY     4  \n",
       "3        4YCY     0  \n",
       "4        3AQC     4  "
      ]
     },
     "execution_count": 2,
     "metadata": {},
     "output_type": "execute_result"
    }
   ],
   "source": [
    "# read in data from csv file\n",
    "df = pd.read_csv('proteins-5-functions.csv')\n",
    "\n",
    "df.head()"
   ]
  },
  {
   "cell_type": "code",
   "execution_count": 3,
   "metadata": {},
   "outputs": [
    {
     "data": {
      "text/plain": [
       "Index(['classification', 'name', 'sequence', 'structureId', 'type'], dtype='object')"
      ]
     },
     "execution_count": 3,
     "metadata": {},
     "output_type": "execute_result"
    }
   ],
   "source": [
    "df.columns"
   ]
  },
  {
   "cell_type": "code",
   "execution_count": 4,
   "metadata": {},
   "outputs": [
    {
     "data": {
      "text/plain": [
       "(104956, 5)"
      ]
     },
     "execution_count": 4,
     "metadata": {},
     "output_type": "execute_result"
    }
   ],
   "source": [
    "df.shape"
   ]
  },
  {
   "cell_type": "markdown",
   "metadata": {},
   "source": [
    "## 5 Classes of Proteins"
   ]
  },
  {
   "cell_type": "code",
   "execution_count": 5,
   "metadata": {},
   "outputs": [
    {
     "data": {
      "text/plain": [
       "TRANSFERASE      35880\n",
       "LIGASE           33967\n",
       "ISOMERASE        16988\n",
       "HYDROLASE        12664\n",
       "IMMUNE SYSTEM     5457\n",
       "Name: classification, dtype: int64"
      ]
     },
     "execution_count": 5,
     "metadata": {},
     "output_type": "execute_result"
    }
   ],
   "source": [
    "df.classification.value_counts()"
   ]
  },
  {
   "cell_type": "code",
   "execution_count": 6,
   "metadata": {},
   "outputs": [
    {
     "data": {
      "text/plain": [
       "4    35880\n",
       "3    33967\n",
       "2    16988\n",
       "0    12664\n",
       "1     5457\n",
       "Name: type, dtype: int64"
      ]
     },
     "execution_count": 6,
     "metadata": {},
     "output_type": "execute_result"
    }
   ],
   "source": [
    "df.type.value_counts()"
   ]
  },
  {
   "cell_type": "markdown",
   "metadata": {},
   "source": [
    "## Remove Duplicate Sequences"
   ]
  },
  {
   "cell_type": "code",
   "execution_count": 7,
   "metadata": {},
   "outputs": [],
   "source": [
    "# remove the duplicate protein sequences\n",
    "#df = df.drop_duplicates(subset='sequence', keep=\"first\")\n",
    "\n",
    "# remove nan from 'sequence' column\n",
    "#df = df[df['sequence'].notnull()]\n",
    "#df.head()"
   ]
  },
  {
   "cell_type": "code",
   "execution_count": 8,
   "metadata": {},
   "outputs": [],
   "source": [
    "#df_3.shape"
   ]
  },
  {
   "cell_type": "markdown",
   "metadata": {},
   "source": [
    "## Classifier of Protein Sequences: Predict 5 Classes"
   ]
  },
  {
   "cell_type": "markdown",
   "metadata": {},
   "source": [
    "## CountVectorizer: Count peptide frequency, transform the data"
   ]
  },
  {
   "cell_type": "code",
   "execution_count": 9,
   "metadata": {
    "collapsed": true
   },
   "outputs": [],
   "source": [
    "# In this case, peptide frequency is used for analysis\n",
    "peptide_size = 6\n",
    "vect_ = CountVectorizer(min_df=1,token_pattern=r'\\w{1}',ngram_range=(peptide_size,peptide_size))"
   ]
  },
  {
   "cell_type": "markdown",
   "metadata": {},
   "source": [
    "## Split the data into training & test sets for classification model"
   ]
  },
  {
   "cell_type": "code",
   "execution_count": 10,
   "metadata": {
    "collapsed": true
   },
   "outputs": [],
   "source": [
    "X = vect_.fit_transform(df.sequence)\n",
    "y = df.type"
   ]
  },
  {
   "cell_type": "code",
   "execution_count": 11,
   "metadata": {},
   "outputs": [
    {
     "name": "stdout",
     "output_type": "stream",
     "text": [
      "(83964, 14277858) (83964,)\n",
      "(20992, 14277858) (20992,)\n"
     ]
    }
   ],
   "source": [
    "# Split the data into training and test sets\n",
    "X_train, X_test, y_train, y_test = train_test_split(X,y, test_size=0.2,random_state =42)\n",
    "print(X_train.shape, y_train.shape)\n",
    "print(X_test.shape, y_test.shape)"
   ]
  },
  {
   "cell_type": "code",
   "execution_count": 12,
   "metadata": {},
   "outputs": [
    {
     "data": {
      "text/plain": [
       "4    7121\n",
       "3    6732\n",
       "2    3480\n",
       "0    2590\n",
       "1    1069\n",
       "Name: type, dtype: int64"
      ]
     },
     "execution_count": 12,
     "metadata": {},
     "output_type": "execute_result"
    }
   ],
   "source": [
    "y_test.value_counts()"
   ]
  },
  {
   "cell_type": "markdown",
   "metadata": {},
   "source": [
    "## Classification Models"
   ]
  },
  {
   "cell_type": "markdown",
   "metadata": {},
   "source": [
    "## MNB Classifier Model"
   ]
  },
  {
   "cell_type": "code",
   "execution_count": 13,
   "metadata": {},
   "outputs": [
    {
     "name": "stdout",
     "output_type": "stream",
     "text": [
      "MNB classifier Score: 0.90\n",
      "\n",
      "CPU times: user 5.75 s, sys: 2.4 s, total: 8.16 s\n",
      "Wall time: 8.77 s\n"
     ]
    }
   ],
   "source": [
    "%%time\n",
    "mnb = MultinomialNB(alpha=50)\n",
    "mnb.fit(X_train, y_train)\n",
    "# evaluate accuracy of our model on test data\n",
    "print(\"MNB classifier Score: {:.2f}\".format(mnb.score(X_test, y_test)))\n",
    "print()"
   ]
  },
  {
   "cell_type": "code",
   "execution_count": 14,
   "metadata": {},
   "outputs": [
    {
     "name": "stdout",
     "output_type": "stream",
     "text": [
      "Passive Aggressive classifier Score: 0.91\n",
      "\n",
      "CPU times: user 44.4 s, sys: 1.66 s, total: 46.1 s\n",
      "Wall time: 45.8 s\n"
     ]
    }
   ],
   "source": [
    "%%time\n",
    "pac = PassiveAggressiveClassifier()\n",
    "pac.fit(X_train, y_train)\n",
    "# evaluate accuracy of our model on test data\n",
    "print(\"Passive Aggressive classifier Score: {:.2f}\".format(pac.score(X_test, y_test)))\n",
    "print()"
   ]
  },
  {
   "cell_type": "code",
   "execution_count": 15,
   "metadata": {},
   "outputs": [
    {
     "name": "stdout",
     "output_type": "stream",
     "text": [
      "Passive Aggressive classifier with squared hinge loss Score: 0.88\n",
      "\n",
      "CPU times: user 39.9 s, sys: 1.46 s, total: 41.4 s\n",
      "Wall time: 40.9 s\n"
     ]
    }
   ],
   "source": [
    "%%time\n",
    "pac2 = PassiveAggressiveClassifier(loss='squared_hinge')\n",
    "pac2.fit(X_train, y_train)\n",
    "# evaluate accuracy of our model on test data\n",
    "print(\"Passive Aggressive classifier with squared hinge loss Score: {:.2f}\".format(pac2.score(X_test, y_test)))\n",
    "print()"
   ]
  },
  {
   "cell_type": "code",
   "execution_count": 16,
   "metadata": {},
   "outputs": [
    {
     "name": "stdout",
     "output_type": "stream",
     "text": [
      "SGD classifier Score: 0.93\n",
      "\n",
      "CPU times: user 53.7 s, sys: 1.19 s, total: 54.9 s\n",
      "Wall time: 53.9 s\n"
     ]
    }
   ],
   "source": [
    "%%time\n",
    "sgd = linear_model.SGDClassifier(max_iter=1000, tol=1e-3)\n",
    "sgd.fit(X_train, y_train)\n",
    "# evaluate accuracy of our model on test data\n",
    "print(\"SGD classifier Score: {:.2f}\".format(sgd.score(X_test, y_test)))\n",
    "print()"
   ]
  },
  {
   "cell_type": "code",
   "execution_count": 17,
   "metadata": {},
   "outputs": [
    {
     "name": "stdout",
     "output_type": "stream",
     "text": [
      "SGD classifier Score: 0.90\n",
      "\n",
      "CPU times: user 1min 2s, sys: 1.41 s, total: 1min 3s\n",
      "Wall time: 1min 2s\n"
     ]
    }
   ],
   "source": [
    "%%time\n",
    "sgd2 = linear_model.SGDClassifier(loss= 'log',max_iter=1000, tol=1e-3)\n",
    "sgd2.fit(X_train, y_train)\n",
    "# evaluate accuracy of our model on test data\n",
    "print(\"SGD classifier Score: {:.2f}\".format(sgd2.score(X_test, y_test)))\n",
    "print()"
   ]
  },
  {
   "cell_type": "code",
   "execution_count": 18,
   "metadata": {},
   "outputs": [
    {
     "name": "stdout",
     "output_type": "stream",
     "text": [
      "Perceptron classifier Score: 0.92\n",
      "\n",
      "CPU times: user 27.6 s, sys: 1.48 s, total: 29.1 s\n",
      "Wall time: 28.4 s\n"
     ]
    }
   ],
   "source": [
    "%%time\n",
    "per = Perceptron(tol=1e-3, random_state=0).fit(X_train,y_train)\n",
    "# evaluate accuracy of our model on test data\n",
    "print(\"Perceptron classifier Score: {:.2f}\".format(per.score(X_test, y_test)))\n",
    "print()"
   ]
  },
  {
   "cell_type": "code",
   "execution_count": 19,
   "metadata": {},
   "outputs": [
    {
     "name": "stdout",
     "output_type": "stream",
     "text": [
      "Confusion Matrix for Perceptron Model\n",
      "\n",
      "[[2230   53   30   69  208]\n",
      " [ 116  892    4   11   46]\n",
      " [  45   18 3304   34   79]\n",
      " [ 106   44   38 6337  207]\n",
      " [ 223   90   49  167 6592]]\n"
     ]
    }
   ],
   "source": [
    "# Generate Confusion Matrix for Perceptron Model\n",
    "actual = y_test\n",
    "predictions = per.predict(X_test)\n",
    "print('Confusion Matrix for Perceptron Model')\n",
    "print()\n",
    "cm = confusion_matrix(actual,predictions)\n",
    "print(cm)"
   ]
  },
  {
   "cell_type": "code",
   "execution_count": 20,
   "metadata": {
    "collapsed": true
   },
   "outputs": [],
   "source": [
    "#%%time\n",
    "#rdg = RidgeClassifier().fit(X_train, y_train)\n",
    "# evaluate accuracy of our model on test data\n",
    "#print(\"Ridge classifier Score: {:.2f}\".format(rdg.score(X_test, y_test)))\n",
    "#print()"
   ]
  },
  {
   "cell_type": "code",
   "execution_count": 21,
   "metadata": {},
   "outputs": [
    {
     "name": "stdout",
     "output_type": "stream",
     "text": [
      "Majority Voting Classifier Score: 0.92\n",
      "\n",
      "CPU times: user 1min 37s, sys: 4.45 s, total: 1min 42s\n",
      "Wall time: 1min 45s\n"
     ]
    }
   ],
   "source": [
    "%%time\n",
    "clf1 = linear_model.SGDClassifier(max_iter=1000, tol=1e-3)\n",
    "clf2 = PassiveAggressiveClassifier(C=0.1)\n",
    "#clf3 = MultinomialNB(alpha=50)\n",
    "\n",
    "eclf1 = VotingClassifier(estimators=[('sgd',clf1), ('pac',clf2)], voting='hard')\n",
    "eclf1.fit(X_train, y_train)\n",
    "# evaluate accuracy of our model on test data\n",
    "print(\"Majority Voting Classifier Score: {:.2f}\".format(eclf1.score(X_test, y_test)))\n",
    "print()"
   ]
  },
  {
   "cell_type": "code",
   "execution_count": 22,
   "metadata": {},
   "outputs": [
    {
     "name": "stdout",
     "output_type": "stream",
     "text": [
      "Confusion Matrix for Voting Model\n",
      "\n",
      "[[2139  131    4   21  295]\n",
      " [  36  996    2    3   32]\n",
      " [  41   31 3253   18  137]\n",
      " [ 100   87    5 6269  271]\n",
      " [ 138  144   11   71 6757]]\n"
     ]
    }
   ],
   "source": [
    "# Generate Confusion Matrix for Voting Model\n",
    "actual = y_test\n",
    "predictions = eclf1.predict(X_test)\n",
    "print('Confusion Matrix for Voting Model')\n",
    "print()\n",
    "cm = confusion_matrix(actual,predictions)\n",
    "print(cm)"
   ]
  },
  {
   "cell_type": "code",
   "execution_count": 23,
   "metadata": {},
   "outputs": [
    {
     "name": "stdout",
     "output_type": "stream",
     "text": [
      "Majority Voting Classifier Score: 0.92\n",
      "\n",
      "CPU times: user 1min 35s, sys: 6.81 s, total: 1min 42s\n",
      "Wall time: 1min 41s\n"
     ]
    }
   ],
   "source": [
    "%%time\n",
    "clf1a = linear_model.SGDClassifier(max_iter=1000, tol=1e-3)\n",
    "clf2a = PassiveAggressiveClassifier(C=0.1)\n",
    "clf3a = MultinomialNB(alpha=50)\n",
    "\n",
    "eclf2 = VotingClassifier(estimators=[('sgd', clf1a), ('pac', clf2a), ('mnb', clf3a)], voting='hard')\n",
    "eclf2.fit(X_train, y_train)\n",
    "# evaluate accuracy of our model on test data\n",
    "print(\"Majority Voting Classifier Score: {:.2f}\".format(eclf2.score(X_test, y_test)))\n",
    "print()"
   ]
  },
  {
   "cell_type": "code",
   "execution_count": 24,
   "metadata": {},
   "outputs": [
    {
     "name": "stdout",
     "output_type": "stream",
     "text": [
      "Confusion Matrix for Voting Model\n",
      "\n",
      "[[2069   49    5   16  451]\n",
      " [  36  907    1    6  119]\n",
      " [  23   19 3246   15  177]\n",
      " [  99   69   19 6201  344]\n",
      " [  90   54   10   47 6920]]\n"
     ]
    }
   ],
   "source": [
    "# Generate Confusion Matrix for Voting Model\n",
    "actual = y_test\n",
    "predictions = eclf2.predict(X_test)\n",
    "print('Confusion Matrix for Voting Model')\n",
    "print()\n",
    "cm = confusion_matrix(actual,predictions)\n",
    "print(cm)"
   ]
  },
  {
   "cell_type": "code",
   "execution_count": 25,
   "metadata": {},
   "outputs": [
    {
     "name": "stdout",
     "output_type": "stream",
     "text": [
      "Majority Voting Classifier Score: 0.92\n",
      "\n",
      "CPU times: user 2min 35s, sys: 3.4 s, total: 2min 38s\n",
      "Wall time: 2min 36s\n"
     ]
    }
   ],
   "source": [
    "%%time\n",
    "clf1b = linear_model.SGDClassifier(max_iter=1000, tol=1e-3)\n",
    "clf2b = PassiveAggressiveClassifier(C=0.1)\n",
    "clf3b = linear_model.SGDClassifier(loss= 'log',max_iter=1000, tol=1e-3)\n",
    "\n",
    "eclf3 = VotingClassifier(estimators=[('sgd', clf1b), ('pac', clf2b), ('sgd_lg', clf3b)], voting='hard')\n",
    "eclf3.fit(X_train, y_train)\n",
    "# evaluate accuracy of our model on test data\n",
    "print(\"Majority Voting Classifier Score: {:.2f}\".format(eclf3.score(X_test, y_test)))\n",
    "print()"
   ]
  },
  {
   "cell_type": "code",
   "execution_count": 26,
   "metadata": {},
   "outputs": [
    {
     "name": "stdout",
     "output_type": "stream",
     "text": [
      "Majority Voting Classifier Score: 0.93\n",
      "\n",
      "CPU times: user 2min 1s, sys: 4.46 s, total: 2min 5s\n",
      "Wall time: 2min 6s\n"
     ]
    }
   ],
   "source": [
    "%%time\n",
    "clf1c = linear_model.SGDClassifier(max_iter=1000, tol=1e-3)\n",
    "clf2c = PassiveAggressiveClassifier(C=0.1)\n",
    "clf3c = Perceptron(tol=1e-3, random_state=0)\n",
    "\n",
    "eclf4 = VotingClassifier(estimators=[('sgd', clf1c), ('pac', clf2c), ('per', clf3c)], voting='hard')\n",
    "eclf4.fit(X_train, y_train)\n",
    "# evaluate accuracy of our model on test data\n",
    "print(\"Majority Voting Classifier Score: {:.2f}\".format(eclf4.score(X_test, y_test)))\n",
    "print()"
   ]
  },
  {
   "cell_type": "code",
   "execution_count": 27,
   "metadata": {},
   "outputs": [
    {
     "name": "stdout",
     "output_type": "stream",
     "text": [
      "              precision    recall  f1-score   support\n",
      "\n",
      "           0       0.85      0.84      0.84      2625\n",
      "           1       0.84      0.89      0.86      1019\n",
      "           2       0.94      0.99      0.96      3292\n",
      "           3       0.93      0.98      0.96      6373\n",
      "           4       0.96      0.89      0.93      7683\n",
      "\n",
      "    accuracy                           0.93     20992\n",
      "   macro avg       0.90      0.92      0.91     20992\n",
      "weighted avg       0.93      0.93      0.93     20992\n",
      "\n"
     ]
    }
   ],
   "source": [
    "vote_prediction4 = eclf4.predict(X_test)\n",
    "print(classification_report(vote_prediction4, y_test))"
   ]
  },
  {
   "cell_type": "code",
   "execution_count": 28,
   "metadata": {},
   "outputs": [
    {
     "name": "stdout",
     "output_type": "stream",
     "text": [
      "Majority Voting Classifier Score: 0.93\n",
      "\n",
      "CPU times: user 2min 8s, sys: 12 s, total: 2min 20s\n",
      "Wall time: 2min 26s\n"
     ]
    }
   ],
   "source": [
    "%%time\n",
    "clf1d = linear_model.SGDClassifier(max_iter=1000, tol=1e-3)\n",
    "clf2d = PassiveAggressiveClassifier(C=0.1)\n",
    "clf3d = Perceptron(tol=1e-3, random_state=0)\n",
    "clf4d = MultinomialNB(alpha=50)\n",
    "\n",
    "eclf5 = VotingClassifier(estimators=[('sgd', clf1d), ('pac', clf2d), ('per', clf3d),('mnb',clf4d)], voting='hard')\n",
    "eclf5.fit(X_train, y_train)\n",
    "# evaluate accuracy of our model on test data\n",
    "print(\"Majority Voting Classifier Score: {:.2f}\".format(eclf4.score(X_test, y_test)))\n",
    "print()"
   ]
  },
  {
   "cell_type": "code",
   "execution_count": 29,
   "metadata": {},
   "outputs": [
    {
     "name": "stdout",
     "output_type": "stream",
     "text": [
      "              precision    recall  f1-score   support\n",
      "\n",
      "           0       0.84      0.89      0.86      2445\n",
      "           1       0.84      0.89      0.87      1014\n",
      "           2       0.95      0.98      0.97      3352\n",
      "           3       0.94      0.98      0.96      6464\n",
      "           4       0.96      0.89      0.92      7717\n",
      "\n",
      "    accuracy                           0.93     20992\n",
      "   macro avg       0.91      0.92      0.91     20992\n",
      "weighted avg       0.93      0.93      0.93     20992\n",
      "\n"
     ]
    }
   ],
   "source": [
    "vote_prediction5 = eclf5.predict(X_test)\n",
    "print(classification_report(vote_prediction5, y_test))"
   ]
  },
  {
   "cell_type": "markdown",
   "metadata": {},
   "source": [
    "## Cross Validation of Models"
   ]
  },
  {
   "cell_type": "code",
   "execution_count": 30,
   "metadata": {},
   "outputs": [
    {
     "name": "stdout",
     "output_type": "stream",
     "text": [
      "Cross-validation scores for Voting Classifier: [ 0.77192397  0.91520983  0.94492878  0.94287756  0.91443137]\n",
      "\n",
      "The average accuracy score for Voting Classifier is: \n",
      "0.897874303013\n"
     ]
    }
   ],
   "source": [
    "clf1e = linear_model.SGDClassifier(max_iter=1000, tol=1e-3)\n",
    "clf2e = PassiveAggressiveClassifier(C=0.1)\n",
    "\n",
    "eclf_cv = VotingClassifier(estimators=[('sgd',clf1e), ('pac',clf2e)], voting='hard')\n",
    "scores = cross_val_score(eclf_cv,X,y, cv = 5)\n",
    "print(\"Cross-validation scores for Voting Classifier: {}\".format(scores))\n",
    "print()\n",
    "print(\"The average accuracy score for Voting Classifier is: \")\n",
    "print(np.mean(scores))"
   ]
  },
  {
   "cell_type": "code",
   "execution_count": 31,
   "metadata": {},
   "outputs": [
    {
     "name": "stdout",
     "output_type": "stream",
     "text": [
      "Cross-validation scores for Voting Classifier: [ 0.79640833  0.92068785  0.94712019  0.94459266  0.91538425]\n",
      "\n",
      "The average accuracy score for Voting Classifier is: \n",
      "0.90483865627\n"
     ]
    }
   ],
   "source": [
    "clf1f = linear_model.SGDClassifier(max_iter=1000, tol=1e-3)\n",
    "clf2f = PassiveAggressiveClassifier(C=0.1)\n",
    "clf3f = Perceptron(tol=1e-3, random_state=0)\n",
    "\n",
    "eclf_cv2 = VotingClassifier(estimators=[('sgd',clf1f), ('pac',clf2f),('per', clf3f)], voting='hard')\n",
    "scores = cross_val_score(eclf_cv2,X,y, cv = 5)\n",
    "\n",
    "print(\"Cross-validation scores for Voting Classifier: {}\".format(scores))\n",
    "print()\n",
    "print(\"The average accuracy score for Voting Classifier is: \")\n",
    "print(np.mean(scores))"
   ]
  },
  {
   "cell_type": "code",
   "execution_count": 32,
   "metadata": {},
   "outputs": [
    {
     "name": "stdout",
     "output_type": "stream",
     "text": [
      "Cross-validation scores for Voting Classifier: [ 0.80212452  0.92630877  0.94607213  0.94244879  0.91428844]\n",
      "\n",
      "The average accuracy score for Voting Classifier is: \n",
      "0.906248527074\n"
     ]
    }
   ],
   "source": [
    "clf1g = linear_model.SGDClassifier(max_iter=1000, tol=1e-3)\n",
    "clf2g = PassiveAggressiveClassifier(C=0.1)\n",
    "clf3g = Perceptron(tol=1e-3, random_state=0)\n",
    "clf4g = MultinomialNB(alpha=50)\n",
    "\n",
    "eclf_cv3 = VotingClassifier(estimators=[('sgd',clf1g), ('pac',clf2g),('per', clf3g),('mnb',clf4g)], voting='hard')\n",
    "scores3 = cross_val_score(eclf_cv3,X,y, cv = 5)\n",
    "\n",
    "print(\"Cross-validation scores for Voting Classifier: {}\".format(scores3))\n",
    "print()\n",
    "print(\"The average accuracy score for Voting Classifier is: \")\n",
    "print(np.mean(scores3))"
   ]
  },
  {
   "cell_type": "code",
   "execution_count": null,
   "metadata": {
    "collapsed": true
   },
   "outputs": [],
   "source": []
  }
 ],
 "metadata": {
  "kernelspec": {
   "display_name": "Python [default]",
   "language": "python",
   "name": "python3"
  },
  "language_info": {
   "codemirror_mode": {
    "name": "ipython",
    "version": 3
   },
   "file_extension": ".py",
   "mimetype": "text/x-python",
   "name": "python",
   "nbconvert_exporter": "python",
   "pygments_lexer": "ipython3",
   "version": "3.6.9"
  }
 },
 "nbformat": 4,
 "nbformat_minor": 2
}
