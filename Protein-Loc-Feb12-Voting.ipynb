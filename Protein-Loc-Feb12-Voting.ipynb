{
 "cells": [
  {
   "cell_type": "code",
   "execution_count": 1,
   "metadata": {},
   "outputs": [],
   "source": [
    "import pandas as pd\n",
    "import seaborn as sns\n",
    "import numpy as np\n",
    "import time\n",
    "import re\n",
    "import nltk\n",
    "import math\n",
    "import os\n",
    "import matplotlib.pyplot as plt\n",
    "import sklearn.metrics\n",
    "\n",
    "from sklearn.ensemble import VotingClassifier\n",
    "from sklearn.linear_model import PassiveAggressiveClassifier\n",
    "from sklearn.linear_model import RidgeClassifier\n",
    "from sklearn.naive_bayes import MultinomialNB\n",
    "from sklearn import linear_model\n",
    "from sklearn.linear_model import Perceptron\n",
    "\n",
    "from sklearn import svm\n",
    "from sklearn.ensemble import GradientBoostingClassifier\n",
    "from sklearn.tree import DecisionTreeClassifier\n",
    "from sklearn.preprocessing import StandardScaler\n",
    "from sklearn.model_selection import train_test_split, GridSearchCV\n",
    "from sklearn.linear_model import LogisticRegression\n",
    "from sklearn.neighbors import KNeighborsClassifier\n",
    "from sklearn.ensemble import RandomForestClassifier\n",
    "\n",
    "from sklearn import linear_model\n",
    "from sklearn.naive_bayes import MultinomialNB\n",
    "from sklearn.ensemble import VotingClassifier\n",
    "from sklearn.linear_model import PassiveAggressiveClassifier\n",
    "\n",
    "from nltk.corpus import stopwords\n",
    "from sklearn.feature_extraction.text import TfidfVectorizer\n",
    "from sklearn.feature_extraction.text import CountVectorizer\n",
    "from sklearn.metrics import roc_auc_score\n",
    "from Bio.SeqUtils.ProtParam import ProteinAnalysis\n",
    "import sklearn.metrics\n",
    "from sklearn.metrics import confusion_matrix\n",
    "from sklearn.metrics import classification_report\n",
    "\n",
    "import pickle\n",
    "\n",
    "%matplotlib inline\n"
   ]
  },
  {
   "cell_type": "markdown",
   "metadata": {},
   "source": [
    "## Load csv files"
   ]
  },
  {
   "cell_type": "code",
   "execution_count": 2,
   "metadata": {},
   "outputs": [
    {
     "data": {
      "text/html": [
       "<div>\n",
       "<style scoped>\n",
       "    .dataframe tbody tr th:only-of-type {\n",
       "        vertical-align: middle;\n",
       "    }\n",
       "\n",
       "    .dataframe tbody tr th {\n",
       "        vertical-align: top;\n",
       "    }\n",
       "\n",
       "    .dataframe thead th {\n",
       "        text-align: right;\n",
       "    }\n",
       "</style>\n",
       "<table border=\"1\" class=\"dataframe\">\n",
       "  <thead>\n",
       "    <tr style=\"text-align: right;\">\n",
       "      <th></th>\n",
       "      <th>name</th>\n",
       "      <th>sequence</th>\n",
       "      <th>location</th>\n",
       "      <th>label</th>\n",
       "    </tr>\n",
       "  </thead>\n",
       "  <tbody>\n",
       "    <tr>\n",
       "      <th>0</th>\n",
       "      <td>tr|A0A0N4VT99|A0A0N4VT99_HAEPC</td>\n",
       "      <td>LLFVWLPQFIVRPHALLRFWMETDCQGNPPMYGDFEAQRHWMEITI...</td>\n",
       "      <td>0</td>\n",
       "      <td>ER</td>\n",
       "    </tr>\n",
       "    <tr>\n",
       "      <th>1</th>\n",
       "      <td>tr|A0A3P8RTP6|A0A3P8RTP6_AMPPE</td>\n",
       "      <td>MGRCVFLILAVLFSVTSSQFIPPYTEDCRTEMYPPKGPTYRGAVGW...</td>\n",
       "      <td>3</td>\n",
       "      <td>lysosome</td>\n",
       "    </tr>\n",
       "    <tr>\n",
       "      <th>2</th>\n",
       "      <td>sp|O89290|POL_HV193</td>\n",
       "      <td>MGARASVLSGGKLDAWEKIRLRPGGKKKYRLKHLVWASRELERFAL...</td>\n",
       "      <td>6</td>\n",
       "      <td>plasma_membrane</td>\n",
       "    </tr>\n",
       "    <tr>\n",
       "      <th>3</th>\n",
       "      <td>tr|S2JAV3|S2JAV3_MUCC1</td>\n",
       "      <td>MVKKQKKKQPITARVQPTEAKFKHSRVETARLIRKFHVLNKELAKC...</td>\n",
       "      <td>5</td>\n",
       "      <td>nucleus</td>\n",
       "    </tr>\n",
       "    <tr>\n",
       "      <th>4</th>\n",
       "      <td>sp|A5I7A5|UVRC_CLOBH</td>\n",
       "      <td>MFDLEYQLKNLPDKPGVYLMKNNLGEIIYVGKAKILKNRVRQYFQK...</td>\n",
       "      <td>2</td>\n",
       "      <td>cytoplasm</td>\n",
       "    </tr>\n",
       "  </tbody>\n",
       "</table>\n",
       "</div>"
      ],
      "text/plain": [
       "                             name  \\\n",
       "0  tr|A0A0N4VT99|A0A0N4VT99_HAEPC   \n",
       "1  tr|A0A3P8RTP6|A0A3P8RTP6_AMPPE   \n",
       "2             sp|O89290|POL_HV193   \n",
       "3          tr|S2JAV3|S2JAV3_MUCC1   \n",
       "4            sp|A5I7A5|UVRC_CLOBH   \n",
       "\n",
       "                                            sequence  location  \\\n",
       "0  LLFVWLPQFIVRPHALLRFWMETDCQGNPPMYGDFEAQRHWMEITI...         0   \n",
       "1  MGRCVFLILAVLFSVTSSQFIPPYTEDCRTEMYPPKGPTYRGAVGW...         3   \n",
       "2  MGARASVLSGGKLDAWEKIRLRPGGKKKYRLKHLVWASRELERFAL...         6   \n",
       "3  MVKKQKKKQPITARVQPTEAKFKHSRVETARLIRKFHVLNKELAKC...         5   \n",
       "4  MFDLEYQLKNLPDKPGVYLMKNNLGEIIYVGKAKILKNRVRQYFQK...         2   \n",
       "\n",
       "             label  \n",
       "0               ER  \n",
       "1         lysosome  \n",
       "2  plasma_membrane  \n",
       "3          nucleus  \n",
       "4        cytoplasm  "
      ]
     },
     "execution_count": 2,
     "metadata": {},
     "output_type": "execute_result"
    }
   ],
   "source": [
    "proteins = pd.read_csv('protein-SevenLocations-Feb12.csv')\n",
    "\n",
    "proteins.head()"
   ]
  },
  {
   "cell_type": "code",
   "execution_count": 3,
   "metadata": {},
   "outputs": [
    {
     "data": {
      "text/plain": [
       "(700483, 4)"
      ]
     },
     "execution_count": 3,
     "metadata": {},
     "output_type": "execute_result"
    }
   ],
   "source": [
    "proteins.shape"
   ]
  },
  {
   "cell_type": "code",
   "execution_count": 4,
   "metadata": {},
   "outputs": [],
   "source": [
    "# permute/scramble/shuffle rows of the dataframe\n",
    "proteins = proteins.sample(frac=1)"
   ]
  },
  {
   "cell_type": "code",
   "execution_count": 5,
   "metadata": {},
   "outputs": [
    {
     "data": {
      "text/plain": [
       "5    178929\n",
       "0    118331\n",
       "4    109750\n",
       "2     97116\n",
       "1     75188\n",
       "3     60911\n",
       "6     60258\n",
       "Name: location, dtype: int64"
      ]
     },
     "execution_count": 5,
     "metadata": {},
     "output_type": "execute_result"
    }
   ],
   "source": [
    "proteins.location.value_counts()"
   ]
  },
  {
   "cell_type": "code",
   "execution_count": 6,
   "metadata": {},
   "outputs": [
    {
     "data": {
      "text/plain": [
       "nucleus            178929\n",
       "ER                 118331\n",
       "mitochondria       109750\n",
       "cytoplasm           97116\n",
       "Golgi               75188\n",
       "lysosome            60911\n",
       "plasma_membrane     60258\n",
       "Name: label, dtype: int64"
      ]
     },
     "execution_count": 6,
     "metadata": {},
     "output_type": "execute_result"
    }
   ],
   "source": [
    "proteins.label.value_counts()"
   ]
  },
  {
   "cell_type": "code",
   "execution_count": 7,
   "metadata": {},
   "outputs": [
    {
     "data": {
      "text/plain": [
       "(700483, 4)"
      ]
     },
     "execution_count": 7,
     "metadata": {},
     "output_type": "execute_result"
    }
   ],
   "source": [
    "# remove the duplicate protein sequences\n",
    "proteins = proteins.drop_duplicates(subset='sequence', keep=\"first\")\n",
    "\n",
    "# remove nan from 'sequence' column\n",
    "proteins = proteins[proteins['sequence'].notnull()]\n",
    "\n",
    "proteins.shape"
   ]
  },
  {
   "cell_type": "code",
   "execution_count": 8,
   "metadata": {},
   "outputs": [
    {
     "data": {
      "text/plain": [
       "nucleus            178929\n",
       "ER                 118331\n",
       "mitochondria       109750\n",
       "cytoplasm           97116\n",
       "Golgi               75188\n",
       "lysosome            60911\n",
       "plasma_membrane     60258\n",
       "Name: label, dtype: int64"
      ]
     },
     "execution_count": 8,
     "metadata": {},
     "output_type": "execute_result"
    }
   ],
   "source": [
    "proteins.label.value_counts()"
   ]
  },
  {
   "cell_type": "code",
   "execution_count": null,
   "metadata": {},
   "outputs": [],
   "source": []
  },
  {
   "cell_type": "markdown",
   "metadata": {},
   "source": [
    "## Transform the protein sequence data with CountVectorizer to get peptide frequency. Split the data into training & test sets."
   ]
  },
  {
   "cell_type": "code",
   "execution_count": 9,
   "metadata": {},
   "outputs": [],
   "source": [
    "# Peptide count is used for analysis\n",
    "peptide_size = 6\n",
    "vect = CountVectorizer(min_df=1,token_pattern=r'\\w{1}',ngram_range=(peptide_size,peptide_size))"
   ]
  },
  {
   "cell_type": "code",
   "execution_count": 10,
   "metadata": {},
   "outputs": [],
   "source": [
    "X = vect.fit_transform(proteins.sequence)\n",
    "y = proteins.location"
   ]
  },
  {
   "cell_type": "code",
   "execution_count": 11,
   "metadata": {},
   "outputs": [
    {
     "name": "stdout",
     "output_type": "stream",
     "text": [
      "((560386, 34701392), (560386,))\n",
      "((140097, 34701392), (140097,))\n"
     ]
    }
   ],
   "source": [
    "# Split the data into training and test sets\n",
    "X_train, X_test, y_train, y_test = train_test_split(X,y, test_size=0.2,random_state =42)\n",
    "print(X_train.shape, y_train.shape)\n",
    "print(X_test.shape, y_test.shape)"
   ]
  },
  {
   "cell_type": "code",
   "execution_count": 12,
   "metadata": {},
   "outputs": [
    {
     "data": {
      "text/plain": [
       "5    35844\n",
       "0    23753\n",
       "4    21711\n",
       "2    19458\n",
       "1    15054\n",
       "3    12148\n",
       "6    12129\n",
       "Name: location, dtype: int64"
      ]
     },
     "execution_count": 12,
     "metadata": {},
     "output_type": "execute_result"
    }
   ],
   "source": [
    "y_test.value_counts()"
   ]
  },
  {
   "cell_type": "markdown",
   "metadata": {},
   "source": [
    "## Classifiers"
   ]
  },
  {
   "cell_type": "code",
   "execution_count": 13,
   "metadata": {},
   "outputs": [
    {
     "name": "stdout",
     "output_type": "stream",
     "text": [
      "MNB classifier Score: 0.92\n",
      "()\n",
      "CPU times: user 36.2 s, sys: 20.6 s, total: 56.8 s\n",
      "Wall time: 1min 5s\n"
     ]
    }
   ],
   "source": [
    "%%time\n",
    "mnb = MultinomialNB()\n",
    "mnb.fit(X_train, y_train)\n",
    "# evaluate accuracy of our model on test data\n",
    "print(\"MNB classifier Score: {:.2f}\".format(mnb.score(X_test, y_test)))\n",
    "print()"
   ]
  },
  {
   "cell_type": "code",
   "execution_count": 14,
   "metadata": {},
   "outputs": [
    {
     "name": "stderr",
     "output_type": "stream",
     "text": [
      "/Users/scottlew/anaconda2/lib/python2.7/site-packages/sklearn/linear_model/stochastic_gradient.py:166: FutureWarning: max_iter and tol parameters have been added in PassiveAggressiveClassifier in 0.19. If both are left unset, they default to max_iter=5 and tol=None. If tol is not None, max_iter defaults to max_iter=1000. From 0.21, default max_iter will be 1000, and default tol will be 1e-3.\n",
      "  FutureWarning)\n"
     ]
    },
    {
     "name": "stdout",
     "output_type": "stream",
     "text": [
      "Passive Aggressive classifier Score: 0.94\n",
      "()\n",
      "CPU times: user 3min 39s, sys: 16.2 s, total: 3min 55s\n",
      "Wall time: 10min 17s\n"
     ]
    }
   ],
   "source": [
    "%%time\n",
    "pac = PassiveAggressiveClassifier()\n",
    "pac.fit(X_train, y_train)\n",
    "# evaluate accuracy of our model on test data\n",
    "print(\"Passive Aggressive classifier Score: {:.2f}\".format(pac.score(X_test, y_test)))\n",
    "print()"
   ]
  },
  {
   "cell_type": "code",
   "execution_count": 15,
   "metadata": {},
   "outputs": [
    {
     "name": "stdout",
     "output_type": "stream",
     "text": [
      "              precision    recall  f1-score   support\n",
      "\n",
      "           0       0.95      0.97      0.96     23334\n",
      "           1       0.96      0.97      0.97     14790\n",
      "           2       0.91      0.91      0.91     19511\n",
      "           3       0.96      0.98      0.97     11845\n",
      "           4       0.93      0.97      0.95     20885\n",
      "           5       0.96      0.92      0.94     37569\n",
      "           6       0.88      0.88      0.88     12163\n",
      "\n",
      "   micro avg       0.94      0.94      0.94    140097\n",
      "   macro avg       0.94      0.94      0.94    140097\n",
      "weighted avg       0.94      0.94      0.94    140097\n",
      "\n"
     ]
    }
   ],
   "source": [
    "vote_prediction_pac = pac.predict(X_test)\n",
    "print(classification_report(vote_prediction_pac, y_test))"
   ]
  },
  {
   "cell_type": "code",
   "execution_count": 16,
   "metadata": {},
   "outputs": [
    {
     "name": "stdout",
     "output_type": "stream",
     "text": [
      "Passive Aggressive classifier with squared hinge loss Score: 0.94\n",
      "()\n",
      "CPU times: user 3min 2s, sys: 10.8 s, total: 3min 13s\n",
      "Wall time: 3min 19s\n"
     ]
    }
   ],
   "source": [
    "%%time\n",
    "pac2 = PassiveAggressiveClassifier(loss='squared_hinge')\n",
    "pac2.fit(X_train, y_train)\n",
    "# evaluate accuracy of our model on test data\n",
    "print(\"Passive Aggressive classifier with squared hinge loss Score: {:.2f}\".format(pac2.score(X_test, y_test)))\n",
    "print()"
   ]
  },
  {
   "cell_type": "code",
   "execution_count": 17,
   "metadata": {},
   "outputs": [
    {
     "name": "stdout",
     "output_type": "stream",
     "text": [
      "Confusion Matrix for Majority Vote Model\n",
      "()\n",
      "[[22602   325    75     9    82   188   472]\n",
      " [  365 14367    34    26    25    74   163]\n",
      " [   31     9 17657    40   181  1022   518]\n",
      " [   39     8    63 11646    21   127   244]\n",
      " [  115    11   359    13 20219   442   552]\n",
      " [   59     4   741    29   197 34123   691]\n",
      " [   55    11   426    80   112   531 10914]]\n"
     ]
    }
   ],
   "source": [
    "# Generate Confusion Matrix \n",
    "actual = y_test\n",
    "predictions = pac2.predict(X_test)\n",
    "print('Confusion Matrix for Majority Vote Model')\n",
    "print()\n",
    "cm = confusion_matrix(actual,predictions)\n",
    "print(cm)"
   ]
  },
  {
   "cell_type": "code",
   "execution_count": 18,
   "metadata": {},
   "outputs": [
    {
     "name": "stdout",
     "output_type": "stream",
     "text": [
      "SGD classifier Score: 0.94\n",
      "()\n",
      "CPU times: user 7min 43s, sys: 12 s, total: 7min 55s\n",
      "Wall time: 11min 43s\n"
     ]
    }
   ],
   "source": [
    "%%time\n",
    "sgd = linear_model.SGDClassifier(max_iter=1000, tol=1e-3)\n",
    "sgd.fit(X_train, y_train)\n",
    "# evaluate accuracy of our model on test data\n",
    "print(\"SGD classifier Score: {:.2f}\".format(sgd.score(X_test, y_test)))\n",
    "print()"
   ]
  },
  {
   "cell_type": "code",
   "execution_count": 19,
   "metadata": {},
   "outputs": [
    {
     "name": "stdout",
     "output_type": "stream",
     "text": [
      "Perceptron classifier Score: 0.93\n",
      "()\n",
      "CPU times: user 18min, sys: 14.9 s, total: 18min 15s\n",
      "Wall time: 26min 15s\n"
     ]
    }
   ],
   "source": [
    "%%time\n",
    "per = Perceptron(tol=1e-3, random_state=0).fit(X_train,y_train)\n",
    "# evaluate accuracy of our model on test data\n",
    "print(\"Perceptron classifier Score: {:.2f}\".format(per.score(X_test, y_test)))\n",
    "print()"
   ]
  },
  {
   "cell_type": "code",
   "execution_count": null,
   "metadata": {},
   "outputs": [],
   "source": []
  },
  {
   "cell_type": "markdown",
   "metadata": {},
   "source": [
    "## Majority Vote Classifiers"
   ]
  },
  {
   "cell_type": "code",
   "execution_count": 20,
   "metadata": {},
   "outputs": [],
   "source": [
    "# three classifiers: SGD, PassiveAggressiveClassifier, MNB\n",
    "\n",
    "clf1 = linear_model.SGDClassifier(max_iter=1000, tol=1e-3)\n",
    "clf2 = PassiveAggressiveClassifier()\n",
    "clf3 = MultinomialNB()"
   ]
  },
  {
   "cell_type": "code",
   "execution_count": 21,
   "metadata": {},
   "outputs": [
    {
     "name": "stdout",
     "output_type": "stream",
     "text": [
      "Majority Voting Classifier Score: 0.94\n"
     ]
    }
   ],
   "source": [
    "eclf1 = VotingClassifier(estimators=[('sgd', clf1), ('pac', clf2), ('mnb', clf3)], voting='hard')\n",
    "eclf1 = eclf1.fit(X_train, y_train)\n",
    "# evaluate accuracy of our model on test data\n",
    "print(\"Majority Voting Classifier Score: {:.2f}\".format(eclf1.score(X_test, y_test)))"
   ]
  },
  {
   "cell_type": "code",
   "execution_count": 22,
   "metadata": {},
   "outputs": [
    {
     "name": "stdout",
     "output_type": "stream",
     "text": [
      "Confusion Matrix for Majority Vote Model\n",
      "()\n",
      "[[22703   356    78    12    83   240   281]\n",
      " [  346 14474    38    20    20   100    56]\n",
      " [   31     9 17763    44   154  1152   305]\n",
      " [   36    20    92 11670    11   167   152]\n",
      " [  112    19   442    15 20214   616   293]\n",
      " [   63     6   757    32   175 34457   354]\n",
      " [   60    16   463    79   104   640 10767]]\n"
     ]
    }
   ],
   "source": [
    "# Generate Confusion Matrix \n",
    "actual = y_test\n",
    "predictions = eclf1.predict(X_test)\n",
    "print('Confusion Matrix for Majority Vote Model')\n",
    "print()\n",
    "cm = confusion_matrix(actual,predictions)\n",
    "print(cm)"
   ]
  },
  {
   "cell_type": "code",
   "execution_count": 23,
   "metadata": {},
   "outputs": [
    {
     "data": {
      "image/png": "[encoded data removed]",
      "text/plain": [
       "<Figure size 720x360 with 2 Axes>"
      ]
     },
     "metadata": {
      "needs_background": "light"
     },
     "output_type": "display_data"
    }
   ],
   "source": [
    "# Nice plot of confusion matrix\n",
    "# Adjust size of confusion matrix by following code taken from StackOverflow\n",
    "# https://stackoverflow.com/questions/43021762/matplotlib-how-to-change-figsize-for-matshow\n",
    "plt.figure(figsize=(10,5))\n",
    "plt.matshow(cm, fignum=1)\n",
    "\n",
    "plt.title('Confusion Matrix Plot for Majority Vote Model')\n",
    "plt.colorbar()\n",
    "plt.xlabel('Predicted')\n",
    "plt.ylabel('Actual')\n",
    "\n",
    "plt.show()"
   ]
  },
  {
   "cell_type": "code",
   "execution_count": 24,
   "metadata": {},
   "outputs": [
    {
     "name": "stdout",
     "output_type": "stream",
     "text": [
      "              precision    recall  f1-score   support\n",
      "\n",
      "           0       0.96      0.97      0.96     23351\n",
      "           1       0.96      0.97      0.97     14900\n",
      "           2       0.91      0.90      0.91     19633\n",
      "           3       0.96      0.98      0.97     11872\n",
      "           4       0.93      0.97      0.95     20761\n",
      "           5       0.96      0.92      0.94     37372\n",
      "           6       0.89      0.88      0.88     12208\n",
      "\n",
      "   micro avg       0.94      0.94      0.94    140097\n",
      "   macro avg       0.94      0.94      0.94    140097\n",
      "weighted avg       0.94      0.94      0.94    140097\n",
      "\n"
     ]
    }
   ],
   "source": [
    "vote_prediction1 = eclf1.predict(X_test)\n",
    "print(classification_report(vote_prediction1, y_test))"
   ]
  },
  {
   "cell_type": "code",
   "execution_count": 25,
   "metadata": {},
   "outputs": [
    {
     "name": "stdout",
     "output_type": "stream",
     "text": [
      "Majority Voting Classifier Score: 0.94\n",
      "()\n",
      "CPU times: user 12min 19s, sys: 1min 11s, total: 13min 31s\n",
      "Wall time: 15min 7s\n"
     ]
    }
   ],
   "source": [
    "%%time\n",
    "clf1a = linear_model.SGDClassifier(max_iter=1000, tol=1e-3)\n",
    "clf2a = PassiveAggressiveClassifier(C=0.1)\n",
    "clf3a = MultinomialNB(alpha=50)\n",
    "\n",
    "eclf2 = VotingClassifier(estimators=[('sgd', clf1a), ('pac', clf2a), ('mnb', clf3a)], voting='hard')\n",
    "eclf2.fit(X_train, y_train)\n",
    "# evaluate accuracy of our model on test data\n",
    "print(\"Majority Voting Classifier Score: {:.2f}\".format(eclf2.score(X_test, y_test)))\n",
    "print()"
   ]
  },
  {
   "cell_type": "code",
   "execution_count": 26,
   "metadata": {},
   "outputs": [
    {
     "name": "stdout",
     "output_type": "stream",
     "text": [
      "              precision    recall  f1-score   support\n",
      "\n",
      "           0       0.96      0.97      0.96     23561\n",
      "           1       0.96      0.97      0.97     14865\n",
      "           2       0.91      0.91      0.91     19403\n",
      "           3       0.96      0.98      0.97     11850\n",
      "           4       0.93      0.97      0.95     20755\n",
      "           5       0.97      0.91      0.94     37882\n",
      "           6       0.87      0.90      0.89     11781\n",
      "\n",
      "   micro avg       0.94      0.94      0.94    140097\n",
      "   macro avg       0.94      0.95      0.94    140097\n",
      "weighted avg       0.94      0.94      0.94    140097\n",
      "\n"
     ]
    }
   ],
   "source": [
    "vote_prediction2 = eclf2.predict(X_test)\n",
    "print(classification_report(vote_prediction2, y_test))"
   ]
  },
  {
   "cell_type": "code",
   "execution_count": 27,
   "metadata": {},
   "outputs": [
    {
     "name": "stdout",
     "output_type": "stream",
     "text": [
      "Majority Voting Classifier Score: 0.94\n",
      "()\n",
      "CPU times: user 28min 20s, sys: 1min 27s, total: 29min 47s\n",
      "Wall time: 31min 26s\n"
     ]
    }
   ],
   "source": [
    "%%time\n",
    "clf1d = linear_model.SGDClassifier(max_iter=1000, tol=1e-3)\n",
    "clf2d = PassiveAggressiveClassifier(C=0.1)\n",
    "clf3d = Perceptron(tol=1e-3, random_state=0)\n",
    "clf4d = MultinomialNB(alpha=50)\n",
    "\n",
    "eclf3 = VotingClassifier(estimators=[('sgd', clf1d), ('pac', clf2d), ('per', clf3d),('mnb',clf4d)], voting='hard')\n",
    "eclf3.fit(X_train, y_train)\n",
    "# evaluate accuracy of our model on test data\n",
    "print(\"Majority Voting Classifier Score: {:.2f}\".format(eclf3.score(X_test, y_test)))\n",
    "print()"
   ]
  },
  {
   "cell_type": "code",
   "execution_count": 28,
   "metadata": {},
   "outputs": [
    {
     "name": "stdout",
     "output_type": "stream",
     "text": [
      "              precision    recall  f1-score   support\n",
      "\n",
      "           0       0.96      0.96      0.96     23781\n",
      "           1       0.96      0.97      0.97     14823\n",
      "           2       0.91      0.91      0.91     19455\n",
      "           3       0.96      0.98      0.97     11903\n",
      "           4       0.93      0.97      0.95     20847\n",
      "           5       0.96      0.92      0.94     37758\n",
      "           6       0.86      0.91      0.88     11530\n",
      "\n",
      "   micro avg       0.94      0.94      0.94    140097\n",
      "   macro avg       0.94      0.95      0.94    140097\n",
      "weighted avg       0.94      0.94      0.94    140097\n",
      "\n"
     ]
    }
   ],
   "source": [
    "vote_prediction3 = eclf3.predict(X_test)\n",
    "print(classification_report(vote_prediction3, y_test))"
   ]
  },
  {
   "cell_type": "markdown",
   "metadata": {},
   "source": [
    "## Cross Validation"
   ]
  },
  {
   "cell_type": "code",
   "execution_count": 29,
   "metadata": {},
   "outputs": [],
   "source": [
    "from sklearn.model_selection import cross_val_score, cross_val_predict"
   ]
  },
  {
   "cell_type": "code",
   "execution_count": 30,
   "metadata": {},
   "outputs": [
    {
     "name": "stdout",
     "output_type": "stream",
     "text": [
      "Cross-validation scores for Passive Aggressive Classifier: [0.94154889 0.94136206 0.94021999 0.94118277 0.94202464]\n",
      "()\n",
      "The average accuracy score for Passive Aggressive Classifier is: \n",
      "0.9412676699612105\n"
     ]
    }
   ],
   "source": [
    "pac_cv = PassiveAggressiveClassifier()\n",
    "scores = cross_val_score(pac_cv,X,y, cv = 5)\n",
    "print(\"Cross-validation scores for Passive Aggressive Classifier: {}\".format(scores))\n",
    "print()\n",
    "print(\"The average accuracy score for Passive Aggressive Classifier is: \")\n",
    "print(np.mean(scores))"
   ]
  },
  {
   "cell_type": "code",
   "execution_count": 31,
   "metadata": {},
   "outputs": [
    {
     "name": "stdout",
     "output_type": "stream",
     "text": [
      "Cross-validation scores for Voting Classifier: [0.94173448 0.94166899 0.94094806 0.9415825  0.94225306]\n",
      "()\n",
      "The average accuracy score for Voting Classifier is: \n",
      "0.941637415106312\n"
     ]
    }
   ],
   "source": [
    "clf1a = linear_model.SGDClassifier(max_iter=1000, tol=1e-3)\n",
    "clf2a = PassiveAggressiveClassifier(C=0.1)\n",
    "clf3a = MultinomialNB(alpha=50)\n",
    "\n",
    "voteClass_cv = VotingClassifier(estimators=[('sgd', clf1a), ('pac', clf2a), ('mnb', clf3a)], voting='hard')\n",
    "\n",
    "scores = cross_val_score(voteClass_cv,X,y, cv = 5)\n",
    "print(\"Cross-validation scores for Voting Classifier: {}\".format(scores))\n",
    "print()\n",
    "print(\"The average accuracy score for Voting Classifier is: \")\n",
    "print(np.mean(scores))"
   ]
  },
  {
   "cell_type": "code",
   "execution_count": null,
   "metadata": {},
   "outputs": [],
   "source": []
  }
 ],
 "metadata": {
  "kernelspec": {
   "display_name": "Python 2",
   "language": "python",
   "name": "python2"
  },
  "language_info": {
   "codemirror_mode": {
    "name": "ipython",
    "version": 2
   },
   "file_extension": ".py",
   "mimetype": "text/x-python",
   "name": "python",
   "nbconvert_exporter": "python",
   "pygments_lexer": "ipython2",
   "version": "2.7.16"
  }
 },
 "nbformat": 4,
 "nbformat_minor": 2
}
