{
 "cells": [
  {
   "cell_type": "code",
   "execution_count": 1,
   "metadata": {
    "collapsed": true
   },
   "outputs": [],
   "source": [
    "import pandas as pd\n",
    "import numpy as np\n",
    "import seaborn as sns\n",
    "import matplotlib.pyplot as plt\n",
    "import time\n",
    "import re\n",
    "import nltk\n",
    "import math\n",
    "from sklearn import svm\n",
    "from sklearn.preprocessing import StandardScaler\n",
    "from sklearn.model_selection import train_test_split, GridSearchCV\n",
    "from sklearn.linear_model import LogisticRegression\n",
    "from sklearn.neighbors import KNeighborsClassifier\n",
    "from sklearn.ensemble import RandomForestClassifier\n",
    "from nltk.corpus import stopwords\n",
    "from sklearn.feature_extraction.text import TfidfVectorizer\n",
    "from sklearn.feature_extraction.text import CountVectorizer\n",
    "import sklearn.metrics\n",
    "from sklearn.metrics import confusion_matrix\n",
    "from Bio.SeqUtils.ProtParam import ProteinAnalysis\n",
    "from imblearn.over_sampling import SMOTE\n",
    "\n",
    "%matplotlib inline"
   ]
  },
  {
   "cell_type": "code",
   "execution_count": 2,
   "metadata": {
    "collapsed": true
   },
   "outputs": [],
   "source": [
    "# Data taken from https://www.kaggle.com/shahir/protein-data-set\n",
    "# This is a protein data set retrieved from Research Collaboratory for Structural Bioinformatics (RCSB) Protein Data Bank (PDB)."
   ]
  },
  {
   "cell_type": "code",
   "execution_count": 3,
   "metadata": {},
   "outputs": [
    {
     "data": {
      "text/html": [
       "<div>\n",
       "<style scoped>\n",
       "    .dataframe tbody tr th:only-of-type {\n",
       "        vertical-align: middle;\n",
       "    }\n",
       "\n",
       "    .dataframe tbody tr th {\n",
       "        vertical-align: top;\n",
       "    }\n",
       "\n",
       "    .dataframe thead th {\n",
       "        text-align: right;\n",
       "    }\n",
       "</style>\n",
       "<table border=\"1\" class=\"dataframe\">\n",
       "  <thead>\n",
       "    <tr style=\"text-align: right;\">\n",
       "      <th></th>\n",
       "      <th>structureId</th>\n",
       "      <th>classification</th>\n",
       "      <th>experimentalTechnique</th>\n",
       "      <th>macromoleculeType</th>\n",
       "      <th>residueCount</th>\n",
       "      <th>resolution</th>\n",
       "      <th>structureMolecularWeight</th>\n",
       "      <th>crystallizationMethod</th>\n",
       "      <th>crystallizationTempK</th>\n",
       "      <th>densityMatthews</th>\n",
       "      <th>densityPercentSol</th>\n",
       "      <th>pdbxDetails</th>\n",
       "      <th>phValue</th>\n",
       "      <th>publicationYear</th>\n",
       "    </tr>\n",
       "  </thead>\n",
       "  <tbody>\n",
       "    <tr>\n",
       "      <th>0</th>\n",
       "      <td>100D</td>\n",
       "      <td>DNA-RNA HYBRID</td>\n",
       "      <td>X-RAY DIFFRACTION</td>\n",
       "      <td>DNA/RNA Hybrid</td>\n",
       "      <td>20</td>\n",
       "      <td>1.90</td>\n",
       "      <td>6360.30</td>\n",
       "      <td>VAPOR DIFFUSION, HANGING DROP</td>\n",
       "      <td>NaN</td>\n",
       "      <td>1.78</td>\n",
       "      <td>30.89</td>\n",
       "      <td>pH 7.00, VAPOR DIFFUSION, HANGING DROP</td>\n",
       "      <td>7.0</td>\n",
       "      <td>1994.0</td>\n",
       "    </tr>\n",
       "    <tr>\n",
       "      <th>1</th>\n",
       "      <td>101D</td>\n",
       "      <td>DNA</td>\n",
       "      <td>X-RAY DIFFRACTION</td>\n",
       "      <td>DNA</td>\n",
       "      <td>24</td>\n",
       "      <td>2.25</td>\n",
       "      <td>7939.35</td>\n",
       "      <td>NaN</td>\n",
       "      <td>NaN</td>\n",
       "      <td>2.00</td>\n",
       "      <td>38.45</td>\n",
       "      <td>NaN</td>\n",
       "      <td>NaN</td>\n",
       "      <td>1995.0</td>\n",
       "    </tr>\n",
       "    <tr>\n",
       "      <th>2</th>\n",
       "      <td>101M</td>\n",
       "      <td>OXYGEN TRANSPORT</td>\n",
       "      <td>X-RAY DIFFRACTION</td>\n",
       "      <td>Protein</td>\n",
       "      <td>154</td>\n",
       "      <td>2.07</td>\n",
       "      <td>18112.80</td>\n",
       "      <td>NaN</td>\n",
       "      <td>NaN</td>\n",
       "      <td>3.09</td>\n",
       "      <td>60.20</td>\n",
       "      <td>3.0 M AMMONIUM SULFATE, 20 MM TRIS, 1MM EDTA, ...</td>\n",
       "      <td>9.0</td>\n",
       "      <td>1999.0</td>\n",
       "    </tr>\n",
       "  </tbody>\n",
       "</table>\n",
       "</div>"
      ],
      "text/plain": [
       "  structureId    classification experimentalTechnique macromoleculeType  \\\n",
       "0        100D    DNA-RNA HYBRID     X-RAY DIFFRACTION    DNA/RNA Hybrid   \n",
       "1        101D               DNA     X-RAY DIFFRACTION               DNA   \n",
       "2        101M  OXYGEN TRANSPORT     X-RAY DIFFRACTION           Protein   \n",
       "\n",
       "   residueCount  resolution  structureMolecularWeight  \\\n",
       "0            20        1.90                   6360.30   \n",
       "1            24        2.25                   7939.35   \n",
       "2           154        2.07                  18112.80   \n",
       "\n",
       "           crystallizationMethod  crystallizationTempK  densityMatthews  \\\n",
       "0  VAPOR DIFFUSION, HANGING DROP                   NaN             1.78   \n",
       "1                            NaN                   NaN             2.00   \n",
       "2                            NaN                   NaN             3.09   \n",
       "\n",
       "   densityPercentSol                                        pdbxDetails  \\\n",
       "0              30.89             pH 7.00, VAPOR DIFFUSION, HANGING DROP   \n",
       "1              38.45                                                NaN   \n",
       "2              60.20  3.0 M AMMONIUM SULFATE, 20 MM TRIS, 1MM EDTA, ...   \n",
       "\n",
       "   phValue  publicationYear  \n",
       "0      7.0           1994.0  \n",
       "1      NaN           1995.0  \n",
       "2      9.0           1999.0  "
      ]
     },
     "execution_count": 3,
     "metadata": {},
     "output_type": "execute_result"
    }
   ],
   "source": [
    "df1 = pd.read_csv('pdb_data_no_dups.csv')\n",
    "df2 = pd.read_csv('pdb_data_seq.csv')\n",
    "df1.head(3)"
   ]
  },
  {
   "cell_type": "code",
   "execution_count": 4,
   "metadata": {},
   "outputs": [
    {
     "data": {
      "text/html": [
       "<div>\n",
       "<style scoped>\n",
       "    .dataframe tbody tr th:only-of-type {\n",
       "        vertical-align: middle;\n",
       "    }\n",
       "\n",
       "    .dataframe tbody tr th {\n",
       "        vertical-align: top;\n",
       "    }\n",
       "\n",
       "    .dataframe thead th {\n",
       "        text-align: right;\n",
       "    }\n",
       "</style>\n",
       "<table border=\"1\" class=\"dataframe\">\n",
       "  <thead>\n",
       "    <tr style=\"text-align: right;\">\n",
       "      <th></th>\n",
       "      <th>structureId</th>\n",
       "      <th>chainId</th>\n",
       "      <th>sequence</th>\n",
       "      <th>residueCount</th>\n",
       "      <th>macromoleculeType</th>\n",
       "    </tr>\n",
       "  </thead>\n",
       "  <tbody>\n",
       "    <tr>\n",
       "      <th>0</th>\n",
       "      <td>100D</td>\n",
       "      <td>A</td>\n",
       "      <td>CCGGCGCCGG</td>\n",
       "      <td>20</td>\n",
       "      <td>DNA/RNA Hybrid</td>\n",
       "    </tr>\n",
       "    <tr>\n",
       "      <th>1</th>\n",
       "      <td>100D</td>\n",
       "      <td>B</td>\n",
       "      <td>CCGGCGCCGG</td>\n",
       "      <td>20</td>\n",
       "      <td>DNA/RNA Hybrid</td>\n",
       "    </tr>\n",
       "    <tr>\n",
       "      <th>2</th>\n",
       "      <td>101D</td>\n",
       "      <td>A</td>\n",
       "      <td>CGCGAATTCGCG</td>\n",
       "      <td>24</td>\n",
       "      <td>DNA</td>\n",
       "    </tr>\n",
       "    <tr>\n",
       "      <th>3</th>\n",
       "      <td>101D</td>\n",
       "      <td>B</td>\n",
       "      <td>CGCGAATTCGCG</td>\n",
       "      <td>24</td>\n",
       "      <td>DNA</td>\n",
       "    </tr>\n",
       "    <tr>\n",
       "      <th>4</th>\n",
       "      <td>101M</td>\n",
       "      <td>A</td>\n",
       "      <td>MVLSEGEWQLVLHVWAKVEADVAGHGQDILIRLFKSHPETLEKFDR...</td>\n",
       "      <td>154</td>\n",
       "      <td>Protein</td>\n",
       "    </tr>\n",
       "  </tbody>\n",
       "</table>\n",
       "</div>"
      ],
      "text/plain": [
       "  structureId chainId                                           sequence  \\\n",
       "0        100D       A                                         CCGGCGCCGG   \n",
       "1        100D       B                                         CCGGCGCCGG   \n",
       "2        101D       A                                       CGCGAATTCGCG   \n",
       "3        101D       B                                       CGCGAATTCGCG   \n",
       "4        101M       A  MVLSEGEWQLVLHVWAKVEADVAGHGQDILIRLFKSHPETLEKFDR...   \n",
       "\n",
       "   residueCount macromoleculeType  \n",
       "0            20    DNA/RNA Hybrid  \n",
       "1            20    DNA/RNA Hybrid  \n",
       "2            24               DNA  \n",
       "3            24               DNA  \n",
       "4           154           Protein  "
      ]
     },
     "execution_count": 4,
     "metadata": {},
     "output_type": "execute_result"
    }
   ],
   "source": [
    "df2.head()"
   ]
  },
  {
   "cell_type": "code",
   "execution_count": 5,
   "metadata": {},
   "outputs": [
    {
     "data": {
      "text/plain": [
       "Index(['structureId', 'classification', 'experimentalTechnique',\n",
       "       'macromoleculeType', 'residueCount', 'resolution',\n",
       "       'structureMolecularWeight', 'crystallizationMethod',\n",
       "       'crystallizationTempK', 'densityMatthews', 'densityPercentSol',\n",
       "       'pdbxDetails', 'phValue', 'publicationYear'],\n",
       "      dtype='object')"
      ]
     },
     "execution_count": 5,
     "metadata": {},
     "output_type": "execute_result"
    }
   ],
   "source": [
    "df1.columns"
   ]
  },
  {
   "cell_type": "code",
   "execution_count": 6,
   "metadata": {},
   "outputs": [
    {
     "data": {
      "text/plain": [
       "Index(['structureId', 'chainId', 'sequence', 'residueCount',\n",
       "       'macromoleculeType'],\n",
       "      dtype='object')"
      ]
     },
     "execution_count": 6,
     "metadata": {},
     "output_type": "execute_result"
    }
   ],
   "source": [
    "df2.columns"
   ]
  },
  {
   "cell_type": "code",
   "execution_count": 7,
   "metadata": {},
   "outputs": [
    {
     "data": {
      "text/plain": [
       "(141401, 14)"
      ]
     },
     "execution_count": 7,
     "metadata": {},
     "output_type": "execute_result"
    }
   ],
   "source": [
    "df1.shape"
   ]
  },
  {
   "cell_type": "code",
   "execution_count": 8,
   "metadata": {},
   "outputs": [
    {
     "data": {
      "text/plain": [
       "(467304, 5)"
      ]
     },
     "execution_count": 8,
     "metadata": {},
     "output_type": "execute_result"
    }
   ],
   "source": [
    "df2.shape"
   ]
  },
  {
   "cell_type": "code",
   "execution_count": 9,
   "metadata": {
    "collapsed": true
   },
   "outputs": [],
   "source": [
    "df3 = pd.merge(df1, df2, on=['structureId','macromoleculeType','residueCount'])"
   ]
  },
  {
   "cell_type": "code",
   "execution_count": 10,
   "metadata": {},
   "outputs": [
    {
     "data": {
      "text/plain": [
       "(471149, 16)"
      ]
     },
     "execution_count": 10,
     "metadata": {},
     "output_type": "execute_result"
    }
   ],
   "source": [
    "df3.shape"
   ]
  },
  {
   "cell_type": "code",
   "execution_count": 11,
   "metadata": {},
   "outputs": [
    {
     "data": {
      "text/html": [
       "<div>\n",
       "<style scoped>\n",
       "    .dataframe tbody tr th:only-of-type {\n",
       "        vertical-align: middle;\n",
       "    }\n",
       "\n",
       "    .dataframe tbody tr th {\n",
       "        vertical-align: top;\n",
       "    }\n",
       "\n",
       "    .dataframe thead th {\n",
       "        text-align: right;\n",
       "    }\n",
       "</style>\n",
       "<table border=\"1\" class=\"dataframe\">\n",
       "  <thead>\n",
       "    <tr style=\"text-align: right;\">\n",
       "      <th></th>\n",
       "      <th>structureId</th>\n",
       "      <th>classification</th>\n",
       "      <th>experimentalTechnique</th>\n",
       "      <th>macromoleculeType</th>\n",
       "      <th>residueCount</th>\n",
       "      <th>resolution</th>\n",
       "      <th>structureMolecularWeight</th>\n",
       "      <th>crystallizationMethod</th>\n",
       "      <th>crystallizationTempK</th>\n",
       "      <th>densityMatthews</th>\n",
       "      <th>densityPercentSol</th>\n",
       "      <th>pdbxDetails</th>\n",
       "      <th>phValue</th>\n",
       "      <th>publicationYear</th>\n",
       "      <th>chainId</th>\n",
       "      <th>sequence</th>\n",
       "    </tr>\n",
       "  </thead>\n",
       "  <tbody>\n",
       "    <tr>\n",
       "      <th>0</th>\n",
       "      <td>100D</td>\n",
       "      <td>DNA-RNA HYBRID</td>\n",
       "      <td>X-RAY DIFFRACTION</td>\n",
       "      <td>DNA/RNA Hybrid</td>\n",
       "      <td>20</td>\n",
       "      <td>1.90</td>\n",
       "      <td>6360.30</td>\n",
       "      <td>VAPOR DIFFUSION, HANGING DROP</td>\n",
       "      <td>NaN</td>\n",
       "      <td>1.78</td>\n",
       "      <td>30.89</td>\n",
       "      <td>pH 7.00, VAPOR DIFFUSION, HANGING DROP</td>\n",
       "      <td>7.0</td>\n",
       "      <td>1994.0</td>\n",
       "      <td>A</td>\n",
       "      <td>CCGGCGCCGG</td>\n",
       "    </tr>\n",
       "    <tr>\n",
       "      <th>1</th>\n",
       "      <td>100D</td>\n",
       "      <td>DNA-RNA HYBRID</td>\n",
       "      <td>X-RAY DIFFRACTION</td>\n",
       "      <td>DNA/RNA Hybrid</td>\n",
       "      <td>20</td>\n",
       "      <td>1.90</td>\n",
       "      <td>6360.30</td>\n",
       "      <td>VAPOR DIFFUSION, HANGING DROP</td>\n",
       "      <td>NaN</td>\n",
       "      <td>1.78</td>\n",
       "      <td>30.89</td>\n",
       "      <td>pH 7.00, VAPOR DIFFUSION, HANGING DROP</td>\n",
       "      <td>7.0</td>\n",
       "      <td>1994.0</td>\n",
       "      <td>B</td>\n",
       "      <td>CCGGCGCCGG</td>\n",
       "    </tr>\n",
       "    <tr>\n",
       "      <th>2</th>\n",
       "      <td>101D</td>\n",
       "      <td>DNA</td>\n",
       "      <td>X-RAY DIFFRACTION</td>\n",
       "      <td>DNA</td>\n",
       "      <td>24</td>\n",
       "      <td>2.25</td>\n",
       "      <td>7939.35</td>\n",
       "      <td>NaN</td>\n",
       "      <td>NaN</td>\n",
       "      <td>2.00</td>\n",
       "      <td>38.45</td>\n",
       "      <td>NaN</td>\n",
       "      <td>NaN</td>\n",
       "      <td>1995.0</td>\n",
       "      <td>A</td>\n",
       "      <td>CGCGAATTCGCG</td>\n",
       "    </tr>\n",
       "    <tr>\n",
       "      <th>3</th>\n",
       "      <td>101D</td>\n",
       "      <td>DNA</td>\n",
       "      <td>X-RAY DIFFRACTION</td>\n",
       "      <td>DNA</td>\n",
       "      <td>24</td>\n",
       "      <td>2.25</td>\n",
       "      <td>7939.35</td>\n",
       "      <td>NaN</td>\n",
       "      <td>NaN</td>\n",
       "      <td>2.00</td>\n",
       "      <td>38.45</td>\n",
       "      <td>NaN</td>\n",
       "      <td>NaN</td>\n",
       "      <td>1995.0</td>\n",
       "      <td>B</td>\n",
       "      <td>CGCGAATTCGCG</td>\n",
       "    </tr>\n",
       "    <tr>\n",
       "      <th>4</th>\n",
       "      <td>101M</td>\n",
       "      <td>OXYGEN TRANSPORT</td>\n",
       "      <td>X-RAY DIFFRACTION</td>\n",
       "      <td>Protein</td>\n",
       "      <td>154</td>\n",
       "      <td>2.07</td>\n",
       "      <td>18112.80</td>\n",
       "      <td>NaN</td>\n",
       "      <td>NaN</td>\n",
       "      <td>3.09</td>\n",
       "      <td>60.20</td>\n",
       "      <td>3.0 M AMMONIUM SULFATE, 20 MM TRIS, 1MM EDTA, ...</td>\n",
       "      <td>9.0</td>\n",
       "      <td>1999.0</td>\n",
       "      <td>A</td>\n",
       "      <td>MVLSEGEWQLVLHVWAKVEADVAGHGQDILIRLFKSHPETLEKFDR...</td>\n",
       "    </tr>\n",
       "  </tbody>\n",
       "</table>\n",
       "</div>"
      ],
      "text/plain": [
       "  structureId    classification experimentalTechnique macromoleculeType  \\\n",
       "0        100D    DNA-RNA HYBRID     X-RAY DIFFRACTION    DNA/RNA Hybrid   \n",
       "1        100D    DNA-RNA HYBRID     X-RAY DIFFRACTION    DNA/RNA Hybrid   \n",
       "2        101D               DNA     X-RAY DIFFRACTION               DNA   \n",
       "3        101D               DNA     X-RAY DIFFRACTION               DNA   \n",
       "4        101M  OXYGEN TRANSPORT     X-RAY DIFFRACTION           Protein   \n",
       "\n",
       "   residueCount  resolution  structureMolecularWeight  \\\n",
       "0            20        1.90                   6360.30   \n",
       "1            20        1.90                   6360.30   \n",
       "2            24        2.25                   7939.35   \n",
       "3            24        2.25                   7939.35   \n",
       "4           154        2.07                  18112.80   \n",
       "\n",
       "           crystallizationMethod  crystallizationTempK  densityMatthews  \\\n",
       "0  VAPOR DIFFUSION, HANGING DROP                   NaN             1.78   \n",
       "1  VAPOR DIFFUSION, HANGING DROP                   NaN             1.78   \n",
       "2                            NaN                   NaN             2.00   \n",
       "3                            NaN                   NaN             2.00   \n",
       "4                            NaN                   NaN             3.09   \n",
       "\n",
       "   densityPercentSol                                        pdbxDetails  \\\n",
       "0              30.89             pH 7.00, VAPOR DIFFUSION, HANGING DROP   \n",
       "1              30.89             pH 7.00, VAPOR DIFFUSION, HANGING DROP   \n",
       "2              38.45                                                NaN   \n",
       "3              38.45                                                NaN   \n",
       "4              60.20  3.0 M AMMONIUM SULFATE, 20 MM TRIS, 1MM EDTA, ...   \n",
       "\n",
       "   phValue  publicationYear chainId  \\\n",
       "0      7.0           1994.0       A   \n",
       "1      7.0           1994.0       B   \n",
       "2      NaN           1995.0       A   \n",
       "3      NaN           1995.0       B   \n",
       "4      9.0           1999.0       A   \n",
       "\n",
       "                                            sequence  \n",
       "0                                         CCGGCGCCGG  \n",
       "1                                         CCGGCGCCGG  \n",
       "2                                       CGCGAATTCGCG  \n",
       "3                                       CGCGAATTCGCG  \n",
       "4  MVLSEGEWQLVLHVWAKVEADVAGHGQDILIRLFKSHPETLEKFDR...  "
      ]
     },
     "execution_count": 11,
     "metadata": {},
     "output_type": "execute_result"
    }
   ],
   "source": [
    "df3.head()"
   ]
  },
  {
   "cell_type": "code",
   "execution_count": 12,
   "metadata": {},
   "outputs": [
    {
     "data": {
      "text/html": [
       "<div>\n",
       "<style scoped>\n",
       "    .dataframe tbody tr th:only-of-type {\n",
       "        vertical-align: middle;\n",
       "    }\n",
       "\n",
       "    .dataframe tbody tr th {\n",
       "        vertical-align: top;\n",
       "    }\n",
       "\n",
       "    .dataframe thead th {\n",
       "        text-align: right;\n",
       "    }\n",
       "</style>\n",
       "<table border=\"1\" class=\"dataframe\">\n",
       "  <thead>\n",
       "    <tr style=\"text-align: right;\">\n",
       "      <th></th>\n",
       "      <th>structureId</th>\n",
       "      <th>classification</th>\n",
       "      <th>experimentalTechnique</th>\n",
       "      <th>macromoleculeType</th>\n",
       "      <th>residueCount</th>\n",
       "      <th>resolution</th>\n",
       "      <th>structureMolecularWeight</th>\n",
       "      <th>crystallizationMethod</th>\n",
       "      <th>crystallizationTempK</th>\n",
       "      <th>densityMatthews</th>\n",
       "      <th>densityPercentSol</th>\n",
       "      <th>pdbxDetails</th>\n",
       "      <th>phValue</th>\n",
       "      <th>publicationYear</th>\n",
       "      <th>chainId</th>\n",
       "      <th>sequence</th>\n",
       "    </tr>\n",
       "  </thead>\n",
       "  <tbody>\n",
       "    <tr>\n",
       "      <th>471144</th>\n",
       "      <td>9XIA</td>\n",
       "      <td>ISOMERASE(INTRAMOLECULAR OXIDOREDUCTASE)</td>\n",
       "      <td>X-RAY DIFFRACTION</td>\n",
       "      <td>Protein</td>\n",
       "      <td>388</td>\n",
       "      <td>1.9</td>\n",
       "      <td>43542.29</td>\n",
       "      <td>NaN</td>\n",
       "      <td>NaN</td>\n",
       "      <td>2.79</td>\n",
       "      <td>55.93</td>\n",
       "      <td>NaN</td>\n",
       "      <td>NaN</td>\n",
       "      <td>1989.0</td>\n",
       "      <td>A</td>\n",
       "      <td>MNYQPTPEDRFTFGLWTVGWQGRDPFGDATRRALDPVESVQRLAEL...</td>\n",
       "    </tr>\n",
       "    <tr>\n",
       "      <th>471145</th>\n",
       "      <td>9XIM</td>\n",
       "      <td>ISOMERASE(INTRAMOLECULAR OXIDOREDUCTASE)</td>\n",
       "      <td>X-RAY DIFFRACTION</td>\n",
       "      <td>Protein</td>\n",
       "      <td>1572</td>\n",
       "      <td>2.4</td>\n",
       "      <td>174722.12</td>\n",
       "      <td>NaN</td>\n",
       "      <td>NaN</td>\n",
       "      <td>3.96</td>\n",
       "      <td>68.92</td>\n",
       "      <td>NaN</td>\n",
       "      <td>NaN</td>\n",
       "      <td>1992.0</td>\n",
       "      <td>A</td>\n",
       "      <td>SVQATREDKFSFGLWTVGWQARDAFGDATRTALDPVEAVHKLAEIG...</td>\n",
       "    </tr>\n",
       "    <tr>\n",
       "      <th>471146</th>\n",
       "      <td>9XIM</td>\n",
       "      <td>ISOMERASE(INTRAMOLECULAR OXIDOREDUCTASE)</td>\n",
       "      <td>X-RAY DIFFRACTION</td>\n",
       "      <td>Protein</td>\n",
       "      <td>1572</td>\n",
       "      <td>2.4</td>\n",
       "      <td>174722.12</td>\n",
       "      <td>NaN</td>\n",
       "      <td>NaN</td>\n",
       "      <td>3.96</td>\n",
       "      <td>68.92</td>\n",
       "      <td>NaN</td>\n",
       "      <td>NaN</td>\n",
       "      <td>1992.0</td>\n",
       "      <td>B</td>\n",
       "      <td>SVQATREDKFSFGLWTVGWQARDAFGDATRTALDPVEAVHKLAEIG...</td>\n",
       "    </tr>\n",
       "    <tr>\n",
       "      <th>471147</th>\n",
       "      <td>9XIM</td>\n",
       "      <td>ISOMERASE(INTRAMOLECULAR OXIDOREDUCTASE)</td>\n",
       "      <td>X-RAY DIFFRACTION</td>\n",
       "      <td>Protein</td>\n",
       "      <td>1572</td>\n",
       "      <td>2.4</td>\n",
       "      <td>174722.12</td>\n",
       "      <td>NaN</td>\n",
       "      <td>NaN</td>\n",
       "      <td>3.96</td>\n",
       "      <td>68.92</td>\n",
       "      <td>NaN</td>\n",
       "      <td>NaN</td>\n",
       "      <td>1992.0</td>\n",
       "      <td>C</td>\n",
       "      <td>SVQATREDKFSFGLWTVGWQARDAFGDATRTALDPVEAVHKLAEIG...</td>\n",
       "    </tr>\n",
       "    <tr>\n",
       "      <th>471148</th>\n",
       "      <td>9XIM</td>\n",
       "      <td>ISOMERASE(INTRAMOLECULAR OXIDOREDUCTASE)</td>\n",
       "      <td>X-RAY DIFFRACTION</td>\n",
       "      <td>Protein</td>\n",
       "      <td>1572</td>\n",
       "      <td>2.4</td>\n",
       "      <td>174722.12</td>\n",
       "      <td>NaN</td>\n",
       "      <td>NaN</td>\n",
       "      <td>3.96</td>\n",
       "      <td>68.92</td>\n",
       "      <td>NaN</td>\n",
       "      <td>NaN</td>\n",
       "      <td>1992.0</td>\n",
       "      <td>D</td>\n",
       "      <td>SVQATREDKFSFGLWTVGWQARDAFGDATRTALDPVEAVHKLAEIG...</td>\n",
       "    </tr>\n",
       "  </tbody>\n",
       "</table>\n",
       "</div>"
      ],
      "text/plain": [
       "       structureId                            classification  \\\n",
       "471144        9XIA  ISOMERASE(INTRAMOLECULAR OXIDOREDUCTASE)   \n",
       "471145        9XIM  ISOMERASE(INTRAMOLECULAR OXIDOREDUCTASE)   \n",
       "471146        9XIM  ISOMERASE(INTRAMOLECULAR OXIDOREDUCTASE)   \n",
       "471147        9XIM  ISOMERASE(INTRAMOLECULAR OXIDOREDUCTASE)   \n",
       "471148        9XIM  ISOMERASE(INTRAMOLECULAR OXIDOREDUCTASE)   \n",
       "\n",
       "       experimentalTechnique macromoleculeType  residueCount  resolution  \\\n",
       "471144     X-RAY DIFFRACTION           Protein           388         1.9   \n",
       "471145     X-RAY DIFFRACTION           Protein          1572         2.4   \n",
       "471146     X-RAY DIFFRACTION           Protein          1572         2.4   \n",
       "471147     X-RAY DIFFRACTION           Protein          1572         2.4   \n",
       "471148     X-RAY DIFFRACTION           Protein          1572         2.4   \n",
       "\n",
       "        structureMolecularWeight crystallizationMethod  crystallizationTempK  \\\n",
       "471144                  43542.29                   NaN                   NaN   \n",
       "471145                 174722.12                   NaN                   NaN   \n",
       "471146                 174722.12                   NaN                   NaN   \n",
       "471147                 174722.12                   NaN                   NaN   \n",
       "471148                 174722.12                   NaN                   NaN   \n",
       "\n",
       "        densityMatthews  densityPercentSol pdbxDetails  phValue  \\\n",
       "471144             2.79              55.93         NaN      NaN   \n",
       "471145             3.96              68.92         NaN      NaN   \n",
       "471146             3.96              68.92         NaN      NaN   \n",
       "471147             3.96              68.92         NaN      NaN   \n",
       "471148             3.96              68.92         NaN      NaN   \n",
       "\n",
       "        publicationYear chainId  \\\n",
       "471144           1989.0       A   \n",
       "471145           1992.0       A   \n",
       "471146           1992.0       B   \n",
       "471147           1992.0       C   \n",
       "471148           1992.0       D   \n",
       "\n",
       "                                                 sequence  \n",
       "471144  MNYQPTPEDRFTFGLWTVGWQGRDPFGDATRRALDPVESVQRLAEL...  \n",
       "471145  SVQATREDKFSFGLWTVGWQARDAFGDATRTALDPVEAVHKLAEIG...  \n",
       "471146  SVQATREDKFSFGLWTVGWQARDAFGDATRTALDPVEAVHKLAEIG...  \n",
       "471147  SVQATREDKFSFGLWTVGWQARDAFGDATRTALDPVEAVHKLAEIG...  \n",
       "471148  SVQATREDKFSFGLWTVGWQARDAFGDATRTALDPVEAVHKLAEIG...  "
      ]
     },
     "execution_count": 12,
     "metadata": {},
     "output_type": "execute_result"
    }
   ],
   "source": [
    "df3.tail()"
   ]
  },
  {
   "cell_type": "code",
   "execution_count": 13,
   "metadata": {},
   "outputs": [
    {
     "data": {
      "text/plain": [
       "structureId                  object\n",
       "classification               object\n",
       "experimentalTechnique        object\n",
       "macromoleculeType            object\n",
       "residueCount                  int64\n",
       "resolution                  float64\n",
       "structureMolecularWeight    float64\n",
       "crystallizationMethod        object\n",
       "crystallizationTempK        float64\n",
       "densityMatthews             float64\n",
       "densityPercentSol           float64\n",
       "pdbxDetails                  object\n",
       "phValue                     float64\n",
       "publicationYear             float64\n",
       "chainId                      object\n",
       "sequence                     object\n",
       "dtype: object"
      ]
     },
     "execution_count": 13,
     "metadata": {},
     "output_type": "execute_result"
    }
   ],
   "source": [
    "df3.dtypes"
   ]
  },
  {
   "cell_type": "code",
   "execution_count": 14,
   "metadata": {},
   "outputs": [
    {
     "data": {
      "text/plain": [
       "Index(['structureId', 'classification', 'experimentalTechnique',\n",
       "       'macromoleculeType', 'residueCount', 'resolution',\n",
       "       'structureMolecularWeight', 'crystallizationMethod',\n",
       "       'crystallizationTempK', 'densityMatthews', 'densityPercentSol',\n",
       "       'pdbxDetails', 'phValue', 'publicationYear', 'chainId', 'sequence'],\n",
       "      dtype='object')"
      ]
     },
     "execution_count": 14,
     "metadata": {},
     "output_type": "execute_result"
    }
   ],
   "source": [
    "df3.columns"
   ]
  },
  {
   "cell_type": "code",
   "execution_count": 15,
   "metadata": {
    "collapsed": true
   },
   "outputs": [],
   "source": [
    "mask = df3['macromoleculeType'] == 'Protein'"
   ]
  },
  {
   "cell_type": "code",
   "execution_count": 16,
   "metadata": {},
   "outputs": [
    {
     "data": {
      "text/html": [
       "<div>\n",
       "<style scoped>\n",
       "    .dataframe tbody tr th:only-of-type {\n",
       "        vertical-align: middle;\n",
       "    }\n",
       "\n",
       "    .dataframe tbody tr th {\n",
       "        vertical-align: top;\n",
       "    }\n",
       "\n",
       "    .dataframe thead th {\n",
       "        text-align: right;\n",
       "    }\n",
       "</style>\n",
       "<table border=\"1\" class=\"dataframe\">\n",
       "  <thead>\n",
       "    <tr style=\"text-align: right;\">\n",
       "      <th></th>\n",
       "      <th>structureId</th>\n",
       "      <th>classification</th>\n",
       "      <th>experimentalTechnique</th>\n",
       "      <th>macromoleculeType</th>\n",
       "      <th>residueCount</th>\n",
       "      <th>resolution</th>\n",
       "      <th>structureMolecularWeight</th>\n",
       "      <th>crystallizationMethod</th>\n",
       "      <th>crystallizationTempK</th>\n",
       "      <th>densityMatthews</th>\n",
       "      <th>densityPercentSol</th>\n",
       "      <th>pdbxDetails</th>\n",
       "      <th>phValue</th>\n",
       "      <th>publicationYear</th>\n",
       "      <th>chainId</th>\n",
       "      <th>sequence</th>\n",
       "    </tr>\n",
       "  </thead>\n",
       "  <tbody>\n",
       "    <tr>\n",
       "      <th>4</th>\n",
       "      <td>101M</td>\n",
       "      <td>OXYGEN TRANSPORT</td>\n",
       "      <td>X-RAY DIFFRACTION</td>\n",
       "      <td>Protein</td>\n",
       "      <td>154</td>\n",
       "      <td>2.07</td>\n",
       "      <td>18112.80</td>\n",
       "      <td>NaN</td>\n",
       "      <td>NaN</td>\n",
       "      <td>3.09</td>\n",
       "      <td>60.20</td>\n",
       "      <td>3.0 M AMMONIUM SULFATE, 20 MM TRIS, 1MM EDTA, ...</td>\n",
       "      <td>9.0</td>\n",
       "      <td>1999.0</td>\n",
       "      <td>A</td>\n",
       "      <td>MVLSEGEWQLVLHVWAKVEADVAGHGQDILIRLFKSHPETLEKFDR...</td>\n",
       "    </tr>\n",
       "    <tr>\n",
       "      <th>7</th>\n",
       "      <td>102L</td>\n",
       "      <td>HYDROLASE(O-GLYCOSYL)</td>\n",
       "      <td>X-RAY DIFFRACTION</td>\n",
       "      <td>Protein</td>\n",
       "      <td>165</td>\n",
       "      <td>1.74</td>\n",
       "      <td>18926.61</td>\n",
       "      <td>NaN</td>\n",
       "      <td>NaN</td>\n",
       "      <td>2.75</td>\n",
       "      <td>55.28</td>\n",
       "      <td>NaN</td>\n",
       "      <td>NaN</td>\n",
       "      <td>1993.0</td>\n",
       "      <td>A</td>\n",
       "      <td>MNIFEMLRIDEGLRLKIYKDTEGYYTIGIGHLLTKSPSLNAAAKSE...</td>\n",
       "    </tr>\n",
       "    <tr>\n",
       "      <th>8</th>\n",
       "      <td>102M</td>\n",
       "      <td>OXYGEN TRANSPORT</td>\n",
       "      <td>X-RAY DIFFRACTION</td>\n",
       "      <td>Protein</td>\n",
       "      <td>154</td>\n",
       "      <td>1.84</td>\n",
       "      <td>18010.64</td>\n",
       "      <td>NaN</td>\n",
       "      <td>NaN</td>\n",
       "      <td>3.09</td>\n",
       "      <td>60.20</td>\n",
       "      <td>3.0 M AMMONIUM SULFATE, 20 MM TRIS, 1MM EDTA, ...</td>\n",
       "      <td>9.0</td>\n",
       "      <td>1999.0</td>\n",
       "      <td>A</td>\n",
       "      <td>MVLSEGEWQLVLHVWAKVEADVAGHGQDILIRLFKSHPETLEKFDR...</td>\n",
       "    </tr>\n",
       "    <tr>\n",
       "      <th>11</th>\n",
       "      <td>103L</td>\n",
       "      <td>HYDROLASE(O-GLYCOSYL)</td>\n",
       "      <td>X-RAY DIFFRACTION</td>\n",
       "      <td>Protein</td>\n",
       "      <td>167</td>\n",
       "      <td>1.90</td>\n",
       "      <td>19092.72</td>\n",
       "      <td>NaN</td>\n",
       "      <td>NaN</td>\n",
       "      <td>2.70</td>\n",
       "      <td>54.46</td>\n",
       "      <td>NaN</td>\n",
       "      <td>NaN</td>\n",
       "      <td>1993.0</td>\n",
       "      <td>A</td>\n",
       "      <td>MNIFEMLRIDEGLRLKIYKDTEGYYTIGIGHLLTKSPSLNSLDAAK...</td>\n",
       "    </tr>\n",
       "    <tr>\n",
       "      <th>12</th>\n",
       "      <td>103M</td>\n",
       "      <td>OXYGEN TRANSPORT</td>\n",
       "      <td>X-RAY DIFFRACTION</td>\n",
       "      <td>Protein</td>\n",
       "      <td>154</td>\n",
       "      <td>2.07</td>\n",
       "      <td>18093.78</td>\n",
       "      <td>NaN</td>\n",
       "      <td>NaN</td>\n",
       "      <td>3.09</td>\n",
       "      <td>60.30</td>\n",
       "      <td>3.0 M AMMONIUM SULFATE, 20 MM TRIS, 1MM EDTA, ...</td>\n",
       "      <td>9.0</td>\n",
       "      <td>1999.0</td>\n",
       "      <td>A</td>\n",
       "      <td>MVLSEGEWQLVLHVWAKVEADVAGHGQDILIRLFKSHPETLEKFDR...</td>\n",
       "    </tr>\n",
       "  </tbody>\n",
       "</table>\n",
       "</div>"
      ],
      "text/plain": [
       "   structureId         classification experimentalTechnique macromoleculeType  \\\n",
       "4         101M       OXYGEN TRANSPORT     X-RAY DIFFRACTION           Protein   \n",
       "7         102L  HYDROLASE(O-GLYCOSYL)     X-RAY DIFFRACTION           Protein   \n",
       "8         102M       OXYGEN TRANSPORT     X-RAY DIFFRACTION           Protein   \n",
       "11        103L  HYDROLASE(O-GLYCOSYL)     X-RAY DIFFRACTION           Protein   \n",
       "12        103M       OXYGEN TRANSPORT     X-RAY DIFFRACTION           Protein   \n",
       "\n",
       "    residueCount  resolution  structureMolecularWeight crystallizationMethod  \\\n",
       "4            154        2.07                  18112.80                   NaN   \n",
       "7            165        1.74                  18926.61                   NaN   \n",
       "8            154        1.84                  18010.64                   NaN   \n",
       "11           167        1.90                  19092.72                   NaN   \n",
       "12           154        2.07                  18093.78                   NaN   \n",
       "\n",
       "    crystallizationTempK  densityMatthews  densityPercentSol  \\\n",
       "4                    NaN             3.09              60.20   \n",
       "7                    NaN             2.75              55.28   \n",
       "8                    NaN             3.09              60.20   \n",
       "11                   NaN             2.70              54.46   \n",
       "12                   NaN             3.09              60.30   \n",
       "\n",
       "                                          pdbxDetails  phValue  \\\n",
       "4   3.0 M AMMONIUM SULFATE, 20 MM TRIS, 1MM EDTA, ...      9.0   \n",
       "7                                                 NaN      NaN   \n",
       "8   3.0 M AMMONIUM SULFATE, 20 MM TRIS, 1MM EDTA, ...      9.0   \n",
       "11                                                NaN      NaN   \n",
       "12  3.0 M AMMONIUM SULFATE, 20 MM TRIS, 1MM EDTA, ...      9.0   \n",
       "\n",
       "    publicationYear chainId                                           sequence  \n",
       "4            1999.0       A  MVLSEGEWQLVLHVWAKVEADVAGHGQDILIRLFKSHPETLEKFDR...  \n",
       "7            1993.0       A  MNIFEMLRIDEGLRLKIYKDTEGYYTIGIGHLLTKSPSLNAAAKSE...  \n",
       "8            1999.0       A  MVLSEGEWQLVLHVWAKVEADVAGHGQDILIRLFKSHPETLEKFDR...  \n",
       "11           1993.0       A  MNIFEMLRIDEGLRLKIYKDTEGYYTIGIGHLLTKSPSLNSLDAAK...  \n",
       "12           1999.0       A  MVLSEGEWQLVLHVWAKVEADVAGHGQDILIRLFKSHPETLEKFDR...  "
      ]
     },
     "execution_count": 16,
     "metadata": {},
     "output_type": "execute_result"
    }
   ],
   "source": [
    "proteins = df3[mask]\n",
    "proteins.head()"
   ]
  },
  {
   "cell_type": "code",
   "execution_count": 17,
   "metadata": {},
   "outputs": [
    {
     "data": {
      "text/plain": [
       "(346325, 16)"
      ]
     },
     "execution_count": 17,
     "metadata": {},
     "output_type": "execute_result"
    }
   ],
   "source": [
    "proteins.shape"
   ]
  },
  {
   "cell_type": "code",
   "execution_count": 18,
   "metadata": {},
   "outputs": [
    {
     "data": {
      "text/plain": [
       "Protein    346325\n",
       "Name: macromoleculeType, dtype: int64"
      ]
     },
     "execution_count": 18,
     "metadata": {},
     "output_type": "execute_result"
    }
   ],
   "source": [
    "# Sanity check for protein sequences only\n",
    "proteins.macromoleculeType.value_counts()"
   ]
  },
  {
   "cell_type": "code",
   "execution_count": 19,
   "metadata": {},
   "outputs": [
    {
     "data": {
      "text/plain": [
       "4    MVLSEGEWQLVLHVWAKVEADVAGHGQDILIRLFKSHPETLEKFDR...\n",
       "7    MNIFEMLRIDEGLRLKIYKDTEGYYTIGIGHLLTKSPSLNAAAKSE...\n",
       "8    MVLSEGEWQLVLHVWAKVEADVAGHGQDILIRLFKSHPETLEKFDR...\n",
       "Name: sequence, dtype: object"
      ]
     },
     "execution_count": 19,
     "metadata": {},
     "output_type": "execute_result"
    }
   ],
   "source": [
    "proteins['sequence'].head(3)"
   ]
  },
  {
   "cell_type": "markdown",
   "metadata": {},
   "source": [
    "## Classification of Proteins"
   ]
  },
  {
   "cell_type": "code",
   "execution_count": 20,
   "metadata": {},
   "outputs": [
    {
     "data": {
      "text/plain": [
       "HYDROLASE                               46336\n",
       "TRANSFERASE                             36424\n",
       "OXIDOREDUCTASE                          34322\n",
       "IMMUNE SYSTEM                           15615\n",
       "LYASE                                   11682\n",
       "                                        ...  \n",
       "Fluorescent Protein, replication            1\n",
       "REPLICATION, PEPTIDE BINDING PROTEIN        1\n",
       "GAMMA-CARBOXYGLUTAMIC ACID                  1\n",
       "INHIBITORY RECEPTOR                         1\n",
       "APOPTOSIS, METAL BINDING PROTEIN            1\n",
       "Name: classification, Length: 4468, dtype: int64"
      ]
     },
     "execution_count": 20,
     "metadata": {},
     "output_type": "execute_result"
    }
   ],
   "source": [
    "proteins.classification.value_counts()"
   ]
  },
  {
   "cell_type": "code",
   "execution_count": 21,
   "metadata": {},
   "outputs": [
    {
     "data": {
      "text/html": [
       "<div>\n",
       "<style scoped>\n",
       "    .dataframe tbody tr th:only-of-type {\n",
       "        vertical-align: middle;\n",
       "    }\n",
       "\n",
       "    .dataframe tbody tr th {\n",
       "        vertical-align: top;\n",
       "    }\n",
       "\n",
       "    .dataframe thead th {\n",
       "        text-align: right;\n",
       "    }\n",
       "</style>\n",
       "<table border=\"1\" class=\"dataframe\">\n",
       "  <thead>\n",
       "    <tr style=\"text-align: right;\">\n",
       "      <th></th>\n",
       "      <th>structureId</th>\n",
       "      <th>classification</th>\n",
       "      <th>experimentalTechnique</th>\n",
       "      <th>macromoleculeType</th>\n",
       "      <th>residueCount</th>\n",
       "      <th>resolution</th>\n",
       "      <th>structureMolecularWeight</th>\n",
       "      <th>crystallizationMethod</th>\n",
       "      <th>crystallizationTempK</th>\n",
       "      <th>densityMatthews</th>\n",
       "      <th>densityPercentSol</th>\n",
       "      <th>pdbxDetails</th>\n",
       "      <th>phValue</th>\n",
       "      <th>publicationYear</th>\n",
       "      <th>chainId</th>\n",
       "      <th>sequence</th>\n",
       "    </tr>\n",
       "  </thead>\n",
       "  <tbody>\n",
       "    <tr>\n",
       "      <th>67</th>\n",
       "      <td>117E</td>\n",
       "      <td>HYDROLASE</td>\n",
       "      <td>X-RAY DIFFRACTION</td>\n",
       "      <td>Protein</td>\n",
       "      <td>572</td>\n",
       "      <td>2.15</td>\n",
       "      <td>65203.21</td>\n",
       "      <td>NaN</td>\n",
       "      <td>NaN</td>\n",
       "      <td>2.71</td>\n",
       "      <td>54.69</td>\n",
       "      <td>17-19% MPD, 25 MM MES, PH 6.0, 1 MM MNCL2, 0.5...</td>\n",
       "      <td>6.0</td>\n",
       "      <td>1998.0</td>\n",
       "      <td>A</td>\n",
       "      <td>TYTTRQIGAKNTLEYKVYIEKDGKPVSAFHDIPLYADKENNIFNMV...</td>\n",
       "    </tr>\n",
       "    <tr>\n",
       "      <th>68</th>\n",
       "      <td>117E</td>\n",
       "      <td>HYDROLASE</td>\n",
       "      <td>X-RAY DIFFRACTION</td>\n",
       "      <td>Protein</td>\n",
       "      <td>572</td>\n",
       "      <td>2.15</td>\n",
       "      <td>65203.21</td>\n",
       "      <td>NaN</td>\n",
       "      <td>NaN</td>\n",
       "      <td>2.71</td>\n",
       "      <td>54.69</td>\n",
       "      <td>17-19% MPD, 25 MM MES, PH 6.0, 1 MM MNCL2, 0.5...</td>\n",
       "      <td>6.0</td>\n",
       "      <td>1998.0</td>\n",
       "      <td>B</td>\n",
       "      <td>TYTTRQIGAKNTLEYKVYIEKDGKPVSAFHDIPLYADKENNIFNMV...</td>\n",
       "    </tr>\n",
       "    <tr>\n",
       "      <th>76</th>\n",
       "      <td>11BA</td>\n",
       "      <td>HYDROLASE</td>\n",
       "      <td>X-RAY DIFFRACTION</td>\n",
       "      <td>Protein</td>\n",
       "      <td>248</td>\n",
       "      <td>2.06</td>\n",
       "      <td>28700.28</td>\n",
       "      <td>NaN</td>\n",
       "      <td>NaN</td>\n",
       "      <td>2.48</td>\n",
       "      <td>50.36</td>\n",
       "      <td>pH 4.8</td>\n",
       "      <td>4.8</td>\n",
       "      <td>1998.0</td>\n",
       "      <td>A</td>\n",
       "      <td>KESAAAKFERQHMDSGNSPSSSSNYCNLMMCCRKMTQGKCKPVNTF...</td>\n",
       "    </tr>\n",
       "    <tr>\n",
       "      <th>77</th>\n",
       "      <td>11BA</td>\n",
       "      <td>HYDROLASE</td>\n",
       "      <td>X-RAY DIFFRACTION</td>\n",
       "      <td>Protein</td>\n",
       "      <td>248</td>\n",
       "      <td>2.06</td>\n",
       "      <td>28700.28</td>\n",
       "      <td>NaN</td>\n",
       "      <td>NaN</td>\n",
       "      <td>2.48</td>\n",
       "      <td>50.36</td>\n",
       "      <td>pH 4.8</td>\n",
       "      <td>4.8</td>\n",
       "      <td>1998.0</td>\n",
       "      <td>B</td>\n",
       "      <td>KESAAAKFERQHMDSGNSPSSSSNYCNLMMCCRKMTQGKCKPVNTF...</td>\n",
       "    </tr>\n",
       "    <tr>\n",
       "      <th>78</th>\n",
       "      <td>11BG</td>\n",
       "      <td>HYDROLASE</td>\n",
       "      <td>X-RAY DIFFRACTION</td>\n",
       "      <td>Protein</td>\n",
       "      <td>248</td>\n",
       "      <td>1.90</td>\n",
       "      <td>30391.41</td>\n",
       "      <td>NaN</td>\n",
       "      <td>NaN</td>\n",
       "      <td>2.40</td>\n",
       "      <td>48.68</td>\n",
       "      <td>pH 4.8</td>\n",
       "      <td>4.8</td>\n",
       "      <td>1999.0</td>\n",
       "      <td>A</td>\n",
       "      <td>KESAAAKFERQHMDSGNSPSSSSNYCNLMMCCRKMTQGKCKPVNTF...</td>\n",
       "    </tr>\n",
       "  </tbody>\n",
       "</table>\n",
       "</div>"
      ],
      "text/plain": [
       "   structureId classification experimentalTechnique macromoleculeType  \\\n",
       "67        117E      HYDROLASE     X-RAY DIFFRACTION           Protein   \n",
       "68        117E      HYDROLASE     X-RAY DIFFRACTION           Protein   \n",
       "76        11BA      HYDROLASE     X-RAY DIFFRACTION           Protein   \n",
       "77        11BA      HYDROLASE     X-RAY DIFFRACTION           Protein   \n",
       "78        11BG      HYDROLASE     X-RAY DIFFRACTION           Protein   \n",
       "\n",
       "    residueCount  resolution  structureMolecularWeight crystallizationMethod  \\\n",
       "67           572        2.15                  65203.21                   NaN   \n",
       "68           572        2.15                  65203.21                   NaN   \n",
       "76           248        2.06                  28700.28                   NaN   \n",
       "77           248        2.06                  28700.28                   NaN   \n",
       "78           248        1.90                  30391.41                   NaN   \n",
       "\n",
       "    crystallizationTempK  densityMatthews  densityPercentSol  \\\n",
       "67                   NaN             2.71              54.69   \n",
       "68                   NaN             2.71              54.69   \n",
       "76                   NaN             2.48              50.36   \n",
       "77                   NaN             2.48              50.36   \n",
       "78                   NaN             2.40              48.68   \n",
       "\n",
       "                                          pdbxDetails  phValue  \\\n",
       "67  17-19% MPD, 25 MM MES, PH 6.0, 1 MM MNCL2, 0.5...      6.0   \n",
       "68  17-19% MPD, 25 MM MES, PH 6.0, 1 MM MNCL2, 0.5...      6.0   \n",
       "76                                             pH 4.8      4.8   \n",
       "77                                             pH 4.8      4.8   \n",
       "78                                             pH 4.8      4.8   \n",
       "\n",
       "    publicationYear chainId                                           sequence  \n",
       "67           1998.0       A  TYTTRQIGAKNTLEYKVYIEKDGKPVSAFHDIPLYADKENNIFNMV...  \n",
       "68           1998.0       B  TYTTRQIGAKNTLEYKVYIEKDGKPVSAFHDIPLYADKENNIFNMV...  \n",
       "76           1998.0       A  KESAAAKFERQHMDSGNSPSSSSNYCNLMMCCRKMTQGKCKPVNTF...  \n",
       "77           1998.0       B  KESAAAKFERQHMDSGNSPSSSSNYCNLMMCCRKMTQGKCKPVNTF...  \n",
       "78           1999.0       A  KESAAAKFERQHMDSGNSPSSSSNYCNLMMCCRKMTQGKCKPVNTF...  "
      ]
     },
     "execution_count": 21,
     "metadata": {},
     "output_type": "execute_result"
    }
   ],
   "source": [
    "mask = ((proteins.classification == 'HYDROLASE') | (proteins.classification == 'TRANSFERASE')\\\n",
    "               | (proteins.classification == 'OXIDOREDUCTASE') |(proteins.classification == 'IMMUNE SYSTEM')\\\n",
    "      |(proteins.classification == 'TRANSCRIPTION'))\n",
    "#mask = ((df.location == 3) | (df.location == 6))\n",
    "data = proteins[mask]\n",
    "data.head()"
   ]
  },
  {
   "cell_type": "code",
   "execution_count": 22,
   "metadata": {},
   "outputs": [
    {
     "name": "stderr",
     "output_type": "stream",
     "text": [
      "/Users/scottlew/miniconda3/lib/python3.6/site-packages/ipykernel/__main__.py:4: SettingWithCopyWarning: \n",
      "A value is trying to be set on a copy of a slice from a DataFrame.\n",
      "Try using .loc[row_indexer,col_indexer] = value instead\n",
      "\n",
      "See the caveats in the documentation: http://pandas.pydata.org/pandas-docs/stable/user_guide/indexing.html#returning-a-view-versus-a-copy\n"
     ]
    }
   ],
   "source": [
    "from sklearn import preprocessing\n",
    "le = preprocessing.LabelEncoder()\n",
    "le.fit(data.classification)\n",
    "data['type'] = le.transform(data['classification'])"
   ]
  },
  {
   "cell_type": "code",
   "execution_count": 23,
   "metadata": {},
   "outputs": [
    {
     "data": {
      "text/html": [
       "<div>\n",
       "<style scoped>\n",
       "    .dataframe tbody tr th:only-of-type {\n",
       "        vertical-align: middle;\n",
       "    }\n",
       "\n",
       "    .dataframe tbody tr th {\n",
       "        vertical-align: top;\n",
       "    }\n",
       "\n",
       "    .dataframe thead th {\n",
       "        text-align: right;\n",
       "    }\n",
       "</style>\n",
       "<table border=\"1\" class=\"dataframe\">\n",
       "  <thead>\n",
       "    <tr style=\"text-align: right;\">\n",
       "      <th></th>\n",
       "      <th>structureId</th>\n",
       "      <th>classification</th>\n",
       "      <th>experimentalTechnique</th>\n",
       "      <th>macromoleculeType</th>\n",
       "      <th>residueCount</th>\n",
       "      <th>resolution</th>\n",
       "      <th>structureMolecularWeight</th>\n",
       "      <th>crystallizationMethod</th>\n",
       "      <th>crystallizationTempK</th>\n",
       "      <th>densityMatthews</th>\n",
       "      <th>densityPercentSol</th>\n",
       "      <th>pdbxDetails</th>\n",
       "      <th>phValue</th>\n",
       "      <th>publicationYear</th>\n",
       "      <th>chainId</th>\n",
       "      <th>sequence</th>\n",
       "      <th>type</th>\n",
       "    </tr>\n",
       "  </thead>\n",
       "  <tbody>\n",
       "    <tr>\n",
       "      <th>67</th>\n",
       "      <td>117E</td>\n",
       "      <td>HYDROLASE</td>\n",
       "      <td>X-RAY DIFFRACTION</td>\n",
       "      <td>Protein</td>\n",
       "      <td>572</td>\n",
       "      <td>2.15</td>\n",
       "      <td>65203.21</td>\n",
       "      <td>NaN</td>\n",
       "      <td>NaN</td>\n",
       "      <td>2.71</td>\n",
       "      <td>54.69</td>\n",
       "      <td>17-19% MPD, 25 MM MES, PH 6.0, 1 MM MNCL2, 0.5...</td>\n",
       "      <td>6.0</td>\n",
       "      <td>1998.0</td>\n",
       "      <td>A</td>\n",
       "      <td>TYTTRQIGAKNTLEYKVYIEKDGKPVSAFHDIPLYADKENNIFNMV...</td>\n",
       "      <td>0</td>\n",
       "    </tr>\n",
       "    <tr>\n",
       "      <th>68</th>\n",
       "      <td>117E</td>\n",
       "      <td>HYDROLASE</td>\n",
       "      <td>X-RAY DIFFRACTION</td>\n",
       "      <td>Protein</td>\n",
       "      <td>572</td>\n",
       "      <td>2.15</td>\n",
       "      <td>65203.21</td>\n",
       "      <td>NaN</td>\n",
       "      <td>NaN</td>\n",
       "      <td>2.71</td>\n",
       "      <td>54.69</td>\n",
       "      <td>17-19% MPD, 25 MM MES, PH 6.0, 1 MM MNCL2, 0.5...</td>\n",
       "      <td>6.0</td>\n",
       "      <td>1998.0</td>\n",
       "      <td>B</td>\n",
       "      <td>TYTTRQIGAKNTLEYKVYIEKDGKPVSAFHDIPLYADKENNIFNMV...</td>\n",
       "      <td>0</td>\n",
       "    </tr>\n",
       "    <tr>\n",
       "      <th>76</th>\n",
       "      <td>11BA</td>\n",
       "      <td>HYDROLASE</td>\n",
       "      <td>X-RAY DIFFRACTION</td>\n",
       "      <td>Protein</td>\n",
       "      <td>248</td>\n",
       "      <td>2.06</td>\n",
       "      <td>28700.28</td>\n",
       "      <td>NaN</td>\n",
       "      <td>NaN</td>\n",
       "      <td>2.48</td>\n",
       "      <td>50.36</td>\n",
       "      <td>pH 4.8</td>\n",
       "      <td>4.8</td>\n",
       "      <td>1998.0</td>\n",
       "      <td>A</td>\n",
       "      <td>KESAAAKFERQHMDSGNSPSSSSNYCNLMMCCRKMTQGKCKPVNTF...</td>\n",
       "      <td>0</td>\n",
       "    </tr>\n",
       "    <tr>\n",
       "      <th>77</th>\n",
       "      <td>11BA</td>\n",
       "      <td>HYDROLASE</td>\n",
       "      <td>X-RAY DIFFRACTION</td>\n",
       "      <td>Protein</td>\n",
       "      <td>248</td>\n",
       "      <td>2.06</td>\n",
       "      <td>28700.28</td>\n",
       "      <td>NaN</td>\n",
       "      <td>NaN</td>\n",
       "      <td>2.48</td>\n",
       "      <td>50.36</td>\n",
       "      <td>pH 4.8</td>\n",
       "      <td>4.8</td>\n",
       "      <td>1998.0</td>\n",
       "      <td>B</td>\n",
       "      <td>KESAAAKFERQHMDSGNSPSSSSNYCNLMMCCRKMTQGKCKPVNTF...</td>\n",
       "      <td>0</td>\n",
       "    </tr>\n",
       "    <tr>\n",
       "      <th>78</th>\n",
       "      <td>11BG</td>\n",
       "      <td>HYDROLASE</td>\n",
       "      <td>X-RAY DIFFRACTION</td>\n",
       "      <td>Protein</td>\n",
       "      <td>248</td>\n",
       "      <td>1.90</td>\n",
       "      <td>30391.41</td>\n",
       "      <td>NaN</td>\n",
       "      <td>NaN</td>\n",
       "      <td>2.40</td>\n",
       "      <td>48.68</td>\n",
       "      <td>pH 4.8</td>\n",
       "      <td>4.8</td>\n",
       "      <td>1999.0</td>\n",
       "      <td>A</td>\n",
       "      <td>KESAAAKFERQHMDSGNSPSSSSNYCNLMMCCRKMTQGKCKPVNTF...</td>\n",
       "      <td>0</td>\n",
       "    </tr>\n",
       "  </tbody>\n",
       "</table>\n",
       "</div>"
      ],
      "text/plain": [
       "   structureId classification experimentalTechnique macromoleculeType  \\\n",
       "67        117E      HYDROLASE     X-RAY DIFFRACTION           Protein   \n",
       "68        117E      HYDROLASE     X-RAY DIFFRACTION           Protein   \n",
       "76        11BA      HYDROLASE     X-RAY DIFFRACTION           Protein   \n",
       "77        11BA      HYDROLASE     X-RAY DIFFRACTION           Protein   \n",
       "78        11BG      HYDROLASE     X-RAY DIFFRACTION           Protein   \n",
       "\n",
       "    residueCount  resolution  structureMolecularWeight crystallizationMethod  \\\n",
       "67           572        2.15                  65203.21                   NaN   \n",
       "68           572        2.15                  65203.21                   NaN   \n",
       "76           248        2.06                  28700.28                   NaN   \n",
       "77           248        2.06                  28700.28                   NaN   \n",
       "78           248        1.90                  30391.41                   NaN   \n",
       "\n",
       "    crystallizationTempK  densityMatthews  densityPercentSol  \\\n",
       "67                   NaN             2.71              54.69   \n",
       "68                   NaN             2.71              54.69   \n",
       "76                   NaN             2.48              50.36   \n",
       "77                   NaN             2.48              50.36   \n",
       "78                   NaN             2.40              48.68   \n",
       "\n",
       "                                          pdbxDetails  phValue  \\\n",
       "67  17-19% MPD, 25 MM MES, PH 6.0, 1 MM MNCL2, 0.5...      6.0   \n",
       "68  17-19% MPD, 25 MM MES, PH 6.0, 1 MM MNCL2, 0.5...      6.0   \n",
       "76                                             pH 4.8      4.8   \n",
       "77                                             pH 4.8      4.8   \n",
       "78                                             pH 4.8      4.8   \n",
       "\n",
       "    publicationYear chainId  \\\n",
       "67           1998.0       A   \n",
       "68           1998.0       B   \n",
       "76           1998.0       A   \n",
       "77           1998.0       B   \n",
       "78           1999.0       A   \n",
       "\n",
       "                                             sequence  type  \n",
       "67  TYTTRQIGAKNTLEYKVYIEKDGKPVSAFHDIPLYADKENNIFNMV...     0  \n",
       "68  TYTTRQIGAKNTLEYKVYIEKDGKPVSAFHDIPLYADKENNIFNMV...     0  \n",
       "76  KESAAAKFERQHMDSGNSPSSSSNYCNLMMCCRKMTQGKCKPVNTF...     0  \n",
       "77  KESAAAKFERQHMDSGNSPSSSSNYCNLMMCCRKMTQGKCKPVNTF...     0  \n",
       "78  KESAAAKFERQHMDSGNSPSSSSNYCNLMMCCRKMTQGKCKPVNTF...     0  "
      ]
     },
     "execution_count": 23,
     "metadata": {},
     "output_type": "execute_result"
    }
   ],
   "source": [
    "data.head()"
   ]
  },
  {
   "cell_type": "code",
   "execution_count": 24,
   "metadata": {},
   "outputs": [
    {
     "data": {
      "text/plain": [
       "Index(['structureId', 'classification', 'experimentalTechnique',\n",
       "       'macromoleculeType', 'residueCount', 'resolution',\n",
       "       'structureMolecularWeight', 'crystallizationMethod',\n",
       "       'crystallizationTempK', 'densityMatthews', 'densityPercentSol',\n",
       "       'pdbxDetails', 'phValue', 'publicationYear', 'chainId', 'sequence',\n",
       "       'type'],\n",
       "      dtype='object')"
      ]
     },
     "execution_count": 24,
     "metadata": {},
     "output_type": "execute_result"
    }
   ],
   "source": [
    "data.columns"
   ]
  },
  {
   "cell_type": "code",
   "execution_count": 25,
   "metadata": {},
   "outputs": [
    {
     "data": {
      "text/plain": [
       "HYDROLASE         46336\n",
       "TRANSFERASE       36424\n",
       "OXIDOREDUCTASE    34322\n",
       "IMMUNE SYSTEM     15615\n",
       "TRANSCRIPTION      8919\n",
       "Name: classification, dtype: int64"
      ]
     },
     "execution_count": 25,
     "metadata": {},
     "output_type": "execute_result"
    }
   ],
   "source": [
    "data.classification.value_counts()"
   ]
  },
  {
   "cell_type": "code",
   "execution_count": 26,
   "metadata": {},
   "outputs": [
    {
     "data": {
      "text/plain": [
       "0    46336\n",
       "4    36424\n",
       "2    34322\n",
       "1    15615\n",
       "3     8919\n",
       "Name: type, dtype: int64"
      ]
     },
     "execution_count": 26,
     "metadata": {},
     "output_type": "execute_result"
    }
   ],
   "source": [
    "data.type.value_counts()"
   ]
  },
  {
   "cell_type": "code",
   "execution_count": 27,
   "metadata": {},
   "outputs": [
    {
     "data": {
      "text/html": [
       "<div>\n",
       "<style scoped>\n",
       "    .dataframe tbody tr th:only-of-type {\n",
       "        vertical-align: middle;\n",
       "    }\n",
       "\n",
       "    .dataframe tbody tr th {\n",
       "        vertical-align: top;\n",
       "    }\n",
       "\n",
       "    .dataframe thead th {\n",
       "        text-align: right;\n",
       "    }\n",
       "</style>\n",
       "<table border=\"1\" class=\"dataframe\">\n",
       "  <thead>\n",
       "    <tr style=\"text-align: right;\">\n",
       "      <th></th>\n",
       "      <th>structureId</th>\n",
       "      <th>classification</th>\n",
       "      <th>experimentalTechnique</th>\n",
       "      <th>macromoleculeType</th>\n",
       "      <th>residueCount</th>\n",
       "      <th>resolution</th>\n",
       "      <th>structureMolecularWeight</th>\n",
       "      <th>crystallizationMethod</th>\n",
       "      <th>crystallizationTempK</th>\n",
       "      <th>densityMatthews</th>\n",
       "      <th>densityPercentSol</th>\n",
       "      <th>pdbxDetails</th>\n",
       "      <th>phValue</th>\n",
       "      <th>publicationYear</th>\n",
       "      <th>chainId</th>\n",
       "      <th>sequence</th>\n",
       "      <th>type</th>\n",
       "    </tr>\n",
       "  </thead>\n",
       "  <tbody>\n",
       "    <tr>\n",
       "      <th>174691</th>\n",
       "      <td>3HHA</td>\n",
       "      <td>HYDROLASE</td>\n",
       "      <td>X-RAY DIFFRACTION</td>\n",
       "      <td>Protein</td>\n",
       "      <td>880</td>\n",
       "      <td>1.27</td>\n",
       "      <td>98676.19</td>\n",
       "      <td>VAPOR DIFFUSION</td>\n",
       "      <td>293.0</td>\n",
       "      <td>2.16</td>\n",
       "      <td>43.02</td>\n",
       "      <td>PEG, pH 7.4, VAPOR DIFFUSION, temperature 293K</td>\n",
       "      <td>7.4</td>\n",
       "      <td>2009.0</td>\n",
       "      <td>A</td>\n",
       "      <td>APRSVDWREKGYVTPVKNQGQCGSCWAFSATGALEGQMFRKTGRLI...</td>\n",
       "      <td>0</td>\n",
       "    </tr>\n",
       "    <tr>\n",
       "      <th>96547</th>\n",
       "      <td>2FZN</td>\n",
       "      <td>OXIDOREDUCTASE</td>\n",
       "      <td>X-RAY DIFFRACTION</td>\n",
       "      <td>Protein</td>\n",
       "      <td>602</td>\n",
       "      <td>2.00</td>\n",
       "      <td>67568.75</td>\n",
       "      <td>VAPOR DIFFUSION, SITTING DROP</td>\n",
       "      <td>293.0</td>\n",
       "      <td>2.85</td>\n",
       "      <td>56.81</td>\n",
       "      <td>The crystal was grown in 13-15% PEG 3350, 60-1...</td>\n",
       "      <td>5.7</td>\n",
       "      <td>NaN</td>\n",
       "      <td>A</td>\n",
       "      <td>LPQSVSRAAITAAYRRPETEAVSMLLEQARLPQPVAEQAHKLAYQL...</td>\n",
       "      <td>2</td>\n",
       "    </tr>\n",
       "    <tr>\n",
       "      <th>236644</th>\n",
       "      <td>3VBL</td>\n",
       "      <td>TRANSFERASE</td>\n",
       "      <td>X-RAY DIFFRACTION</td>\n",
       "      <td>Protein</td>\n",
       "      <td>615</td>\n",
       "      <td>1.90</td>\n",
       "      <td>72468.22</td>\n",
       "      <td>VAPOR DIFFUSION, HANGING DROP</td>\n",
       "      <td>298.0</td>\n",
       "      <td>2.54</td>\n",
       "      <td>51.59</td>\n",
       "      <td>25% pentaerythritol ethoxylate (3/4 EO/OH), 2%...</td>\n",
       "      <td>6.0</td>\n",
       "      <td>2012.0</td>\n",
       "      <td>A</td>\n",
       "      <td>MGSHHHHHHENLYFQGHMNSFYSQEELKKIGFLSVGKNVLISKKAS...</td>\n",
       "      <td>4</td>\n",
       "    </tr>\n",
       "  </tbody>\n",
       "</table>\n",
       "</div>"
      ],
      "text/plain": [
       "       structureId  classification experimentalTechnique macromoleculeType  \\\n",
       "174691        3HHA       HYDROLASE     X-RAY DIFFRACTION           Protein   \n",
       "96547         2FZN  OXIDOREDUCTASE     X-RAY DIFFRACTION           Protein   \n",
       "236644        3VBL     TRANSFERASE     X-RAY DIFFRACTION           Protein   \n",
       "\n",
       "        residueCount  resolution  structureMolecularWeight  \\\n",
       "174691           880        1.27                  98676.19   \n",
       "96547            602        2.00                  67568.75   \n",
       "236644           615        1.90                  72468.22   \n",
       "\n",
       "                crystallizationMethod  crystallizationTempK  densityMatthews  \\\n",
       "174691                VAPOR DIFFUSION                 293.0             2.16   \n",
       "96547   VAPOR DIFFUSION, SITTING DROP                 293.0             2.85   \n",
       "236644  VAPOR DIFFUSION, HANGING DROP                 298.0             2.54   \n",
       "\n",
       "        densityPercentSol                                        pdbxDetails  \\\n",
       "174691              43.02     PEG, pH 7.4, VAPOR DIFFUSION, temperature 293K   \n",
       "96547               56.81  The crystal was grown in 13-15% PEG 3350, 60-1...   \n",
       "236644              51.59  25% pentaerythritol ethoxylate (3/4 EO/OH), 2%...   \n",
       "\n",
       "        phValue  publicationYear chainId  \\\n",
       "174691      7.4           2009.0       A   \n",
       "96547       5.7              NaN       A   \n",
       "236644      6.0           2012.0       A   \n",
       "\n",
       "                                                 sequence  type  \n",
       "174691  APRSVDWREKGYVTPVKNQGQCGSCWAFSATGALEGQMFRKTGRLI...     0  \n",
       "96547   LPQSVSRAAITAAYRRPETEAVSMLLEQARLPQPVAEQAHKLAYQL...     2  \n",
       "236644  MGSHHHHHHENLYFQGHMNSFYSQEELKKIGFLSVGKNVLISKKAS...     4  "
      ]
     },
     "execution_count": 27,
     "metadata": {},
     "output_type": "execute_result"
    }
   ],
   "source": [
    "# permute/scramble/shuffle rows of the dataframe\n",
    "data = data.sample(frac=1)\n",
    "data.head(3)"
   ]
  },
  {
   "cell_type": "code",
   "execution_count": 28,
   "metadata": {},
   "outputs": [
    {
     "data": {
      "text/plain": [
       "structureId                  object\n",
       "classification               object\n",
       "experimentalTechnique        object\n",
       "macromoleculeType            object\n",
       "residueCount                  int64\n",
       "resolution                  float64\n",
       "structureMolecularWeight    float64\n",
       "crystallizationMethod        object\n",
       "crystallizationTempK        float64\n",
       "densityMatthews             float64\n",
       "densityPercentSol           float64\n",
       "pdbxDetails                  object\n",
       "phValue                     float64\n",
       "publicationYear             float64\n",
       "chainId                      object\n",
       "sequence                     object\n",
       "type                          int64\n",
       "dtype: object"
      ]
     },
     "execution_count": 28,
     "metadata": {},
     "output_type": "execute_result"
    }
   ],
   "source": [
    "data.dtypes"
   ]
  },
  {
   "cell_type": "code",
   "execution_count": 29,
   "metadata": {},
   "outputs": [
    {
     "data": {
      "text/plain": [
       "structureId                     0\n",
       "classification                  0\n",
       "experimentalTechnique           0\n",
       "macromoleculeType               0\n",
       "residueCount                    0\n",
       "resolution                   2212\n",
       "structureMolecularWeight        0\n",
       "crystallizationMethod       36633\n",
       "crystallizationTempK        35378\n",
       "densityMatthews              7225\n",
       "densityPercentSol            7175\n",
       "pdbxDetails                 11574\n",
       "phValue                     27884\n",
       "publicationYear             23848\n",
       "chainId                         1\n",
       "sequence                        1\n",
       "type                            0\n",
       "dtype: int64"
      ]
     },
     "execution_count": 29,
     "metadata": {},
     "output_type": "execute_result"
    }
   ],
   "source": [
    "#data.isna.sum()\n",
    "data.isnull().sum(axis = 0)"
   ]
  },
  {
   "cell_type": "code",
   "execution_count": 30,
   "metadata": {
    "collapsed": true
   },
   "outputs": [],
   "source": [
    "# remove nan from 'sequence' column\n",
    "data = data[data['sequence'].notnull()]"
   ]
  },
  {
   "cell_type": "code",
   "execution_count": 31,
   "metadata": {},
   "outputs": [
    {
     "data": {
      "text/plain": [
       "structureId                     0\n",
       "classification                  0\n",
       "experimentalTechnique           0\n",
       "macromoleculeType               0\n",
       "residueCount                    0\n",
       "resolution                   2212\n",
       "structureMolecularWeight        0\n",
       "crystallizationMethod       36633\n",
       "crystallizationTempK        35378\n",
       "densityMatthews              7225\n",
       "densityPercentSol            7175\n",
       "pdbxDetails                 11574\n",
       "phValue                     27884\n",
       "publicationYear             23848\n",
       "chainId                         1\n",
       "sequence                        0\n",
       "type                            0\n",
       "dtype: int64"
      ]
     },
     "execution_count": 31,
     "metadata": {},
     "output_type": "execute_result"
    }
   ],
   "source": [
    "data.isnull().sum(axis = 0)"
   ]
  },
  {
   "cell_type": "markdown",
   "metadata": {},
   "source": [
    "## Transform the protein sequence data with CountVectorizer to get peptide frequency. Split the data into training & test sets."
   ]
  },
  {
   "cell_type": "code",
   "execution_count": 32,
   "metadata": {
    "collapsed": true
   },
   "outputs": [],
   "source": [
    "# In this case, tripeptide frequency is used for analysis\n",
    "vect_3 = CountVectorizer(min_df=1,token_pattern=r'\\w{1}',ngram_range=(3, 3))"
   ]
  },
  {
   "cell_type": "code",
   "execution_count": 33,
   "metadata": {
    "collapsed": true
   },
   "outputs": [],
   "source": [
    "X = vect_3.fit_transform(data.sequence)\n",
    "y = data.type"
   ]
  },
  {
   "cell_type": "code",
   "execution_count": 34,
   "metadata": {},
   "outputs": [
    {
     "name": "stdout",
     "output_type": "stream",
     "text": [
      "(113292, 8753) (113292,)\n",
      "(28323, 8753) (28323,)\n"
     ]
    }
   ],
   "source": [
    "# Split the data into training and test sets\n",
    "X_train, X_test, y_train, y_test = train_test_split(X,y, test_size=0.2,random_state =42)\n",
    "print(X_train.shape, y_train.shape)\n",
    "print(X_test.shape, y_test.shape)"
   ]
  },
  {
   "cell_type": "code",
   "execution_count": 35,
   "metadata": {},
   "outputs": [
    {
     "data": {
      "text/plain": [
       "0    9271\n",
       "4    7292\n",
       "2    6825\n",
       "1    3162\n",
       "3    1773\n",
       "Name: type, dtype: int64"
      ]
     },
     "execution_count": 35,
     "metadata": {},
     "output_type": "execute_result"
    }
   ],
   "source": [
    "y_test.value_counts()"
   ]
  },
  {
   "cell_type": "markdown",
   "metadata": {},
   "source": [
    "## Logistic Regression Model"
   ]
  },
  {
   "cell_type": "code",
   "execution_count": null,
   "metadata": {
    "collapsed": true
   },
   "outputs": [],
   "source": []
  },
  {
   "cell_type": "code",
   "execution_count": 36,
   "metadata": {},
   "outputs": [
    {
     "name": "stderr",
     "output_type": "stream",
     "text": [
      "/Users/scottlew/miniconda3/lib/python3.6/site-packages/sklearn/linear_model/logistic.py:432: FutureWarning: Default solver will be changed to 'lbfgs' in 0.22. Specify a solver to silence this warning.\n",
      "  FutureWarning)\n",
      "/Users/scottlew/miniconda3/lib/python3.6/site-packages/sklearn/linear_model/logistic.py:469: FutureWarning: Default multi_class will be changed to 'auto' in 0.22. Specify the multi_class option to silence this warning.\n",
      "  \"this warning.\", FutureWarning)\n",
      "/Users/scottlew/miniconda3/lib/python3.6/site-packages/sklearn/svm/base.py:929: ConvergenceWarning: Liblinear failed to converge, increase the number of iterations.\n",
      "  \"the number of iterations.\", ConvergenceWarning)\n"
     ]
    },
    {
     "name": "stdout",
     "output_type": "stream",
     "text": [
      "Logistic Regression Score: 0.94\n"
     ]
    }
   ],
   "source": [
    "# Logistic Regression \n",
    "lr = LogisticRegression()\n",
    "lr.fit(X_train, y_train)\n",
    "lr.predict(X_test)\n",
    "print(\"Logistic Regression Score: {:.2f}\".format(lr.score(X_test, y_test)))"
   ]
  },
  {
   "cell_type": "code",
   "execution_count": 37,
   "metadata": {},
   "outputs": [
    {
     "name": "stdout",
     "output_type": "stream",
     "text": [
      "Confusion Matrix for Logistic Regression Model\n",
      "\n",
      "[[8808   92   95   40  236]\n",
      " [  54 3065    7   20   16]\n",
      " [ 157   19 6519   20  110]\n",
      " [  99   21   25 1518  110]\n",
      " [ 223   38  103  102 6826]]\n"
     ]
    }
   ],
   "source": [
    "# Generate Confusion Matrix for Logistic Regression\n",
    "actual = y_test\n",
    "predictions = lr.predict(X_test)\n",
    "print('Confusion Matrix for Logistic Regression Model')\n",
    "print()\n",
    "cm = confusion_matrix(actual,predictions)\n",
    "print(cm)"
   ]
  },
  {
   "cell_type": "code",
   "execution_count": 38,
   "metadata": {},
   "outputs": [
    {
     "data": {
      "image/png": "[encoded data removed]",
      "text/plain": [
       "<matplotlib.figure.Figure at 0x1144e7d30>"
      ]
     },
     "metadata": {},
     "output_type": "display_data"
    }
   ],
   "source": [
    "# Nice plot of confusion matrix\n",
    "# Adjust size of confusion matrix by following code taken from StackOverflow\n",
    "# https://stackoverflow.com/questions/43021762/matplotlib-how-to-change-figsize-for-matshow\n",
    "plt.figure(figsize=(10,5))\n",
    "plt.matshow(cm, fignum=1)\n",
    "\n",
    "plt.title('Confusion Matrix Plot for Logistic Regression Model')\n",
    "plt.colorbar()\n",
    "plt.xlabel('Predicted')\n",
    "plt.ylabel('Actual')\n",
    "\n",
    "plt.show()"
   ]
  },
  {
   "cell_type": "code",
   "execution_count": null,
   "metadata": {
    "collapsed": true
   },
   "outputs": [],
   "source": []
  },
  {
   "cell_type": "markdown",
   "metadata": {},
   "source": [
    "## Decision Tree Classifier"
   ]
  },
  {
   "cell_type": "code",
   "execution_count": 39,
   "metadata": {},
   "outputs": [
    {
     "name": "stdout",
     "output_type": "stream",
     "text": [
      "Decision Tree Classifier Score: 0.96\n"
     ]
    }
   ],
   "source": [
    "from sklearn.tree import DecisionTreeClassifier\n",
    "#dtc = DecisionTreeClassifier(random_state=0).fit(X_train, y_train)\n",
    "dtc = DecisionTreeClassifier(random_state=0).fit(X_train, y_train)\n",
    "predictions = dtc.predict(X_test)\n",
    "print(\"Decision Tree Classifier Score: {:.2f}\".format(dtc.score(X_test, y_test)))"
   ]
  },
  {
   "cell_type": "code",
   "execution_count": 40,
   "metadata": {},
   "outputs": [
    {
     "name": "stdout",
     "output_type": "stream",
     "text": [
      "Confusion Matrix for Decision Tree Model\n",
      "\n",
      "[[8943   28  108   49  143]\n",
      " [  89 3010   15   17   31]\n",
      " [  85   12 6643   24   61]\n",
      " [  85   12   32 1569   75]\n",
      " [ 155   14   78   81 6964]]\n"
     ]
    }
   ],
   "source": [
    "# Generate Confusion Matrix for Decision Tree Classifier\n",
    "actual = y_test\n",
    "predictions = dtc.predict(X_test)\n",
    "print('Confusion Matrix for Decision Tree Model')\n",
    "print()\n",
    "cm = confusion_matrix(actual,predictions)\n",
    "print(cm)"
   ]
  },
  {
   "cell_type": "code",
   "execution_count": 41,
   "metadata": {},
   "outputs": [
    {
     "data": {
      "image/png": "[encoded data removed]",
      "text/plain": [
       "<matplotlib.figure.Figure at 0x114590f28>"
      ]
     },
     "metadata": {},
     "output_type": "display_data"
    }
   ],
   "source": [
    "# plot of confusion matrix\n",
    "plt.figure(figsize=(10,5))\n",
    "plt.matshow(cm, fignum=1)\n",
    "\n",
    "plt.title('Confusion Matrix Plot for Decision Tree Model')\n",
    "plt.colorbar()\n",
    "plt.xlabel('Predicted')\n",
    "plt.ylabel('Actual')\n",
    "\n",
    "plt.show()"
   ]
  },
  {
   "cell_type": "code",
   "execution_count": null,
   "metadata": {
    "collapsed": true
   },
   "outputs": [],
   "source": []
  }
 ],
 "metadata": {
  "kernelspec": {
   "display_name": "Python [default]",
   "language": "python",
   "name": "python3"
  },
  "language_info": {
   "codemirror_mode": {
    "name": "ipython",
    "version": 3
   },
   "file_extension": ".py",
   "mimetype": "text/x-python",
   "name": "python",
   "nbconvert_exporter": "python",
   "pygments_lexer": "ipython3",
   "version": "3.6.9"
  }
 },
 "nbformat": 4,
 "nbformat_minor": 2
}
