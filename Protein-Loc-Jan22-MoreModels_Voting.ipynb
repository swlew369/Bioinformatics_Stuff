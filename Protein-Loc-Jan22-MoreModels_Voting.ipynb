{
 "cells": [
  {
   "cell_type": "code",
   "execution_count": 1,
   "metadata": {
    "collapsed": true
   },
   "outputs": [],
   "source": [
    "import pandas as pd\n",
    "import seaborn as sns\n",
    "import numpy as np\n",
    "import time\n",
    "import re\n",
    "import nltk\n",
    "import math\n",
    "import os\n",
    "import matplotlib.pyplot as plt\n",
    "import sklearn.metrics\n",
    "\n",
    "from sklearn.ensemble import VotingClassifier\n",
    "from sklearn.linear_model import PassiveAggressiveClassifier\n",
    "from sklearn.linear_model import RidgeClassifier\n",
    "from sklearn.naive_bayes import MultinomialNB\n",
    "from sklearn import linear_model\n",
    "from sklearn.linear_model import Perceptron\n",
    "\n",
    "from sklearn import svm\n",
    "from sklearn.ensemble import GradientBoostingClassifier\n",
    "from sklearn.tree import DecisionTreeClassifier\n",
    "from sklearn.preprocessing import StandardScaler\n",
    "from sklearn.model_selection import train_test_split, GridSearchCV\n",
    "from sklearn.linear_model import LogisticRegression\n",
    "from sklearn.neighbors import KNeighborsClassifier\n",
    "from sklearn.ensemble import RandomForestClassifier\n",
    "\n",
    "from sklearn import linear_model\n",
    "from sklearn.naive_bayes import MultinomialNB\n",
    "from sklearn.ensemble import VotingClassifier\n",
    "from sklearn.linear_model import PassiveAggressiveClassifier\n",
    "\n",
    "from nltk.corpus import stopwords\n",
    "from sklearn.feature_extraction.text import TfidfVectorizer\n",
    "from sklearn.feature_extraction.text import CountVectorizer\n",
    "from sklearn.metrics import roc_auc_score\n",
    "from Bio.SeqUtils.ProtParam import ProteinAnalysis\n",
    "import sklearn.metrics\n",
    "from sklearn.metrics import confusion_matrix\n",
    "from sklearn.metrics import classification_report\n",
    "\n",
    "import pickle\n",
    "\n",
    "%matplotlib inline\n"
   ]
  },
  {
   "cell_type": "markdown",
   "metadata": {},
   "source": [
    "## Load csv files"
   ]
  },
  {
   "cell_type": "code",
   "execution_count": 2,
   "metadata": {
    "collapsed": true
   },
   "outputs": [],
   "source": [
    "\n",
    "df_gol = pd.read_csv('uniprot-golgi-unreviewed.csv')\n",
    "df_mito = pd.read_csv('uniprot-mito-reviewed2.csv')\n",
    "df_pm = pd.read_csv('uniprot-pm-reviewed.csv')\n",
    "df_cyto = pd.read_csv('uniprot-cytoplasm-20K.csv')\n",
    "df_ER = pd.read_csv('uniprot-ER-136K.csv')\n",
    "df_nuc = pd.read_csv('uniprot-nucleus-reviewed.csv')\n",
    "df_lyso = pd.read_csv('uniprot-lysosome-unreviewed.csv')"
   ]
  },
  {
   "cell_type": "code",
   "execution_count": 3,
   "metadata": {
    "collapsed": true
   },
   "outputs": [],
   "source": [
    "df_gol2 = df_gol.sample(frac=0.33)\n",
    "df_ER2 = df_ER.sample(frac=0.27)\n",
    "df_nuc2 = df_nuc.sample(frac=0.5)\n",
    "df_lyso2 = df_lyso.sample(frac=0.5)"
   ]
  },
  {
   "cell_type": "code",
   "execution_count": 4,
   "metadata": {},
   "outputs": [
    {
     "data": {
      "text/html": [
       "<div>\n",
       "<style scoped>\n",
       "    .dataframe tbody tr th:only-of-type {\n",
       "        vertical-align: middle;\n",
       "    }\n",
       "\n",
       "    .dataframe tbody tr th {\n",
       "        vertical-align: top;\n",
       "    }\n",
       "\n",
       "    .dataframe thead th {\n",
       "        text-align: right;\n",
       "    }\n",
       "</style>\n",
       "<table border=\"1\" class=\"dataframe\">\n",
       "  <thead>\n",
       "    <tr style=\"text-align: right;\">\n",
       "      <th></th>\n",
       "      <th>name</th>\n",
       "      <th>sequence</th>\n",
       "      <th>location</th>\n",
       "      <th>label</th>\n",
       "    </tr>\n",
       "  </thead>\n",
       "  <tbody>\n",
       "    <tr>\n",
       "      <th>0</th>\n",
       "      <td>sp|Q9BV35|SCMC3_HUMAN</td>\n",
       "      <td>MRGSPGDAERRQRWGRLFEELDSNKDGRVDVHELRQGLARLGGGNP...</td>\n",
       "      <td>6</td>\n",
       "      <td>mitochondria</td>\n",
       "    </tr>\n",
       "    <tr>\n",
       "      <th>1</th>\n",
       "      <td>sp|Q6NUK1|SCMC1_HUMAN</td>\n",
       "      <td>MLRWLRDFVLPTAACQDAEQPTRYETLFQALDRNGDGVVDIGELQE...</td>\n",
       "      <td>6</td>\n",
       "      <td>mitochondria</td>\n",
       "    </tr>\n",
       "    <tr>\n",
       "      <th>2</th>\n",
       "      <td>sp|Q9NUT2|MITOS_HUMAN</td>\n",
       "      <td>MLVHLFRVGIRGGPFPGRLLPPLRFQTFSAVRNTWRNGKTGQLHKA...</td>\n",
       "      <td>6</td>\n",
       "      <td>mitochondria</td>\n",
       "    </tr>\n",
       "    <tr>\n",
       "      <th>3</th>\n",
       "      <td>sp|Q6KCM7|SCMC2_HUMAN</td>\n",
       "      <td>MLCLCLYVPVIGEAQTEFQYFESKGLPAELKSIFKLSVFIPSQEFS...</td>\n",
       "      <td>6</td>\n",
       "      <td>mitochondria</td>\n",
       "    </tr>\n",
       "    <tr>\n",
       "      <th>4</th>\n",
       "      <td>sp|P53230|TAM41_YEAST</td>\n",
       "      <td>MLRVSENGLRFLLKCHSTNVSMFNRLLSTQIKEGRSSIDDAGIIPD...</td>\n",
       "      <td>6</td>\n",
       "      <td>mitochondria</td>\n",
       "    </tr>\n",
       "  </tbody>\n",
       "</table>\n",
       "</div>"
      ],
      "text/plain": [
       "                    name                                           sequence  \\\n",
       "0  sp|Q9BV35|SCMC3_HUMAN  MRGSPGDAERRQRWGRLFEELDSNKDGRVDVHELRQGLARLGGGNP...   \n",
       "1  sp|Q6NUK1|SCMC1_HUMAN  MLRWLRDFVLPTAACQDAEQPTRYETLFQALDRNGDGVVDIGELQE...   \n",
       "2  sp|Q9NUT2|MITOS_HUMAN  MLVHLFRVGIRGGPFPGRLLPPLRFQTFSAVRNTWRNGKTGQLHKA...   \n",
       "3  sp|Q6KCM7|SCMC2_HUMAN  MLCLCLYVPVIGEAQTEFQYFESKGLPAELKSIFKLSVFIPSQEFS...   \n",
       "4  sp|P53230|TAM41_YEAST  MLRVSENGLRFLLKCHSTNVSMFNRLLSTQIKEGRSSIDDAGIIPD...   \n",
       "\n",
       "   location         label  \n",
       "0         6  mitochondria  \n",
       "1         6  mitochondria  \n",
       "2         6  mitochondria  \n",
       "3         6  mitochondria  \n",
       "4         6  mitochondria  "
      ]
     },
     "execution_count": 4,
     "metadata": {},
     "output_type": "execute_result"
    }
   ],
   "source": [
    "proteins = pd.concat([df_mito,df_pm,df_cyto,df_gol2,df_ER2,df_nuc2,df_lyso2])\n",
    "proteins.head()"
   ]
  },
  {
   "cell_type": "code",
   "execution_count": 5,
   "metadata": {},
   "outputs": [
    {
     "data": {
      "text/plain": [
       "(184289, 4)"
      ]
     },
     "execution_count": 5,
     "metadata": {},
     "output_type": "execute_result"
    }
   ],
   "source": [
    "proteins.shape"
   ]
  },
  {
   "cell_type": "code",
   "execution_count": 6,
   "metadata": {
    "collapsed": true
   },
   "outputs": [],
   "source": [
    "# permute/scramble/shuffle rows of the dataframe\n",
    "proteins = proteins.sample(frac=1)"
   ]
  },
  {
   "cell_type": "code",
   "execution_count": 7,
   "metadata": {},
   "outputs": [
    {
     "data": {
      "text/plain": [
       "0    33594\n",
       "8    30734\n",
       "7    26197\n",
       "1    26015\n",
       "6    24128\n",
       "9    23119\n",
       "3    20502\n",
       "Name: location, dtype: int64"
      ]
     },
     "execution_count": 7,
     "metadata": {},
     "output_type": "execute_result"
    }
   ],
   "source": [
    "proteins.location.value_counts()"
   ]
  },
  {
   "cell_type": "code",
   "execution_count": 8,
   "metadata": {},
   "outputs": [
    {
     "data": {
      "text/plain": [
       "ER                 33594\n",
       "lysosome           30734\n",
       "nucleus            26197\n",
       "Golgi              26015\n",
       "mitochondria       24128\n",
       "plasma_membrane    23119\n",
       "cytoplasm          20502\n",
       "Name: label, dtype: int64"
      ]
     },
     "execution_count": 8,
     "metadata": {},
     "output_type": "execute_result"
    }
   ],
   "source": [
    "proteins.label.value_counts()"
   ]
  },
  {
   "cell_type": "code",
   "execution_count": 9,
   "metadata": {},
   "outputs": [
    {
     "data": {
      "text/plain": [
       "(176864, 4)"
      ]
     },
     "execution_count": 9,
     "metadata": {},
     "output_type": "execute_result"
    }
   ],
   "source": [
    "# remove the duplicate protein sequences\n",
    "proteins = proteins.drop_duplicates(subset='sequence', keep=\"first\")\n",
    "\n",
    "# remove nan from 'sequence' column\n",
    "proteins = proteins[proteins['sequence'].notnull()]\n",
    "\n",
    "proteins.shape"
   ]
  },
  {
   "cell_type": "code",
   "execution_count": null,
   "metadata": {
    "collapsed": true
   },
   "outputs": [],
   "source": []
  },
  {
   "cell_type": "markdown",
   "metadata": {},
   "source": [
    "## Transform the protein sequence data with CountVectorizer to get peptide frequency. Split the data into training & test sets."
   ]
  },
  {
   "cell_type": "code",
   "execution_count": 10,
   "metadata": {
    "collapsed": true
   },
   "outputs": [],
   "source": [
    "# Peptide count is used for analysis\n",
    "peptide_size = 6\n",
    "vect = CountVectorizer(min_df=1,token_pattern=r'\\w{1}',ngram_range=(peptide_size,peptide_size))"
   ]
  },
  {
   "cell_type": "code",
   "execution_count": 11,
   "metadata": {
    "collapsed": true
   },
   "outputs": [],
   "source": [
    "X = vect.fit_transform(proteins.sequence)\n",
    "y = proteins.location"
   ]
  },
  {
   "cell_type": "code",
   "execution_count": 12,
   "metadata": {},
   "outputs": [
    {
     "name": "stdout",
     "output_type": "stream",
     "text": [
      "(141491, 21552618) (141491,)\n",
      "(35373, 21552618) (35373,)\n"
     ]
    }
   ],
   "source": [
    "# Split the data into training and test sets\n",
    "X_train, X_test, y_train, y_test = train_test_split(X,y, test_size=0.2,random_state =42)\n",
    "print(X_train.shape, y_train.shape)\n",
    "print(X_test.shape, y_test.shape)"
   ]
  },
  {
   "cell_type": "code",
   "execution_count": 13,
   "metadata": {},
   "outputs": [
    {
     "data": {
      "text/plain": [
       "0    6516\n",
       "8    6216\n",
       "1    5086\n",
       "7    4702\n",
       "9    4487\n",
       "6    4417\n",
       "3    3949\n",
       "Name: location, dtype: int64"
      ]
     },
     "execution_count": 13,
     "metadata": {},
     "output_type": "execute_result"
    }
   ],
   "source": [
    "y_test.value_counts()"
   ]
  },
  {
   "cell_type": "code",
   "execution_count": 14,
   "metadata": {},
   "outputs": [
    {
     "name": "stdout",
     "output_type": "stream",
     "text": [
      "MNB classifier Score: 0.86\n",
      "\n",
      "CPU times: user 13.2 s, sys: 7.99 s, total: 21.2 s\n",
      "Wall time: 23.5 s\n"
     ]
    }
   ],
   "source": [
    "%%time\n",
    "mnb = MultinomialNB()\n",
    "mnb.fit(X_train, y_train)\n",
    "# evaluate accuracy of our model on test data\n",
    "print(\"MNB classifier Score: {:.2f}\".format(mnb.score(X_test, y_test)))\n",
    "print()"
   ]
  },
  {
   "cell_type": "code",
   "execution_count": 15,
   "metadata": {},
   "outputs": [
    {
     "name": "stdout",
     "output_type": "stream",
     "text": [
      "Passive Aggressive classifier Score: 0.87\n",
      "\n",
      "CPU times: user 1min 49s, sys: 4.09 s, total: 1min 53s\n",
      "Wall time: 1min 57s\n"
     ]
    }
   ],
   "source": [
    "%%time\n",
    "pac = PassiveAggressiveClassifier()\n",
    "pac.fit(X_train, y_train)\n",
    "# evaluate accuracy of our model on test data\n",
    "print(\"Passive Aggressive classifier Score: {:.2f}\".format(pac.score(X_test, y_test)))\n",
    "print()"
   ]
  },
  {
   "cell_type": "code",
   "execution_count": 16,
   "metadata": {},
   "outputs": [
    {
     "name": "stdout",
     "output_type": "stream",
     "text": [
      "Passive Aggressive classifier with squared hinge loss Score: 0.85\n",
      "\n",
      "CPU times: user 1min 58s, sys: 7.38 s, total: 2min 5s\n",
      "Wall time: 2min 11s\n"
     ]
    }
   ],
   "source": [
    "%%time\n",
    "pac2 = PassiveAggressiveClassifier(loss='squared_hinge')\n",
    "pac2.fit(X_train, y_train)\n",
    "# evaluate accuracy of our model on test data\n",
    "print(\"Passive Aggressive classifier with squared hinge loss Score: {:.2f}\".format(pac2.score(X_test, y_test)))\n",
    "print()"
   ]
  },
  {
   "cell_type": "code",
   "execution_count": 17,
   "metadata": {},
   "outputs": [
    {
     "name": "stdout",
     "output_type": "stream",
     "text": [
      "SGD classifier Score: 0.87\n",
      "\n",
      "CPU times: user 2min 45s, sys: 8.71 s, total: 2min 54s\n",
      "Wall time: 3min 1s\n"
     ]
    }
   ],
   "source": [
    "%%time\n",
    "sgd = linear_model.SGDClassifier(max_iter=1000, tol=1e-3)\n",
    "sgd.fit(X_train, y_train)\n",
    "# evaluate accuracy of our model on test data\n",
    "print(\"SGD classifier Score: {:.2f}\".format(sgd.score(X_test, y_test)))\n",
    "print()"
   ]
  },
  {
   "cell_type": "code",
   "execution_count": 18,
   "metadata": {},
   "outputs": [
    {
     "name": "stdout",
     "output_type": "stream",
     "text": [
      "Perceptron classifier Score: 0.85\n",
      "\n",
      "CPU times: user 4min 57s, sys: 8.93 s, total: 5min 6s\n",
      "Wall time: 5min 16s\n"
     ]
    }
   ],
   "source": [
    "%%time\n",
    "per = Perceptron(tol=1e-3, random_state=0).fit(X_train,y_train)\n",
    "# evaluate accuracy of our model on test data\n",
    "print(\"Perceptron classifier Score: {:.2f}\".format(per.score(X_test, y_test)))\n",
    "print()"
   ]
  },
  {
   "cell_type": "code",
   "execution_count": null,
   "metadata": {
    "collapsed": true
   },
   "outputs": [],
   "source": []
  },
  {
   "cell_type": "markdown",
   "metadata": {},
   "source": [
    "## Majority Vote Classifier"
   ]
  },
  {
   "cell_type": "code",
   "execution_count": 19,
   "metadata": {
    "collapsed": true
   },
   "outputs": [],
   "source": [
    "# three classifiers: SGD, PassiveAggressiveClassifier, MNB\n",
    "\n",
    "clf1 = linear_model.SGDClassifier(max_iter=1000, tol=1e-3)\n",
    "clf2 = PassiveAggressiveClassifier()\n",
    "clf3 = MultinomialNB()"
   ]
  },
  {
   "cell_type": "code",
   "execution_count": 20,
   "metadata": {},
   "outputs": [
    {
     "name": "stdout",
     "output_type": "stream",
     "text": [
      "Majority Voting Classifier Score: 0.87\n"
     ]
    }
   ],
   "source": [
    "eclf1 = VotingClassifier(estimators=[('sgd', clf1), ('pac', clf2), ('mnb', clf3)], voting='hard')\n",
    "eclf1 = eclf1.fit(X_train, y_train)\n",
    "# evaluate accuracy of our model on test data\n",
    "print(\"Majority Voting Classifier Score: {:.2f}\".format(eclf1.score(X_test, y_test)))"
   ]
  },
  {
   "cell_type": "code",
   "execution_count": 21,
   "metadata": {},
   "outputs": [
    {
     "name": "stdout",
     "output_type": "stream",
     "text": [
      "Confusion Matrix for Majority Vote Model\n",
      "\n",
      "[[6016  181   26   71   81   10  131]\n",
      " [ 171 4784   17   37   44    8   25]\n",
      " [  16    4 3236  177  384    3  129]\n",
      " [  80   14  240 3406  449   19  209]\n",
      " [  51    3  308  313 3797   19  211]\n",
      " [  31   14   82   67   80 5844   98]\n",
      " [  33    3  206  206  341   38 3660]]\n"
     ]
    }
   ],
   "source": [
    "# Generate Confusion Matrix \n",
    "actual = y_test\n",
    "predictions = eclf1.predict(X_test)\n",
    "print('Confusion Matrix for Majority Vote Model')\n",
    "print()\n",
    "cm = confusion_matrix(actual,predictions)\n",
    "print(cm)"
   ]
  },
  {
   "cell_type": "code",
   "execution_count": 22,
   "metadata": {},
   "outputs": [
    {
     "data": {
      "image/png": "[encoded data removed]",
      "text/plain": [
       "<matplotlib.figure.Figure at 0x1a18f02710>"
      ]
     },
     "metadata": {},
     "output_type": "display_data"
    }
   ],
   "source": [
    "# Nice plot of confusion matrix\n",
    "# Adjust size of confusion matrix by following code taken from StackOverflow\n",
    "# https://stackoverflow.com/questions/43021762/matplotlib-how-to-change-figsize-for-matshow\n",
    "plt.figure(figsize=(10,5))\n",
    "plt.matshow(cm, fignum=1)\n",
    "\n",
    "plt.title('Confusion Matrix Plot for Majority Vote Model')\n",
    "plt.colorbar()\n",
    "plt.xlabel('Predicted')\n",
    "plt.ylabel('Actual')\n",
    "\n",
    "plt.show()"
   ]
  },
  {
   "cell_type": "code",
   "execution_count": 26,
   "metadata": {},
   "outputs": [
    {
     "name": "stdout",
     "output_type": "stream",
     "text": [
      "              precision    recall  f1-score   support\n",
      "\n",
      "           0       0.92      0.94      0.93      6398\n",
      "           1       0.94      0.96      0.95      5003\n",
      "           3       0.82      0.79      0.80      4115\n",
      "           6       0.77      0.80      0.78      4277\n",
      "           7       0.81      0.73      0.77      5176\n",
      "           8       0.94      0.98      0.96      5941\n",
      "           9       0.82      0.82      0.82      4463\n",
      "\n",
      "    accuracy                           0.87     35373\n",
      "   macro avg       0.86      0.86      0.86     35373\n",
      "weighted avg       0.87      0.87      0.87     35373\n",
      "\n"
     ]
    }
   ],
   "source": [
    "vote_prediction1 = eclf1.predict(X_test)\n",
    "print(classification_report(vote_prediction1, y_test))"
   ]
  },
  {
   "cell_type": "code",
   "execution_count": 27,
   "metadata": {},
   "outputs": [
    {
     "name": "stdout",
     "output_type": "stream",
     "text": [
      "Majority Voting Classifier Score: 0.87\n",
      "\n",
      "CPU times: user 9min 20s, sys: 28 s, total: 9min 48s\n",
      "Wall time: 10min 21s\n"
     ]
    }
   ],
   "source": [
    "%%time\n",
    "clf1d = linear_model.SGDClassifier(max_iter=1000, tol=1e-3)\n",
    "clf2d = PassiveAggressiveClassifier()\n",
    "clf3d = Perceptron(tol=1e-3, random_state=0)\n",
    "clf4d = MultinomialNB()\n",
    "\n",
    "eclf2 = VotingClassifier(estimators=[('sgd', clf1d), ('pac', clf2d), ('per', clf3d),('mnb',clf4d)], voting='hard')\n",
    "eclf2.fit(X_train, y_train)\n",
    "# evaluate accuracy of our model on test data\n",
    "print(\"Majority Voting Classifier Score: {:.2f}\".format(eclf2.score(X_test, y_test)))\n",
    "print()"
   ]
  },
  {
   "cell_type": "code",
   "execution_count": 28,
   "metadata": {},
   "outputs": [
    {
     "name": "stdout",
     "output_type": "stream",
     "text": [
      "              precision    recall  f1-score   support\n",
      "\n",
      "           0       0.93      0.94      0.93      6429\n",
      "           1       0.94      0.95      0.95      5042\n",
      "           3       0.82      0.80      0.81      4037\n",
      "           6       0.77      0.80      0.78      4285\n",
      "           7       0.80      0.73      0.77      5169\n",
      "           8       0.95      0.98      0.97      5993\n",
      "           9       0.81      0.82      0.82      4418\n",
      "\n",
      "    accuracy                           0.87     35373\n",
      "   macro avg       0.86      0.86      0.86     35373\n",
      "weighted avg       0.87      0.87      0.87     35373\n",
      "\n"
     ]
    }
   ],
   "source": [
    "vote_prediction2 = eclf2.predict(X_test)\n",
    "print(classification_report(vote_prediction2, y_test))"
   ]
  }
 ],
 "metadata": {
  "kernelspec": {
   "display_name": "Python [default]",
   "language": "python",
   "name": "python3"
  },
  "language_info": {
   "codemirror_mode": {
    "name": "ipython",
    "version": 3
   },
   "file_extension": ".py",
   "mimetype": "text/x-python",
   "name": "python",
   "nbconvert_exporter": "python",
   "pygments_lexer": "ipython3",
   "version": "3.6.9"
  }
 },
 "nbformat": 4,
 "nbformat_minor": 2
}
