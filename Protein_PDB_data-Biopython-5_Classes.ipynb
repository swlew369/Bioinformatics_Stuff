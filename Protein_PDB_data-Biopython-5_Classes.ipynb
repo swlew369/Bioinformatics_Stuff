{
 "cells": [
  {
   "cell_type": "code",
   "execution_count": 1,
   "metadata": {
    "collapsed": true
   },
   "outputs": [],
   "source": [
    "import pandas as pd\n",
    "import numpy as np\n",
    "import seaborn as sns\n",
    "import matplotlib.pyplot as plt\n",
    "import time\n",
    "import re\n",
    "import nltk\n",
    "import math\n",
    "from sklearn import svm\n",
    "from sklearn.preprocessing import StandardScaler\n",
    "from sklearn.model_selection import train_test_split, GridSearchCV\n",
    "from sklearn.linear_model import LogisticRegression\n",
    "from sklearn.neighbors import KNeighborsClassifier\n",
    "from sklearn.ensemble import RandomForestClassifier\n",
    "from nltk.corpus import stopwords\n",
    "from sklearn.feature_extraction.text import TfidfVectorizer\n",
    "from sklearn.feature_extraction.text import CountVectorizer\n",
    "import sklearn.metrics\n",
    "from sklearn.metrics import confusion_matrix\n",
    "from Bio.SeqUtils.ProtParam import ProteinAnalysis\n",
    "from imblearn.over_sampling import SMOTE\n",
    "\n",
    "%matplotlib inline"
   ]
  },
  {
   "cell_type": "code",
   "execution_count": 2,
   "metadata": {},
   "outputs": [
    {
     "data": {
      "text/html": [
       "<div>\n",
       "<style scoped>\n",
       "    .dataframe tbody tr th:only-of-type {\n",
       "        vertical-align: middle;\n",
       "    }\n",
       "\n",
       "    .dataframe tbody tr th {\n",
       "        vertical-align: top;\n",
       "    }\n",
       "\n",
       "    .dataframe thead th {\n",
       "        text-align: right;\n",
       "    }\n",
       "</style>\n",
       "<table border=\"1\" class=\"dataframe\">\n",
       "  <thead>\n",
       "    <tr style=\"text-align: right;\">\n",
       "      <th></th>\n",
       "      <th>structureId</th>\n",
       "      <th>classification</th>\n",
       "      <th>experimentalTechnique</th>\n",
       "      <th>macromoleculeType</th>\n",
       "      <th>residueCount</th>\n",
       "      <th>resolution</th>\n",
       "      <th>structureMolecularWeight</th>\n",
       "      <th>crystallizationMethod</th>\n",
       "      <th>crystallizationTempK</th>\n",
       "      <th>densityMatthews</th>\n",
       "      <th>...</th>\n",
       "      <th>sequence</th>\n",
       "      <th>MW</th>\n",
       "      <th>grav</th>\n",
       "      <th>instability</th>\n",
       "      <th>isoelectric</th>\n",
       "      <th>aromaticity</th>\n",
       "      <th>helix</th>\n",
       "      <th>turn</th>\n",
       "      <th>sheet</th>\n",
       "      <th>type</th>\n",
       "    </tr>\n",
       "  </thead>\n",
       "  <tbody>\n",
       "    <tr>\n",
       "      <th>0</th>\n",
       "      <td>1BCC</td>\n",
       "      <td>OXIDOREDUCTASE</td>\n",
       "      <td>X-RAY DIFFRACTION</td>\n",
       "      <td>Protein</td>\n",
       "      <td>2048</td>\n",
       "      <td>3.16</td>\n",
       "      <td>467225.78</td>\n",
       "      <td>NaN</td>\n",
       "      <td>NaN</td>\n",
       "      <td>3.83</td>\n",
       "      <td>...</td>\n",
       "      <td>GRQFGHLTRVRHLITYSLSPFEQRPFPHYFSKGVPNVWRRLRACIL...</td>\n",
       "      <td>9698.1064</td>\n",
       "      <td>-0.503704</td>\n",
       "      <td>69.887778</td>\n",
       "      <td>10.710144</td>\n",
       "      <td>0.172840</td>\n",
       "      <td>0.358025</td>\n",
       "      <td>0.222222</td>\n",
       "      <td>0.197531</td>\n",
       "      <td>2</td>\n",
       "    </tr>\n",
       "    <tr>\n",
       "      <th>1</th>\n",
       "      <td>4DF9</td>\n",
       "      <td>HYDROLASE</td>\n",
       "      <td>X-RAY DIFFRACTION</td>\n",
       "      <td>Protein</td>\n",
       "      <td>2454</td>\n",
       "      <td>2.17</td>\n",
       "      <td>285852.50</td>\n",
       "      <td>VAPOR DIFFUSION, SITTING DROP</td>\n",
       "      <td>293.0</td>\n",
       "      <td>2.82</td>\n",
       "      <td>...</td>\n",
       "      <td>GAQNFSDYFTNKTLRIDYLFTGNADKQSICLDELSELPVWAGRRHH...</td>\n",
       "      <td>46094.4424</td>\n",
       "      <td>-0.360880</td>\n",
       "      <td>41.154377</td>\n",
       "      <td>5.803650</td>\n",
       "      <td>0.119804</td>\n",
       "      <td>0.308068</td>\n",
       "      <td>0.227384</td>\n",
       "      <td>0.234719</td>\n",
       "      <td>0</td>\n",
       "    </tr>\n",
       "    <tr>\n",
       "      <th>2</th>\n",
       "      <td>5D10</td>\n",
       "      <td>TRANSFERASE</td>\n",
       "      <td>X-RAY DIFFRACTION</td>\n",
       "      <td>Protein</td>\n",
       "      <td>572</td>\n",
       "      <td>2.70</td>\n",
       "      <td>66414.59</td>\n",
       "      <td>VAPOR DIFFUSION, HANGING DROP</td>\n",
       "      <td>293.0</td>\n",
       "      <td>3.05</td>\n",
       "      <td>...</td>\n",
       "      <td>GHMQTQGLAKDAWEIPRESLRLEVKLGQGCFGEVWMGTWNGTTRVA...</td>\n",
       "      <td>32735.4908</td>\n",
       "      <td>-0.310490</td>\n",
       "      <td>40.837063</td>\n",
       "      <td>5.585022</td>\n",
       "      <td>0.101399</td>\n",
       "      <td>0.307692</td>\n",
       "      <td>0.188811</td>\n",
       "      <td>0.314685</td>\n",
       "      <td>4</td>\n",
       "    </tr>\n",
       "    <tr>\n",
       "      <th>3</th>\n",
       "      <td>5C7E</td>\n",
       "      <td>TRANSCRIPTION</td>\n",
       "      <td>X-RAY DIFFRACTION</td>\n",
       "      <td>Protein</td>\n",
       "      <td>1320</td>\n",
       "      <td>3.10</td>\n",
       "      <td>156775.77</td>\n",
       "      <td>VAPOR DIFFUSION, SITTING DROP</td>\n",
       "      <td>293.0</td>\n",
       "      <td>4.00</td>\n",
       "      <td>...</td>\n",
       "      <td>SETELDLALGL</td>\n",
       "      <td>1160.2715</td>\n",
       "      <td>0.418182</td>\n",
       "      <td>44.109091</td>\n",
       "      <td>3.574280</td>\n",
       "      <td>0.000000</td>\n",
       "      <td>0.363636</td>\n",
       "      <td>0.181818</td>\n",
       "      <td>0.636364</td>\n",
       "      <td>3</td>\n",
       "    </tr>\n",
       "    <tr>\n",
       "      <th>4</th>\n",
       "      <td>4V45</td>\n",
       "      <td>HYDROLASE</td>\n",
       "      <td>X-RAY DIFFRACTION</td>\n",
       "      <td>Protein</td>\n",
       "      <td>16368</td>\n",
       "      <td>2.60</td>\n",
       "      <td>1871622.00</td>\n",
       "      <td>VAPOR DIFFUSION, HANGING DROP</td>\n",
       "      <td>295.0</td>\n",
       "      <td>3.10</td>\n",
       "      <td>...</td>\n",
       "      <td>TMITDSLAVVLQRRDWENPGVTQLNRLAAHPPFASWRNSEEARTDR...</td>\n",
       "      <td>116350.2846</td>\n",
       "      <td>-0.434702</td>\n",
       "      <td>43.327370</td>\n",
       "      <td>5.276550</td>\n",
       "      <td>0.105572</td>\n",
       "      <td>0.300098</td>\n",
       "      <td>0.234604</td>\n",
       "      <td>0.252199</td>\n",
       "      <td>0</td>\n",
       "    </tr>\n",
       "  </tbody>\n",
       "</table>\n",
       "<p>5 rows × 25 columns</p>\n",
       "</div>"
      ],
      "text/plain": [
       "  structureId  classification experimentalTechnique macromoleculeType  \\\n",
       "0        1BCC  OXIDOREDUCTASE     X-RAY DIFFRACTION           Protein   \n",
       "1        4DF9       HYDROLASE     X-RAY DIFFRACTION           Protein   \n",
       "2        5D10     TRANSFERASE     X-RAY DIFFRACTION           Protein   \n",
       "3        5C7E   TRANSCRIPTION     X-RAY DIFFRACTION           Protein   \n",
       "4        4V45       HYDROLASE     X-RAY DIFFRACTION           Protein   \n",
       "\n",
       "   residueCount  resolution  structureMolecularWeight  \\\n",
       "0          2048        3.16                 467225.78   \n",
       "1          2454        2.17                 285852.50   \n",
       "2           572        2.70                  66414.59   \n",
       "3          1320        3.10                 156775.77   \n",
       "4         16368        2.60                1871622.00   \n",
       "\n",
       "           crystallizationMethod  crystallizationTempK  densityMatthews  ...  \\\n",
       "0                            NaN                   NaN             3.83  ...   \n",
       "1  VAPOR DIFFUSION, SITTING DROP                 293.0             2.82  ...   \n",
       "2  VAPOR DIFFUSION, HANGING DROP                 293.0             3.05  ...   \n",
       "3  VAPOR DIFFUSION, SITTING DROP                 293.0             4.00  ...   \n",
       "4  VAPOR DIFFUSION, HANGING DROP                 295.0             3.10  ...   \n",
       "\n",
       "                                            sequence           MW      grav  \\\n",
       "0  GRQFGHLTRVRHLITYSLSPFEQRPFPHYFSKGVPNVWRRLRACIL...    9698.1064 -0.503704   \n",
       "1  GAQNFSDYFTNKTLRIDYLFTGNADKQSICLDELSELPVWAGRRHH...   46094.4424 -0.360880   \n",
       "2  GHMQTQGLAKDAWEIPRESLRLEVKLGQGCFGEVWMGTWNGTTRVA...   32735.4908 -0.310490   \n",
       "3                                        SETELDLALGL    1160.2715  0.418182   \n",
       "4  TMITDSLAVVLQRRDWENPGVTQLNRLAAHPPFASWRNSEEARTDR...  116350.2846 -0.434702   \n",
       "\n",
       "   instability isoelectric aromaticity     helix      turn     sheet  type  \n",
       "0    69.887778   10.710144    0.172840  0.358025  0.222222  0.197531     2  \n",
       "1    41.154377    5.803650    0.119804  0.308068  0.227384  0.234719     0  \n",
       "2    40.837063    5.585022    0.101399  0.307692  0.188811  0.314685     4  \n",
       "3    44.109091    3.574280    0.000000  0.363636  0.181818  0.636364     3  \n",
       "4    43.327370    5.276550    0.105572  0.300098  0.234604  0.252199     0  \n",
       "\n",
       "[5 rows x 25 columns]"
      ]
     },
     "execution_count": 2,
     "metadata": {},
     "output_type": "execute_result"
    }
   ],
   "source": [
    "df = pd.read_csv('proteins_5cl-PDB-Biopython.csv')\n",
    "df.head()"
   ]
  },
  {
   "cell_type": "code",
   "execution_count": null,
   "metadata": {
    "collapsed": true
   },
   "outputs": [],
   "source": []
  },
  {
   "cell_type": "code",
   "execution_count": 3,
   "metadata": {},
   "outputs": [
    {
     "data": {
      "text/plain": [
       "HYDROLASE         46336\n",
       "TRANSFERASE       36424\n",
       "OXIDOREDUCTASE    34322\n",
       "IMMUNE SYSTEM     15615\n",
       "TRANSCRIPTION      8919\n",
       "Name: classification, dtype: int64"
      ]
     },
     "execution_count": 3,
     "metadata": {},
     "output_type": "execute_result"
    }
   ],
   "source": [
    "df.classification.value_counts()"
   ]
  },
  {
   "cell_type": "code",
   "execution_count": 4,
   "metadata": {},
   "outputs": [
    {
     "data": {
      "text/plain": [
       "HYDROLASE         46336\n",
       "TRANSFERASE       36424\n",
       "OXIDOREDUCTASE    34322\n",
       "IMMUNE SYSTEM     15615\n",
       "TRANSCRIPTION      8919\n",
       "Name: classification, dtype: int64"
      ]
     },
     "execution_count": 4,
     "metadata": {},
     "output_type": "execute_result"
    }
   ],
   "source": [
    "df.classification.value_counts()"
   ]
  },
  {
   "cell_type": "code",
   "execution_count": 5,
   "metadata": {},
   "outputs": [
    {
     "data": {
      "text/plain": [
       "0    46336\n",
       "4    36424\n",
       "2    34322\n",
       "1    15615\n",
       "3     8919\n",
       "Name: type, dtype: int64"
      ]
     },
     "execution_count": 5,
     "metadata": {},
     "output_type": "execute_result"
    }
   ],
   "source": [
    "df.type.value_counts()"
   ]
  },
  {
   "cell_type": "code",
   "execution_count": 6,
   "metadata": {},
   "outputs": [
    {
     "data": {
      "text/plain": [
       "structureId                  object\n",
       "classification               object\n",
       "experimentalTechnique        object\n",
       "macromoleculeType            object\n",
       "residueCount                  int64\n",
       "resolution                  float64\n",
       "structureMolecularWeight    float64\n",
       "crystallizationMethod        object\n",
       "crystallizationTempK        float64\n",
       "densityMatthews             float64\n",
       "densityPercentSol           float64\n",
       "pdbxDetails                  object\n",
       "phValue                     float64\n",
       "publicationYear             float64\n",
       "chainId                      object\n",
       "sequence                     object\n",
       "MW                          float64\n",
       "grav                        float64\n",
       "instability                 float64\n",
       "isoelectric                 float64\n",
       "aromaticity                 float64\n",
       "helix                       float64\n",
       "turn                        float64\n",
       "sheet                       float64\n",
       "type                          int64\n",
       "dtype: object"
      ]
     },
     "execution_count": 6,
     "metadata": {},
     "output_type": "execute_result"
    }
   ],
   "source": [
    "df.dtypes"
   ]
  },
  {
   "cell_type": "markdown",
   "metadata": {},
   "source": [
    "## Classification of Proteins"
   ]
  },
  {
   "cell_type": "markdown",
   "metadata": {},
   "source": [
    "##  Split the data into training & test sets."
   ]
  },
  {
   "cell_type": "code",
   "execution_count": 7,
   "metadata": {
    "collapsed": true
   },
   "outputs": [],
   "source": [
    "predictors = ['MW', 'grav', 'instability', 'isoelectric','aromaticity', 'helix','turn','sheet']\n",
    "X = df[predictors]\n",
    "y = df.type"
   ]
  },
  {
   "cell_type": "code",
   "execution_count": 8,
   "metadata": {},
   "outputs": [
    {
     "name": "stdout",
     "output_type": "stream",
     "text": [
      "(113292, 8) (113292,)\n",
      "(28324, 8) (28324,)\n"
     ]
    }
   ],
   "source": [
    "# Split the data into training and test sets\n",
    "X_train, X_test, y_train, y_test = train_test_split(X,y, test_size=0.2,random_state =42)\n",
    "print(X_train.shape, y_train.shape)\n",
    "print(X_test.shape, y_test.shape)"
   ]
  },
  {
   "cell_type": "code",
   "execution_count": 9,
   "metadata": {},
   "outputs": [
    {
     "data": {
      "text/plain": [
       "0    9230\n",
       "4    7271\n",
       "2    6929\n",
       "1    3135\n",
       "3    1759\n",
       "Name: type, dtype: int64"
      ]
     },
     "execution_count": 9,
     "metadata": {},
     "output_type": "execute_result"
    }
   ],
   "source": [
    "y_test.value_counts()"
   ]
  },
  {
   "cell_type": "markdown",
   "metadata": {},
   "source": [
    "## Logistic Regression Model"
   ]
  },
  {
   "cell_type": "code",
   "execution_count": null,
   "metadata": {
    "collapsed": true
   },
   "outputs": [],
   "source": []
  },
  {
   "cell_type": "code",
   "execution_count": 10,
   "metadata": {},
   "outputs": [
    {
     "name": "stderr",
     "output_type": "stream",
     "text": [
      "/Users/scottlew/miniconda3/lib/python3.6/site-packages/sklearn/linear_model/logistic.py:432: FutureWarning: Default solver will be changed to 'lbfgs' in 0.22. Specify a solver to silence this warning.\n",
      "  FutureWarning)\n",
      "/Users/scottlew/miniconda3/lib/python3.6/site-packages/sklearn/linear_model/logistic.py:469: FutureWarning: Default multi_class will be changed to 'auto' in 0.22. Specify the multi_class option to silence this warning.\n",
      "  \"this warning.\", FutureWarning)\n"
     ]
    },
    {
     "name": "stdout",
     "output_type": "stream",
     "text": [
      "Logistic Regression Score: 0.33\n"
     ]
    }
   ],
   "source": [
    "# Logistic Regression \n",
    "lr = LogisticRegression()\n",
    "lr.fit(X_train, y_train)\n",
    "lr.predict(X_test)\n",
    "print(\"Logistic Regression Score: {:.2f}\".format(lr.score(X_test, y_test)))"
   ]
  },
  {
   "cell_type": "code",
   "execution_count": 11,
   "metadata": {},
   "outputs": [
    {
     "name": "stdout",
     "output_type": "stream",
     "text": [
      "Confusion Matrix for Logistic Regression Model\n",
      "\n",
      "[[8739  476    7    0    8]\n",
      " [2661  472    1    0    1]\n",
      " [6597  332    0    0    0]\n",
      " [1289  467    3    0    0]\n",
      " [6935  316   20    0    0]]\n"
     ]
    }
   ],
   "source": [
    "# Generate Confusion Matrix for Logistic Regression\n",
    "actual = y_test\n",
    "predictions = lr.predict(X_test)\n",
    "print('Confusion Matrix for Logistic Regression Model')\n",
    "print()\n",
    "cm = confusion_matrix(actual,predictions)\n",
    "print(cm)"
   ]
  },
  {
   "cell_type": "code",
   "execution_count": 12,
   "metadata": {},
   "outputs": [
    {
     "data": {
      "image/png": "[encoded data removed]",
      "text/plain": [
       "<matplotlib.figure.Figure at 0x1a1da37668>"
      ]
     },
     "metadata": {},
     "output_type": "display_data"
    }
   ],
   "source": [
    "# Nice plot of confusion matrix\n",
    "# Adjust size of confusion matrix by following code taken from StackOverflow\n",
    "# https://stackoverflow.com/questions/43021762/matplotlib-how-to-change-figsize-for-matshow\n",
    "plt.figure(figsize=(10,5))\n",
    "plt.matshow(cm, fignum=1)\n",
    "\n",
    "plt.title('Confusion Matrix Plot for Logistic Regression Model')\n",
    "plt.colorbar()\n",
    "plt.xlabel('Predicted')\n",
    "plt.ylabel('Actual')\n",
    "\n",
    "plt.show()"
   ]
  },
  {
   "cell_type": "code",
   "execution_count": null,
   "metadata": {
    "collapsed": true
   },
   "outputs": [],
   "source": []
  },
  {
   "cell_type": "markdown",
   "metadata": {},
   "source": [
    "## Decision Tree Classifier"
   ]
  },
  {
   "cell_type": "code",
   "execution_count": 13,
   "metadata": {},
   "outputs": [
    {
     "name": "stdout",
     "output_type": "stream",
     "text": [
      "Decision Tree Classifier Score: 0.95\n"
     ]
    }
   ],
   "source": [
    "from sklearn.tree import DecisionTreeClassifier\n",
    "#dtc = DecisionTreeClassifier(random_state=0).fit(X_train, y_train)\n",
    "dtc = DecisionTreeClassifier(random_state=0).fit(X_train, y_train)\n",
    "predictions = dtc.predict(X_test)\n",
    "print(\"Decision Tree Classifier Score: {:.2f}\".format(dtc.score(X_test, y_test)))"
   ]
  },
  {
   "cell_type": "code",
   "execution_count": 14,
   "metadata": {},
   "outputs": [
    {
     "name": "stdout",
     "output_type": "stream",
     "text": [
      "Confusion Matrix for Decision Tree Model\n",
      "\n",
      "[[8777   81   97   76  199]\n",
      " [ 106 2939   31   25   34]\n",
      " [ 114   17 6694   31   73]\n",
      " [  67   37   30 1552   73]\n",
      " [ 174   34   96   91 6876]]\n"
     ]
    }
   ],
   "source": [
    "# Generate Confusion Matrix for Decision Tree Classifier\n",
    "actual = y_test\n",
    "predictions = dtc.predict(X_test)\n",
    "print('Confusion Matrix for Decision Tree Model')\n",
    "print()\n",
    "cm = confusion_matrix(actual,predictions)\n",
    "print(cm)"
   ]
  },
  {
   "cell_type": "code",
   "execution_count": 15,
   "metadata": {},
   "outputs": [
    {
     "data": {
      "image/png": "[encoded data removed]",
      "text/plain": [
       "<matplotlib.figure.Figure at 0x1a1f15d2e8>"
      ]
     },
     "metadata": {},
     "output_type": "display_data"
    }
   ],
   "source": [
    "# plot of confusion matrix\n",
    "plt.figure(figsize=(10,5))\n",
    "plt.matshow(cm, fignum=1)\n",
    "\n",
    "plt.title('Confusion Matrix Plot for Decision Tree Model')\n",
    "plt.colorbar()\n",
    "plt.xlabel('Predicted')\n",
    "plt.ylabel('Actual')\n",
    "\n",
    "plt.show()"
   ]
  },
  {
   "cell_type": "code",
   "execution_count": null,
   "metadata": {
    "collapsed": true
   },
   "outputs": [],
   "source": []
  }
 ],
 "metadata": {
  "kernelspec": {
   "display_name": "Python [default]",
   "language": "python",
   "name": "python3"
  },
  "language_info": {
   "codemirror_mode": {
    "name": "ipython",
    "version": 3
   },
   "file_extension": ".py",
   "mimetype": "text/x-python",
   "name": "python",
   "nbconvert_exporter": "python",
   "pygments_lexer": "ipython3",
   "version": "3.6.9"
  }
 },
 "nbformat": 4,
 "nbformat_minor": 2
}
