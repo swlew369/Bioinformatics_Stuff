{
 "cells": [
  {
   "cell_type": "code",
   "execution_count": 1,
   "metadata": {
    "collapsed": true
   },
   "outputs": [],
   "source": [
    "import pandas as pd\n",
    "import seaborn as sns\n",
    "import numpy as np\n",
    "import time\n",
    "import re\n",
    "import nltk\n",
    "import math\n",
    "import os\n",
    "import matplotlib.pyplot as plt\n",
    "import sklearn.metrics\n",
    "from sklearn import svm\n",
    "from sklearn.ensemble import GradientBoostingClassifier\n",
    "from sklearn.tree import DecisionTreeClassifier\n",
    "from sklearn.preprocessing import StandardScaler\n",
    "from sklearn.model_selection import train_test_split, GridSearchCV\n",
    "from sklearn.linear_model import LogisticRegression\n",
    "from sklearn.neighbors import KNeighborsClassifier\n",
    "from sklearn.ensemble import RandomForestClassifier\n",
    "from sklearn.naive_bayes import MultinomialNB\n",
    "from nltk.corpus import stopwords\n",
    "from sklearn.feature_extraction.text import TfidfVectorizer\n",
    "from sklearn.feature_extraction.text import CountVectorizer\n",
    "from sklearn.metrics import roc_auc_score\n",
    "\n",
    "%matplotlib inline\n"
   ]
  },
  {
   "cell_type": "code",
   "execution_count": 2,
   "metadata": {
    "collapsed": true
   },
   "outputs": [],
   "source": [
    "def fasta_parser(filename):\n",
    "    if os.path.exists(filename):\n",
    "        pass\n",
    "    else:                     \n",
    "        print(\"The file, %s, does not exist\" % filename)\n",
    "        \n",
    "    file = open(filename,mode='r')\n",
    "    rec_all = file.read()\n",
    "    file.close()\n",
    "    # remove all whitespace from string all_of_it\n",
    "    rec_all = rec_all.replace(' ','')\n",
    "    # split records by > \n",
    "    records = rec_all.split('>')\n",
    "    # Parse out the headers & sequences for each record\n",
    "    headers = []\n",
    "    sequences = []\n",
    "    for rec in records:\n",
    "        s = ''\n",
    "        data = rec.split('\\n')\n",
    "        sq = s.join(data[1:])\n",
    "        if len(data[0]) > 0:\n",
    "            headers.append(data[0])\n",
    "   \n",
    "        if (len(sq) > 0):\n",
    "            sequences.append(s.join(data[1:]))\n",
    "    #print(sequences)\n",
    "    return headers, sequences"
   ]
  },
  {
   "cell_type": "markdown",
   "metadata": {},
   "source": [
    "## The dataset contains 5959 proteins annotated to one of 11 different subcellular locations which are: chloroplast, cytoplasm, endoplasmic reticulum, extracellular space, Golgi apparatus, lysosomal, mitochondrion, nucleus, peroxisome, plasma membrane and vacuole which represented proteins of plants cell and fungal cell while animal cells shared all localizations with them, but have lysosomes instead of vacuoles. The only variable we intend to consider is protein sequence.\n"
   ]
  },
  {
   "cell_type": "code",
   "execution_count": 3,
   "metadata": {},
   "outputs": [
    {
     "data": {
      "text/html": [
       "<div>\n",
       "<style>\n",
       "    .dataframe thead tr:only-child th {\n",
       "        text-align: right;\n",
       "    }\n",
       "\n",
       "    .dataframe thead th {\n",
       "        text-align: left;\n",
       "    }\n",
       "\n",
       "    .dataframe tbody tr th {\n",
       "        vertical-align: top;\n",
       "    }\n",
       "</style>\n",
       "<table border=\"1\" class=\"dataframe\">\n",
       "  <thead>\n",
       "    <tr style=\"text-align: right;\">\n",
       "      <th></th>\n",
       "      <th>label</th>\n",
       "      <th>name</th>\n",
       "      <th>sequence</th>\n",
       "    </tr>\n",
       "  </thead>\n",
       "  <tbody>\n",
       "    <tr>\n",
       "      <th>0</th>\n",
       "      <td>chloroplast.fasta</td>\n",
       "      <td>P46644 cTP 43</td>\n",
       "      <td>MKTTHSSSSSSDRRGARHNSGSDSDNSSYASTSGGTGGSVSHVADG...</td>\n",
       "    </tr>\n",
       "    <tr>\n",
       "      <th>1</th>\n",
       "      <td>chloroplast.fasta</td>\n",
       "      <td>P46248 cTP 52</td>\n",
       "      <td>MASMSGSTSRNKDKKGTSASNKAKSSRVTMTVAVKSRGTMADGVSA...</td>\n",
       "    </tr>\n",
       "    <tr>\n",
       "      <th>2</th>\n",
       "      <td>chloroplast.fasta</td>\n",
       "      <td>Q96375 cTP 49</td>\n",
       "      <td>MYASSARDGGKWCNARRKSKDAYHSCKSNGHKKVKGVKATAAATTK...</td>\n",
       "    </tr>\n",
       "  </tbody>\n",
       "</table>\n",
       "</div>"
      ],
      "text/plain": [
       "               label           name  \\\n",
       "0  chloroplast.fasta  P46644 cTP 43   \n",
       "1  chloroplast.fasta  P46248 cTP 52   \n",
       "2  chloroplast.fasta  Q96375 cTP 49   \n",
       "\n",
       "                                            sequence  \n",
       "0  MKTTHSSSSSSDRRGARHNSGSDSDNSSYASTSGGTGGSVSHVADG...  \n",
       "1  MASMSGSTSRNKDKKGTSASNKAKSSRVTMTVAVKSRGTMADGVSA...  \n",
       "2  MYASSARDGGKWCNARRKSKDAYHSCKSNGHKKVKGVKATAAATTK...  "
      ]
     },
     "execution_count": 3,
     "metadata": {},
     "output_type": "execute_result"
    }
   ],
   "source": [
    "# data downloaded from kaggle\n",
    "# https://www.kaggle.com/lzyacht/proteinsubcellularlocalization/downloads/proteinsubcellularlocalization.zip/1\n",
    "# data is from SWISS-PROT database release 42 (2003–2004)\n",
    "df = pd.read_csv('proteinsLocations.csv')\n",
    "df.head(3)"
   ]
  },
  {
   "cell_type": "code",
   "execution_count": 4,
   "metadata": {},
   "outputs": [
    {
     "data": {
      "text/plain": [
       "(5959, 3)"
      ]
     },
     "execution_count": 4,
     "metadata": {},
     "output_type": "execute_result"
    }
   ],
   "source": [
    "df.shape"
   ]
  },
  {
   "cell_type": "code",
   "execution_count": 5,
   "metadata": {},
   "outputs": [
    {
     "data": {
      "text/plain": [
       "label       object\n",
       "name        object\n",
       "sequence    object\n",
       "dtype: object"
      ]
     },
     "execution_count": 5,
     "metadata": {},
     "output_type": "execute_result"
    }
   ],
   "source": [
    "df.dtypes"
   ]
  },
  {
   "cell_type": "code",
   "execution_count": 6,
   "metadata": {},
   "outputs": [
    {
     "data": {
      "text/plain": [
       "cytoplasmic.fasta        1411\n",
       "plasma_membrane.fasta    1238\n",
       "extracellular.fasta       843\n",
       "nuclear.fasta             837\n",
       "mitochondrial.fasta       510\n",
       "chloroplast.fasta         449\n",
       "ER.fasta                  198\n",
       "peroxisomal.fasta         157\n",
       "Golgi.fasta               150\n",
       "lysosomal.fasta           103\n",
       "vacuolar.fasta             63\n",
       "Name: label, dtype: int64"
      ]
     },
     "execution_count": 6,
     "metadata": {},
     "output_type": "execute_result"
    }
   ],
   "source": [
    "df.label.value_counts()"
   ]
  },
  {
   "cell_type": "code",
   "execution_count": 7,
   "metadata": {},
   "outputs": [
    {
     "data": {
      "text/plain": [
       "label       0\n",
       "name        0\n",
       "sequence    0\n",
       "dtype: int64"
      ]
     },
     "execution_count": 7,
     "metadata": {},
     "output_type": "execute_result"
    }
   ],
   "source": [
    "df.isnull().sum()"
   ]
  },
  {
   "cell_type": "markdown",
   "metadata": {},
   "source": [
    "## Encode different subcellular locations as integers"
   ]
  },
  {
   "cell_type": "code",
   "execution_count": 8,
   "metadata": {
    "collapsed": true
   },
   "outputs": [],
   "source": [
    "from sklearn import preprocessing\n",
    "le = preprocessing.LabelEncoder()\n",
    "le.fit(df.label)\n",
    "df['location'] = le.transform(df['label'])"
   ]
  },
  {
   "cell_type": "code",
   "execution_count": 9,
   "metadata": {},
   "outputs": [
    {
     "data": {
      "text/html": [
       "<div>\n",
       "<style>\n",
       "    .dataframe thead tr:only-child th {\n",
       "        text-align: right;\n",
       "    }\n",
       "\n",
       "    .dataframe thead th {\n",
       "        text-align: left;\n",
       "    }\n",
       "\n",
       "    .dataframe tbody tr th {\n",
       "        vertical-align: top;\n",
       "    }\n",
       "</style>\n",
       "<table border=\"1\" class=\"dataframe\">\n",
       "  <thead>\n",
       "    <tr style=\"text-align: right;\">\n",
       "      <th></th>\n",
       "      <th>label</th>\n",
       "      <th>name</th>\n",
       "      <th>sequence</th>\n",
       "      <th>location</th>\n",
       "    </tr>\n",
       "  </thead>\n",
       "  <tbody>\n",
       "    <tr>\n",
       "      <th>0</th>\n",
       "      <td>chloroplast.fasta</td>\n",
       "      <td>P46644 cTP 43</td>\n",
       "      <td>MKTTHSSSSSSDRRGARHNSGSDSDNSSYASTSGGTGGSVSHVADG...</td>\n",
       "      <td>2</td>\n",
       "    </tr>\n",
       "    <tr>\n",
       "      <th>1</th>\n",
       "      <td>chloroplast.fasta</td>\n",
       "      <td>P46248 cTP 52</td>\n",
       "      <td>MASMSGSTSRNKDKKGTSASNKAKSSRVTMTVAVKSRGTMADGVSA...</td>\n",
       "      <td>2</td>\n",
       "    </tr>\n",
       "    <tr>\n",
       "      <th>2</th>\n",
       "      <td>chloroplast.fasta</td>\n",
       "      <td>Q96375 cTP 49</td>\n",
       "      <td>MYASSARDGGKWCNARRKSKDAYHSCKSNGHKKVKGVKATAAATTK...</td>\n",
       "      <td>2</td>\n",
       "    </tr>\n",
       "  </tbody>\n",
       "</table>\n",
       "</div>"
      ],
      "text/plain": [
       "               label           name  \\\n",
       "0  chloroplast.fasta  P46644 cTP 43   \n",
       "1  chloroplast.fasta  P46248 cTP 52   \n",
       "2  chloroplast.fasta  Q96375 cTP 49   \n",
       "\n",
       "                                            sequence  location  \n",
       "0  MKTTHSSSSSSDRRGARHNSGSDSDNSSYASTSGGTGGSVSHVADG...         2  \n",
       "1  MASMSGSTSRNKDKKGTSASNKAKSSRVTMTVAVKSRGTMADGVSA...         2  \n",
       "2  MYASSARDGGKWCNARRKSKDAYHSCKSNGHKKVKGVKATAAATTK...         2  "
      ]
     },
     "execution_count": 9,
     "metadata": {},
     "output_type": "execute_result"
    }
   ],
   "source": [
    "df.head(3)"
   ]
  },
  {
   "cell_type": "code",
   "execution_count": 10,
   "metadata": {},
   "outputs": [
    {
     "data": {
      "text/html": [
       "<div>\n",
       "<style>\n",
       "    .dataframe thead tr:only-child th {\n",
       "        text-align: right;\n",
       "    }\n",
       "\n",
       "    .dataframe thead th {\n",
       "        text-align: left;\n",
       "    }\n",
       "\n",
       "    .dataframe tbody tr th {\n",
       "        vertical-align: top;\n",
       "    }\n",
       "</style>\n",
       "<table border=\"1\" class=\"dataframe\">\n",
       "  <thead>\n",
       "    <tr style=\"text-align: right;\">\n",
       "      <th></th>\n",
       "      <th>label</th>\n",
       "      <th>name</th>\n",
       "      <th>sequence</th>\n",
       "      <th>location</th>\n",
       "    </tr>\n",
       "  </thead>\n",
       "  <tbody>\n",
       "    <tr>\n",
       "      <th>5954</th>\n",
       "      <td>vacuolar.fasta</td>\n",
       "      <td>Q9P7E9 SA 67 89</td>\n",
       "      <td>MNAYGDTNNHGKSSTRHWRKRSAVSSSSSYSNSNTVKVSAKKRRRK...</td>\n",
       "      <td>10</td>\n",
       "    </tr>\n",
       "    <tr>\n",
       "      <th>5955</th>\n",
       "      <td>vacuolar.fasta</td>\n",
       "      <td>P33894 SA 120 140</td>\n",
       "      <td>MSASTHSHKRKNSHRKSSNSSMDKNNDSVANTDSNNGHTNRTATDV...</td>\n",
       "      <td>10</td>\n",
       "    </tr>\n",
       "    <tr>\n",
       "      <th>5956</th>\n",
       "      <td>vacuolar.fasta</td>\n",
       "      <td>P18962 SA 30 45</td>\n",
       "      <td>MGGVRDDTKKKHDKRVGVWGTVKSHHSNTDYNSNYTNDGKKVSSVV...</td>\n",
       "      <td>10</td>\n",
       "    </tr>\n",
       "    <tr>\n",
       "      <th>5957</th>\n",
       "      <td>vacuolar.fasta</td>\n",
       "      <td>P49047 SP 20</td>\n",
       "      <td>MTTVVSAVAAVSGDVKSASKRTNDDDSTKWAVVAGSSGYWNYRHAD...</td>\n",
       "      <td>10</td>\n",
       "    </tr>\n",
       "    <tr>\n",
       "      <th>5958</th>\n",
       "      <td>vacuolar.fasta</td>\n",
       "      <td>Q39044 SP 21</td>\n",
       "      <td>MAKSCYRAVVHASRGRKMTANADDDGVGTRWAVVAGSSGYGNYRHA...</td>\n",
       "      <td>10</td>\n",
       "    </tr>\n",
       "  </tbody>\n",
       "</table>\n",
       "</div>"
      ],
      "text/plain": [
       "               label               name  \\\n",
       "5954  vacuolar.fasta    Q9P7E9 SA 67 89   \n",
       "5955  vacuolar.fasta  P33894 SA 120 140   \n",
       "5956  vacuolar.fasta    P18962 SA 30 45   \n",
       "5957  vacuolar.fasta       P49047 SP 20   \n",
       "5958  vacuolar.fasta       Q39044 SP 21   \n",
       "\n",
       "                                               sequence  location  \n",
       "5954  MNAYGDTNNHGKSSTRHWRKRSAVSSSSSYSNSNTVKVSAKKRRRK...        10  \n",
       "5955  MSASTHSHKRKNSHRKSSNSSMDKNNDSVANTDSNNGHTNRTATDV...        10  \n",
       "5956  MGGVRDDTKKKHDKRVGVWGTVKSHHSNTDYNSNYTNDGKKVSSVV...        10  \n",
       "5957  MTTVVSAVAAVSGDVKSASKRTNDDDSTKWAVVAGSSGYWNYRHAD...        10  \n",
       "5958  MAKSCYRAVVHASRGRKMTANADDDGVGTRWAVVAGSSGYGNYRHA...        10  "
      ]
     },
     "execution_count": 10,
     "metadata": {},
     "output_type": "execute_result"
    }
   ],
   "source": [
    "df.tail()"
   ]
  },
  {
   "cell_type": "code",
   "execution_count": null,
   "metadata": {
    "collapsed": true
   },
   "outputs": [],
   "source": []
  },
  {
   "cell_type": "code",
   "execution_count": 11,
   "metadata": {},
   "outputs": [
    {
     "data": {
      "text/plain": [
       "label       object\n",
       "name        object\n",
       "sequence    object\n",
       "location     int64\n",
       "dtype: object"
      ]
     },
     "execution_count": 11,
     "metadata": {},
     "output_type": "execute_result"
    }
   ],
   "source": [
    "df.dtypes"
   ]
  },
  {
   "cell_type": "code",
   "execution_count": 12,
   "metadata": {},
   "outputs": [
    {
     "data": {
      "text/plain": [
       "3     1411\n",
       "9     1238\n",
       "4      843\n",
       "7      837\n",
       "6      510\n",
       "2      449\n",
       "0      198\n",
       "8      157\n",
       "1      150\n",
       "5      103\n",
       "10      63\n",
       "Name: location, dtype: int64"
      ]
     },
     "execution_count": 12,
     "metadata": {},
     "output_type": "execute_result"
    }
   ],
   "source": [
    "df.location.value_counts()"
   ]
  },
  {
   "cell_type": "markdown",
   "metadata": {},
   "source": [
    "## Select only data for proteins in the cytoplasm or plasma membrane for binary classification"
   ]
  },
  {
   "cell_type": "code",
   "execution_count": 13,
   "metadata": {},
   "outputs": [
    {
     "data": {
      "text/html": [
       "<div>\n",
       "<style>\n",
       "    .dataframe thead tr:only-child th {\n",
       "        text-align: right;\n",
       "    }\n",
       "\n",
       "    .dataframe thead th {\n",
       "        text-align: left;\n",
       "    }\n",
       "\n",
       "    .dataframe tbody tr th {\n",
       "        vertical-align: top;\n",
       "    }\n",
       "</style>\n",
       "<table border=\"1\" class=\"dataframe\">\n",
       "  <thead>\n",
       "    <tr style=\"text-align: right;\">\n",
       "      <th></th>\n",
       "      <th>label</th>\n",
       "      <th>name</th>\n",
       "      <th>sequence</th>\n",
       "      <th>location</th>\n",
       "    </tr>\n",
       "  </thead>\n",
       "  <tbody>\n",
       "    <tr>\n",
       "      <th>449</th>\n",
       "      <td>cytoplasmic.fasta</td>\n",
       "      <td>P31946</td>\n",
       "      <td>TMDKSVKAKAARYDDMAAAMKAVTGHSNRNSVAYKNVVGARRSSWR...</td>\n",
       "      <td>3</td>\n",
       "    </tr>\n",
       "    <tr>\n",
       "      <th>450</th>\n",
       "      <td>cytoplasmic.fasta</td>\n",
       "      <td>P42655</td>\n",
       "      <td>MDDRDVYAKAARYDMVSMKKVAGMDVTVRNSVAYKNVGARRASWRS...</td>\n",
       "      <td>3</td>\n",
       "    </tr>\n",
       "    <tr>\n",
       "      <th>451</th>\n",
       "      <td>cytoplasmic.fasta</td>\n",
       "      <td>P35214</td>\n",
       "      <td>VDRVKARAARYDDMAAAMKNVTNSNRNSVAYKNVVGARRSSWRVSS...</td>\n",
       "      <td>3</td>\n",
       "    </tr>\n",
       "    <tr>\n",
       "      <th>452</th>\n",
       "      <td>cytoplasmic.fasta</td>\n",
       "      <td>Q91896</td>\n",
       "      <td>MDKNVKAKAARYDDMAACMKRVTGGSNRNSVAYKNVVGARRSSWRV...</td>\n",
       "      <td>3</td>\n",
       "    </tr>\n",
       "    <tr>\n",
       "      <th>453</th>\n",
       "      <td>cytoplasmic.fasta</td>\n",
       "      <td>Q15172</td>\n",
       "      <td>MSSSSAGAASAASASKVDGTRKSVRKARKRSGSSRSGSAHKDATSN...</td>\n",
       "      <td>3</td>\n",
       "    </tr>\n",
       "  </tbody>\n",
       "</table>\n",
       "</div>"
      ],
      "text/plain": [
       "                 label    name  \\\n",
       "449  cytoplasmic.fasta  P31946   \n",
       "450  cytoplasmic.fasta  P42655   \n",
       "451  cytoplasmic.fasta  P35214   \n",
       "452  cytoplasmic.fasta  Q91896   \n",
       "453  cytoplasmic.fasta  Q15172   \n",
       "\n",
       "                                              sequence  location  \n",
       "449  TMDKSVKAKAARYDDMAAAMKAVTGHSNRNSVAYKNVVGARRSSWR...         3  \n",
       "450  MDDRDVYAKAARYDMVSMKKVAGMDVTVRNSVAYKNVGARRASWRS...         3  \n",
       "451  VDRVKARAARYDDMAAAMKNVTNSNRNSVAYKNVVGARRSSWRVSS...         3  \n",
       "452  MDKNVKAKAARYDDMAACMKRVTGGSNRNSVAYKNVVGARRSSWRV...         3  \n",
       "453  MSSSSAGAASAASASKVDGTRKSVRKARKRSGSSRSGSAHKDATSN...         3  "
      ]
     },
     "execution_count": 13,
     "metadata": {},
     "output_type": "execute_result"
    }
   ],
   "source": [
    "# select only two types of proteins: cytoplasmic and plasma membrane proteins\n",
    "mask = ((df.location == 3) | (df.location == 9))\n",
    "#mask = ((df.location == 3) | (df.location == 6))\n",
    "data = df[mask]\n",
    "data.head()"
   ]
  },
  {
   "cell_type": "code",
   "execution_count": 14,
   "metadata": {},
   "outputs": [
    {
     "data": {
      "text/html": [
       "<div>\n",
       "<style>\n",
       "    .dataframe thead tr:only-child th {\n",
       "        text-align: right;\n",
       "    }\n",
       "\n",
       "    .dataframe thead th {\n",
       "        text-align: left;\n",
       "    }\n",
       "\n",
       "    .dataframe tbody tr th {\n",
       "        vertical-align: top;\n",
       "    }\n",
       "</style>\n",
       "<table border=\"1\" class=\"dataframe\">\n",
       "  <thead>\n",
       "    <tr style=\"text-align: right;\">\n",
       "      <th></th>\n",
       "      <th>label</th>\n",
       "      <th>name</th>\n",
       "      <th>sequence</th>\n",
       "      <th>location</th>\n",
       "    </tr>\n",
       "  </thead>\n",
       "  <tbody>\n",
       "    <tr>\n",
       "      <th>5353</th>\n",
       "      <td>plasma_membrane.fasta</td>\n",
       "      <td>O75473 SP 21</td>\n",
       "      <td>MDTSRGVSVATGGSSRSGVRGCTHCHCDGRMRVDCSDGSSNSVTSY...</td>\n",
       "      <td>9</td>\n",
       "    </tr>\n",
       "    <tr>\n",
       "      <th>874</th>\n",
       "      <td>cytoplasmic.fasta</td>\n",
       "      <td>P48597</td>\n",
       "      <td>MAAVNTNSTKTGVSDYKHNRWAWKNDKSKTWANRSKDTVDWAYNHS...</td>\n",
       "      <td>3</td>\n",
       "    </tr>\n",
       "    <tr>\n",
       "      <th>1494</th>\n",
       "      <td>cytoplasmic.fasta</td>\n",
       "      <td>O13426</td>\n",
       "      <td>MSAYASSHRTGHKDTDVDKDDRHSVASNTTTAVDAGTMCNKYSGYG...</td>\n",
       "      <td>3</td>\n",
       "    </tr>\n",
       "  </tbody>\n",
       "</table>\n",
       "</div>"
      ],
      "text/plain": [
       "                      label          name  \\\n",
       "5353  plasma_membrane.fasta  O75473 SP 21   \n",
       "874       cytoplasmic.fasta        P48597   \n",
       "1494      cytoplasmic.fasta        O13426   \n",
       "\n",
       "                                               sequence  location  \n",
       "5353  MDTSRGVSVATGGSSRSGVRGCTHCHCDGRMRVDCSDGSSNSVTSY...         9  \n",
       "874   MAAVNTNSTKTGVSDYKHNRWAWKNDKSKTWANRSKDTVDWAYNHS...         3  \n",
       "1494  MSAYASSHRTGHKDTDVDKDDRHSVASNTTTAVDAGTMCNKYSGYG...         3  "
      ]
     },
     "execution_count": 14,
     "metadata": {},
     "output_type": "execute_result"
    }
   ],
   "source": [
    "# scramble the data\n",
    "data = data.sample(frac=1)\n",
    "data.head(3)"
   ]
  },
  {
   "cell_type": "code",
   "execution_count": 15,
   "metadata": {},
   "outputs": [
    {
     "data": {
      "text/plain": [
       "3    1411\n",
       "9    1238\n",
       "Name: location, dtype: int64"
      ]
     },
     "execution_count": 15,
     "metadata": {},
     "output_type": "execute_result"
    }
   ],
   "source": [
    "data.location.value_counts()"
   ]
  },
  {
   "cell_type": "markdown",
   "metadata": {},
   "source": [
    "## Transform the data with CountVectorizer"
   ]
  },
  {
   "cell_type": "code",
   "execution_count": 16,
   "metadata": {},
   "outputs": [
    {
     "name": "stdout",
     "output_type": "stream",
     "text": [
      "(2119, 2763) (2119,)\n",
      "(530, 2763) (530,)\n"
     ]
    }
   ],
   "source": [
    "vect_3 = CountVectorizer(min_df=1,token_pattern=r'\\w{1}',ngram_range=(3, 3))\n",
    "\n",
    "X = vect_3.fit_transform(data.sequence)\n",
    "y = data.location\n",
    "\n",
    "# Split the data into training and test sets\n",
    "X_train, X_test, y_train, y_test = train_test_split(X,y, test_size=0.2,random_state =42)\n",
    "print(X_train.shape, y_train.shape)\n",
    "print(X_test.shape, y_test.shape)"
   ]
  },
  {
   "cell_type": "code",
   "execution_count": 17,
   "metadata": {},
   "outputs": [
    {
     "name": "stdout",
     "output_type": "stream",
     "text": [
      "2119\n",
      "530\n"
     ]
    }
   ],
   "source": [
    "print(len(y_train))\n",
    "print(len(y_test))"
   ]
  },
  {
   "cell_type": "code",
   "execution_count": 18,
   "metadata": {},
   "outputs": [
    {
     "data": {
      "text/plain": [
       "3    1112\n",
       "9    1007\n",
       "Name: location, dtype: int64"
      ]
     },
     "execution_count": 18,
     "metadata": {},
     "output_type": "execute_result"
    }
   ],
   "source": [
    "y_train.value_counts()"
   ]
  },
  {
   "cell_type": "code",
   "execution_count": 19,
   "metadata": {},
   "outputs": [
    {
     "data": {
      "text/plain": [
       "3    299\n",
       "9    231\n",
       "Name: location, dtype: int64"
      ]
     },
     "execution_count": 19,
     "metadata": {},
     "output_type": "execute_result"
    }
   ],
   "source": [
    "y_test.value_counts()"
   ]
  },
  {
   "cell_type": "markdown",
   "metadata": {},
   "source": [
    "## Logistic Regression "
   ]
  },
  {
   "cell_type": "code",
   "execution_count": 20,
   "metadata": {},
   "outputs": [
    {
     "name": "stdout",
     "output_type": "stream",
     "text": [
      "Score: 0.91\n"
     ]
    }
   ],
   "source": [
    "# Logistic Regression using CountVectorizer for tripeptide frequency\n",
    "lr = LogisticRegression()\n",
    "lr.fit(X_train, y_train)\n",
    "predictions = lr.predict(X_test)\n",
    "print(\"Score: {:.2f}\".format(lr.score(X_test, y_test)))"
   ]
  },
  {
   "cell_type": "code",
   "execution_count": 21,
   "metadata": {},
   "outputs": [
    {
     "data": {
      "text/plain": [
       "[0.91509433962264153,\n",
       " 0.91509433962264153,\n",
       " 0.91320754716981134,\n",
       " 0.91320754716981134,\n",
       " 0.90943396226415096,\n",
       " 0.90943396226415096]"
      ]
     },
     "execution_count": 21,
     "metadata": {},
     "output_type": "execute_result"
    }
   ],
   "source": [
    "# Try optimizing Logistic Regression model\n",
    "#the grid of parameters to search over\n",
    "Cs = [0.001,0.01, 0.1, 1, 10, 100]\n",
    "\n",
    "Scores = []\n",
    "\n",
    "for item in Cs:\n",
    "    clf = LogisticRegression(C=item)\n",
    "    clf.fit(X_train, y_train)\n",
    "    Scores.append((clf.score(X_test, y_test)))\n",
    "    \n",
    "Scores"
   ]
  },
  {
   "cell_type": "code",
   "execution_count": 22,
   "metadata": {},
   "outputs": [
    {
     "name": "stdout",
     "output_type": "stream",
     "text": [
      "0.915094339623\n",
      "\n",
      "0\n",
      "\n",
      "0.001\n",
      "\n"
     ]
    }
   ],
   "source": [
    "score_highest = max(Scores)\n",
    "print(score_highest)\n",
    "print()\n",
    "print(Scores.index(score_highest))\n",
    "print()\n",
    "C_opt = Cs[Scores.index(score_highest)]\n",
    "print(C_opt)\n",
    "print()"
   ]
  },
  {
   "cell_type": "code",
   "execution_count": 23,
   "metadata": {},
   "outputs": [
    {
     "name": "stdout",
     "output_type": "stream",
     "text": [
      "Score: 0.92\n"
     ]
    }
   ],
   "source": [
    "# Logistic Regression using CountVectorizer for tripeptide frequency Optimized\n",
    "lr2 = LogisticRegression(C=C_opt)\n",
    "lr2.fit(X_train, y_train)\n",
    "#predictions = lr2.predict(X_test)\n",
    "print(\"Score: {:.2f}\".format(lr2.score(X_test, y_test)))"
   ]
  },
  {
   "cell_type": "markdown",
   "metadata": {},
   "source": [
    "## Now try the same analysis: tripeptide frequency & Logistic Regression on ALL the data for multiclass classification"
   ]
  },
  {
   "cell_type": "code",
   "execution_count": 24,
   "metadata": {},
   "outputs": [
    {
     "name": "stdout",
     "output_type": "stream",
     "text": [
      "(4767, 2764) (4767,)\n",
      "(1192, 2764) (1192,)\n"
     ]
    }
   ],
   "source": [
    "vect_3 = CountVectorizer(min_df=1,token_pattern=r'\\w{1}',ngram_range=(3, 3))\n",
    "#vect_3 = CountVectorizer(min_df=1,token_pattern=r'\\w{1}',ngram_range=(5, 5))\n",
    "X = vect_3.fit_transform(df.sequence)\n",
    "y = df.location\n",
    "\n",
    "# Split the data into training and test sets\n",
    "X_train, X_test, y_train, y_test = train_test_split(X,y, test_size=0.2,random_state =42)\n",
    "print(X_train.shape, y_train.shape)\n",
    "print(X_test.shape, y_test.shape)"
   ]
  },
  {
   "cell_type": "code",
   "execution_count": 25,
   "metadata": {},
   "outputs": [
    {
     "name": "stdout",
     "output_type": "stream",
     "text": [
      "4767\n",
      "1192\n"
     ]
    }
   ],
   "source": [
    "print(len(y_train))\n",
    "print(len(y_test))"
   ]
  },
  {
   "cell_type": "code",
   "execution_count": 26,
   "metadata": {},
   "outputs": [
    {
     "data": {
      "text/plain": [
       "3     1117\n",
       "9      996\n",
       "7      676\n",
       "4      670\n",
       "6      424\n",
       "2      343\n",
       "0      165\n",
       "1      125\n",
       "8      117\n",
       "5       87\n",
       "10      47\n",
       "Name: location, dtype: int64"
      ]
     },
     "execution_count": 26,
     "metadata": {},
     "output_type": "execute_result"
    }
   ],
   "source": [
    "y_train.value_counts()"
   ]
  },
  {
   "cell_type": "code",
   "execution_count": 27,
   "metadata": {},
   "outputs": [
    {
     "data": {
      "text/plain": [
       "3     294\n",
       "9     242\n",
       "4     173\n",
       "7     161\n",
       "2     106\n",
       "6      86\n",
       "8      40\n",
       "0      33\n",
       "1      25\n",
       "10     16\n",
       "5      16\n",
       "Name: location, dtype: int64"
      ]
     },
     "execution_count": 27,
     "metadata": {},
     "output_type": "execute_result"
    }
   ],
   "source": [
    "y_test.value_counts()"
   ]
  },
  {
   "cell_type": "code",
   "execution_count": 28,
   "metadata": {},
   "outputs": [
    {
     "name": "stdout",
     "output_type": "stream",
     "text": [
      "Score: 0.57\n"
     ]
    }
   ],
   "source": [
    "# Logistic Regression using CountVectorizer for tripeptide frequency\n",
    "lr_all = LogisticRegression()\n",
    "lr_all.fit(X_train, y_train)\n",
    "predictions = lr_all.predict(X_test)\n",
    "print(\"Score: {:.2f}\".format(lr_all.score(X_test, y_test)))"
   ]
  },
  {
   "cell_type": "code",
   "execution_count": 29,
   "metadata": {},
   "outputs": [
    {
     "data": {
      "text/plain": [
       "[0.50335570469798663,\n",
       " 0.59983221476510062,\n",
       " 0.60151006711409394,\n",
       " 0.5738255033557047,\n",
       " 0.56291946308724827,\n",
       " 0.55620805369127513]"
      ]
     },
     "execution_count": 29,
     "metadata": {},
     "output_type": "execute_result"
    }
   ],
   "source": [
    "# Try optimizing Logistic Regression model\n",
    "#the grid of parameters to search over\n",
    "Cs = [0.001,0.01, 0.1, 1, 10, 100]\n",
    "\n",
    "Scores = []\n",
    "\n",
    "for item in Cs:\n",
    "    clf = LogisticRegression(C=item)\n",
    "    clf.fit(X_train, y_train)\n",
    "    Scores.append((clf.score(X_test, y_test)))\n",
    "    \n",
    "Scores"
   ]
  },
  {
   "cell_type": "code",
   "execution_count": 30,
   "metadata": {},
   "outputs": [
    {
     "name": "stdout",
     "output_type": "stream",
     "text": [
      "0.601510067114\n",
      "\n",
      "2\n",
      "\n",
      "0.1\n",
      "\n"
     ]
    }
   ],
   "source": [
    "score_highest = max(Scores)\n",
    "print(score_highest)\n",
    "print()\n",
    "print(Scores.index(score_highest))\n",
    "print()\n",
    "C_opt = Cs[Scores.index(score_highest)]\n",
    "print(C_opt)\n",
    "print()"
   ]
  },
  {
   "cell_type": "code",
   "execution_count": 31,
   "metadata": {},
   "outputs": [
    {
     "name": "stdout",
     "output_type": "stream",
     "text": [
      "Score: 0.60\n"
     ]
    }
   ],
   "source": [
    "# Logistic Regression using CountVectorizer for tripeptide frequency Optimized\n",
    "lr2 = LogisticRegression(C=C_opt)\n",
    "lr2.fit(X_train, y_train)\n",
    "#predictions = lr2.predict(X_test)\n",
    "print(\"Score: {:.2f}\".format(lr2.score(X_test, y_test)))"
   ]
  },
  {
   "cell_type": "markdown",
   "metadata": {
    "collapsed": true
   },
   "source": [
    "## Try Again With Logistic Regression"
   ]
  },
  {
   "cell_type": "code",
   "execution_count": 32,
   "metadata": {},
   "outputs": [
    {
     "name": "stdout",
     "output_type": "stream",
     "text": [
      "Score: 0.58\n"
     ]
    }
   ],
   "source": [
    "lbf = LogisticRegression(solver = 'lbfgs',multi_class='ovr').fit(X_train, y_train)\n",
    "#print the test accuracy score\n",
    "print(\"Score: {:.2f}\".format(lbf.score(X_test, y_test)))"
   ]
  },
  {
   "cell_type": "code",
   "execution_count": null,
   "metadata": {
    "collapsed": true
   },
   "outputs": [],
   "source": []
  },
  {
   "cell_type": "code",
   "execution_count": null,
   "metadata": {
    "collapsed": true
   },
   "outputs": [],
   "source": []
  },
  {
   "cell_type": "markdown",
   "metadata": {},
   "source": [
    "## Yikes!, the Logistic Regression model did poorly trying to classify all 11 cellular locations using this approach. In contrast, Logistic Regression with tripeptide frequency worked well classifying plasma membrane proteins from cytoplasmic proteins. "
   ]
  },
  {
   "cell_type": "markdown",
   "metadata": {},
   "source": [
    "## KNN Classification"
   ]
  },
  {
   "cell_type": "code",
   "execution_count": 33,
   "metadata": {},
   "outputs": [
    {
     "name": "stdout",
     "output_type": "stream",
     "text": [
      "Score: 0.33\n"
     ]
    }
   ],
   "source": [
    "knn = KNeighborsClassifier(n_neighbors = 3).fit(X_train, y_train) \n",
    "\n",
    "# print knn score\n",
    "print(\"Score: {:.2f}\".format(knn.score(X_test, y_test)))"
   ]
  },
  {
   "cell_type": "markdown",
   "metadata": {
    "collapsed": true
   },
   "source": [
    "## Multiclass Label Classification: One vs. Rest"
   ]
  },
  {
   "cell_type": "code",
   "execution_count": 34,
   "metadata": {},
   "outputs": [
    {
     "data": {
      "text/plain": [
       "array([9, 3, 4, ..., 3, 3, 3])"
      ]
     },
     "execution_count": 34,
     "metadata": {},
     "output_type": "execute_result"
    }
   ],
   "source": [
    "from sklearn.multiclass import OneVsRestClassifier\n",
    "from sklearn.svm import LinearSVC\n",
    "\n",
    "ovrClf = OneVsRestClassifier(LinearSVC(random_state=0)).fit(X_train, y_train)\n",
    "ovrClf.predict(X_test)"
   ]
  },
  {
   "cell_type": "code",
   "execution_count": 35,
   "metadata": {},
   "outputs": [
    {
     "name": "stdout",
     "output_type": "stream",
     "text": [
      "Score: 0.53\n"
     ]
    }
   ],
   "source": [
    "# print the score\n",
    "print(\"Score: {:.2f}\".format(ovrClf.score(X_test, y_test)))"
   ]
  },
  {
   "cell_type": "markdown",
   "metadata": {
    "collapsed": true
   },
   "source": [
    "## Gradient Boosting Classifier"
   ]
  },
  {
   "cell_type": "code",
   "execution_count": 36,
   "metadata": {},
   "outputs": [
    {
     "name": "stdout",
     "output_type": "stream",
     "text": [
      "Score: 0.56\n"
     ]
    }
   ],
   "source": [
    "gbc = GradientBoostingClassifier()\n",
    "gbc.fit(X_train,y_train)\n",
    "print(\"Score: {:.2f}\".format(gbc.score(X_test, y_test)))"
   ]
  },
  {
   "cell_type": "markdown",
   "metadata": {},
   "source": [
    "## Decision Tree Classifier"
   ]
  },
  {
   "cell_type": "code",
   "execution_count": 37,
   "metadata": {},
   "outputs": [
    {
     "name": "stdout",
     "output_type": "stream",
     "text": [
      "Score: 0.30\n"
     ]
    }
   ],
   "source": [
    "from sklearn.tree import DecisionTreeClassifier\n",
    "dtc = DecisionTreeClassifier(random_state=0).fit(X_train, y_train)\n",
    "predictions = dtc.predict(X_test)\n",
    "print(\"Score: {:.2f}\".format(dtc.score(X_test, y_test)))"
   ]
  },
  {
   "cell_type": "code",
   "execution_count": null,
   "metadata": {
    "collapsed": true
   },
   "outputs": [],
   "source": []
  },
  {
   "cell_type": "code",
   "execution_count": null,
   "metadata": {
    "collapsed": true
   },
   "outputs": [],
   "source": []
  },
  {
   "cell_type": "code",
   "execution_count": null,
   "metadata": {
    "collapsed": true
   },
   "outputs": [],
   "source": []
  }
 ],
 "metadata": {
  "kernelspec": {
   "display_name": "Python [default]",
   "language": "python",
   "name": "python3"
  },
  "language_info": {
   "codemirror_mode": {
    "name": "ipython",
    "version": 3
   },
   "file_extension": ".py",
   "mimetype": "text/x-python",
   "name": "python",
   "nbconvert_exporter": "python",
   "pygments_lexer": "ipython3",
   "version": "3.6.0"
  }
 },
 "nbformat": 4,
 "nbformat_minor": 2
}
