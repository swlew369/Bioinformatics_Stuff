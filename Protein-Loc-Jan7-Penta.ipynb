{
 "cells": [
  {
   "cell_type": "code",
   "execution_count": 1,
   "metadata": {
    "collapsed": true
   },
   "outputs": [],
   "source": [
    "import pandas as pd\n",
    "import seaborn as sns\n",
    "import numpy as np\n",
    "import time\n",
    "import re\n",
    "import nltk\n",
    "import math\n",
    "import os\n",
    "import matplotlib.pyplot as plt\n",
    "import sklearn.metrics\n",
    "from sklearn import svm\n",
    "from sklearn.ensemble import GradientBoostingClassifier\n",
    "from sklearn.tree import DecisionTreeClassifier\n",
    "from sklearn.preprocessing import StandardScaler\n",
    "from sklearn.model_selection import train_test_split, GridSearchCV\n",
    "from sklearn.linear_model import LogisticRegression\n",
    "from sklearn.neighbors import KNeighborsClassifier\n",
    "from sklearn.ensemble import RandomForestClassifier\n",
    "from sklearn.naive_bayes import MultinomialNB\n",
    "from nltk.corpus import stopwords\n",
    "from sklearn.feature_extraction.text import TfidfVectorizer\n",
    "from sklearn.feature_extraction.text import CountVectorizer\n",
    "from sklearn.metrics import roc_auc_score\n",
    "from Bio.SeqUtils.ProtParam import ProteinAnalysis\n",
    "import sklearn.metrics\n",
    "from sklearn.metrics import confusion_matrix\n",
    "from imblearn.over_sampling import SMOTE\n",
    "\n",
    "%matplotlib inline\n"
   ]
  },
  {
   "cell_type": "code",
   "execution_count": 2,
   "metadata": {},
   "outputs": [
    {
     "data": {
      "text/html": [
       "<div>\n",
       "<style scoped>\n",
       "    .dataframe tbody tr th:only-of-type {\n",
       "        vertical-align: middle;\n",
       "    }\n",
       "\n",
       "    .dataframe tbody tr th {\n",
       "        vertical-align: top;\n",
       "    }\n",
       "\n",
       "    .dataframe thead th {\n",
       "        text-align: right;\n",
       "    }\n",
       "</style>\n",
       "<table border=\"1\" class=\"dataframe\">\n",
       "  <thead>\n",
       "    <tr style=\"text-align: right;\">\n",
       "      <th></th>\n",
       "      <th>name</th>\n",
       "      <th>sequence</th>\n",
       "      <th>location</th>\n",
       "      <th>label</th>\n",
       "    </tr>\n",
       "  </thead>\n",
       "  <tbody>\n",
       "    <tr>\n",
       "      <th>0</th>\n",
       "      <td>sp|P30040|ERP29_HUMAN</td>\n",
       "      <td>MAAAVPRAAFLSPLLPLLLGFLLLSAPHGGSGLHTKGALPLDTVTF...</td>\n",
       "      <td>0</td>\n",
       "      <td>ER</td>\n",
       "    </tr>\n",
       "    <tr>\n",
       "      <th>1</th>\n",
       "      <td>sp|P16615|AT2A2_HUMAN</td>\n",
       "      <td>MENAHTKTVEEVLGHFGVNESTGLSLEQVKKLKERWGSNELPAEEG...</td>\n",
       "      <td>0</td>\n",
       "      <td>ER</td>\n",
       "    </tr>\n",
       "    <tr>\n",
       "      <th>2</th>\n",
       "      <td>sp|Q64578|AT2A1_RAT</td>\n",
       "      <td>MEAAHSKSTEECLSYFGVSETTGLTPDQVKRHLEKYGPNELPAEEG...</td>\n",
       "      <td>0</td>\n",
       "      <td>ER</td>\n",
       "    </tr>\n",
       "    <tr>\n",
       "      <th>3</th>\n",
       "      <td>sp|Q8R429|AT2A1_MOUSE</td>\n",
       "      <td>MEAAHSKSTEECLSYFGVSETTGLTPDQVKRHLEKYGPNELPAEEG...</td>\n",
       "      <td>0</td>\n",
       "      <td>ER</td>\n",
       "    </tr>\n",
       "    <tr>\n",
       "      <th>4</th>\n",
       "      <td>sp|O55143|AT2A2_MOUSE</td>\n",
       "      <td>MENAHTKTVEEVLGHFGVNESTGLSLEQVKKLKERWGSNELPAEEG...</td>\n",
       "      <td>0</td>\n",
       "      <td>ER</td>\n",
       "    </tr>\n",
       "  </tbody>\n",
       "</table>\n",
       "</div>"
      ],
      "text/plain": [
       "                    name                                           sequence  \\\n",
       "0  sp|P30040|ERP29_HUMAN  MAAAVPRAAFLSPLLPLLLGFLLLSAPHGGSGLHTKGALPLDTVTF...   \n",
       "1  sp|P16615|AT2A2_HUMAN  MENAHTKTVEEVLGHFGVNESTGLSLEQVKKLKERWGSNELPAEEG...   \n",
       "2    sp|Q64578|AT2A1_RAT  MEAAHSKSTEECLSYFGVSETTGLTPDQVKRHLEKYGPNELPAEEG...   \n",
       "3  sp|Q8R429|AT2A1_MOUSE  MEAAHSKSTEECLSYFGVSETTGLTPDQVKRHLEKYGPNELPAEEG...   \n",
       "4  sp|O55143|AT2A2_MOUSE  MENAHTKTVEEVLGHFGVNESTGLSLEQVKKLKERWGSNELPAEEG...   \n",
       "\n",
       "   location label  \n",
       "0         0    ER  \n",
       "1         0    ER  \n",
       "2         0    ER  \n",
       "3         0    ER  \n",
       "4         0    ER  "
      ]
     },
     "execution_count": 2,
     "metadata": {},
     "output_type": "execute_result"
    }
   ],
   "source": [
    "df_ER = pd.read_csv('uniprot-ER-reviewed.csv')\n",
    "\n",
    "df_ER.head()"
   ]
  },
  {
   "cell_type": "code",
   "execution_count": 3,
   "metadata": {},
   "outputs": [
    {
     "data": {
      "text/html": [
       "<div>\n",
       "<style scoped>\n",
       "    .dataframe tbody tr th:only-of-type {\n",
       "        vertical-align: middle;\n",
       "    }\n",
       "\n",
       "    .dataframe tbody tr th {\n",
       "        vertical-align: top;\n",
       "    }\n",
       "\n",
       "    .dataframe thead th {\n",
       "        text-align: right;\n",
       "    }\n",
       "</style>\n",
       "<table border=\"1\" class=\"dataframe\">\n",
       "  <thead>\n",
       "    <tr style=\"text-align: right;\">\n",
       "      <th></th>\n",
       "      <th>name</th>\n",
       "      <th>sequence</th>\n",
       "      <th>location</th>\n",
       "      <th>label</th>\n",
       "    </tr>\n",
       "  </thead>\n",
       "  <tbody>\n",
       "    <tr>\n",
       "      <th>0</th>\n",
       "      <td>sp|O00461|GOLI4_HUMAN</td>\n",
       "      <td>MGNGMCSRKQKRIFQTLLLLTVVFGFLYGAMLYYELQTQLRKAEAV...</td>\n",
       "      <td>1</td>\n",
       "      <td>Golgi</td>\n",
       "    </tr>\n",
       "    <tr>\n",
       "      <th>1</th>\n",
       "      <td>sp|O43493|TGON2_HUMAN</td>\n",
       "      <td>MRFVVALVLLNVAAAGAVPLLATESVKQEEAGVRPSAGNVSTHPSL...</td>\n",
       "      <td>1</td>\n",
       "      <td>Golgi</td>\n",
       "    </tr>\n",
       "    <tr>\n",
       "      <th>2</th>\n",
       "      <td>sp|Q9BQQ3|GORS1_HUMAN</td>\n",
       "      <td>MGLGVSAEQPAGGAEGFHLHGVQENSPAQQAGLEPYFDFIITIGHS...</td>\n",
       "      <td>1</td>\n",
       "      <td>Golgi</td>\n",
       "    </tr>\n",
       "    <tr>\n",
       "      <th>3</th>\n",
       "      <td>sp|Q9UP83|COG5_HUMAN</td>\n",
       "      <td>MGWVGGRRRDSASPPGRSRSAADDINPAPANMEGGGGSVAVAGLGA...</td>\n",
       "      <td>1</td>\n",
       "      <td>Golgi</td>\n",
       "    </tr>\n",
       "    <tr>\n",
       "      <th>4</th>\n",
       "      <td>sp|Q9H3P7|GCP60_HUMAN</td>\n",
       "      <td>MAAVLNAERLEVSVDGLTLSPDPEERPGAEGAPLLPPPLPPPSPPG...</td>\n",
       "      <td>1</td>\n",
       "      <td>Golgi</td>\n",
       "    </tr>\n",
       "  </tbody>\n",
       "</table>\n",
       "</div>"
      ],
      "text/plain": [
       "                    name                                           sequence  \\\n",
       "0  sp|O00461|GOLI4_HUMAN  MGNGMCSRKQKRIFQTLLLLTVVFGFLYGAMLYYELQTQLRKAEAV...   \n",
       "1  sp|O43493|TGON2_HUMAN  MRFVVALVLLNVAAAGAVPLLATESVKQEEAGVRPSAGNVSTHPSL...   \n",
       "2  sp|Q9BQQ3|GORS1_HUMAN  MGLGVSAEQPAGGAEGFHLHGVQENSPAQQAGLEPYFDFIITIGHS...   \n",
       "3   sp|Q9UP83|COG5_HUMAN  MGWVGGRRRDSASPPGRSRSAADDINPAPANMEGGGGSVAVAGLGA...   \n",
       "4  sp|Q9H3P7|GCP60_HUMAN  MAAVLNAERLEVSVDGLTLSPDPEERPGAEGAPLLPPPLPPPSPPG...   \n",
       "\n",
       "   location  label  \n",
       "0         1  Golgi  \n",
       "1         1  Golgi  \n",
       "2         1  Golgi  \n",
       "3         1  Golgi  \n",
       "4         1  Golgi  "
      ]
     },
     "execution_count": 3,
     "metadata": {},
     "output_type": "execute_result"
    }
   ],
   "source": [
    "df_gol = pd.read_csv('uniprot-golgi-reviewed.csv')\n",
    "\n",
    "df_gol.head()"
   ]
  },
  {
   "cell_type": "code",
   "execution_count": 4,
   "metadata": {},
   "outputs": [
    {
     "data": {
      "text/html": [
       "<div>\n",
       "<style scoped>\n",
       "    .dataframe tbody tr th:only-of-type {\n",
       "        vertical-align: middle;\n",
       "    }\n",
       "\n",
       "    .dataframe tbody tr th {\n",
       "        vertical-align: top;\n",
       "    }\n",
       "\n",
       "    .dataframe thead th {\n",
       "        text-align: right;\n",
       "    }\n",
       "</style>\n",
       "<table border=\"1\" class=\"dataframe\">\n",
       "  <thead>\n",
       "    <tr style=\"text-align: right;\">\n",
       "      <th></th>\n",
       "      <th>name</th>\n",
       "      <th>sequence</th>\n",
       "      <th>location</th>\n",
       "      <th>label</th>\n",
       "    </tr>\n",
       "  </thead>\n",
       "  <tbody>\n",
       "    <tr>\n",
       "      <th>0</th>\n",
       "      <td>sp|Q9BV35|SCMC3_HUMAN</td>\n",
       "      <td>MRGSPGDAERRQRWGRLFEELDSNKDGRVDVHELRQGLARLGGGNP...</td>\n",
       "      <td>6</td>\n",
       "      <td>mitochondria</td>\n",
       "    </tr>\n",
       "    <tr>\n",
       "      <th>1</th>\n",
       "      <td>sp|Q6NUK1|SCMC1_HUMAN</td>\n",
       "      <td>MLRWLRDFVLPTAACQDAEQPTRYETLFQALDRNGDGVVDIGELQE...</td>\n",
       "      <td>6</td>\n",
       "      <td>mitochondria</td>\n",
       "    </tr>\n",
       "    <tr>\n",
       "      <th>2</th>\n",
       "      <td>sp|Q9NUT2|MITOS_HUMAN</td>\n",
       "      <td>MLVHLFRVGIRGGPFPGRLLPPLRFQTFSAVRNTWRNGKTGQLHKA...</td>\n",
       "      <td>6</td>\n",
       "      <td>mitochondria</td>\n",
       "    </tr>\n",
       "    <tr>\n",
       "      <th>3</th>\n",
       "      <td>sp|Q6KCM7|SCMC2_HUMAN</td>\n",
       "      <td>MLCLCLYVPVIGEAQTEFQYFESKGLPAELKSIFKLSVFIPSQEFS...</td>\n",
       "      <td>6</td>\n",
       "      <td>mitochondria</td>\n",
       "    </tr>\n",
       "    <tr>\n",
       "      <th>4</th>\n",
       "      <td>sp|P53230|TAM41_YEAST</td>\n",
       "      <td>MLRVSENGLRFLLKCHSTNVSMFNRLLSTQIKEGRSSIDDAGIIPD...</td>\n",
       "      <td>6</td>\n",
       "      <td>mitochondria</td>\n",
       "    </tr>\n",
       "  </tbody>\n",
       "</table>\n",
       "</div>"
      ],
      "text/plain": [
       "                    name                                           sequence  \\\n",
       "0  sp|Q9BV35|SCMC3_HUMAN  MRGSPGDAERRQRWGRLFEELDSNKDGRVDVHELRQGLARLGGGNP...   \n",
       "1  sp|Q6NUK1|SCMC1_HUMAN  MLRWLRDFVLPTAACQDAEQPTRYETLFQALDRNGDGVVDIGELQE...   \n",
       "2  sp|Q9NUT2|MITOS_HUMAN  MLVHLFRVGIRGGPFPGRLLPPLRFQTFSAVRNTWRNGKTGQLHKA...   \n",
       "3  sp|Q6KCM7|SCMC2_HUMAN  MLCLCLYVPVIGEAQTEFQYFESKGLPAELKSIFKLSVFIPSQEFS...   \n",
       "4  sp|P53230|TAM41_YEAST  MLRVSENGLRFLLKCHSTNVSMFNRLLSTQIKEGRSSIDDAGIIPD...   \n",
       "\n",
       "   location         label  \n",
       "0         6  mitochondria  \n",
       "1         6  mitochondria  \n",
       "2         6  mitochondria  \n",
       "3         6  mitochondria  \n",
       "4         6  mitochondria  "
      ]
     },
     "execution_count": 4,
     "metadata": {},
     "output_type": "execute_result"
    }
   ],
   "source": [
    "df_mito = pd.read_csv('uniprot-mito-reviewed2.csv')\n",
    "\n",
    "df_mito.head()"
   ]
  },
  {
   "cell_type": "code",
   "execution_count": 5,
   "metadata": {},
   "outputs": [
    {
     "data": {
      "text/html": [
       "<div>\n",
       "<style scoped>\n",
       "    .dataframe tbody tr th:only-of-type {\n",
       "        vertical-align: middle;\n",
       "    }\n",
       "\n",
       "    .dataframe tbody tr th {\n",
       "        vertical-align: top;\n",
       "    }\n",
       "\n",
       "    .dataframe thead th {\n",
       "        text-align: right;\n",
       "    }\n",
       "</style>\n",
       "<table border=\"1\" class=\"dataframe\">\n",
       "  <thead>\n",
       "    <tr style=\"text-align: right;\">\n",
       "      <th></th>\n",
       "      <th>name</th>\n",
       "      <th>sequence</th>\n",
       "      <th>location</th>\n",
       "      <th>label</th>\n",
       "    </tr>\n",
       "  </thead>\n",
       "  <tbody>\n",
       "    <tr>\n",
       "      <th>0</th>\n",
       "      <td>sp|Q9GZC8|SID1_CAEEL</td>\n",
       "      <td>MIRVYLIILMHLVIGLTQNNSTTPSPIITSSNSSVLVFEISSKMKM...</td>\n",
       "      <td>9</td>\n",
       "      <td>plasma_membrane</td>\n",
       "    </tr>\n",
       "    <tr>\n",
       "      <th>1</th>\n",
       "      <td>sp|Q8KA41|FLIJ_BUCAP</td>\n",
       "      <td>MKYKKKIFSILENLEKKNIEKDIINIKNLYLQKEKYVTQLSLLKDY...</td>\n",
       "      <td>9</td>\n",
       "      <td>plasma_membrane</td>\n",
       "    </tr>\n",
       "    <tr>\n",
       "      <th>2</th>\n",
       "      <td>sp|Q5XI60|REEP6_RAT</td>\n",
       "      <td>MDGLRQRFERFLEQKNVATDALGALEARTGVEKRYLAAGALTLLGL...</td>\n",
       "      <td>9</td>\n",
       "      <td>plasma_membrane</td>\n",
       "    </tr>\n",
       "    <tr>\n",
       "      <th>3</th>\n",
       "      <td>sp|Q2FW71|SFAA_STAA8</td>\n",
       "      <td>MTKYFFSSSFLLFLGNWIGQIGLNWFVLTTYHNAVYLGIVNFCRLV...</td>\n",
       "      <td>9</td>\n",
       "      <td>plasma_membrane</td>\n",
       "    </tr>\n",
       "    <tr>\n",
       "      <th>4</th>\n",
       "      <td>sp|Q98D15|NORM_RHILO</td>\n",
       "      <td>MSAIDAGARAPENLWRQEIRATLALAWPMVLTNLGQTAMTATDVMM...</td>\n",
       "      <td>9</td>\n",
       "      <td>plasma_membrane</td>\n",
       "    </tr>\n",
       "  </tbody>\n",
       "</table>\n",
       "</div>"
      ],
      "text/plain": [
       "                   name                                           sequence  \\\n",
       "0  sp|Q9GZC8|SID1_CAEEL  MIRVYLIILMHLVIGLTQNNSTTPSPIITSSNSSVLVFEISSKMKM...   \n",
       "1  sp|Q8KA41|FLIJ_BUCAP  MKYKKKIFSILENLEKKNIEKDIINIKNLYLQKEKYVTQLSLLKDY...   \n",
       "2   sp|Q5XI60|REEP6_RAT  MDGLRQRFERFLEQKNVATDALGALEARTGVEKRYLAAGALTLLGL...   \n",
       "3  sp|Q2FW71|SFAA_STAA8  MTKYFFSSSFLLFLGNWIGQIGLNWFVLTTYHNAVYLGIVNFCRLV...   \n",
       "4  sp|Q98D15|NORM_RHILO  MSAIDAGARAPENLWRQEIRATLALAWPMVLTNLGQTAMTATDVMM...   \n",
       "\n",
       "   location            label  \n",
       "0         9  plasma_membrane  \n",
       "1         9  plasma_membrane  \n",
       "2         9  plasma_membrane  \n",
       "3         9  plasma_membrane  \n",
       "4         9  plasma_membrane  "
      ]
     },
     "execution_count": 5,
     "metadata": {},
     "output_type": "execute_result"
    }
   ],
   "source": [
    "#df_pm = pd.read_csv('uniprot-human-plasma-membrane.csv')\n",
    "df_pm = pd.read_csv('uniprot-pm-reviewed.csv')\n",
    "df_pm.head()"
   ]
  },
  {
   "cell_type": "code",
   "execution_count": 6,
   "metadata": {},
   "outputs": [
    {
     "data": {
      "text/plain": [
       "(23119, 4)"
      ]
     },
     "execution_count": 6,
     "metadata": {},
     "output_type": "execute_result"
    }
   ],
   "source": [
    "df_pm.shape"
   ]
  },
  {
   "cell_type": "code",
   "execution_count": 7,
   "metadata": {},
   "outputs": [
    {
     "data": {
      "text/html": [
       "<div>\n",
       "<style scoped>\n",
       "    .dataframe tbody tr th:only-of-type {\n",
       "        vertical-align: middle;\n",
       "    }\n",
       "\n",
       "    .dataframe tbody tr th {\n",
       "        vertical-align: top;\n",
       "    }\n",
       "\n",
       "    .dataframe thead th {\n",
       "        text-align: right;\n",
       "    }\n",
       "</style>\n",
       "<table border=\"1\" class=\"dataframe\">\n",
       "  <thead>\n",
       "    <tr style=\"text-align: right;\">\n",
       "      <th></th>\n",
       "      <th>name</th>\n",
       "      <th>sequence</th>\n",
       "      <th>location</th>\n",
       "      <th>label</th>\n",
       "    </tr>\n",
       "  </thead>\n",
       "  <tbody>\n",
       "    <tr>\n",
       "      <th>0</th>\n",
       "      <td>sp|Q9ZMG6|MIAB_HELPJ</td>\n",
       "      <td>MKVYIETMGCAMNSRDSEHLLSELSKLDYKETSDPKMADLILINTC...</td>\n",
       "      <td>3</td>\n",
       "      <td>cytoplasm</td>\n",
       "    </tr>\n",
       "    <tr>\n",
       "      <th>1</th>\n",
       "      <td>sp|O94201|PFKA1_CANAX</td>\n",
       "      <td>MPSSSDAINRISYISLVTSDNDKFNQTFQFYSQLGFRLTKSFSKVS...</td>\n",
       "      <td>3</td>\n",
       "      <td>cytoplasm</td>\n",
       "    </tr>\n",
       "    <tr>\n",
       "      <th>2</th>\n",
       "      <td>sp|B2G868|SYE_LACRJ</td>\n",
       "      <td>MDQKVRVRYAPSPTGFLHIGNAQSALFNYLFARHFDGTMVLRIEDT...</td>\n",
       "      <td>3</td>\n",
       "      <td>cytoplasm</td>\n",
       "    </tr>\n",
       "    <tr>\n",
       "      <th>3</th>\n",
       "      <td>sp|Q1LSV4|RRF_BAUCH</td>\n",
       "      <td>MINNIRQDAEVRMEKCLETFKNNISKLRTGRANPNLLDNIKVDYYG...</td>\n",
       "      <td>3</td>\n",
       "      <td>cytoplasm</td>\n",
       "    </tr>\n",
       "    <tr>\n",
       "      <th>4</th>\n",
       "      <td>sp|Q5I0E6|RPAP2_RAT</td>\n",
       "      <td>MADSAVPYSLGPSARASSTHRVATGTKQTSALKRRDASKRQAELEA...</td>\n",
       "      <td>3</td>\n",
       "      <td>cytoplasm</td>\n",
       "    </tr>\n",
       "  </tbody>\n",
       "</table>\n",
       "</div>"
      ],
      "text/plain": [
       "                    name                                           sequence  \\\n",
       "0   sp|Q9ZMG6|MIAB_HELPJ  MKVYIETMGCAMNSRDSEHLLSELSKLDYKETSDPKMADLILINTC...   \n",
       "1  sp|O94201|PFKA1_CANAX  MPSSSDAINRISYISLVTSDNDKFNQTFQFYSQLGFRLTKSFSKVS...   \n",
       "2    sp|B2G868|SYE_LACRJ  MDQKVRVRYAPSPTGFLHIGNAQSALFNYLFARHFDGTMVLRIEDT...   \n",
       "3    sp|Q1LSV4|RRF_BAUCH  MINNIRQDAEVRMEKCLETFKNNISKLRTGRANPNLLDNIKVDYYG...   \n",
       "4    sp|Q5I0E6|RPAP2_RAT  MADSAVPYSLGPSARASSTHRVATGTKQTSALKRRDASKRQAELEA...   \n",
       "\n",
       "   location      label  \n",
       "0         3  cytoplasm  \n",
       "1         3  cytoplasm  \n",
       "2         3  cytoplasm  \n",
       "3         3  cytoplasm  \n",
       "4         3  cytoplasm  "
      ]
     },
     "execution_count": 7,
     "metadata": {},
     "output_type": "execute_result"
    }
   ],
   "source": [
    "#df_cyto = pd.read_csv('uniprot-human-cytoplasm.csv')\n",
    "df_cyto = pd.read_csv('uniprot-cytoplasm-20K.csv')\n",
    "df_cyto.head()"
   ]
  },
  {
   "cell_type": "code",
   "execution_count": 8,
   "metadata": {},
   "outputs": [
    {
     "data": {
      "text/plain": [
       "(20502, 4)"
      ]
     },
     "execution_count": 8,
     "metadata": {},
     "output_type": "execute_result"
    }
   ],
   "source": [
    "df_cyto.shape"
   ]
  },
  {
   "cell_type": "code",
   "execution_count": 9,
   "metadata": {},
   "outputs": [
    {
     "data": {
      "text/html": [
       "<div>\n",
       "<style scoped>\n",
       "    .dataframe tbody tr th:only-of-type {\n",
       "        vertical-align: middle;\n",
       "    }\n",
       "\n",
       "    .dataframe tbody tr th {\n",
       "        vertical-align: top;\n",
       "    }\n",
       "\n",
       "    .dataframe thead th {\n",
       "        text-align: right;\n",
       "    }\n",
       "</style>\n",
       "<table border=\"1\" class=\"dataframe\">\n",
       "  <thead>\n",
       "    <tr style=\"text-align: right;\">\n",
       "      <th></th>\n",
       "      <th>name</th>\n",
       "      <th>sequence</th>\n",
       "      <th>location</th>\n",
       "      <th>label</th>\n",
       "    </tr>\n",
       "  </thead>\n",
       "  <tbody>\n",
       "    <tr>\n",
       "      <th>0</th>\n",
       "      <td>tr|J5RKF4|J5RKF4_SACK1</td>\n",
       "      <td>MDLTVEPNLHSLINSTTHKWIFVGGKGGVGKTTSSCSIAIQMALSQ...</td>\n",
       "      <td>1</td>\n",
       "      <td>Golgi</td>\n",
       "    </tr>\n",
       "    <tr>\n",
       "      <th>1</th>\n",
       "      <td>tr|A0A0L8RL88|A0A0L8RL88_SACEU</td>\n",
       "      <td>MDLTVEPNLHSLINSTTHKWIFVGGKGGVGKTTSSCSIAIQMALSQ...</td>\n",
       "      <td>1</td>\n",
       "      <td>Golgi</td>\n",
       "    </tr>\n",
       "    <tr>\n",
       "      <th>2</th>\n",
       "      <td>tr|J8LQG5|J8LQG5_SACAR</td>\n",
       "      <td>MDLTVEPNLHSLINSTTHKWIFVGGKGGVGKTTSSCSIAIQMALSQ...</td>\n",
       "      <td>1</td>\n",
       "      <td>Golgi</td>\n",
       "    </tr>\n",
       "    <tr>\n",
       "      <th>3</th>\n",
       "      <td>tr|A0A0L8VT44|A0A0L8VT44_9SACH</td>\n",
       "      <td>MDLTVEPNLHSLITSTTHKWIFVGGKGGVGKTTSSCSIAIQMALSQ...</td>\n",
       "      <td>1</td>\n",
       "      <td>Golgi</td>\n",
       "    </tr>\n",
       "    <tr>\n",
       "      <th>4</th>\n",
       "      <td>tr|G2WC64|G2WC64_YEASK</td>\n",
       "      <td>MDLTVEPNLHSLITSTTHKWIFVGGKGGVGKTTSSCSIAIQMALSQ...</td>\n",
       "      <td>1</td>\n",
       "      <td>Golgi</td>\n",
       "    </tr>\n",
       "  </tbody>\n",
       "</table>\n",
       "</div>"
      ],
      "text/plain": [
       "                             name  \\\n",
       "0          tr|J5RKF4|J5RKF4_SACK1   \n",
       "1  tr|A0A0L8RL88|A0A0L8RL88_SACEU   \n",
       "2          tr|J8LQG5|J8LQG5_SACAR   \n",
       "3  tr|A0A0L8VT44|A0A0L8VT44_9SACH   \n",
       "4          tr|G2WC64|G2WC64_YEASK   \n",
       "\n",
       "                                            sequence  location  label  \n",
       "0  MDLTVEPNLHSLINSTTHKWIFVGGKGGVGKTTSSCSIAIQMALSQ...         1  Golgi  \n",
       "1  MDLTVEPNLHSLINSTTHKWIFVGGKGGVGKTTSSCSIAIQMALSQ...         1  Golgi  \n",
       "2  MDLTVEPNLHSLINSTTHKWIFVGGKGGVGKTTSSCSIAIQMALSQ...         1  Golgi  \n",
       "3  MDLTVEPNLHSLITSTTHKWIFVGGKGGVGKTTSSCSIAIQMALSQ...         1  Golgi  \n",
       "4  MDLTVEPNLHSLITSTTHKWIFVGGKGGVGKTTSSCSIAIQMALSQ...         1  Golgi  "
      ]
     },
     "execution_count": 9,
     "metadata": {},
     "output_type": "execute_result"
    }
   ],
   "source": [
    "df_gol = pd.read_csv('uniprot-golgi-unreviewed.csv')\n",
    "\n",
    "df_gol.head()"
   ]
  },
  {
   "cell_type": "code",
   "execution_count": 10,
   "metadata": {},
   "outputs": [
    {
     "data": {
      "text/plain": [
       "(78833, 4)"
      ]
     },
     "execution_count": 10,
     "metadata": {},
     "output_type": "execute_result"
    }
   ],
   "source": [
    "df_gol.shape"
   ]
  },
  {
   "cell_type": "code",
   "execution_count": 11,
   "metadata": {
    "collapsed": true
   },
   "outputs": [],
   "source": [
    "df_gol2 = df_gol.sample(frac=0.33)"
   ]
  },
  {
   "cell_type": "code",
   "execution_count": 12,
   "metadata": {},
   "outputs": [
    {
     "data": {
      "text/plain": [
       "(26015, 4)"
      ]
     },
     "execution_count": 12,
     "metadata": {},
     "output_type": "execute_result"
    }
   ],
   "source": [
    "df_gol2.shape"
   ]
  },
  {
   "cell_type": "code",
   "execution_count": 13,
   "metadata": {},
   "outputs": [
    {
     "data": {
      "text/html": [
       "<div>\n",
       "<style scoped>\n",
       "    .dataframe tbody tr th:only-of-type {\n",
       "        vertical-align: middle;\n",
       "    }\n",
       "\n",
       "    .dataframe tbody tr th {\n",
       "        vertical-align: top;\n",
       "    }\n",
       "\n",
       "    .dataframe thead th {\n",
       "        text-align: right;\n",
       "    }\n",
       "</style>\n",
       "<table border=\"1\" class=\"dataframe\">\n",
       "  <thead>\n",
       "    <tr style=\"text-align: right;\">\n",
       "      <th></th>\n",
       "      <th>name</th>\n",
       "      <th>sequence</th>\n",
       "      <th>location</th>\n",
       "      <th>label</th>\n",
       "    </tr>\n",
       "  </thead>\n",
       "  <tbody>\n",
       "    <tr>\n",
       "      <th>0</th>\n",
       "      <td>sp|P30040|ERP29_HUMAN</td>\n",
       "      <td>MAAAVPRAAFLSPLLPLLLGFLLLSAPHGGSGLHTKGALPLDTVTF...</td>\n",
       "      <td>0</td>\n",
       "      <td>ER</td>\n",
       "    </tr>\n",
       "    <tr>\n",
       "      <th>1</th>\n",
       "      <td>sp|P16615|AT2A2_HUMAN</td>\n",
       "      <td>MENAHTKTVEEVLGHFGVNESTGLSLEQVKKLKERWGSNELPAEEG...</td>\n",
       "      <td>0</td>\n",
       "      <td>ER</td>\n",
       "    </tr>\n",
       "    <tr>\n",
       "      <th>2</th>\n",
       "      <td>sp|Q64578|AT2A1_RAT</td>\n",
       "      <td>MEAAHSKSTEECLSYFGVSETTGLTPDQVKRHLEKYGPNELPAEEG...</td>\n",
       "      <td>0</td>\n",
       "      <td>ER</td>\n",
       "    </tr>\n",
       "    <tr>\n",
       "      <th>3</th>\n",
       "      <td>sp|Q8R429|AT2A1_MOUSE</td>\n",
       "      <td>MEAAHSKSTEECLSYFGVSETTGLTPDQVKRHLEKYGPNELPAEEG...</td>\n",
       "      <td>0</td>\n",
       "      <td>ER</td>\n",
       "    </tr>\n",
       "    <tr>\n",
       "      <th>4</th>\n",
       "      <td>sp|O55143|AT2A2_MOUSE</td>\n",
       "      <td>MENAHTKTVEEVLGHFGVNESTGLSLEQVKKLKERWGSNELPAEEG...</td>\n",
       "      <td>0</td>\n",
       "      <td>ER</td>\n",
       "    </tr>\n",
       "  </tbody>\n",
       "</table>\n",
       "</div>"
      ],
      "text/plain": [
       "                    name                                           sequence  \\\n",
       "0  sp|P30040|ERP29_HUMAN  MAAAVPRAAFLSPLLPLLLGFLLLSAPHGGSGLHTKGALPLDTVTF...   \n",
       "1  sp|P16615|AT2A2_HUMAN  MENAHTKTVEEVLGHFGVNESTGLSLEQVKKLKERWGSNELPAEEG...   \n",
       "2    sp|Q64578|AT2A1_RAT  MEAAHSKSTEECLSYFGVSETTGLTPDQVKRHLEKYGPNELPAEEG...   \n",
       "3  sp|Q8R429|AT2A1_MOUSE  MEAAHSKSTEECLSYFGVSETTGLTPDQVKRHLEKYGPNELPAEEG...   \n",
       "4  sp|O55143|AT2A2_MOUSE  MENAHTKTVEEVLGHFGVNESTGLSLEQVKKLKERWGSNELPAEEG...   \n",
       "\n",
       "   location label  \n",
       "0         0    ER  \n",
       "1         0    ER  \n",
       "2         0    ER  \n",
       "3         0    ER  \n",
       "4         0    ER  "
      ]
     },
     "execution_count": 13,
     "metadata": {},
     "output_type": "execute_result"
    }
   ],
   "source": [
    "df_ER = pd.read_csv('uniprot-ER-136K.csv')\n",
    "\n",
    "df_ER.head()"
   ]
  },
  {
   "cell_type": "code",
   "execution_count": 14,
   "metadata": {},
   "outputs": [
    {
     "data": {
      "text/plain": [
       "(124421, 4)"
      ]
     },
     "execution_count": 14,
     "metadata": {},
     "output_type": "execute_result"
    }
   ],
   "source": [
    "df_ER.shape"
   ]
  },
  {
   "cell_type": "code",
   "execution_count": 15,
   "metadata": {
    "collapsed": true
   },
   "outputs": [],
   "source": [
    "df_ER2 = df_ER.sample(frac=0.27)"
   ]
  },
  {
   "cell_type": "code",
   "execution_count": 16,
   "metadata": {},
   "outputs": [
    {
     "data": {
      "text/plain": [
       "(33594, 4)"
      ]
     },
     "execution_count": 16,
     "metadata": {},
     "output_type": "execute_result"
    }
   ],
   "source": [
    "df_ER2.shape"
   ]
  },
  {
   "cell_type": "code",
   "execution_count": null,
   "metadata": {
    "collapsed": true
   },
   "outputs": [],
   "source": []
  },
  {
   "cell_type": "code",
   "execution_count": 17,
   "metadata": {},
   "outputs": [
    {
     "data": {
      "text/html": [
       "<div>\n",
       "<style scoped>\n",
       "    .dataframe tbody tr th:only-of-type {\n",
       "        vertical-align: middle;\n",
       "    }\n",
       "\n",
       "    .dataframe tbody tr th {\n",
       "        vertical-align: top;\n",
       "    }\n",
       "\n",
       "    .dataframe thead th {\n",
       "        text-align: right;\n",
       "    }\n",
       "</style>\n",
       "<table border=\"1\" class=\"dataframe\">\n",
       "  <thead>\n",
       "    <tr style=\"text-align: right;\">\n",
       "      <th></th>\n",
       "      <th>name</th>\n",
       "      <th>sequence</th>\n",
       "      <th>location</th>\n",
       "      <th>label</th>\n",
       "    </tr>\n",
       "  </thead>\n",
       "  <tbody>\n",
       "    <tr>\n",
       "      <th>0</th>\n",
       "      <td>sp|Q9BV35|SCMC3_HUMAN</td>\n",
       "      <td>MRGSPGDAERRQRWGRLFEELDSNKDGRVDVHELRQGLARLGGGNP...</td>\n",
       "      <td>6</td>\n",
       "      <td>mitochondria</td>\n",
       "    </tr>\n",
       "    <tr>\n",
       "      <th>1</th>\n",
       "      <td>sp|Q6NUK1|SCMC1_HUMAN</td>\n",
       "      <td>MLRWLRDFVLPTAACQDAEQPTRYETLFQALDRNGDGVVDIGELQE...</td>\n",
       "      <td>6</td>\n",
       "      <td>mitochondria</td>\n",
       "    </tr>\n",
       "    <tr>\n",
       "      <th>2</th>\n",
       "      <td>sp|Q9NUT2|MITOS_HUMAN</td>\n",
       "      <td>MLVHLFRVGIRGGPFPGRLLPPLRFQTFSAVRNTWRNGKTGQLHKA...</td>\n",
       "      <td>6</td>\n",
       "      <td>mitochondria</td>\n",
       "    </tr>\n",
       "    <tr>\n",
       "      <th>3</th>\n",
       "      <td>sp|Q6KCM7|SCMC2_HUMAN</td>\n",
       "      <td>MLCLCLYVPVIGEAQTEFQYFESKGLPAELKSIFKLSVFIPSQEFS...</td>\n",
       "      <td>6</td>\n",
       "      <td>mitochondria</td>\n",
       "    </tr>\n",
       "    <tr>\n",
       "      <th>4</th>\n",
       "      <td>sp|P53230|TAM41_YEAST</td>\n",
       "      <td>MLRVSENGLRFLLKCHSTNVSMFNRLLSTQIKEGRSSIDDAGIIPD...</td>\n",
       "      <td>6</td>\n",
       "      <td>mitochondria</td>\n",
       "    </tr>\n",
       "  </tbody>\n",
       "</table>\n",
       "</div>"
      ],
      "text/plain": [
       "                    name                                           sequence  \\\n",
       "0  sp|Q9BV35|SCMC3_HUMAN  MRGSPGDAERRQRWGRLFEELDSNKDGRVDVHELRQGLARLGGGNP...   \n",
       "1  sp|Q6NUK1|SCMC1_HUMAN  MLRWLRDFVLPTAACQDAEQPTRYETLFQALDRNGDGVVDIGELQE...   \n",
       "2  sp|Q9NUT2|MITOS_HUMAN  MLVHLFRVGIRGGPFPGRLLPPLRFQTFSAVRNTWRNGKTGQLHKA...   \n",
       "3  sp|Q6KCM7|SCMC2_HUMAN  MLCLCLYVPVIGEAQTEFQYFESKGLPAELKSIFKLSVFIPSQEFS...   \n",
       "4  sp|P53230|TAM41_YEAST  MLRVSENGLRFLLKCHSTNVSMFNRLLSTQIKEGRSSIDDAGIIPD...   \n",
       "\n",
       "   location         label  \n",
       "0         6  mitochondria  \n",
       "1         6  mitochondria  \n",
       "2         6  mitochondria  \n",
       "3         6  mitochondria  \n",
       "4         6  mitochondria  "
      ]
     },
     "execution_count": 17,
     "metadata": {},
     "output_type": "execute_result"
    }
   ],
   "source": [
    "proteins = pd.concat([df_mito,df_pm,df_cyto,df_gol2,df_ER2])\n",
    "proteins.head()"
   ]
  },
  {
   "cell_type": "code",
   "execution_count": 18,
   "metadata": {},
   "outputs": [
    {
     "data": {
      "text/plain": [
       "(127358, 4)"
      ]
     },
     "execution_count": 18,
     "metadata": {},
     "output_type": "execute_result"
    }
   ],
   "source": [
    "proteins.shape"
   ]
  },
  {
   "cell_type": "code",
   "execution_count": 19,
   "metadata": {},
   "outputs": [
    {
     "data": {
      "text/plain": [
       "0    33594\n",
       "1    26015\n",
       "6    24128\n",
       "9    23119\n",
       "3    20502\n",
       "Name: location, dtype: int64"
      ]
     },
     "execution_count": 19,
     "metadata": {},
     "output_type": "execute_result"
    }
   ],
   "source": [
    "proteins.location.value_counts()"
   ]
  },
  {
   "cell_type": "code",
   "execution_count": 20,
   "metadata": {},
   "outputs": [
    {
     "data": {
      "text/plain": [
       "ER                 33594\n",
       "Golgi              26015\n",
       "mitochondria       24128\n",
       "plasma_membrane    23119\n",
       "cytoplasm          20502\n",
       "Name: label, dtype: int64"
      ]
     },
     "execution_count": 20,
     "metadata": {},
     "output_type": "execute_result"
    }
   ],
   "source": [
    "proteins.label.value_counts()"
   ]
  },
  {
   "cell_type": "markdown",
   "metadata": {},
   "source": [
    "##   Classification "
   ]
  },
  {
   "cell_type": "code",
   "execution_count": 21,
   "metadata": {},
   "outputs": [
    {
     "data": {
      "text/plain": [
       "(127358, 4)"
      ]
     },
     "execution_count": 21,
     "metadata": {},
     "output_type": "execute_result"
    }
   ],
   "source": [
    "proteins.shape"
   ]
  },
  {
   "cell_type": "code",
   "execution_count": 22,
   "metadata": {
    "collapsed": true
   },
   "outputs": [],
   "source": [
    "# remove the duplicate protein sequences\n",
    "proteins = proteins.drop_duplicates(subset='sequence', keep=\"first\")\n",
    "\n",
    "# remove nan from 'sequence' column\n",
    "proteins = proteins[proteins['sequence'].notnull()]"
   ]
  },
  {
   "cell_type": "code",
   "execution_count": 23,
   "metadata": {},
   "outputs": [
    {
     "data": {
      "text/plain": [
       "(124267, 4)"
      ]
     },
     "execution_count": 23,
     "metadata": {},
     "output_type": "execute_result"
    }
   ],
   "source": [
    "proteins.shape"
   ]
  },
  {
   "cell_type": "code",
   "execution_count": 24,
   "metadata": {
    "collapsed": true
   },
   "outputs": [],
   "source": [
    "# permute/scramble/shuffle rows of the dataframe\n",
    "proteins = proteins.sample(frac=1)"
   ]
  },
  {
   "cell_type": "code",
   "execution_count": 25,
   "metadata": {},
   "outputs": [
    {
     "data": {
      "text/plain": [
       "0    32483\n",
       "1    26001\n",
       "6    24128\n",
       "9    22257\n",
       "3    19398\n",
       "Name: location, dtype: int64"
      ]
     },
     "execution_count": 25,
     "metadata": {},
     "output_type": "execute_result"
    }
   ],
   "source": [
    "proteins.location.value_counts()"
   ]
  },
  {
   "cell_type": "code",
   "execution_count": 26,
   "metadata": {},
   "outputs": [
    {
     "data": {
      "text/plain": [
       "ER                 32483\n",
       "Golgi              26001\n",
       "mitochondria       24128\n",
       "plasma_membrane    22257\n",
       "cytoplasm          19398\n",
       "Name: label, dtype: int64"
      ]
     },
     "execution_count": 26,
     "metadata": {},
     "output_type": "execute_result"
    }
   ],
   "source": [
    "proteins.label.value_counts()"
   ]
  },
  {
   "cell_type": "markdown",
   "metadata": {},
   "source": [
    "## Transform the protein sequence data with CountVectorizer to get peptide frequency. Split the data into training & test sets."
   ]
  },
  {
   "cell_type": "code",
   "execution_count": 27,
   "metadata": {
    "collapsed": true
   },
   "outputs": [],
   "source": [
    "# In this case, tripeptide frequency is used for analysis\n",
    "#vect = CountVectorizer(min_df=1,token_pattern=r'\\w{1}',ngram_range=(5,5))\n",
    "vect = CountVectorizer(min_df=1,token_pattern=r'\\w{1}',ngram_range=(4,4))"
   ]
  },
  {
   "cell_type": "code",
   "execution_count": 28,
   "metadata": {
    "collapsed": true
   },
   "outputs": [],
   "source": [
    "X = vect.fit_transform(proteins.sequence)\n",
    "y = proteins.location"
   ]
  },
  {
   "cell_type": "code",
   "execution_count": 29,
   "metadata": {},
   "outputs": [
    {
     "name": "stdout",
     "output_type": "stream",
     "text": [
      "(99413, 160091) (99413,)\n",
      "(24854, 160091) (24854,)\n"
     ]
    }
   ],
   "source": [
    "# Split the data into training and test sets\n",
    "X_train, X_test, y_train, y_test = train_test_split(X,y, test_size=0.2,random_state =42)\n",
    "print(X_train.shape, y_train.shape)\n",
    "print(X_test.shape, y_test.shape)"
   ]
  },
  {
   "cell_type": "code",
   "execution_count": 30,
   "metadata": {},
   "outputs": [
    {
     "data": {
      "text/plain": [
       "0    6469\n",
       "1    5262\n",
       "6    4856\n",
       "9    4476\n",
       "3    3791\n",
       "Name: location, dtype: int64"
      ]
     },
     "execution_count": 30,
     "metadata": {},
     "output_type": "execute_result"
    }
   ],
   "source": [
    "y_test.value_counts()"
   ]
  },
  {
   "cell_type": "markdown",
   "metadata": {},
   "source": [
    "## Logistic Regression Model"
   ]
  },
  {
   "cell_type": "code",
   "execution_count": 31,
   "metadata": {},
   "outputs": [
    {
     "name": "stderr",
     "output_type": "stream",
     "text": [
      "/Users/scottlew/miniconda3/lib/python3.6/site-packages/sklearn/linear_model/logistic.py:432: FutureWarning: Default solver will be changed to 'lbfgs' in 0.22. Specify a solver to silence this warning.\n",
      "  FutureWarning)\n",
      "/Users/scottlew/miniconda3/lib/python3.6/site-packages/sklearn/linear_model/logistic.py:469: FutureWarning: Default multi_class will be changed to 'auto' in 0.22. Specify the multi_class option to silence this warning.\n",
      "  \"this warning.\", FutureWarning)\n",
      "/Users/scottlew/miniconda3/lib/python3.6/site-packages/sklearn/svm/base.py:929: ConvergenceWarning: Liblinear failed to converge, increase the number of iterations.\n",
      "  \"the number of iterations.\", ConvergenceWarning)\n"
     ]
    },
    {
     "name": "stdout",
     "output_type": "stream",
     "text": [
      "Logistic Regression Score: 0.87\n"
     ]
    }
   ],
   "source": [
    "# Logistic Regression \n",
    "lr = LogisticRegression()\n",
    "lr.fit(X_train, y_train)\n",
    "lr.predict(X_test)\n",
    "print(\"Logistic Regression Score: {:.2f}\".format(lr.score(X_test, y_test)))"
   ]
  },
  {
   "cell_type": "code",
   "execution_count": 32,
   "metadata": {},
   "outputs": [
    {
     "name": "stdout",
     "output_type": "stream",
     "text": [
      "Confusion Matrix for Logistic Regression Model\n",
      "\n",
      "[[5923  174   46  177  149]\n",
      " [ 180 4911   41   81   49]\n",
      " [  37   22 3100  405  227]\n",
      " [ 150   36  335 3980  355]\n",
      " [ 129   31  278  427 3611]]\n"
     ]
    }
   ],
   "source": [
    "# Generate Confusion Matrix for Logistic Regression\n",
    "actual = y_test\n",
    "predictions = lr.predict(X_test)\n",
    "print('Confusion Matrix for Logistic Regression Model')\n",
    "print()\n",
    "cm = confusion_matrix(actual,predictions)\n",
    "print(cm)"
   ]
  },
  {
   "cell_type": "code",
   "execution_count": 33,
   "metadata": {},
   "outputs": [
    {
     "data": {
      "image/png": "[encoded data removed]",
      "text/plain": [
       "<matplotlib.figure.Figure at 0x1a186e8128>"
      ]
     },
     "metadata": {},
     "output_type": "display_data"
    }
   ],
   "source": [
    "# Nice plot of confusion matrix\n",
    "# Adjust size of confusion matrix by following code taken from StackOverflow\n",
    "# https://stackoverflow.com/questions/43021762/matplotlib-how-to-change-figsize-for-matshow\n",
    "plt.figure(figsize=(10,5))\n",
    "plt.matshow(cm, fignum=1)\n",
    "\n",
    "plt.title('Confusion Matrix Plot for Logistic Regression Model')\n",
    "plt.colorbar()\n",
    "plt.xlabel('Predicted')\n",
    "plt.ylabel('Actual')\n",
    "\n",
    "plt.show()"
   ]
  },
  {
   "cell_type": "markdown",
   "metadata": {
    "collapsed": true
   },
   "source": [
    "## 63% accuracy with dipeptide count, 79% accuracy with tripeptide count, 87% accuracy with tetrapeptide count"
   ]
  },
  {
   "cell_type": "code",
   "execution_count": null,
   "metadata": {
    "collapsed": true
   },
   "outputs": [],
   "source": []
  },
  {
   "cell_type": "markdown",
   "metadata": {
    "collapsed": true
   },
   "source": [
    "## Random Forest"
   ]
  },
  {
   "cell_type": "code",
   "execution_count": null,
   "metadata": {
    "collapsed": true
   },
   "outputs": [],
   "source": [
    "#rf = RandomForestClassifier(n_estimators=100)\n",
    "# instantiate random forest classifier\n",
    "\n",
    "rf = RandomForestClassifier(random_state=3)\n",
    "\n",
    "# fitting the model\n",
    "rf.fit(X_train, y_train)\n",
    "\n",
    "# evaluate accuracy of our model on test data\n",
    "print(\"Random Forest classifier Score: {:.2f}\".format(rf.score(X_test, y_test)))"
   ]
  },
  {
   "cell_type": "code",
   "execution_count": null,
   "metadata": {
    "collapsed": true
   },
   "outputs": [],
   "source": [
    "# Generate Confusion Matrix for Random Forest\n",
    "actual = y_test\n",
    "predictions = rf.predict(X_test)\n",
    "print('Confusion Matrix for Random Forest Model')\n",
    "print()\n",
    "cm = confusion_matrix(actual,predictions)\n",
    "print(cm)"
   ]
  },
  {
   "cell_type": "code",
   "execution_count": null,
   "metadata": {
    "collapsed": true
   },
   "outputs": [],
   "source": [
    "# Nice plot of confusion matrix\n",
    "# Adjust size of confusion matrix by following code taken from StackOverflow\n",
    "# https://stackoverflow.com/questions/43021762/matplotlib-how-to-change-figsize-for-matshow\n",
    "plt.figure(figsize=(10,5))\n",
    "plt.matshow(cm, fignum=1)\n",
    "\n",
    "plt.title('Confusion Matrix Plot for Random Forest Model')\n",
    "plt.colorbar()\n",
    "plt.xlabel('Predicted')\n",
    "plt.ylabel('Actual')\n",
    "\n",
    "plt.show()"
   ]
  }
 ],
 "metadata": {
  "kernelspec": {
   "display_name": "Python [default]",
   "language": "python",
   "name": "python3"
  },
  "language_info": {
   "codemirror_mode": {
    "name": "ipython",
    "version": 3
   },
   "file_extension": ".py",
   "mimetype": "text/x-python",
   "name": "python",
   "nbconvert_exporter": "python",
   "pygments_lexer": "ipython3",
   "version": "3.6.9"
  }
 },
 "nbformat": 4,
 "nbformat_minor": 2
}
