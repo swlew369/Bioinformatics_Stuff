{
 "cells": [
  {
   "cell_type": "code",
   "execution_count": 1,
   "metadata": {
    "collapsed": true
   },
   "outputs": [],
   "source": [
    "import pandas as pd\n",
    "import seaborn as sns\n",
    "import numpy as np\n",
    "import time\n",
    "import re\n",
    "import nltk\n",
    "import math\n",
    "import os\n",
    "import matplotlib.pyplot as plt\n",
    "import sklearn.metrics\n",
    "from sklearn import svm\n",
    "from sklearn.ensemble import GradientBoostingClassifier\n",
    "from sklearn.tree import DecisionTreeClassifier\n",
    "from sklearn.preprocessing import StandardScaler\n",
    "from sklearn.model_selection import train_test_split, GridSearchCV\n",
    "from sklearn.linear_model import LogisticRegression\n",
    "from sklearn.neighbors import KNeighborsClassifier\n",
    "from sklearn.ensemble import RandomForestClassifier\n",
    "from sklearn.naive_bayes import MultinomialNB\n",
    "from nltk.corpus import stopwords\n",
    "from sklearn.feature_extraction.text import TfidfVectorizer\n",
    "from sklearn.feature_extraction.text import CountVectorizer\n",
    "from sklearn.metrics import roc_auc_score\n",
    "from Bio.SeqUtils.ProtParam import ProteinAnalysis\n",
    "import sklearn.metrics\n",
    "from sklearn.metrics import confusion_matrix\n",
    "from imblearn.over_sampling import SMOTE\n",
    "\n",
    "%matplotlib inline\n"
   ]
  },
  {
   "cell_type": "code",
   "execution_count": 2,
   "metadata": {},
   "outputs": [
    {
     "data": {
      "text/html": [
       "<div>\n",
       "<style scoped>\n",
       "    .dataframe tbody tr th:only-of-type {\n",
       "        vertical-align: middle;\n",
       "    }\n",
       "\n",
       "    .dataframe tbody tr th {\n",
       "        vertical-align: top;\n",
       "    }\n",
       "\n",
       "    .dataframe thead th {\n",
       "        text-align: right;\n",
       "    }\n",
       "</style>\n",
       "<table border=\"1\" class=\"dataframe\">\n",
       "  <thead>\n",
       "    <tr style=\"text-align: right;\">\n",
       "      <th></th>\n",
       "      <th>name</th>\n",
       "      <th>sequence</th>\n",
       "      <th>location</th>\n",
       "      <th>label</th>\n",
       "    </tr>\n",
       "  </thead>\n",
       "  <tbody>\n",
       "    <tr>\n",
       "      <th>0</th>\n",
       "      <td>sp|P30040|ERP29_HUMAN</td>\n",
       "      <td>MAAAVPRAAFLSPLLPLLLGFLLLSAPHGGSGLHTKGALPLDTVTF...</td>\n",
       "      <td>0</td>\n",
       "      <td>ER</td>\n",
       "    </tr>\n",
       "    <tr>\n",
       "      <th>1</th>\n",
       "      <td>sp|P16615|AT2A2_HUMAN</td>\n",
       "      <td>MENAHTKTVEEVLGHFGVNESTGLSLEQVKKLKERWGSNELPAEEG...</td>\n",
       "      <td>0</td>\n",
       "      <td>ER</td>\n",
       "    </tr>\n",
       "    <tr>\n",
       "      <th>2</th>\n",
       "      <td>sp|Q64578|AT2A1_RAT</td>\n",
       "      <td>MEAAHSKSTEECLSYFGVSETTGLTPDQVKRHLEKYGPNELPAEEG...</td>\n",
       "      <td>0</td>\n",
       "      <td>ER</td>\n",
       "    </tr>\n",
       "    <tr>\n",
       "      <th>3</th>\n",
       "      <td>sp|Q8R429|AT2A1_MOUSE</td>\n",
       "      <td>MEAAHSKSTEECLSYFGVSETTGLTPDQVKRHLEKYGPNELPAEEG...</td>\n",
       "      <td>0</td>\n",
       "      <td>ER</td>\n",
       "    </tr>\n",
       "    <tr>\n",
       "      <th>4</th>\n",
       "      <td>sp|O55143|AT2A2_MOUSE</td>\n",
       "      <td>MENAHTKTVEEVLGHFGVNESTGLSLEQVKKLKERWGSNELPAEEG...</td>\n",
       "      <td>0</td>\n",
       "      <td>ER</td>\n",
       "    </tr>\n",
       "  </tbody>\n",
       "</table>\n",
       "</div>"
      ],
      "text/plain": [
       "                    name                                           sequence  \\\n",
       "0  sp|P30040|ERP29_HUMAN  MAAAVPRAAFLSPLLPLLLGFLLLSAPHGGSGLHTKGALPLDTVTF...   \n",
       "1  sp|P16615|AT2A2_HUMAN  MENAHTKTVEEVLGHFGVNESTGLSLEQVKKLKERWGSNELPAEEG...   \n",
       "2    sp|Q64578|AT2A1_RAT  MEAAHSKSTEECLSYFGVSETTGLTPDQVKRHLEKYGPNELPAEEG...   \n",
       "3  sp|Q8R429|AT2A1_MOUSE  MEAAHSKSTEECLSYFGVSETTGLTPDQVKRHLEKYGPNELPAEEG...   \n",
       "4  sp|O55143|AT2A2_MOUSE  MENAHTKTVEEVLGHFGVNESTGLSLEQVKKLKERWGSNELPAEEG...   \n",
       "\n",
       "   location label  \n",
       "0         0    ER  \n",
       "1         0    ER  \n",
       "2         0    ER  \n",
       "3         0    ER  \n",
       "4         0    ER  "
      ]
     },
     "execution_count": 2,
     "metadata": {},
     "output_type": "execute_result"
    }
   ],
   "source": [
    "df_ER = pd.read_csv('uniprot-ER-reviewed.csv')\n",
    "\n",
    "df_ER.head()"
   ]
  },
  {
   "cell_type": "code",
   "execution_count": 3,
   "metadata": {},
   "outputs": [
    {
     "data": {
      "text/html": [
       "<div>\n",
       "<style scoped>\n",
       "    .dataframe tbody tr th:only-of-type {\n",
       "        vertical-align: middle;\n",
       "    }\n",
       "\n",
       "    .dataframe tbody tr th {\n",
       "        vertical-align: top;\n",
       "    }\n",
       "\n",
       "    .dataframe thead th {\n",
       "        text-align: right;\n",
       "    }\n",
       "</style>\n",
       "<table border=\"1\" class=\"dataframe\">\n",
       "  <thead>\n",
       "    <tr style=\"text-align: right;\">\n",
       "      <th></th>\n",
       "      <th>name</th>\n",
       "      <th>sequence</th>\n",
       "      <th>location</th>\n",
       "      <th>label</th>\n",
       "    </tr>\n",
       "  </thead>\n",
       "  <tbody>\n",
       "    <tr>\n",
       "      <th>0</th>\n",
       "      <td>sp|O00461|GOLI4_HUMAN</td>\n",
       "      <td>MGNGMCSRKQKRIFQTLLLLTVVFGFLYGAMLYYELQTQLRKAEAV...</td>\n",
       "      <td>1</td>\n",
       "      <td>Golgi</td>\n",
       "    </tr>\n",
       "    <tr>\n",
       "      <th>1</th>\n",
       "      <td>sp|O43493|TGON2_HUMAN</td>\n",
       "      <td>MRFVVALVLLNVAAAGAVPLLATESVKQEEAGVRPSAGNVSTHPSL...</td>\n",
       "      <td>1</td>\n",
       "      <td>Golgi</td>\n",
       "    </tr>\n",
       "    <tr>\n",
       "      <th>2</th>\n",
       "      <td>sp|Q9BQQ3|GORS1_HUMAN</td>\n",
       "      <td>MGLGVSAEQPAGGAEGFHLHGVQENSPAQQAGLEPYFDFIITIGHS...</td>\n",
       "      <td>1</td>\n",
       "      <td>Golgi</td>\n",
       "    </tr>\n",
       "    <tr>\n",
       "      <th>3</th>\n",
       "      <td>sp|Q9UP83|COG5_HUMAN</td>\n",
       "      <td>MGWVGGRRRDSASPPGRSRSAADDINPAPANMEGGGGSVAVAGLGA...</td>\n",
       "      <td>1</td>\n",
       "      <td>Golgi</td>\n",
       "    </tr>\n",
       "    <tr>\n",
       "      <th>4</th>\n",
       "      <td>sp|Q9H3P7|GCP60_HUMAN</td>\n",
       "      <td>MAAVLNAERLEVSVDGLTLSPDPEERPGAEGAPLLPPPLPPPSPPG...</td>\n",
       "      <td>1</td>\n",
       "      <td>Golgi</td>\n",
       "    </tr>\n",
       "  </tbody>\n",
       "</table>\n",
       "</div>"
      ],
      "text/plain": [
       "                    name                                           sequence  \\\n",
       "0  sp|O00461|GOLI4_HUMAN  MGNGMCSRKQKRIFQTLLLLTVVFGFLYGAMLYYELQTQLRKAEAV...   \n",
       "1  sp|O43493|TGON2_HUMAN  MRFVVALVLLNVAAAGAVPLLATESVKQEEAGVRPSAGNVSTHPSL...   \n",
       "2  sp|Q9BQQ3|GORS1_HUMAN  MGLGVSAEQPAGGAEGFHLHGVQENSPAQQAGLEPYFDFIITIGHS...   \n",
       "3   sp|Q9UP83|COG5_HUMAN  MGWVGGRRRDSASPPGRSRSAADDINPAPANMEGGGGSVAVAGLGA...   \n",
       "4  sp|Q9H3P7|GCP60_HUMAN  MAAVLNAERLEVSVDGLTLSPDPEERPGAEGAPLLPPPLPPPSPPG...   \n",
       "\n",
       "   location  label  \n",
       "0         1  Golgi  \n",
       "1         1  Golgi  \n",
       "2         1  Golgi  \n",
       "3         1  Golgi  \n",
       "4         1  Golgi  "
      ]
     },
     "execution_count": 3,
     "metadata": {},
     "output_type": "execute_result"
    }
   ],
   "source": [
    "df_gol = pd.read_csv('uniprot-golgi-reviewed.csv')\n",
    "\n",
    "df_gol.head()"
   ]
  },
  {
   "cell_type": "code",
   "execution_count": 4,
   "metadata": {},
   "outputs": [
    {
     "data": {
      "text/html": [
       "<div>\n",
       "<style scoped>\n",
       "    .dataframe tbody tr th:only-of-type {\n",
       "        vertical-align: middle;\n",
       "    }\n",
       "\n",
       "    .dataframe tbody tr th {\n",
       "        vertical-align: top;\n",
       "    }\n",
       "\n",
       "    .dataframe thead th {\n",
       "        text-align: right;\n",
       "    }\n",
       "</style>\n",
       "<table border=\"1\" class=\"dataframe\">\n",
       "  <thead>\n",
       "    <tr style=\"text-align: right;\">\n",
       "      <th></th>\n",
       "      <th>name</th>\n",
       "      <th>sequence</th>\n",
       "      <th>location</th>\n",
       "      <th>label</th>\n",
       "    </tr>\n",
       "  </thead>\n",
       "  <tbody>\n",
       "    <tr>\n",
       "      <th>0</th>\n",
       "      <td>sp|Q9BV35|SCMC3_HUMAN</td>\n",
       "      <td>MRGSPGDAERRQRWGRLFEELDSNKDGRVDVHELRQGLARLGGGNP...</td>\n",
       "      <td>6</td>\n",
       "      <td>mitochondria</td>\n",
       "    </tr>\n",
       "    <tr>\n",
       "      <th>1</th>\n",
       "      <td>sp|Q6NUK1|SCMC1_HUMAN</td>\n",
       "      <td>MLRWLRDFVLPTAACQDAEQPTRYETLFQALDRNGDGVVDIGELQE...</td>\n",
       "      <td>6</td>\n",
       "      <td>mitochondria</td>\n",
       "    </tr>\n",
       "    <tr>\n",
       "      <th>2</th>\n",
       "      <td>sp|Q9NUT2|MITOS_HUMAN</td>\n",
       "      <td>MLVHLFRVGIRGGPFPGRLLPPLRFQTFSAVRNTWRNGKTGQLHKA...</td>\n",
       "      <td>6</td>\n",
       "      <td>mitochondria</td>\n",
       "    </tr>\n",
       "    <tr>\n",
       "      <th>3</th>\n",
       "      <td>sp|Q6KCM7|SCMC2_HUMAN</td>\n",
       "      <td>MLCLCLYVPVIGEAQTEFQYFESKGLPAELKSIFKLSVFIPSQEFS...</td>\n",
       "      <td>6</td>\n",
       "      <td>mitochondria</td>\n",
       "    </tr>\n",
       "    <tr>\n",
       "      <th>4</th>\n",
       "      <td>sp|P53230|TAM41_YEAST</td>\n",
       "      <td>MLRVSENGLRFLLKCHSTNVSMFNRLLSTQIKEGRSSIDDAGIIPD...</td>\n",
       "      <td>6</td>\n",
       "      <td>mitochondria</td>\n",
       "    </tr>\n",
       "  </tbody>\n",
       "</table>\n",
       "</div>"
      ],
      "text/plain": [
       "                    name                                           sequence  \\\n",
       "0  sp|Q9BV35|SCMC3_HUMAN  MRGSPGDAERRQRWGRLFEELDSNKDGRVDVHELRQGLARLGGGNP...   \n",
       "1  sp|Q6NUK1|SCMC1_HUMAN  MLRWLRDFVLPTAACQDAEQPTRYETLFQALDRNGDGVVDIGELQE...   \n",
       "2  sp|Q9NUT2|MITOS_HUMAN  MLVHLFRVGIRGGPFPGRLLPPLRFQTFSAVRNTWRNGKTGQLHKA...   \n",
       "3  sp|Q6KCM7|SCMC2_HUMAN  MLCLCLYVPVIGEAQTEFQYFESKGLPAELKSIFKLSVFIPSQEFS...   \n",
       "4  sp|P53230|TAM41_YEAST  MLRVSENGLRFLLKCHSTNVSMFNRLLSTQIKEGRSSIDDAGIIPD...   \n",
       "\n",
       "   location         label  \n",
       "0         6  mitochondria  \n",
       "1         6  mitochondria  \n",
       "2         6  mitochondria  \n",
       "3         6  mitochondria  \n",
       "4         6  mitochondria  "
      ]
     },
     "execution_count": 4,
     "metadata": {},
     "output_type": "execute_result"
    }
   ],
   "source": [
    "df_mito = pd.read_csv('uniprot-mito-reviewed2.csv')\n",
    "\n",
    "df_mito.head()"
   ]
  },
  {
   "cell_type": "code",
   "execution_count": 5,
   "metadata": {},
   "outputs": [
    {
     "data": {
      "text/html": [
       "<div>\n",
       "<style scoped>\n",
       "    .dataframe tbody tr th:only-of-type {\n",
       "        vertical-align: middle;\n",
       "    }\n",
       "\n",
       "    .dataframe tbody tr th {\n",
       "        vertical-align: top;\n",
       "    }\n",
       "\n",
       "    .dataframe thead th {\n",
       "        text-align: right;\n",
       "    }\n",
       "</style>\n",
       "<table border=\"1\" class=\"dataframe\">\n",
       "  <thead>\n",
       "    <tr style=\"text-align: right;\">\n",
       "      <th></th>\n",
       "      <th>name</th>\n",
       "      <th>sequence</th>\n",
       "      <th>location</th>\n",
       "      <th>label</th>\n",
       "    </tr>\n",
       "  </thead>\n",
       "  <tbody>\n",
       "    <tr>\n",
       "      <th>0</th>\n",
       "      <td>sp|Q9GZC8|SID1_CAEEL</td>\n",
       "      <td>MIRVYLIILMHLVIGLTQNNSTTPSPIITSSNSSVLVFEISSKMKM...</td>\n",
       "      <td>9</td>\n",
       "      <td>plasma_membrane</td>\n",
       "    </tr>\n",
       "    <tr>\n",
       "      <th>1</th>\n",
       "      <td>sp|Q8KA41|FLIJ_BUCAP</td>\n",
       "      <td>MKYKKKIFSILENLEKKNIEKDIINIKNLYLQKEKYVTQLSLLKDY...</td>\n",
       "      <td>9</td>\n",
       "      <td>plasma_membrane</td>\n",
       "    </tr>\n",
       "    <tr>\n",
       "      <th>2</th>\n",
       "      <td>sp|Q5XI60|REEP6_RAT</td>\n",
       "      <td>MDGLRQRFERFLEQKNVATDALGALEARTGVEKRYLAAGALTLLGL...</td>\n",
       "      <td>9</td>\n",
       "      <td>plasma_membrane</td>\n",
       "    </tr>\n",
       "    <tr>\n",
       "      <th>3</th>\n",
       "      <td>sp|Q2FW71|SFAA_STAA8</td>\n",
       "      <td>MTKYFFSSSFLLFLGNWIGQIGLNWFVLTTYHNAVYLGIVNFCRLV...</td>\n",
       "      <td>9</td>\n",
       "      <td>plasma_membrane</td>\n",
       "    </tr>\n",
       "    <tr>\n",
       "      <th>4</th>\n",
       "      <td>sp|Q98D15|NORM_RHILO</td>\n",
       "      <td>MSAIDAGARAPENLWRQEIRATLALAWPMVLTNLGQTAMTATDVMM...</td>\n",
       "      <td>9</td>\n",
       "      <td>plasma_membrane</td>\n",
       "    </tr>\n",
       "  </tbody>\n",
       "</table>\n",
       "</div>"
      ],
      "text/plain": [
       "                   name                                           sequence  \\\n",
       "0  sp|Q9GZC8|SID1_CAEEL  MIRVYLIILMHLVIGLTQNNSTTPSPIITSSNSSVLVFEISSKMKM...   \n",
       "1  sp|Q8KA41|FLIJ_BUCAP  MKYKKKIFSILENLEKKNIEKDIINIKNLYLQKEKYVTQLSLLKDY...   \n",
       "2   sp|Q5XI60|REEP6_RAT  MDGLRQRFERFLEQKNVATDALGALEARTGVEKRYLAAGALTLLGL...   \n",
       "3  sp|Q2FW71|SFAA_STAA8  MTKYFFSSSFLLFLGNWIGQIGLNWFVLTTYHNAVYLGIVNFCRLV...   \n",
       "4  sp|Q98D15|NORM_RHILO  MSAIDAGARAPENLWRQEIRATLALAWPMVLTNLGQTAMTATDVMM...   \n",
       "\n",
       "   location            label  \n",
       "0         9  plasma_membrane  \n",
       "1         9  plasma_membrane  \n",
       "2         9  plasma_membrane  \n",
       "3         9  plasma_membrane  \n",
       "4         9  plasma_membrane  "
      ]
     },
     "execution_count": 5,
     "metadata": {},
     "output_type": "execute_result"
    }
   ],
   "source": [
    "#df_pm = pd.read_csv('uniprot-human-plasma-membrane.csv')\n",
    "df_pm = pd.read_csv('uniprot-pm-reviewed.csv')\n",
    "df_pm.head()"
   ]
  },
  {
   "cell_type": "code",
   "execution_count": 6,
   "metadata": {},
   "outputs": [
    {
     "data": {
      "text/plain": [
       "(23119, 4)"
      ]
     },
     "execution_count": 6,
     "metadata": {},
     "output_type": "execute_result"
    }
   ],
   "source": [
    "df_pm.shape"
   ]
  },
  {
   "cell_type": "code",
   "execution_count": 7,
   "metadata": {},
   "outputs": [
    {
     "data": {
      "text/html": [
       "<div>\n",
       "<style scoped>\n",
       "    .dataframe tbody tr th:only-of-type {\n",
       "        vertical-align: middle;\n",
       "    }\n",
       "\n",
       "    .dataframe tbody tr th {\n",
       "        vertical-align: top;\n",
       "    }\n",
       "\n",
       "    .dataframe thead th {\n",
       "        text-align: right;\n",
       "    }\n",
       "</style>\n",
       "<table border=\"1\" class=\"dataframe\">\n",
       "  <thead>\n",
       "    <tr style=\"text-align: right;\">\n",
       "      <th></th>\n",
       "      <th>name</th>\n",
       "      <th>sequence</th>\n",
       "      <th>location</th>\n",
       "      <th>label</th>\n",
       "    </tr>\n",
       "  </thead>\n",
       "  <tbody>\n",
       "    <tr>\n",
       "      <th>0</th>\n",
       "      <td>sp|Q9ZMG6|MIAB_HELPJ</td>\n",
       "      <td>MKVYIETMGCAMNSRDSEHLLSELSKLDYKETSDPKMADLILINTC...</td>\n",
       "      <td>3</td>\n",
       "      <td>cytoplasm</td>\n",
       "    </tr>\n",
       "    <tr>\n",
       "      <th>1</th>\n",
       "      <td>sp|O94201|PFKA1_CANAX</td>\n",
       "      <td>MPSSSDAINRISYISLVTSDNDKFNQTFQFYSQLGFRLTKSFSKVS...</td>\n",
       "      <td>3</td>\n",
       "      <td>cytoplasm</td>\n",
       "    </tr>\n",
       "    <tr>\n",
       "      <th>2</th>\n",
       "      <td>sp|B2G868|SYE_LACRJ</td>\n",
       "      <td>MDQKVRVRYAPSPTGFLHIGNAQSALFNYLFARHFDGTMVLRIEDT...</td>\n",
       "      <td>3</td>\n",
       "      <td>cytoplasm</td>\n",
       "    </tr>\n",
       "    <tr>\n",
       "      <th>3</th>\n",
       "      <td>sp|Q1LSV4|RRF_BAUCH</td>\n",
       "      <td>MINNIRQDAEVRMEKCLETFKNNISKLRTGRANPNLLDNIKVDYYG...</td>\n",
       "      <td>3</td>\n",
       "      <td>cytoplasm</td>\n",
       "    </tr>\n",
       "    <tr>\n",
       "      <th>4</th>\n",
       "      <td>sp|Q5I0E6|RPAP2_RAT</td>\n",
       "      <td>MADSAVPYSLGPSARASSTHRVATGTKQTSALKRRDASKRQAELEA...</td>\n",
       "      <td>3</td>\n",
       "      <td>cytoplasm</td>\n",
       "    </tr>\n",
       "  </tbody>\n",
       "</table>\n",
       "</div>"
      ],
      "text/plain": [
       "                    name                                           sequence  \\\n",
       "0   sp|Q9ZMG6|MIAB_HELPJ  MKVYIETMGCAMNSRDSEHLLSELSKLDYKETSDPKMADLILINTC...   \n",
       "1  sp|O94201|PFKA1_CANAX  MPSSSDAINRISYISLVTSDNDKFNQTFQFYSQLGFRLTKSFSKVS...   \n",
       "2    sp|B2G868|SYE_LACRJ  MDQKVRVRYAPSPTGFLHIGNAQSALFNYLFARHFDGTMVLRIEDT...   \n",
       "3    sp|Q1LSV4|RRF_BAUCH  MINNIRQDAEVRMEKCLETFKNNISKLRTGRANPNLLDNIKVDYYG...   \n",
       "4    sp|Q5I0E6|RPAP2_RAT  MADSAVPYSLGPSARASSTHRVATGTKQTSALKRRDASKRQAELEA...   \n",
       "\n",
       "   location      label  \n",
       "0         3  cytoplasm  \n",
       "1         3  cytoplasm  \n",
       "2         3  cytoplasm  \n",
       "3         3  cytoplasm  \n",
       "4         3  cytoplasm  "
      ]
     },
     "execution_count": 7,
     "metadata": {},
     "output_type": "execute_result"
    }
   ],
   "source": [
    "#df_cyto = pd.read_csv('uniprot-human-cytoplasm.csv')\n",
    "df_cyto = pd.read_csv('uniprot-cytoplasm-20K.csv')\n",
    "df_cyto.head()"
   ]
  },
  {
   "cell_type": "code",
   "execution_count": 8,
   "metadata": {},
   "outputs": [
    {
     "data": {
      "text/plain": [
       "(20502, 4)"
      ]
     },
     "execution_count": 8,
     "metadata": {},
     "output_type": "execute_result"
    }
   ],
   "source": [
    "df_cyto.shape"
   ]
  },
  {
   "cell_type": "code",
   "execution_count": 9,
   "metadata": {},
   "outputs": [
    {
     "data": {
      "text/html": [
       "<div>\n",
       "<style scoped>\n",
       "    .dataframe tbody tr th:only-of-type {\n",
       "        vertical-align: middle;\n",
       "    }\n",
       "\n",
       "    .dataframe tbody tr th {\n",
       "        vertical-align: top;\n",
       "    }\n",
       "\n",
       "    .dataframe thead th {\n",
       "        text-align: right;\n",
       "    }\n",
       "</style>\n",
       "<table border=\"1\" class=\"dataframe\">\n",
       "  <thead>\n",
       "    <tr style=\"text-align: right;\">\n",
       "      <th></th>\n",
       "      <th>name</th>\n",
       "      <th>sequence</th>\n",
       "      <th>location</th>\n",
       "      <th>label</th>\n",
       "    </tr>\n",
       "  </thead>\n",
       "  <tbody>\n",
       "    <tr>\n",
       "      <th>0</th>\n",
       "      <td>tr|J5RKF4|J5RKF4_SACK1</td>\n",
       "      <td>MDLTVEPNLHSLINSTTHKWIFVGGKGGVGKTTSSCSIAIQMALSQ...</td>\n",
       "      <td>1</td>\n",
       "      <td>Golgi</td>\n",
       "    </tr>\n",
       "    <tr>\n",
       "      <th>1</th>\n",
       "      <td>tr|A0A0L8RL88|A0A0L8RL88_SACEU</td>\n",
       "      <td>MDLTVEPNLHSLINSTTHKWIFVGGKGGVGKTTSSCSIAIQMALSQ...</td>\n",
       "      <td>1</td>\n",
       "      <td>Golgi</td>\n",
       "    </tr>\n",
       "    <tr>\n",
       "      <th>2</th>\n",
       "      <td>tr|J8LQG5|J8LQG5_SACAR</td>\n",
       "      <td>MDLTVEPNLHSLINSTTHKWIFVGGKGGVGKTTSSCSIAIQMALSQ...</td>\n",
       "      <td>1</td>\n",
       "      <td>Golgi</td>\n",
       "    </tr>\n",
       "    <tr>\n",
       "      <th>3</th>\n",
       "      <td>tr|A0A0L8VT44|A0A0L8VT44_9SACH</td>\n",
       "      <td>MDLTVEPNLHSLITSTTHKWIFVGGKGGVGKTTSSCSIAIQMALSQ...</td>\n",
       "      <td>1</td>\n",
       "      <td>Golgi</td>\n",
       "    </tr>\n",
       "    <tr>\n",
       "      <th>4</th>\n",
       "      <td>tr|G2WC64|G2WC64_YEASK</td>\n",
       "      <td>MDLTVEPNLHSLITSTTHKWIFVGGKGGVGKTTSSCSIAIQMALSQ...</td>\n",
       "      <td>1</td>\n",
       "      <td>Golgi</td>\n",
       "    </tr>\n",
       "  </tbody>\n",
       "</table>\n",
       "</div>"
      ],
      "text/plain": [
       "                             name  \\\n",
       "0          tr|J5RKF4|J5RKF4_SACK1   \n",
       "1  tr|A0A0L8RL88|A0A0L8RL88_SACEU   \n",
       "2          tr|J8LQG5|J8LQG5_SACAR   \n",
       "3  tr|A0A0L8VT44|A0A0L8VT44_9SACH   \n",
       "4          tr|G2WC64|G2WC64_YEASK   \n",
       "\n",
       "                                            sequence  location  label  \n",
       "0  MDLTVEPNLHSLINSTTHKWIFVGGKGGVGKTTSSCSIAIQMALSQ...         1  Golgi  \n",
       "1  MDLTVEPNLHSLINSTTHKWIFVGGKGGVGKTTSSCSIAIQMALSQ...         1  Golgi  \n",
       "2  MDLTVEPNLHSLINSTTHKWIFVGGKGGVGKTTSSCSIAIQMALSQ...         1  Golgi  \n",
       "3  MDLTVEPNLHSLITSTTHKWIFVGGKGGVGKTTSSCSIAIQMALSQ...         1  Golgi  \n",
       "4  MDLTVEPNLHSLITSTTHKWIFVGGKGGVGKTTSSCSIAIQMALSQ...         1  Golgi  "
      ]
     },
     "execution_count": 9,
     "metadata": {},
     "output_type": "execute_result"
    }
   ],
   "source": [
    "df_gol = pd.read_csv('uniprot-golgi-unreviewed.csv')\n",
    "\n",
    "df_gol.head()"
   ]
  },
  {
   "cell_type": "code",
   "execution_count": 10,
   "metadata": {},
   "outputs": [
    {
     "data": {
      "text/plain": [
       "(78833, 4)"
      ]
     },
     "execution_count": 10,
     "metadata": {},
     "output_type": "execute_result"
    }
   ],
   "source": [
    "df_gol.shape"
   ]
  },
  {
   "cell_type": "code",
   "execution_count": 11,
   "metadata": {
    "collapsed": true
   },
   "outputs": [],
   "source": [
    "df_gol2 = df_gol.sample(frac=0.33)"
   ]
  },
  {
   "cell_type": "code",
   "execution_count": 12,
   "metadata": {},
   "outputs": [
    {
     "data": {
      "text/plain": [
       "(26015, 4)"
      ]
     },
     "execution_count": 12,
     "metadata": {},
     "output_type": "execute_result"
    }
   ],
   "source": [
    "df_gol2.shape"
   ]
  },
  {
   "cell_type": "code",
   "execution_count": 13,
   "metadata": {},
   "outputs": [
    {
     "data": {
      "text/html": [
       "<div>\n",
       "<style scoped>\n",
       "    .dataframe tbody tr th:only-of-type {\n",
       "        vertical-align: middle;\n",
       "    }\n",
       "\n",
       "    .dataframe tbody tr th {\n",
       "        vertical-align: top;\n",
       "    }\n",
       "\n",
       "    .dataframe thead th {\n",
       "        text-align: right;\n",
       "    }\n",
       "</style>\n",
       "<table border=\"1\" class=\"dataframe\">\n",
       "  <thead>\n",
       "    <tr style=\"text-align: right;\">\n",
       "      <th></th>\n",
       "      <th>name</th>\n",
       "      <th>sequence</th>\n",
       "      <th>location</th>\n",
       "      <th>label</th>\n",
       "    </tr>\n",
       "  </thead>\n",
       "  <tbody>\n",
       "    <tr>\n",
       "      <th>0</th>\n",
       "      <td>sp|P30040|ERP29_HUMAN</td>\n",
       "      <td>MAAAVPRAAFLSPLLPLLLGFLLLSAPHGGSGLHTKGALPLDTVTF...</td>\n",
       "      <td>0</td>\n",
       "      <td>ER</td>\n",
       "    </tr>\n",
       "    <tr>\n",
       "      <th>1</th>\n",
       "      <td>sp|P16615|AT2A2_HUMAN</td>\n",
       "      <td>MENAHTKTVEEVLGHFGVNESTGLSLEQVKKLKERWGSNELPAEEG...</td>\n",
       "      <td>0</td>\n",
       "      <td>ER</td>\n",
       "    </tr>\n",
       "    <tr>\n",
       "      <th>2</th>\n",
       "      <td>sp|Q64578|AT2A1_RAT</td>\n",
       "      <td>MEAAHSKSTEECLSYFGVSETTGLTPDQVKRHLEKYGPNELPAEEG...</td>\n",
       "      <td>0</td>\n",
       "      <td>ER</td>\n",
       "    </tr>\n",
       "    <tr>\n",
       "      <th>3</th>\n",
       "      <td>sp|Q8R429|AT2A1_MOUSE</td>\n",
       "      <td>MEAAHSKSTEECLSYFGVSETTGLTPDQVKRHLEKYGPNELPAEEG...</td>\n",
       "      <td>0</td>\n",
       "      <td>ER</td>\n",
       "    </tr>\n",
       "    <tr>\n",
       "      <th>4</th>\n",
       "      <td>sp|O55143|AT2A2_MOUSE</td>\n",
       "      <td>MENAHTKTVEEVLGHFGVNESTGLSLEQVKKLKERWGSNELPAEEG...</td>\n",
       "      <td>0</td>\n",
       "      <td>ER</td>\n",
       "    </tr>\n",
       "  </tbody>\n",
       "</table>\n",
       "</div>"
      ],
      "text/plain": [
       "                    name                                           sequence  \\\n",
       "0  sp|P30040|ERP29_HUMAN  MAAAVPRAAFLSPLLPLLLGFLLLSAPHGGSGLHTKGALPLDTVTF...   \n",
       "1  sp|P16615|AT2A2_HUMAN  MENAHTKTVEEVLGHFGVNESTGLSLEQVKKLKERWGSNELPAEEG...   \n",
       "2    sp|Q64578|AT2A1_RAT  MEAAHSKSTEECLSYFGVSETTGLTPDQVKRHLEKYGPNELPAEEG...   \n",
       "3  sp|Q8R429|AT2A1_MOUSE  MEAAHSKSTEECLSYFGVSETTGLTPDQVKRHLEKYGPNELPAEEG...   \n",
       "4  sp|O55143|AT2A2_MOUSE  MENAHTKTVEEVLGHFGVNESTGLSLEQVKKLKERWGSNELPAEEG...   \n",
       "\n",
       "   location label  \n",
       "0         0    ER  \n",
       "1         0    ER  \n",
       "2         0    ER  \n",
       "3         0    ER  \n",
       "4         0    ER  "
      ]
     },
     "execution_count": 13,
     "metadata": {},
     "output_type": "execute_result"
    }
   ],
   "source": [
    "df_ER = pd.read_csv('uniprot-ER-136K.csv')\n",
    "\n",
    "df_ER.head()"
   ]
  },
  {
   "cell_type": "code",
   "execution_count": 14,
   "metadata": {},
   "outputs": [
    {
     "data": {
      "text/plain": [
       "(124421, 4)"
      ]
     },
     "execution_count": 14,
     "metadata": {},
     "output_type": "execute_result"
    }
   ],
   "source": [
    "df_ER.shape"
   ]
  },
  {
   "cell_type": "code",
   "execution_count": 15,
   "metadata": {
    "collapsed": true
   },
   "outputs": [],
   "source": [
    "df_ER2 = df_ER.sample(frac=0.27)"
   ]
  },
  {
   "cell_type": "code",
   "execution_count": 16,
   "metadata": {},
   "outputs": [
    {
     "data": {
      "text/plain": [
       "(33594, 4)"
      ]
     },
     "execution_count": 16,
     "metadata": {},
     "output_type": "execute_result"
    }
   ],
   "source": [
    "df_ER2.shape"
   ]
  },
  {
   "cell_type": "code",
   "execution_count": 17,
   "metadata": {},
   "outputs": [
    {
     "data": {
      "text/html": [
       "<div>\n",
       "<style scoped>\n",
       "    .dataframe tbody tr th:only-of-type {\n",
       "        vertical-align: middle;\n",
       "    }\n",
       "\n",
       "    .dataframe tbody tr th {\n",
       "        vertical-align: top;\n",
       "    }\n",
       "\n",
       "    .dataframe thead th {\n",
       "        text-align: right;\n",
       "    }\n",
       "</style>\n",
       "<table border=\"1\" class=\"dataframe\">\n",
       "  <thead>\n",
       "    <tr style=\"text-align: right;\">\n",
       "      <th></th>\n",
       "      <th>name</th>\n",
       "      <th>sequence</th>\n",
       "      <th>location</th>\n",
       "      <th>label</th>\n",
       "    </tr>\n",
       "  </thead>\n",
       "  <tbody>\n",
       "    <tr>\n",
       "      <th>0</th>\n",
       "      <td>sp|Q6ZWQ0|SYNE2_MOUSE</td>\n",
       "      <td>MAASPVLPTEDGEGFLGIDDLHFSLQAEQEDTQKKTFTCWINSQLA...</td>\n",
       "      <td>7</td>\n",
       "      <td>nucleus</td>\n",
       "    </tr>\n",
       "    <tr>\n",
       "      <th>1</th>\n",
       "      <td>sp|Q8WXH0|SYNE2_HUMAN</td>\n",
       "      <td>MASSPELPTEDEQGSWGIDDLHISLQAEQEDTQKKAFTCWINSQLA...</td>\n",
       "      <td>7</td>\n",
       "      <td>nucleus</td>\n",
       "    </tr>\n",
       "    <tr>\n",
       "      <th>2</th>\n",
       "      <td>sp|Q96RE7|NACC1_HUMAN</td>\n",
       "      <td>MAQTLQMEIPNFGNSILECLNEQRLQGLYCDVSVVVKGHAFKAHRA...</td>\n",
       "      <td>7</td>\n",
       "      <td>nucleus</td>\n",
       "    </tr>\n",
       "    <tr>\n",
       "      <th>3</th>\n",
       "      <td>sp|Q80TL0|PPM1E_MOUSE</td>\n",
       "      <td>MAGCIPEEKTYRRFLELFLGEFRGPCGGGEPEPEPESEPEPEPEAE...</td>\n",
       "      <td>7</td>\n",
       "      <td>nucleus</td>\n",
       "    </tr>\n",
       "    <tr>\n",
       "      <th>4</th>\n",
       "      <td>sp|Q80Z30|PPM1E_RAT</td>\n",
       "      <td>MAGCIPEEKTYRRFLELFLGEFRGPCGGGEPEPEPESEPEPEPEAE...</td>\n",
       "      <td>7</td>\n",
       "      <td>nucleus</td>\n",
       "    </tr>\n",
       "  </tbody>\n",
       "</table>\n",
       "</div>"
      ],
      "text/plain": [
       "                    name                                           sequence  \\\n",
       "0  sp|Q6ZWQ0|SYNE2_MOUSE  MAASPVLPTEDGEGFLGIDDLHFSLQAEQEDTQKKTFTCWINSQLA...   \n",
       "1  sp|Q8WXH0|SYNE2_HUMAN  MASSPELPTEDEQGSWGIDDLHISLQAEQEDTQKKAFTCWINSQLA...   \n",
       "2  sp|Q96RE7|NACC1_HUMAN  MAQTLQMEIPNFGNSILECLNEQRLQGLYCDVSVVVKGHAFKAHRA...   \n",
       "3  sp|Q80TL0|PPM1E_MOUSE  MAGCIPEEKTYRRFLELFLGEFRGPCGGGEPEPEPESEPEPEPEAE...   \n",
       "4    sp|Q80Z30|PPM1E_RAT  MAGCIPEEKTYRRFLELFLGEFRGPCGGGEPEPEPESEPEPEPEAE...   \n",
       "\n",
       "   location    label  \n",
       "0         7  nucleus  \n",
       "1         7  nucleus  \n",
       "2         7  nucleus  \n",
       "3         7  nucleus  \n",
       "4         7  nucleus  "
      ]
     },
     "execution_count": 17,
     "metadata": {},
     "output_type": "execute_result"
    }
   ],
   "source": [
    "df_nuc = pd.read_csv('uniprot-nucleus-reviewed.csv')\n",
    "\n",
    "df_nuc.head()"
   ]
  },
  {
   "cell_type": "code",
   "execution_count": 18,
   "metadata": {},
   "outputs": [
    {
     "data": {
      "text/plain": [
       "(52394, 4)"
      ]
     },
     "execution_count": 18,
     "metadata": {},
     "output_type": "execute_result"
    }
   ],
   "source": [
    "df_nuc.shape"
   ]
  },
  {
   "cell_type": "code",
   "execution_count": 19,
   "metadata": {},
   "outputs": [
    {
     "data": {
      "text/plain": [
       "(26197, 4)"
      ]
     },
     "execution_count": 19,
     "metadata": {},
     "output_type": "execute_result"
    }
   ],
   "source": [
    "df_nuc2 = df_nuc.sample(frac=0.5)\n",
    "df_nuc2.shape"
   ]
  },
  {
   "cell_type": "code",
   "execution_count": 20,
   "metadata": {},
   "outputs": [
    {
     "data": {
      "text/html": [
       "<div>\n",
       "<style scoped>\n",
       "    .dataframe tbody tr th:only-of-type {\n",
       "        vertical-align: middle;\n",
       "    }\n",
       "\n",
       "    .dataframe tbody tr th {\n",
       "        vertical-align: top;\n",
       "    }\n",
       "\n",
       "    .dataframe thead th {\n",
       "        text-align: right;\n",
       "    }\n",
       "</style>\n",
       "<table border=\"1\" class=\"dataframe\">\n",
       "  <thead>\n",
       "    <tr style=\"text-align: right;\">\n",
       "      <th></th>\n",
       "      <th>name</th>\n",
       "      <th>sequence</th>\n",
       "      <th>location</th>\n",
       "      <th>label</th>\n",
       "    </tr>\n",
       "  </thead>\n",
       "  <tbody>\n",
       "    <tr>\n",
       "      <th>0</th>\n",
       "      <td>tr|A0A286ZUD5|A0A286ZUD5_PIG</td>\n",
       "      <td>MAGAGSAAVSGAGTPVAGPAGRDLFAEGLLEFLRPAVQQLDSHVHA...</td>\n",
       "      <td>8</td>\n",
       "      <td>lysosome</td>\n",
       "    </tr>\n",
       "    <tr>\n",
       "      <th>1</th>\n",
       "      <td>tr|A4FUG0|A4FUG0_BOVIN</td>\n",
       "      <td>MAGAGSAAVSGAGTPVAGPAGRDLFAEGLLEFLRPAVQQLDSHVHA...</td>\n",
       "      <td>8</td>\n",
       "      <td>lysosome</td>\n",
       "    </tr>\n",
       "    <tr>\n",
       "      <th>2</th>\n",
       "      <td>tr|F7HGD6|F7HGD6_MACMU</td>\n",
       "      <td>MAGPGSAAVSGAGTPVAGPTGRDLFAEGLLEFLRPAVQQLDSHVHA...</td>\n",
       "      <td>8</td>\n",
       "      <td>lysosome</td>\n",
       "    </tr>\n",
       "    <tr>\n",
       "      <th>3</th>\n",
       "      <td>tr|F7C8M3|F7C8M3_HORSE</td>\n",
       "      <td>MAGAGSAAVSGAGTPVAGPAGRDLFAEGLLEFLRPAVQQLDSHVHA...</td>\n",
       "      <td>8</td>\n",
       "      <td>lysosome</td>\n",
       "    </tr>\n",
       "    <tr>\n",
       "      <th>4</th>\n",
       "      <td>tr|G3QHF8|G3QHF8_GORGO</td>\n",
       "      <td>MAGAGSAAVSGAGTPVAGPTGRDLFAEGLLEFLRPAVQQLDSHVHA...</td>\n",
       "      <td>8</td>\n",
       "      <td>lysosome</td>\n",
       "    </tr>\n",
       "  </tbody>\n",
       "</table>\n",
       "</div>"
      ],
      "text/plain": [
       "                           name  \\\n",
       "0  tr|A0A286ZUD5|A0A286ZUD5_PIG   \n",
       "1        tr|A4FUG0|A4FUG0_BOVIN   \n",
       "2        tr|F7HGD6|F7HGD6_MACMU   \n",
       "3        tr|F7C8M3|F7C8M3_HORSE   \n",
       "4        tr|G3QHF8|G3QHF8_GORGO   \n",
       "\n",
       "                                            sequence  location     label  \n",
       "0  MAGAGSAAVSGAGTPVAGPAGRDLFAEGLLEFLRPAVQQLDSHVHA...         8  lysosome  \n",
       "1  MAGAGSAAVSGAGTPVAGPAGRDLFAEGLLEFLRPAVQQLDSHVHA...         8  lysosome  \n",
       "2  MAGPGSAAVSGAGTPVAGPTGRDLFAEGLLEFLRPAVQQLDSHVHA...         8  lysosome  \n",
       "3  MAGAGSAAVSGAGTPVAGPAGRDLFAEGLLEFLRPAVQQLDSHVHA...         8  lysosome  \n",
       "4  MAGAGSAAVSGAGTPVAGPTGRDLFAEGLLEFLRPAVQQLDSHVHA...         8  lysosome  "
      ]
     },
     "execution_count": 20,
     "metadata": {},
     "output_type": "execute_result"
    }
   ],
   "source": [
    "df_lyso = pd.read_csv('uniprot-lysosome-unreviewed.csv')\n",
    "\n",
    "df_lyso.head()"
   ]
  },
  {
   "cell_type": "code",
   "execution_count": 21,
   "metadata": {},
   "outputs": [
    {
     "data": {
      "text/plain": [
       "(61469, 4)"
      ]
     },
     "execution_count": 21,
     "metadata": {},
     "output_type": "execute_result"
    }
   ],
   "source": [
    "df_lyso.shape"
   ]
  },
  {
   "cell_type": "code",
   "execution_count": 22,
   "metadata": {},
   "outputs": [
    {
     "data": {
      "text/plain": [
       "(30734, 4)"
      ]
     },
     "execution_count": 22,
     "metadata": {},
     "output_type": "execute_result"
    }
   ],
   "source": [
    "df_lyso2 = df_lyso.sample(frac=0.5)\n",
    "df_lyso2.shape"
   ]
  },
  {
   "cell_type": "code",
   "execution_count": null,
   "metadata": {
    "collapsed": true
   },
   "outputs": [],
   "source": []
  },
  {
   "cell_type": "code",
   "execution_count": 23,
   "metadata": {},
   "outputs": [
    {
     "data": {
      "text/html": [
       "<div>\n",
       "<style scoped>\n",
       "    .dataframe tbody tr th:only-of-type {\n",
       "        vertical-align: middle;\n",
       "    }\n",
       "\n",
       "    .dataframe tbody tr th {\n",
       "        vertical-align: top;\n",
       "    }\n",
       "\n",
       "    .dataframe thead th {\n",
       "        text-align: right;\n",
       "    }\n",
       "</style>\n",
       "<table border=\"1\" class=\"dataframe\">\n",
       "  <thead>\n",
       "    <tr style=\"text-align: right;\">\n",
       "      <th></th>\n",
       "      <th>name</th>\n",
       "      <th>sequence</th>\n",
       "      <th>location</th>\n",
       "      <th>label</th>\n",
       "    </tr>\n",
       "  </thead>\n",
       "  <tbody>\n",
       "    <tr>\n",
       "      <th>0</th>\n",
       "      <td>sp|Q9BV35|SCMC3_HUMAN</td>\n",
       "      <td>MRGSPGDAERRQRWGRLFEELDSNKDGRVDVHELRQGLARLGGGNP...</td>\n",
       "      <td>6</td>\n",
       "      <td>mitochondria</td>\n",
       "    </tr>\n",
       "    <tr>\n",
       "      <th>1</th>\n",
       "      <td>sp|Q6NUK1|SCMC1_HUMAN</td>\n",
       "      <td>MLRWLRDFVLPTAACQDAEQPTRYETLFQALDRNGDGVVDIGELQE...</td>\n",
       "      <td>6</td>\n",
       "      <td>mitochondria</td>\n",
       "    </tr>\n",
       "    <tr>\n",
       "      <th>2</th>\n",
       "      <td>sp|Q9NUT2|MITOS_HUMAN</td>\n",
       "      <td>MLVHLFRVGIRGGPFPGRLLPPLRFQTFSAVRNTWRNGKTGQLHKA...</td>\n",
       "      <td>6</td>\n",
       "      <td>mitochondria</td>\n",
       "    </tr>\n",
       "    <tr>\n",
       "      <th>3</th>\n",
       "      <td>sp|Q6KCM7|SCMC2_HUMAN</td>\n",
       "      <td>MLCLCLYVPVIGEAQTEFQYFESKGLPAELKSIFKLSVFIPSQEFS...</td>\n",
       "      <td>6</td>\n",
       "      <td>mitochondria</td>\n",
       "    </tr>\n",
       "    <tr>\n",
       "      <th>4</th>\n",
       "      <td>sp|P53230|TAM41_YEAST</td>\n",
       "      <td>MLRVSENGLRFLLKCHSTNVSMFNRLLSTQIKEGRSSIDDAGIIPD...</td>\n",
       "      <td>6</td>\n",
       "      <td>mitochondria</td>\n",
       "    </tr>\n",
       "  </tbody>\n",
       "</table>\n",
       "</div>"
      ],
      "text/plain": [
       "                    name                                           sequence  \\\n",
       "0  sp|Q9BV35|SCMC3_HUMAN  MRGSPGDAERRQRWGRLFEELDSNKDGRVDVHELRQGLARLGGGNP...   \n",
       "1  sp|Q6NUK1|SCMC1_HUMAN  MLRWLRDFVLPTAACQDAEQPTRYETLFQALDRNGDGVVDIGELQE...   \n",
       "2  sp|Q9NUT2|MITOS_HUMAN  MLVHLFRVGIRGGPFPGRLLPPLRFQTFSAVRNTWRNGKTGQLHKA...   \n",
       "3  sp|Q6KCM7|SCMC2_HUMAN  MLCLCLYVPVIGEAQTEFQYFESKGLPAELKSIFKLSVFIPSQEFS...   \n",
       "4  sp|P53230|TAM41_YEAST  MLRVSENGLRFLLKCHSTNVSMFNRLLSTQIKEGRSSIDDAGIIPD...   \n",
       "\n",
       "   location         label  \n",
       "0         6  mitochondria  \n",
       "1         6  mitochondria  \n",
       "2         6  mitochondria  \n",
       "3         6  mitochondria  \n",
       "4         6  mitochondria  "
      ]
     },
     "execution_count": 23,
     "metadata": {},
     "output_type": "execute_result"
    }
   ],
   "source": [
    "proteins = pd.concat([df_mito,df_pm,df_cyto,df_gol2,df_ER2,df_nuc2,df_lyso2])\n",
    "proteins.head()"
   ]
  },
  {
   "cell_type": "code",
   "execution_count": 24,
   "metadata": {},
   "outputs": [
    {
     "data": {
      "text/plain": [
       "(184289, 4)"
      ]
     },
     "execution_count": 24,
     "metadata": {},
     "output_type": "execute_result"
    }
   ],
   "source": [
    "proteins.shape"
   ]
  },
  {
   "cell_type": "code",
   "execution_count": 25,
   "metadata": {},
   "outputs": [
    {
     "data": {
      "text/plain": [
       "0    33594\n",
       "8    30734\n",
       "7    26197\n",
       "1    26015\n",
       "6    24128\n",
       "9    23119\n",
       "3    20502\n",
       "Name: location, dtype: int64"
      ]
     },
     "execution_count": 25,
     "metadata": {},
     "output_type": "execute_result"
    }
   ],
   "source": [
    "proteins.location.value_counts()"
   ]
  },
  {
   "cell_type": "code",
   "execution_count": 26,
   "metadata": {},
   "outputs": [
    {
     "data": {
      "text/plain": [
       "ER                 33594\n",
       "lysosome           30734\n",
       "nucleus            26197\n",
       "Golgi              26015\n",
       "mitochondria       24128\n",
       "plasma_membrane    23119\n",
       "cytoplasm          20502\n",
       "Name: label, dtype: int64"
      ]
     },
     "execution_count": 26,
     "metadata": {},
     "output_type": "execute_result"
    }
   ],
   "source": [
    "proteins.label.value_counts()"
   ]
  },
  {
   "cell_type": "markdown",
   "metadata": {},
   "source": [
    "##   Classification "
   ]
  },
  {
   "cell_type": "code",
   "execution_count": 27,
   "metadata": {},
   "outputs": [
    {
     "data": {
      "text/plain": [
       "(184289, 4)"
      ]
     },
     "execution_count": 27,
     "metadata": {},
     "output_type": "execute_result"
    }
   ],
   "source": [
    "proteins.shape"
   ]
  },
  {
   "cell_type": "markdown",
   "metadata": {},
   "source": [
    "## Remove duplicate protein sequences from dataset"
   ]
  },
  {
   "cell_type": "code",
   "execution_count": 28,
   "metadata": {
    "collapsed": true
   },
   "outputs": [],
   "source": [
    "# remove the duplicate protein sequences\n",
    "proteins = proteins.drop_duplicates(subset='sequence', keep=\"first\")\n",
    "\n",
    "# remove nan from 'sequence' column\n",
    "proteins = proteins[proteins['sequence'].notnull()]"
   ]
  },
  {
   "cell_type": "code",
   "execution_count": 29,
   "metadata": {},
   "outputs": [
    {
     "data": {
      "text/plain": [
       "(176924, 4)"
      ]
     },
     "execution_count": 29,
     "metadata": {},
     "output_type": "execute_result"
    }
   ],
   "source": [
    "proteins.shape"
   ]
  },
  {
   "cell_type": "code",
   "execution_count": 30,
   "metadata": {
    "collapsed": true
   },
   "outputs": [],
   "source": [
    "# permute/scramble/shuffle rows of the dataframe\n",
    "proteins = proteins.sample(frac=1)"
   ]
  },
  {
   "cell_type": "code",
   "execution_count": 31,
   "metadata": {},
   "outputs": [
    {
     "data": {
      "text/plain": [
       "0    32539\n",
       "8    30575\n",
       "1    26005\n",
       "6    24128\n",
       "9    22257\n",
       "7    22022\n",
       "3    19398\n",
       "Name: location, dtype: int64"
      ]
     },
     "execution_count": 31,
     "metadata": {},
     "output_type": "execute_result"
    }
   ],
   "source": [
    "proteins.location.value_counts()"
   ]
  },
  {
   "cell_type": "code",
   "execution_count": 32,
   "metadata": {},
   "outputs": [
    {
     "data": {
      "text/plain": [
       "ER                 32539\n",
       "lysosome           30575\n",
       "Golgi              26005\n",
       "mitochondria       24128\n",
       "plasma_membrane    22257\n",
       "nucleus            22022\n",
       "cytoplasm          19398\n",
       "Name: label, dtype: int64"
      ]
     },
     "execution_count": 32,
     "metadata": {},
     "output_type": "execute_result"
    }
   ],
   "source": [
    "proteins.label.value_counts()"
   ]
  },
  {
   "cell_type": "markdown",
   "metadata": {},
   "source": [
    "## Transform the protein sequence data with CountVectorizer to get peptide frequency. Split the data into training & test sets."
   ]
  },
  {
   "cell_type": "code",
   "execution_count": 33,
   "metadata": {
    "collapsed": true
   },
   "outputs": [],
   "source": [
    "# In this case, tripeptide frequency is used for analysis\n",
    "vect = CountVectorizer(min_df=1,token_pattern=r'\\w{1}',ngram_range=(5,5))\n",
    "#vect = CountVectorizer(min_df=1,token_pattern=r'\\w{1}',ngram_range=(4,4))"
   ]
  },
  {
   "cell_type": "code",
   "execution_count": 34,
   "metadata": {
    "collapsed": true
   },
   "outputs": [],
   "source": [
    "X = vect.fit_transform(proteins.sequence)\n",
    "y = proteins.location"
   ]
  },
  {
   "cell_type": "code",
   "execution_count": 35,
   "metadata": {},
   "outputs": [
    {
     "name": "stdout",
     "output_type": "stream",
     "text": [
      "(141539, 2967209) (141539,)\n",
      "(35385, 2967209) (35385,)\n"
     ]
    }
   ],
   "source": [
    "# Split the data into training and test sets\n",
    "X_train, X_test, y_train, y_test = train_test_split(X,y, test_size=0.2,random_state =42)\n",
    "print(X_train.shape, y_train.shape)\n",
    "print(X_test.shape, y_test.shape)"
   ]
  },
  {
   "cell_type": "code",
   "execution_count": 36,
   "metadata": {},
   "outputs": [
    {
     "data": {
      "text/plain": [
       "0    6522\n",
       "8    6102\n",
       "1    5291\n",
       "6    4770\n",
       "9    4441\n",
       "7    4303\n",
       "3    3956\n",
       "Name: location, dtype: int64"
      ]
     },
     "execution_count": 36,
     "metadata": {},
     "output_type": "execute_result"
    }
   ],
   "source": [
    "y_test.value_counts()"
   ]
  },
  {
   "cell_type": "markdown",
   "metadata": {},
   "source": [
    "## Logistic Regression Model"
   ]
  },
  {
   "cell_type": "code",
   "execution_count": 37,
   "metadata": {},
   "outputs": [
    {
     "name": "stderr",
     "output_type": "stream",
     "text": [
      "/Users/scottlew/miniconda3/lib/python3.6/site-packages/sklearn/linear_model/logistic.py:432: FutureWarning: Default solver will be changed to 'lbfgs' in 0.22. Specify a solver to silence this warning.\n",
      "  FutureWarning)\n",
      "/Users/scottlew/miniconda3/lib/python3.6/site-packages/sklearn/linear_model/logistic.py:469: FutureWarning: Default multi_class will be changed to 'auto' in 0.22. Specify the multi_class option to silence this warning.\n",
      "  \"this warning.\", FutureWarning)\n",
      "/Users/scottlew/miniconda3/lib/python3.6/site-packages/sklearn/svm/base.py:929: ConvergenceWarning: Liblinear failed to converge, increase the number of iterations.\n",
      "  \"the number of iterations.\", ConvergenceWarning)\n"
     ]
    },
    {
     "name": "stdout",
     "output_type": "stream",
     "text": [
      "Logistic Regression Score: 0.87\n"
     ]
    }
   ],
   "source": [
    "# Logistic Regression \n",
    "lr = LogisticRegression()\n",
    "lr.fit(X_train, y_train)\n",
    "lr.predict(X_test)\n",
    "print(\"Logistic Regression Score: {:.2f}\".format(lr.score(X_test, y_test)))"
   ]
  },
  {
   "cell_type": "code",
   "execution_count": 38,
   "metadata": {},
   "outputs": [
    {
     "name": "stdout",
     "output_type": "stream",
     "text": [
      "Confusion Matrix for Logistic Regression Model\n",
      "\n",
      "[[5913  163   19  168  121   11  127]\n",
      " [ 142 4927   12   80   91   17   22]\n",
      " [   8    4 3076  217  527    7  117]\n",
      " [  59   15  162 3812  486   36  200]\n",
      " [  18    2  164  336 3578   10  195]\n",
      " [  16   18    8   85  114 5770   91]\n",
      " [  51    5  135  280  396   41 3533]]\n"
     ]
    }
   ],
   "source": [
    "# Generate Confusion Matrix for Logistic Regression\n",
    "actual = y_test\n",
    "predictions = lr.predict(X_test)\n",
    "print('Confusion Matrix for Logistic Regression Model')\n",
    "print()\n",
    "cm = confusion_matrix(actual,predictions)\n",
    "print(cm)"
   ]
  },
  {
   "cell_type": "code",
   "execution_count": 39,
   "metadata": {},
   "outputs": [
    {
     "data": {
      "image/png": "[encoded data removed]",
      "text/plain": [
       "<matplotlib.figure.Figure at 0x1a495a3588>"
      ]
     },
     "metadata": {},
     "output_type": "display_data"
    }
   ],
   "source": [
    "# Nice plot of confusion matrix\n",
    "# Adjust size of confusion matrix by following code taken from StackOverflow\n",
    "# https://stackoverflow.com/questions/43021762/matplotlib-how-to-change-figsize-for-matshow\n",
    "plt.figure(figsize=(10,5))\n",
    "plt.matshow(cm, fignum=1)\n",
    "\n",
    "plt.title('Confusion Matrix Plot for Logistic Regression Model')\n",
    "plt.colorbar()\n",
    "plt.xlabel('Predicted')\n",
    "plt.ylabel('Actual')\n",
    "\n",
    "plt.show()"
   ]
  },
  {
   "cell_type": "markdown",
   "metadata": {
    "collapsed": true
   },
   "source": [
    "## 61% accuracy with dipeptide count, 77% accuracy with tripeptide count, 85% accuracy with tetrapeptide count, 87% accuracy with pentapeptide count"
   ]
  },
  {
   "cell_type": "markdown",
   "metadata": {},
   "source": [
    "## Save the Logistic Regression Model with pickle"
   ]
  },
  {
   "cell_type": "code",
   "execution_count": 40,
   "metadata": {
    "collapsed": true
   },
   "outputs": [],
   "source": [
    "import pickle"
   ]
  },
  {
   "cell_type": "code",
   "execution_count": 42,
   "metadata": {},
   "outputs": [],
   "source": [
    "# Save the Modle to file in the current working directory\n",
    "\n",
    "Pkl_Filename = \"lr_location7_pentapeptide.pkl\"  \n",
    "\n",
    "with open(Pkl_Filename, 'wb') as file:  \n",
    "    pickle.dump(lr, file)"
   ]
  },
  {
   "cell_type": "code",
   "execution_count": 43,
   "metadata": {},
   "outputs": [
    {
     "data": {
      "text/plain": [
       "LogisticRegression(C=1.0, class_weight=None, dual=False, fit_intercept=True,\n",
       "                   intercept_scaling=1, l1_ratio=None, max_iter=100,\n",
       "                   multi_class='warn', n_jobs=None, penalty='l2',\n",
       "                   random_state=None, solver='warn', tol=0.0001, verbose=0,\n",
       "                   warm_start=False)"
      ]
     },
     "execution_count": 43,
     "metadata": {},
     "output_type": "execute_result"
    }
   ],
   "source": [
    "# Load the Model back from file\n",
    "with open(Pkl_Filename, 'rb') as file:  \n",
    "    Pickled_lr = pickle.load(file)\n",
    "\n",
    "Pickled_lr"
   ]
  },
  {
   "cell_type": "code",
   "execution_count": 44,
   "metadata": {},
   "outputs": [
    {
     "data": {
      "text/plain": [
       "0.86502755404832554"
      ]
     },
     "execution_count": 44,
     "metadata": {},
     "output_type": "execute_result"
    }
   ],
   "source": [
    "# Verify the logistic regression model still works using the original test data used above\n",
    "Pickled_lr.score(X_test, y_test)"
   ]
  },
  {
   "cell_type": "code",
   "execution_count": null,
   "metadata": {
    "collapsed": true
   },
   "outputs": [],
   "source": []
  },
  {
   "cell_type": "markdown",
   "metadata": {
    "collapsed": true
   },
   "source": [
    "## Random Forest"
   ]
  },
  {
   "cell_type": "code",
   "execution_count": null,
   "metadata": {
    "collapsed": true
   },
   "outputs": [],
   "source": [
    "#rf = RandomForestClassifier(n_estimators=100)\n",
    "# instantiate random forest classifier\n",
    "\n",
    "rf = RandomForestClassifier(random_state=3)\n",
    "\n",
    "# fitting the model\n",
    "rf.fit(X_train, y_train)\n",
    "\n",
    "# evaluate accuracy of our model on test data\n",
    "print(\"Random Forest classifier Score: {:.2f}\".format(rf.score(X_test, y_test)))"
   ]
  },
  {
   "cell_type": "code",
   "execution_count": null,
   "metadata": {
    "collapsed": true
   },
   "outputs": [],
   "source": [
    "# Generate Confusion Matrix for Random Forest\n",
    "actual = y_test\n",
    "predictions = rf.predict(X_test)\n",
    "print('Confusion Matrix for Random Forest Model')\n",
    "print()\n",
    "cm = confusion_matrix(actual,predictions)\n",
    "print(cm)"
   ]
  },
  {
   "cell_type": "code",
   "execution_count": null,
   "metadata": {
    "collapsed": true
   },
   "outputs": [],
   "source": [
    "# Nice plot of confusion matrix\n",
    "# Adjust size of confusion matrix by following code taken from StackOverflow\n",
    "# https://stackoverflow.com/questions/43021762/matplotlib-how-to-change-figsize-for-matshow\n",
    "plt.figure(figsize=(10,5))\n",
    "plt.matshow(cm, fignum=1)\n",
    "\n",
    "plt.title('Confusion Matrix Plot for Random Forest Model')\n",
    "plt.colorbar()\n",
    "plt.xlabel('Predicted')\n",
    "plt.ylabel('Actual')\n",
    "\n",
    "plt.show()"
   ]
  }
 ],
 "metadata": {
  "kernelspec": {
   "display_name": "Python [default]",
   "language": "python",
   "name": "python3"
  },
  "language_info": {
   "codemirror_mode": {
    "name": "ipython",
    "version": 3
   },
   "file_extension": ".py",
   "mimetype": "text/x-python",
   "name": "python",
   "nbconvert_exporter": "python",
   "pygments_lexer": "ipython3",
   "version": "3.6.9"
  }
 },
 "nbformat": 4,
 "nbformat_minor": 2
}
