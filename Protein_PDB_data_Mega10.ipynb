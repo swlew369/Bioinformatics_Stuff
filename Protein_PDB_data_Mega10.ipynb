{
 "cells": [
  {
   "cell_type": "code",
   "execution_count": 1,
   "metadata": {
    "collapsed": true
   },
   "outputs": [],
   "source": [
    "import pandas as pd\n",
    "import numpy as np\n",
    "import seaborn as sns\n",
    "import matplotlib.pyplot as plt\n",
    "import time\n",
    "import re\n",
    "import nltk\n",
    "import math\n",
    "from sklearn import svm\n",
    "from sklearn.preprocessing import StandardScaler\n",
    "from sklearn.model_selection import train_test_split, GridSearchCV\n",
    "from sklearn.linear_model import LogisticRegression\n",
    "from sklearn.neighbors import KNeighborsClassifier\n",
    "from sklearn.ensemble import RandomForestClassifier\n",
    "from nltk.corpus import stopwords\n",
    "from sklearn.feature_extraction.text import TfidfVectorizer\n",
    "from sklearn.feature_extraction.text import CountVectorizer\n",
    "import sklearn.metrics\n",
    "from sklearn.metrics import confusion_matrix\n",
    "from Bio.SeqUtils.ProtParam import ProteinAnalysis\n",
    "from imblearn.over_sampling import SMOTE\n",
    "\n",
    "%matplotlib inline"
   ]
  },
  {
   "cell_type": "code",
   "execution_count": 2,
   "metadata": {
    "collapsed": true
   },
   "outputs": [],
   "source": [
    "# Data taken from https://www.kaggle.com/shahir/protein-data-set\n",
    "# This is a protein data set retrieved from Research Collaboratory for Structural Bioinformatics (RCSB) Protein Data Bank (PDB)."
   ]
  },
  {
   "cell_type": "code",
   "execution_count": 3,
   "metadata": {},
   "outputs": [
    {
     "data": {
      "text/html": [
       "<div>\n",
       "<style scoped>\n",
       "    .dataframe tbody tr th:only-of-type {\n",
       "        vertical-align: middle;\n",
       "    }\n",
       "\n",
       "    .dataframe tbody tr th {\n",
       "        vertical-align: top;\n",
       "    }\n",
       "\n",
       "    .dataframe thead th {\n",
       "        text-align: right;\n",
       "    }\n",
       "</style>\n",
       "<table border=\"1\" class=\"dataframe\">\n",
       "  <thead>\n",
       "    <tr style=\"text-align: right;\">\n",
       "      <th></th>\n",
       "      <th>structureId</th>\n",
       "      <th>classification</th>\n",
       "      <th>experimentalTechnique</th>\n",
       "      <th>macromoleculeType</th>\n",
       "      <th>residueCount</th>\n",
       "      <th>resolution</th>\n",
       "      <th>structureMolecularWeight</th>\n",
       "      <th>crystallizationMethod</th>\n",
       "      <th>crystallizationTempK</th>\n",
       "      <th>densityMatthews</th>\n",
       "      <th>densityPercentSol</th>\n",
       "      <th>pdbxDetails</th>\n",
       "      <th>phValue</th>\n",
       "      <th>publicationYear</th>\n",
       "    </tr>\n",
       "  </thead>\n",
       "  <tbody>\n",
       "    <tr>\n",
       "      <th>0</th>\n",
       "      <td>100D</td>\n",
       "      <td>DNA-RNA HYBRID</td>\n",
       "      <td>X-RAY DIFFRACTION</td>\n",
       "      <td>DNA/RNA Hybrid</td>\n",
       "      <td>20</td>\n",
       "      <td>1.90</td>\n",
       "      <td>6360.30</td>\n",
       "      <td>VAPOR DIFFUSION, HANGING DROP</td>\n",
       "      <td>NaN</td>\n",
       "      <td>1.78</td>\n",
       "      <td>30.89</td>\n",
       "      <td>pH 7.00, VAPOR DIFFUSION, HANGING DROP</td>\n",
       "      <td>7.0</td>\n",
       "      <td>1994.0</td>\n",
       "    </tr>\n",
       "    <tr>\n",
       "      <th>1</th>\n",
       "      <td>101D</td>\n",
       "      <td>DNA</td>\n",
       "      <td>X-RAY DIFFRACTION</td>\n",
       "      <td>DNA</td>\n",
       "      <td>24</td>\n",
       "      <td>2.25</td>\n",
       "      <td>7939.35</td>\n",
       "      <td>NaN</td>\n",
       "      <td>NaN</td>\n",
       "      <td>2.00</td>\n",
       "      <td>38.45</td>\n",
       "      <td>NaN</td>\n",
       "      <td>NaN</td>\n",
       "      <td>1995.0</td>\n",
       "    </tr>\n",
       "    <tr>\n",
       "      <th>2</th>\n",
       "      <td>101M</td>\n",
       "      <td>OXYGEN TRANSPORT</td>\n",
       "      <td>X-RAY DIFFRACTION</td>\n",
       "      <td>Protein</td>\n",
       "      <td>154</td>\n",
       "      <td>2.07</td>\n",
       "      <td>18112.80</td>\n",
       "      <td>NaN</td>\n",
       "      <td>NaN</td>\n",
       "      <td>3.09</td>\n",
       "      <td>60.20</td>\n",
       "      <td>3.0 M AMMONIUM SULFATE, 20 MM TRIS, 1MM EDTA, ...</td>\n",
       "      <td>9.0</td>\n",
       "      <td>1999.0</td>\n",
       "    </tr>\n",
       "  </tbody>\n",
       "</table>\n",
       "</div>"
      ],
      "text/plain": [
       "  structureId    classification experimentalTechnique macromoleculeType  \\\n",
       "0        100D    DNA-RNA HYBRID     X-RAY DIFFRACTION    DNA/RNA Hybrid   \n",
       "1        101D               DNA     X-RAY DIFFRACTION               DNA   \n",
       "2        101M  OXYGEN TRANSPORT     X-RAY DIFFRACTION           Protein   \n",
       "\n",
       "   residueCount  resolution  structureMolecularWeight  \\\n",
       "0            20        1.90                   6360.30   \n",
       "1            24        2.25                   7939.35   \n",
       "2           154        2.07                  18112.80   \n",
       "\n",
       "           crystallizationMethod  crystallizationTempK  densityMatthews  \\\n",
       "0  VAPOR DIFFUSION, HANGING DROP                   NaN             1.78   \n",
       "1                            NaN                   NaN             2.00   \n",
       "2                            NaN                   NaN             3.09   \n",
       "\n",
       "   densityPercentSol                                        pdbxDetails  \\\n",
       "0              30.89             pH 7.00, VAPOR DIFFUSION, HANGING DROP   \n",
       "1              38.45                                                NaN   \n",
       "2              60.20  3.0 M AMMONIUM SULFATE, 20 MM TRIS, 1MM EDTA, ...   \n",
       "\n",
       "   phValue  publicationYear  \n",
       "0      7.0           1994.0  \n",
       "1      NaN           1995.0  \n",
       "2      9.0           1999.0  "
      ]
     },
     "execution_count": 3,
     "metadata": {},
     "output_type": "execute_result"
    }
   ],
   "source": [
    "df1 = pd.read_csv('pdb_data_no_dups.csv')\n",
    "df2 = pd.read_csv('pdb_data_seq.csv')\n",
    "df1.head(3)"
   ]
  },
  {
   "cell_type": "code",
   "execution_count": 4,
   "metadata": {},
   "outputs": [
    {
     "data": {
      "text/html": [
       "<div>\n",
       "<style scoped>\n",
       "    .dataframe tbody tr th:only-of-type {\n",
       "        vertical-align: middle;\n",
       "    }\n",
       "\n",
       "    .dataframe tbody tr th {\n",
       "        vertical-align: top;\n",
       "    }\n",
       "\n",
       "    .dataframe thead th {\n",
       "        text-align: right;\n",
       "    }\n",
       "</style>\n",
       "<table border=\"1\" class=\"dataframe\">\n",
       "  <thead>\n",
       "    <tr style=\"text-align: right;\">\n",
       "      <th></th>\n",
       "      <th>structureId</th>\n",
       "      <th>chainId</th>\n",
       "      <th>sequence</th>\n",
       "      <th>residueCount</th>\n",
       "      <th>macromoleculeType</th>\n",
       "    </tr>\n",
       "  </thead>\n",
       "  <tbody>\n",
       "    <tr>\n",
       "      <th>0</th>\n",
       "      <td>100D</td>\n",
       "      <td>A</td>\n",
       "      <td>CCGGCGCCGG</td>\n",
       "      <td>20</td>\n",
       "      <td>DNA/RNA Hybrid</td>\n",
       "    </tr>\n",
       "    <tr>\n",
       "      <th>1</th>\n",
       "      <td>100D</td>\n",
       "      <td>B</td>\n",
       "      <td>CCGGCGCCGG</td>\n",
       "      <td>20</td>\n",
       "      <td>DNA/RNA Hybrid</td>\n",
       "    </tr>\n",
       "    <tr>\n",
       "      <th>2</th>\n",
       "      <td>101D</td>\n",
       "      <td>A</td>\n",
       "      <td>CGCGAATTCGCG</td>\n",
       "      <td>24</td>\n",
       "      <td>DNA</td>\n",
       "    </tr>\n",
       "    <tr>\n",
       "      <th>3</th>\n",
       "      <td>101D</td>\n",
       "      <td>B</td>\n",
       "      <td>CGCGAATTCGCG</td>\n",
       "      <td>24</td>\n",
       "      <td>DNA</td>\n",
       "    </tr>\n",
       "    <tr>\n",
       "      <th>4</th>\n",
       "      <td>101M</td>\n",
       "      <td>A</td>\n",
       "      <td>MVLSEGEWQLVLHVWAKVEADVAGHGQDILIRLFKSHPETLEKFDR...</td>\n",
       "      <td>154</td>\n",
       "      <td>Protein</td>\n",
       "    </tr>\n",
       "  </tbody>\n",
       "</table>\n",
       "</div>"
      ],
      "text/plain": [
       "  structureId chainId                                           sequence  \\\n",
       "0        100D       A                                         CCGGCGCCGG   \n",
       "1        100D       B                                         CCGGCGCCGG   \n",
       "2        101D       A                                       CGCGAATTCGCG   \n",
       "3        101D       B                                       CGCGAATTCGCG   \n",
       "4        101M       A  MVLSEGEWQLVLHVWAKVEADVAGHGQDILIRLFKSHPETLEKFDR...   \n",
       "\n",
       "   residueCount macromoleculeType  \n",
       "0            20    DNA/RNA Hybrid  \n",
       "1            20    DNA/RNA Hybrid  \n",
       "2            24               DNA  \n",
       "3            24               DNA  \n",
       "4           154           Protein  "
      ]
     },
     "execution_count": 4,
     "metadata": {},
     "output_type": "execute_result"
    }
   ],
   "source": [
    "df2.head()"
   ]
  },
  {
   "cell_type": "code",
   "execution_count": 5,
   "metadata": {},
   "outputs": [
    {
     "data": {
      "text/plain": [
       "Index(['structureId', 'classification', 'experimentalTechnique',\n",
       "       'macromoleculeType', 'residueCount', 'resolution',\n",
       "       'structureMolecularWeight', 'crystallizationMethod',\n",
       "       'crystallizationTempK', 'densityMatthews', 'densityPercentSol',\n",
       "       'pdbxDetails', 'phValue', 'publicationYear'],\n",
       "      dtype='object')"
      ]
     },
     "execution_count": 5,
     "metadata": {},
     "output_type": "execute_result"
    }
   ],
   "source": [
    "df1.columns"
   ]
  },
  {
   "cell_type": "code",
   "execution_count": 6,
   "metadata": {},
   "outputs": [
    {
     "data": {
      "text/plain": [
       "Index(['structureId', 'chainId', 'sequence', 'residueCount',\n",
       "       'macromoleculeType'],\n",
       "      dtype='object')"
      ]
     },
     "execution_count": 6,
     "metadata": {},
     "output_type": "execute_result"
    }
   ],
   "source": [
    "df2.columns"
   ]
  },
  {
   "cell_type": "code",
   "execution_count": 7,
   "metadata": {},
   "outputs": [
    {
     "data": {
      "text/plain": [
       "(141401, 14)"
      ]
     },
     "execution_count": 7,
     "metadata": {},
     "output_type": "execute_result"
    }
   ],
   "source": [
    "df1.shape"
   ]
  },
  {
   "cell_type": "code",
   "execution_count": 8,
   "metadata": {},
   "outputs": [
    {
     "data": {
      "text/plain": [
       "(467304, 5)"
      ]
     },
     "execution_count": 8,
     "metadata": {},
     "output_type": "execute_result"
    }
   ],
   "source": [
    "df2.shape"
   ]
  },
  {
   "cell_type": "code",
   "execution_count": 9,
   "metadata": {
    "collapsed": true
   },
   "outputs": [],
   "source": [
    "df3 = pd.merge(df1, df2, on=['structureId','macromoleculeType','residueCount'])"
   ]
  },
  {
   "cell_type": "code",
   "execution_count": 10,
   "metadata": {},
   "outputs": [
    {
     "data": {
      "text/plain": [
       "(471149, 16)"
      ]
     },
     "execution_count": 10,
     "metadata": {},
     "output_type": "execute_result"
    }
   ],
   "source": [
    "df3.shape"
   ]
  },
  {
   "cell_type": "code",
   "execution_count": 11,
   "metadata": {},
   "outputs": [
    {
     "data": {
      "text/html": [
       "<div>\n",
       "<style scoped>\n",
       "    .dataframe tbody tr th:only-of-type {\n",
       "        vertical-align: middle;\n",
       "    }\n",
       "\n",
       "    .dataframe tbody tr th {\n",
       "        vertical-align: top;\n",
       "    }\n",
       "\n",
       "    .dataframe thead th {\n",
       "        text-align: right;\n",
       "    }\n",
       "</style>\n",
       "<table border=\"1\" class=\"dataframe\">\n",
       "  <thead>\n",
       "    <tr style=\"text-align: right;\">\n",
       "      <th></th>\n",
       "      <th>structureId</th>\n",
       "      <th>classification</th>\n",
       "      <th>experimentalTechnique</th>\n",
       "      <th>macromoleculeType</th>\n",
       "      <th>residueCount</th>\n",
       "      <th>resolution</th>\n",
       "      <th>structureMolecularWeight</th>\n",
       "      <th>crystallizationMethod</th>\n",
       "      <th>crystallizationTempK</th>\n",
       "      <th>densityMatthews</th>\n",
       "      <th>densityPercentSol</th>\n",
       "      <th>pdbxDetails</th>\n",
       "      <th>phValue</th>\n",
       "      <th>publicationYear</th>\n",
       "      <th>chainId</th>\n",
       "      <th>sequence</th>\n",
       "    </tr>\n",
       "  </thead>\n",
       "  <tbody>\n",
       "    <tr>\n",
       "      <th>0</th>\n",
       "      <td>100D</td>\n",
       "      <td>DNA-RNA HYBRID</td>\n",
       "      <td>X-RAY DIFFRACTION</td>\n",
       "      <td>DNA/RNA Hybrid</td>\n",
       "      <td>20</td>\n",
       "      <td>1.90</td>\n",
       "      <td>6360.30</td>\n",
       "      <td>VAPOR DIFFUSION, HANGING DROP</td>\n",
       "      <td>NaN</td>\n",
       "      <td>1.78</td>\n",
       "      <td>30.89</td>\n",
       "      <td>pH 7.00, VAPOR DIFFUSION, HANGING DROP</td>\n",
       "      <td>7.0</td>\n",
       "      <td>1994.0</td>\n",
       "      <td>A</td>\n",
       "      <td>CCGGCGCCGG</td>\n",
       "    </tr>\n",
       "    <tr>\n",
       "      <th>1</th>\n",
       "      <td>100D</td>\n",
       "      <td>DNA-RNA HYBRID</td>\n",
       "      <td>X-RAY DIFFRACTION</td>\n",
       "      <td>DNA/RNA Hybrid</td>\n",
       "      <td>20</td>\n",
       "      <td>1.90</td>\n",
       "      <td>6360.30</td>\n",
       "      <td>VAPOR DIFFUSION, HANGING DROP</td>\n",
       "      <td>NaN</td>\n",
       "      <td>1.78</td>\n",
       "      <td>30.89</td>\n",
       "      <td>pH 7.00, VAPOR DIFFUSION, HANGING DROP</td>\n",
       "      <td>7.0</td>\n",
       "      <td>1994.0</td>\n",
       "      <td>B</td>\n",
       "      <td>CCGGCGCCGG</td>\n",
       "    </tr>\n",
       "    <tr>\n",
       "      <th>2</th>\n",
       "      <td>101D</td>\n",
       "      <td>DNA</td>\n",
       "      <td>X-RAY DIFFRACTION</td>\n",
       "      <td>DNA</td>\n",
       "      <td>24</td>\n",
       "      <td>2.25</td>\n",
       "      <td>7939.35</td>\n",
       "      <td>NaN</td>\n",
       "      <td>NaN</td>\n",
       "      <td>2.00</td>\n",
       "      <td>38.45</td>\n",
       "      <td>NaN</td>\n",
       "      <td>NaN</td>\n",
       "      <td>1995.0</td>\n",
       "      <td>A</td>\n",
       "      <td>CGCGAATTCGCG</td>\n",
       "    </tr>\n",
       "    <tr>\n",
       "      <th>3</th>\n",
       "      <td>101D</td>\n",
       "      <td>DNA</td>\n",
       "      <td>X-RAY DIFFRACTION</td>\n",
       "      <td>DNA</td>\n",
       "      <td>24</td>\n",
       "      <td>2.25</td>\n",
       "      <td>7939.35</td>\n",
       "      <td>NaN</td>\n",
       "      <td>NaN</td>\n",
       "      <td>2.00</td>\n",
       "      <td>38.45</td>\n",
       "      <td>NaN</td>\n",
       "      <td>NaN</td>\n",
       "      <td>1995.0</td>\n",
       "      <td>B</td>\n",
       "      <td>CGCGAATTCGCG</td>\n",
       "    </tr>\n",
       "    <tr>\n",
       "      <th>4</th>\n",
       "      <td>101M</td>\n",
       "      <td>OXYGEN TRANSPORT</td>\n",
       "      <td>X-RAY DIFFRACTION</td>\n",
       "      <td>Protein</td>\n",
       "      <td>154</td>\n",
       "      <td>2.07</td>\n",
       "      <td>18112.80</td>\n",
       "      <td>NaN</td>\n",
       "      <td>NaN</td>\n",
       "      <td>3.09</td>\n",
       "      <td>60.20</td>\n",
       "      <td>3.0 M AMMONIUM SULFATE, 20 MM TRIS, 1MM EDTA, ...</td>\n",
       "      <td>9.0</td>\n",
       "      <td>1999.0</td>\n",
       "      <td>A</td>\n",
       "      <td>MVLSEGEWQLVLHVWAKVEADVAGHGQDILIRLFKSHPETLEKFDR...</td>\n",
       "    </tr>\n",
       "  </tbody>\n",
       "</table>\n",
       "</div>"
      ],
      "text/plain": [
       "  structureId    classification experimentalTechnique macromoleculeType  \\\n",
       "0        100D    DNA-RNA HYBRID     X-RAY DIFFRACTION    DNA/RNA Hybrid   \n",
       "1        100D    DNA-RNA HYBRID     X-RAY DIFFRACTION    DNA/RNA Hybrid   \n",
       "2        101D               DNA     X-RAY DIFFRACTION               DNA   \n",
       "3        101D               DNA     X-RAY DIFFRACTION               DNA   \n",
       "4        101M  OXYGEN TRANSPORT     X-RAY DIFFRACTION           Protein   \n",
       "\n",
       "   residueCount  resolution  structureMolecularWeight  \\\n",
       "0            20        1.90                   6360.30   \n",
       "1            20        1.90                   6360.30   \n",
       "2            24        2.25                   7939.35   \n",
       "3            24        2.25                   7939.35   \n",
       "4           154        2.07                  18112.80   \n",
       "\n",
       "           crystallizationMethod  crystallizationTempK  densityMatthews  \\\n",
       "0  VAPOR DIFFUSION, HANGING DROP                   NaN             1.78   \n",
       "1  VAPOR DIFFUSION, HANGING DROP                   NaN             1.78   \n",
       "2                            NaN                   NaN             2.00   \n",
       "3                            NaN                   NaN             2.00   \n",
       "4                            NaN                   NaN             3.09   \n",
       "\n",
       "   densityPercentSol                                        pdbxDetails  \\\n",
       "0              30.89             pH 7.00, VAPOR DIFFUSION, HANGING DROP   \n",
       "1              30.89             pH 7.00, VAPOR DIFFUSION, HANGING DROP   \n",
       "2              38.45                                                NaN   \n",
       "3              38.45                                                NaN   \n",
       "4              60.20  3.0 M AMMONIUM SULFATE, 20 MM TRIS, 1MM EDTA, ...   \n",
       "\n",
       "   phValue  publicationYear chainId  \\\n",
       "0      7.0           1994.0       A   \n",
       "1      7.0           1994.0       B   \n",
       "2      NaN           1995.0       A   \n",
       "3      NaN           1995.0       B   \n",
       "4      9.0           1999.0       A   \n",
       "\n",
       "                                            sequence  \n",
       "0                                         CCGGCGCCGG  \n",
       "1                                         CCGGCGCCGG  \n",
       "2                                       CGCGAATTCGCG  \n",
       "3                                       CGCGAATTCGCG  \n",
       "4  MVLSEGEWQLVLHVWAKVEADVAGHGQDILIRLFKSHPETLEKFDR...  "
      ]
     },
     "execution_count": 11,
     "metadata": {},
     "output_type": "execute_result"
    }
   ],
   "source": [
    "df3.head()"
   ]
  },
  {
   "cell_type": "code",
   "execution_count": 12,
   "metadata": {},
   "outputs": [
    {
     "data": {
      "text/html": [
       "<div>\n",
       "<style scoped>\n",
       "    .dataframe tbody tr th:only-of-type {\n",
       "        vertical-align: middle;\n",
       "    }\n",
       "\n",
       "    .dataframe tbody tr th {\n",
       "        vertical-align: top;\n",
       "    }\n",
       "\n",
       "    .dataframe thead th {\n",
       "        text-align: right;\n",
       "    }\n",
       "</style>\n",
       "<table border=\"1\" class=\"dataframe\">\n",
       "  <thead>\n",
       "    <tr style=\"text-align: right;\">\n",
       "      <th></th>\n",
       "      <th>structureId</th>\n",
       "      <th>classification</th>\n",
       "      <th>experimentalTechnique</th>\n",
       "      <th>macromoleculeType</th>\n",
       "      <th>residueCount</th>\n",
       "      <th>resolution</th>\n",
       "      <th>structureMolecularWeight</th>\n",
       "      <th>crystallizationMethod</th>\n",
       "      <th>crystallizationTempK</th>\n",
       "      <th>densityMatthews</th>\n",
       "      <th>densityPercentSol</th>\n",
       "      <th>pdbxDetails</th>\n",
       "      <th>phValue</th>\n",
       "      <th>publicationYear</th>\n",
       "      <th>chainId</th>\n",
       "      <th>sequence</th>\n",
       "    </tr>\n",
       "  </thead>\n",
       "  <tbody>\n",
       "    <tr>\n",
       "      <th>471144</th>\n",
       "      <td>9XIA</td>\n",
       "      <td>ISOMERASE(INTRAMOLECULAR OXIDOREDUCTASE)</td>\n",
       "      <td>X-RAY DIFFRACTION</td>\n",
       "      <td>Protein</td>\n",
       "      <td>388</td>\n",
       "      <td>1.9</td>\n",
       "      <td>43542.29</td>\n",
       "      <td>NaN</td>\n",
       "      <td>NaN</td>\n",
       "      <td>2.79</td>\n",
       "      <td>55.93</td>\n",
       "      <td>NaN</td>\n",
       "      <td>NaN</td>\n",
       "      <td>1989.0</td>\n",
       "      <td>A</td>\n",
       "      <td>MNYQPTPEDRFTFGLWTVGWQGRDPFGDATRRALDPVESVQRLAEL...</td>\n",
       "    </tr>\n",
       "    <tr>\n",
       "      <th>471145</th>\n",
       "      <td>9XIM</td>\n",
       "      <td>ISOMERASE(INTRAMOLECULAR OXIDOREDUCTASE)</td>\n",
       "      <td>X-RAY DIFFRACTION</td>\n",
       "      <td>Protein</td>\n",
       "      <td>1572</td>\n",
       "      <td>2.4</td>\n",
       "      <td>174722.12</td>\n",
       "      <td>NaN</td>\n",
       "      <td>NaN</td>\n",
       "      <td>3.96</td>\n",
       "      <td>68.92</td>\n",
       "      <td>NaN</td>\n",
       "      <td>NaN</td>\n",
       "      <td>1992.0</td>\n",
       "      <td>A</td>\n",
       "      <td>SVQATREDKFSFGLWTVGWQARDAFGDATRTALDPVEAVHKLAEIG...</td>\n",
       "    </tr>\n",
       "    <tr>\n",
       "      <th>471146</th>\n",
       "      <td>9XIM</td>\n",
       "      <td>ISOMERASE(INTRAMOLECULAR OXIDOREDUCTASE)</td>\n",
       "      <td>X-RAY DIFFRACTION</td>\n",
       "      <td>Protein</td>\n",
       "      <td>1572</td>\n",
       "      <td>2.4</td>\n",
       "      <td>174722.12</td>\n",
       "      <td>NaN</td>\n",
       "      <td>NaN</td>\n",
       "      <td>3.96</td>\n",
       "      <td>68.92</td>\n",
       "      <td>NaN</td>\n",
       "      <td>NaN</td>\n",
       "      <td>1992.0</td>\n",
       "      <td>B</td>\n",
       "      <td>SVQATREDKFSFGLWTVGWQARDAFGDATRTALDPVEAVHKLAEIG...</td>\n",
       "    </tr>\n",
       "    <tr>\n",
       "      <th>471147</th>\n",
       "      <td>9XIM</td>\n",
       "      <td>ISOMERASE(INTRAMOLECULAR OXIDOREDUCTASE)</td>\n",
       "      <td>X-RAY DIFFRACTION</td>\n",
       "      <td>Protein</td>\n",
       "      <td>1572</td>\n",
       "      <td>2.4</td>\n",
       "      <td>174722.12</td>\n",
       "      <td>NaN</td>\n",
       "      <td>NaN</td>\n",
       "      <td>3.96</td>\n",
       "      <td>68.92</td>\n",
       "      <td>NaN</td>\n",
       "      <td>NaN</td>\n",
       "      <td>1992.0</td>\n",
       "      <td>C</td>\n",
       "      <td>SVQATREDKFSFGLWTVGWQARDAFGDATRTALDPVEAVHKLAEIG...</td>\n",
       "    </tr>\n",
       "    <tr>\n",
       "      <th>471148</th>\n",
       "      <td>9XIM</td>\n",
       "      <td>ISOMERASE(INTRAMOLECULAR OXIDOREDUCTASE)</td>\n",
       "      <td>X-RAY DIFFRACTION</td>\n",
       "      <td>Protein</td>\n",
       "      <td>1572</td>\n",
       "      <td>2.4</td>\n",
       "      <td>174722.12</td>\n",
       "      <td>NaN</td>\n",
       "      <td>NaN</td>\n",
       "      <td>3.96</td>\n",
       "      <td>68.92</td>\n",
       "      <td>NaN</td>\n",
       "      <td>NaN</td>\n",
       "      <td>1992.0</td>\n",
       "      <td>D</td>\n",
       "      <td>SVQATREDKFSFGLWTVGWQARDAFGDATRTALDPVEAVHKLAEIG...</td>\n",
       "    </tr>\n",
       "  </tbody>\n",
       "</table>\n",
       "</div>"
      ],
      "text/plain": [
       "       structureId                            classification  \\\n",
       "471144        9XIA  ISOMERASE(INTRAMOLECULAR OXIDOREDUCTASE)   \n",
       "471145        9XIM  ISOMERASE(INTRAMOLECULAR OXIDOREDUCTASE)   \n",
       "471146        9XIM  ISOMERASE(INTRAMOLECULAR OXIDOREDUCTASE)   \n",
       "471147        9XIM  ISOMERASE(INTRAMOLECULAR OXIDOREDUCTASE)   \n",
       "471148        9XIM  ISOMERASE(INTRAMOLECULAR OXIDOREDUCTASE)   \n",
       "\n",
       "       experimentalTechnique macromoleculeType  residueCount  resolution  \\\n",
       "471144     X-RAY DIFFRACTION           Protein           388         1.9   \n",
       "471145     X-RAY DIFFRACTION           Protein          1572         2.4   \n",
       "471146     X-RAY DIFFRACTION           Protein          1572         2.4   \n",
       "471147     X-RAY DIFFRACTION           Protein          1572         2.4   \n",
       "471148     X-RAY DIFFRACTION           Protein          1572         2.4   \n",
       "\n",
       "        structureMolecularWeight crystallizationMethod  crystallizationTempK  \\\n",
       "471144                  43542.29                   NaN                   NaN   \n",
       "471145                 174722.12                   NaN                   NaN   \n",
       "471146                 174722.12                   NaN                   NaN   \n",
       "471147                 174722.12                   NaN                   NaN   \n",
       "471148                 174722.12                   NaN                   NaN   \n",
       "\n",
       "        densityMatthews  densityPercentSol pdbxDetails  phValue  \\\n",
       "471144             2.79              55.93         NaN      NaN   \n",
       "471145             3.96              68.92         NaN      NaN   \n",
       "471146             3.96              68.92         NaN      NaN   \n",
       "471147             3.96              68.92         NaN      NaN   \n",
       "471148             3.96              68.92         NaN      NaN   \n",
       "\n",
       "        publicationYear chainId  \\\n",
       "471144           1989.0       A   \n",
       "471145           1992.0       A   \n",
       "471146           1992.0       B   \n",
       "471147           1992.0       C   \n",
       "471148           1992.0       D   \n",
       "\n",
       "                                                 sequence  \n",
       "471144  MNYQPTPEDRFTFGLWTVGWQGRDPFGDATRRALDPVESVQRLAEL...  \n",
       "471145  SVQATREDKFSFGLWTVGWQARDAFGDATRTALDPVEAVHKLAEIG...  \n",
       "471146  SVQATREDKFSFGLWTVGWQARDAFGDATRTALDPVEAVHKLAEIG...  \n",
       "471147  SVQATREDKFSFGLWTVGWQARDAFGDATRTALDPVEAVHKLAEIG...  \n",
       "471148  SVQATREDKFSFGLWTVGWQARDAFGDATRTALDPVEAVHKLAEIG...  "
      ]
     },
     "execution_count": 12,
     "metadata": {},
     "output_type": "execute_result"
    }
   ],
   "source": [
    "df3.tail()"
   ]
  },
  {
   "cell_type": "code",
   "execution_count": 13,
   "metadata": {},
   "outputs": [
    {
     "data": {
      "text/plain": [
       "structureId                  object\n",
       "classification               object\n",
       "experimentalTechnique        object\n",
       "macromoleculeType            object\n",
       "residueCount                  int64\n",
       "resolution                  float64\n",
       "structureMolecularWeight    float64\n",
       "crystallizationMethod        object\n",
       "crystallizationTempK        float64\n",
       "densityMatthews             float64\n",
       "densityPercentSol           float64\n",
       "pdbxDetails                  object\n",
       "phValue                     float64\n",
       "publicationYear             float64\n",
       "chainId                      object\n",
       "sequence                     object\n",
       "dtype: object"
      ]
     },
     "execution_count": 13,
     "metadata": {},
     "output_type": "execute_result"
    }
   ],
   "source": [
    "df3.dtypes"
   ]
  },
  {
   "cell_type": "code",
   "execution_count": 14,
   "metadata": {},
   "outputs": [
    {
     "data": {
      "text/plain": [
       "Index(['structureId', 'classification', 'experimentalTechnique',\n",
       "       'macromoleculeType', 'residueCount', 'resolution',\n",
       "       'structureMolecularWeight', 'crystallizationMethod',\n",
       "       'crystallizationTempK', 'densityMatthews', 'densityPercentSol',\n",
       "       'pdbxDetails', 'phValue', 'publicationYear', 'chainId', 'sequence'],\n",
       "      dtype='object')"
      ]
     },
     "execution_count": 14,
     "metadata": {},
     "output_type": "execute_result"
    }
   ],
   "source": [
    "df3.columns"
   ]
  },
  {
   "cell_type": "code",
   "execution_count": 15,
   "metadata": {
    "collapsed": true
   },
   "outputs": [],
   "source": [
    "mask = df3['macromoleculeType'] == 'Protein'"
   ]
  },
  {
   "cell_type": "code",
   "execution_count": 16,
   "metadata": {},
   "outputs": [
    {
     "data": {
      "text/html": [
       "<div>\n",
       "<style scoped>\n",
       "    .dataframe tbody tr th:only-of-type {\n",
       "        vertical-align: middle;\n",
       "    }\n",
       "\n",
       "    .dataframe tbody tr th {\n",
       "        vertical-align: top;\n",
       "    }\n",
       "\n",
       "    .dataframe thead th {\n",
       "        text-align: right;\n",
       "    }\n",
       "</style>\n",
       "<table border=\"1\" class=\"dataframe\">\n",
       "  <thead>\n",
       "    <tr style=\"text-align: right;\">\n",
       "      <th></th>\n",
       "      <th>structureId</th>\n",
       "      <th>classification</th>\n",
       "      <th>experimentalTechnique</th>\n",
       "      <th>macromoleculeType</th>\n",
       "      <th>residueCount</th>\n",
       "      <th>resolution</th>\n",
       "      <th>structureMolecularWeight</th>\n",
       "      <th>crystallizationMethod</th>\n",
       "      <th>crystallizationTempK</th>\n",
       "      <th>densityMatthews</th>\n",
       "      <th>densityPercentSol</th>\n",
       "      <th>pdbxDetails</th>\n",
       "      <th>phValue</th>\n",
       "      <th>publicationYear</th>\n",
       "      <th>chainId</th>\n",
       "      <th>sequence</th>\n",
       "    </tr>\n",
       "  </thead>\n",
       "  <tbody>\n",
       "    <tr>\n",
       "      <th>4</th>\n",
       "      <td>101M</td>\n",
       "      <td>OXYGEN TRANSPORT</td>\n",
       "      <td>X-RAY DIFFRACTION</td>\n",
       "      <td>Protein</td>\n",
       "      <td>154</td>\n",
       "      <td>2.07</td>\n",
       "      <td>18112.80</td>\n",
       "      <td>NaN</td>\n",
       "      <td>NaN</td>\n",
       "      <td>3.09</td>\n",
       "      <td>60.20</td>\n",
       "      <td>3.0 M AMMONIUM SULFATE, 20 MM TRIS, 1MM EDTA, ...</td>\n",
       "      <td>9.0</td>\n",
       "      <td>1999.0</td>\n",
       "      <td>A</td>\n",
       "      <td>MVLSEGEWQLVLHVWAKVEADVAGHGQDILIRLFKSHPETLEKFDR...</td>\n",
       "    </tr>\n",
       "    <tr>\n",
       "      <th>7</th>\n",
       "      <td>102L</td>\n",
       "      <td>HYDROLASE(O-GLYCOSYL)</td>\n",
       "      <td>X-RAY DIFFRACTION</td>\n",
       "      <td>Protein</td>\n",
       "      <td>165</td>\n",
       "      <td>1.74</td>\n",
       "      <td>18926.61</td>\n",
       "      <td>NaN</td>\n",
       "      <td>NaN</td>\n",
       "      <td>2.75</td>\n",
       "      <td>55.28</td>\n",
       "      <td>NaN</td>\n",
       "      <td>NaN</td>\n",
       "      <td>1993.0</td>\n",
       "      <td>A</td>\n",
       "      <td>MNIFEMLRIDEGLRLKIYKDTEGYYTIGIGHLLTKSPSLNAAAKSE...</td>\n",
       "    </tr>\n",
       "    <tr>\n",
       "      <th>8</th>\n",
       "      <td>102M</td>\n",
       "      <td>OXYGEN TRANSPORT</td>\n",
       "      <td>X-RAY DIFFRACTION</td>\n",
       "      <td>Protein</td>\n",
       "      <td>154</td>\n",
       "      <td>1.84</td>\n",
       "      <td>18010.64</td>\n",
       "      <td>NaN</td>\n",
       "      <td>NaN</td>\n",
       "      <td>3.09</td>\n",
       "      <td>60.20</td>\n",
       "      <td>3.0 M AMMONIUM SULFATE, 20 MM TRIS, 1MM EDTA, ...</td>\n",
       "      <td>9.0</td>\n",
       "      <td>1999.0</td>\n",
       "      <td>A</td>\n",
       "      <td>MVLSEGEWQLVLHVWAKVEADVAGHGQDILIRLFKSHPETLEKFDR...</td>\n",
       "    </tr>\n",
       "    <tr>\n",
       "      <th>11</th>\n",
       "      <td>103L</td>\n",
       "      <td>HYDROLASE(O-GLYCOSYL)</td>\n",
       "      <td>X-RAY DIFFRACTION</td>\n",
       "      <td>Protein</td>\n",
       "      <td>167</td>\n",
       "      <td>1.90</td>\n",
       "      <td>19092.72</td>\n",
       "      <td>NaN</td>\n",
       "      <td>NaN</td>\n",
       "      <td>2.70</td>\n",
       "      <td>54.46</td>\n",
       "      <td>NaN</td>\n",
       "      <td>NaN</td>\n",
       "      <td>1993.0</td>\n",
       "      <td>A</td>\n",
       "      <td>MNIFEMLRIDEGLRLKIYKDTEGYYTIGIGHLLTKSPSLNSLDAAK...</td>\n",
       "    </tr>\n",
       "    <tr>\n",
       "      <th>12</th>\n",
       "      <td>103M</td>\n",
       "      <td>OXYGEN TRANSPORT</td>\n",
       "      <td>X-RAY DIFFRACTION</td>\n",
       "      <td>Protein</td>\n",
       "      <td>154</td>\n",
       "      <td>2.07</td>\n",
       "      <td>18093.78</td>\n",
       "      <td>NaN</td>\n",
       "      <td>NaN</td>\n",
       "      <td>3.09</td>\n",
       "      <td>60.30</td>\n",
       "      <td>3.0 M AMMONIUM SULFATE, 20 MM TRIS, 1MM EDTA, ...</td>\n",
       "      <td>9.0</td>\n",
       "      <td>1999.0</td>\n",
       "      <td>A</td>\n",
       "      <td>MVLSEGEWQLVLHVWAKVEADVAGHGQDILIRLFKSHPETLEKFDR...</td>\n",
       "    </tr>\n",
       "  </tbody>\n",
       "</table>\n",
       "</div>"
      ],
      "text/plain": [
       "   structureId         classification experimentalTechnique macromoleculeType  \\\n",
       "4         101M       OXYGEN TRANSPORT     X-RAY DIFFRACTION           Protein   \n",
       "7         102L  HYDROLASE(O-GLYCOSYL)     X-RAY DIFFRACTION           Protein   \n",
       "8         102M       OXYGEN TRANSPORT     X-RAY DIFFRACTION           Protein   \n",
       "11        103L  HYDROLASE(O-GLYCOSYL)     X-RAY DIFFRACTION           Protein   \n",
       "12        103M       OXYGEN TRANSPORT     X-RAY DIFFRACTION           Protein   \n",
       "\n",
       "    residueCount  resolution  structureMolecularWeight crystallizationMethod  \\\n",
       "4            154        2.07                  18112.80                   NaN   \n",
       "7            165        1.74                  18926.61                   NaN   \n",
       "8            154        1.84                  18010.64                   NaN   \n",
       "11           167        1.90                  19092.72                   NaN   \n",
       "12           154        2.07                  18093.78                   NaN   \n",
       "\n",
       "    crystallizationTempK  densityMatthews  densityPercentSol  \\\n",
       "4                    NaN             3.09              60.20   \n",
       "7                    NaN             2.75              55.28   \n",
       "8                    NaN             3.09              60.20   \n",
       "11                   NaN             2.70              54.46   \n",
       "12                   NaN             3.09              60.30   \n",
       "\n",
       "                                          pdbxDetails  phValue  \\\n",
       "4   3.0 M AMMONIUM SULFATE, 20 MM TRIS, 1MM EDTA, ...      9.0   \n",
       "7                                                 NaN      NaN   \n",
       "8   3.0 M AMMONIUM SULFATE, 20 MM TRIS, 1MM EDTA, ...      9.0   \n",
       "11                                                NaN      NaN   \n",
       "12  3.0 M AMMONIUM SULFATE, 20 MM TRIS, 1MM EDTA, ...      9.0   \n",
       "\n",
       "    publicationYear chainId                                           sequence  \n",
       "4            1999.0       A  MVLSEGEWQLVLHVWAKVEADVAGHGQDILIRLFKSHPETLEKFDR...  \n",
       "7            1993.0       A  MNIFEMLRIDEGLRLKIYKDTEGYYTIGIGHLLTKSPSLNAAAKSE...  \n",
       "8            1999.0       A  MVLSEGEWQLVLHVWAKVEADVAGHGQDILIRLFKSHPETLEKFDR...  \n",
       "11           1993.0       A  MNIFEMLRIDEGLRLKIYKDTEGYYTIGIGHLLTKSPSLNSLDAAK...  \n",
       "12           1999.0       A  MVLSEGEWQLVLHVWAKVEADVAGHGQDILIRLFKSHPETLEKFDR...  "
      ]
     },
     "execution_count": 16,
     "metadata": {},
     "output_type": "execute_result"
    }
   ],
   "source": [
    "proteins = df3[mask]\n",
    "proteins.head()"
   ]
  },
  {
   "cell_type": "code",
   "execution_count": 17,
   "metadata": {},
   "outputs": [
    {
     "data": {
      "text/plain": [
       "(346325, 16)"
      ]
     },
     "execution_count": 17,
     "metadata": {},
     "output_type": "execute_result"
    }
   ],
   "source": [
    "proteins.shape"
   ]
  },
  {
   "cell_type": "code",
   "execution_count": 18,
   "metadata": {},
   "outputs": [
    {
     "data": {
      "text/plain": [
       "Protein    346325\n",
       "Name: macromoleculeType, dtype: int64"
      ]
     },
     "execution_count": 18,
     "metadata": {},
     "output_type": "execute_result"
    }
   ],
   "source": [
    "# Sanity check for protein sequences only\n",
    "proteins.macromoleculeType.value_counts()"
   ]
  },
  {
   "cell_type": "code",
   "execution_count": 19,
   "metadata": {},
   "outputs": [
    {
     "data": {
      "text/plain": [
       "4    MVLSEGEWQLVLHVWAKVEADVAGHGQDILIRLFKSHPETLEKFDR...\n",
       "7    MNIFEMLRIDEGLRLKIYKDTEGYYTIGIGHLLTKSPSLNAAAKSE...\n",
       "8    MVLSEGEWQLVLHVWAKVEADVAGHGQDILIRLFKSHPETLEKFDR...\n",
       "Name: sequence, dtype: object"
      ]
     },
     "execution_count": 19,
     "metadata": {},
     "output_type": "execute_result"
    }
   ],
   "source": [
    "proteins['sequence'].head(3)"
   ]
  },
  {
   "cell_type": "markdown",
   "metadata": {},
   "source": [
    "## Classification of Proteins: 10 Classes"
   ]
  },
  {
   "cell_type": "code",
   "execution_count": 20,
   "metadata": {},
   "outputs": [
    {
     "data": {
      "text/plain": [
       "HYDROLASE                                  46336\n",
       "TRANSFERASE                                36424\n",
       "OXIDOREDUCTASE                             34322\n",
       "IMMUNE SYSTEM                              15615\n",
       "LYASE                                      11682\n",
       "HYDROLASE/HYDROLASE INHIBITOR              11218\n",
       "TRANSCRIPTION                               8919\n",
       "VIRAL PROTEIN                               8495\n",
       "TRANSPORT PROTEIN                           8371\n",
       "VIRUS                                       6972\n",
       "SIGNALING PROTEIN                           6470\n",
       "ISOMERASE                                   6356\n",
       "LIGASE                                      4964\n",
       "MEMBRANE PROTEIN                            4891\n",
       "PROTEIN BINDING                             4884\n",
       "STRUCTURAL PROTEIN                          4335\n",
       "CHAPERONE                                   4156\n",
       "STRUCTURAL GENOMICS, UNKNOWN FUNCTION       3548\n",
       "SUGAR BINDING PROTEIN                       3474\n",
       "DNA BINDING PROTEIN                         3199\n",
       "PHOTOSYNTHESIS                              3139\n",
       "ELECTRON TRANSPORT                          3047\n",
       "TRANSFERASE/TRANSFERASE INHIBITOR           3032\n",
       "METAL BINDING PROTEIN                       3023\n",
       "CELL ADHESION                               2999\n",
       "UNKNOWN FUNCTION                            2843\n",
       "PROTEIN TRANSPORT                           2674\n",
       "TOXIN                                       2626\n",
       "CELL CYCLE                                  2496\n",
       "RNA BINDING PROTEIN                         1969\n",
       "DE NOVO PROTEIN                             1635\n",
       "HORMONE                                     1523\n",
       "GENE REGULATION                             1501\n",
       "OXIDOREDUCTASE/OXIDOREDUCTASE INHIBITOR     1474\n",
       "APOPTOSIS                                   1382\n",
       "Name: classification, dtype: int64"
      ]
     },
     "execution_count": 20,
     "metadata": {},
     "output_type": "execute_result"
    }
   ],
   "source": [
    "proteins.classification.value_counts()[:35]"
   ]
  },
  {
   "cell_type": "code",
   "execution_count": 21,
   "metadata": {},
   "outputs": [
    {
     "data": {
      "text/plain": [
       "ISOMERASE/IMMUNOSUPPRESSANT                 217\n",
       "Hydrolase/Hydrolase inhibitor               217\n",
       "MEMBRANE PROTEIN, TRANSPORT PROTEIN         215\n",
       "ISOMERASE/ISOMERASE INHIBITOR               212\n",
       "IMMUNE SYSTEM/VIRAL PROTEIN                 210\n",
       "VIRUS/IMMUNE SYSTEM                         203\n",
       "TRANSFERASE/ANTIBIOTIC                      202\n",
       "TRANSCRIPTION REGULATION                    197\n",
       "Structural Genomics, Unknown function       195\n",
       "RECOMBINATION                               192\n",
       "DIOXYGENASE                                 189\n",
       "HYDROLASE/PEPTIDE                           188\n",
       "RIBOSOMAL PROTEIN                           187\n",
       "IRON STORAGE                                187\n",
       "HYDROLASE(O-GLYCOSYL)                       180\n",
       "PHOSPHOTRANSFERASE                          180\n",
       "ACETYLCHOLINE-BINDING PROTEIN               180\n",
       "Structural genomics, unknown function       166\n",
       "ELECTRON TRANSPORT,PHOTOSYNTHESIS           160\n",
       "TRANSPORT                                   160\n",
       "ISOMERASE(INTRAMOLECULAR OXIDOREDUCTASE)    158\n",
       "GLYCOPROTEIN                                156\n",
       "SIGNALING PROTEIN/INHIBITOR                 155\n",
       "oxidoreductase/oxidoreductase inhibitor     151\n",
       "TRANSFERASE/TRANSCRIPTION                   150\n",
       "ANTIVIRAL PROTEIN                           148\n",
       "Viral protein/Immune system                 144\n",
       "Transferase/Transferase inhibitor           143\n",
       "OXYGEN BINDING                              143\n",
       "RIBOSOME                                    142\n",
       "Name: classification, dtype: int64"
      ]
     },
     "execution_count": 21,
     "metadata": {},
     "output_type": "execute_result"
    }
   ],
   "source": [
    "proteins.classification.value_counts()[92:122]"
   ]
  },
  {
   "cell_type": "code",
   "execution_count": 22,
   "metadata": {},
   "outputs": [
    {
     "data": {
      "text/html": [
       "<div>\n",
       "<style scoped>\n",
       "    .dataframe tbody tr th:only-of-type {\n",
       "        vertical-align: middle;\n",
       "    }\n",
       "\n",
       "    .dataframe tbody tr th {\n",
       "        vertical-align: top;\n",
       "    }\n",
       "\n",
       "    .dataframe thead th {\n",
       "        text-align: right;\n",
       "    }\n",
       "</style>\n",
       "<table border=\"1\" class=\"dataframe\">\n",
       "  <thead>\n",
       "    <tr style=\"text-align: right;\">\n",
       "      <th></th>\n",
       "      <th>structureId</th>\n",
       "      <th>classification</th>\n",
       "      <th>experimentalTechnique</th>\n",
       "      <th>macromoleculeType</th>\n",
       "      <th>residueCount</th>\n",
       "      <th>resolution</th>\n",
       "      <th>structureMolecularWeight</th>\n",
       "      <th>crystallizationMethod</th>\n",
       "      <th>crystallizationTempK</th>\n",
       "      <th>densityMatthews</th>\n",
       "      <th>densityPercentSol</th>\n",
       "      <th>pdbxDetails</th>\n",
       "      <th>phValue</th>\n",
       "      <th>publicationYear</th>\n",
       "      <th>chainId</th>\n",
       "      <th>sequence</th>\n",
       "    </tr>\n",
       "  </thead>\n",
       "  <tbody>\n",
       "    <tr>\n",
       "      <th>67</th>\n",
       "      <td>117E</td>\n",
       "      <td>HYDROLASE</td>\n",
       "      <td>X-RAY DIFFRACTION</td>\n",
       "      <td>Protein</td>\n",
       "      <td>572</td>\n",
       "      <td>2.15</td>\n",
       "      <td>65203.21</td>\n",
       "      <td>NaN</td>\n",
       "      <td>NaN</td>\n",
       "      <td>2.71</td>\n",
       "      <td>54.69</td>\n",
       "      <td>17-19% MPD, 25 MM MES, PH 6.0, 1 MM MNCL2, 0.5...</td>\n",
       "      <td>6.0</td>\n",
       "      <td>1998.0</td>\n",
       "      <td>A</td>\n",
       "      <td>TYTTRQIGAKNTLEYKVYIEKDGKPVSAFHDIPLYADKENNIFNMV...</td>\n",
       "    </tr>\n",
       "    <tr>\n",
       "      <th>68</th>\n",
       "      <td>117E</td>\n",
       "      <td>HYDROLASE</td>\n",
       "      <td>X-RAY DIFFRACTION</td>\n",
       "      <td>Protein</td>\n",
       "      <td>572</td>\n",
       "      <td>2.15</td>\n",
       "      <td>65203.21</td>\n",
       "      <td>NaN</td>\n",
       "      <td>NaN</td>\n",
       "      <td>2.71</td>\n",
       "      <td>54.69</td>\n",
       "      <td>17-19% MPD, 25 MM MES, PH 6.0, 1 MM MNCL2, 0.5...</td>\n",
       "      <td>6.0</td>\n",
       "      <td>1998.0</td>\n",
       "      <td>B</td>\n",
       "      <td>TYTTRQIGAKNTLEYKVYIEKDGKPVSAFHDIPLYADKENNIFNMV...</td>\n",
       "    </tr>\n",
       "    <tr>\n",
       "      <th>74</th>\n",
       "      <td>11AS</td>\n",
       "      <td>LIGASE</td>\n",
       "      <td>X-RAY DIFFRACTION</td>\n",
       "      <td>Protein</td>\n",
       "      <td>660</td>\n",
       "      <td>2.50</td>\n",
       "      <td>73530.97</td>\n",
       "      <td>NaN</td>\n",
       "      <td>NaN</td>\n",
       "      <td>2.30</td>\n",
       "      <td>47.00</td>\n",
       "      <td>PROTEIN CRYSTALLIZED FROM 45% SATURATED AMMONI...</td>\n",
       "      <td>7.5</td>\n",
       "      <td>1998.0</td>\n",
       "      <td>A</td>\n",
       "      <td>MKTAYIAKQRQISFVKSHFSRQLEERLGLIEVQAPILSRVGDGTQD...</td>\n",
       "    </tr>\n",
       "    <tr>\n",
       "      <th>75</th>\n",
       "      <td>11AS</td>\n",
       "      <td>LIGASE</td>\n",
       "      <td>X-RAY DIFFRACTION</td>\n",
       "      <td>Protein</td>\n",
       "      <td>660</td>\n",
       "      <td>2.50</td>\n",
       "      <td>73530.97</td>\n",
       "      <td>NaN</td>\n",
       "      <td>NaN</td>\n",
       "      <td>2.30</td>\n",
       "      <td>47.00</td>\n",
       "      <td>PROTEIN CRYSTALLIZED FROM 45% SATURATED AMMONI...</td>\n",
       "      <td>7.5</td>\n",
       "      <td>1998.0</td>\n",
       "      <td>B</td>\n",
       "      <td>MKTAYIAKQRQISFVKSHFSRQLEERLGLIEVQAPILSRVGDGTQD...</td>\n",
       "    </tr>\n",
       "    <tr>\n",
       "      <th>76</th>\n",
       "      <td>11BA</td>\n",
       "      <td>HYDROLASE</td>\n",
       "      <td>X-RAY DIFFRACTION</td>\n",
       "      <td>Protein</td>\n",
       "      <td>248</td>\n",
       "      <td>2.06</td>\n",
       "      <td>28700.28</td>\n",
       "      <td>NaN</td>\n",
       "      <td>NaN</td>\n",
       "      <td>2.48</td>\n",
       "      <td>50.36</td>\n",
       "      <td>pH 4.8</td>\n",
       "      <td>4.8</td>\n",
       "      <td>1998.0</td>\n",
       "      <td>A</td>\n",
       "      <td>KESAAAKFERQHMDSGNSPSSSSNYCNLMMCCRKMTQGKCKPVNTF...</td>\n",
       "    </tr>\n",
       "  </tbody>\n",
       "</table>\n",
       "</div>"
      ],
      "text/plain": [
       "   structureId classification experimentalTechnique macromoleculeType  \\\n",
       "67        117E      HYDROLASE     X-RAY DIFFRACTION           Protein   \n",
       "68        117E      HYDROLASE     X-RAY DIFFRACTION           Protein   \n",
       "74        11AS         LIGASE     X-RAY DIFFRACTION           Protein   \n",
       "75        11AS         LIGASE     X-RAY DIFFRACTION           Protein   \n",
       "76        11BA      HYDROLASE     X-RAY DIFFRACTION           Protein   \n",
       "\n",
       "    residueCount  resolution  structureMolecularWeight crystallizationMethod  \\\n",
       "67           572        2.15                  65203.21                   NaN   \n",
       "68           572        2.15                  65203.21                   NaN   \n",
       "74           660        2.50                  73530.97                   NaN   \n",
       "75           660        2.50                  73530.97                   NaN   \n",
       "76           248        2.06                  28700.28                   NaN   \n",
       "\n",
       "    crystallizationTempK  densityMatthews  densityPercentSol  \\\n",
       "67                   NaN             2.71              54.69   \n",
       "68                   NaN             2.71              54.69   \n",
       "74                   NaN             2.30              47.00   \n",
       "75                   NaN             2.30              47.00   \n",
       "76                   NaN             2.48              50.36   \n",
       "\n",
       "                                          pdbxDetails  phValue  \\\n",
       "67  17-19% MPD, 25 MM MES, PH 6.0, 1 MM MNCL2, 0.5...      6.0   \n",
       "68  17-19% MPD, 25 MM MES, PH 6.0, 1 MM MNCL2, 0.5...      6.0   \n",
       "74  PROTEIN CRYSTALLIZED FROM 45% SATURATED AMMONI...      7.5   \n",
       "75  PROTEIN CRYSTALLIZED FROM 45% SATURATED AMMONI...      7.5   \n",
       "76                                             pH 4.8      4.8   \n",
       "\n",
       "    publicationYear chainId                                           sequence  \n",
       "67           1998.0       A  TYTTRQIGAKNTLEYKVYIEKDGKPVSAFHDIPLYADKENNIFNMV...  \n",
       "68           1998.0       B  TYTTRQIGAKNTLEYKVYIEKDGKPVSAFHDIPLYADKENNIFNMV...  \n",
       "74           1998.0       A  MKTAYIAKQRQISFVKSHFSRQLEERLGLIEVQAPILSRVGDGTQD...  \n",
       "75           1998.0       B  MKTAYIAKQRQISFVKSHFSRQLEERLGLIEVQAPILSRVGDGTQD...  \n",
       "76           1998.0       A  KESAAAKFERQHMDSGNSPSSSSNYCNLMMCCRKMTQGKCKPVNTF...  "
      ]
     },
     "execution_count": 22,
     "metadata": {},
     "output_type": "execute_result"
    }
   ],
   "source": [
    "mask = ((proteins.classification == 'HYDROLASE') | (proteins.classification == 'TRANSFERASE')\\\n",
    "      | (proteins.classification == 'OXIDOREDUCTASE') |(proteins.classification == 'IMMUNE SYSTEM')\\\n",
    "      |(proteins.classification == 'TRANSCRIPTION'))|(proteins.classification == 'LYASE')\\\n",
    "      | (proteins.classification == 'VIRAL PROTEIN') |(proteins.classification == 'TRANSPORT PROTEIN')\\\n",
    "      | (proteins.classification == 'ISOMERASE') |(proteins.classification == 'LIGASE')\n",
    "\n",
    "data = proteins[mask]\n",
    "data.head()"
   ]
  },
  {
   "cell_type": "code",
   "execution_count": 23,
   "metadata": {},
   "outputs": [
    {
     "name": "stderr",
     "output_type": "stream",
     "text": [
      "/Users/scottlew/miniconda3/lib/python3.6/site-packages/ipykernel/__main__.py:4: SettingWithCopyWarning: \n",
      "A value is trying to be set on a copy of a slice from a DataFrame.\n",
      "Try using .loc[row_indexer,col_indexer] = value instead\n",
      "\n",
      "See the caveats in the documentation: http://pandas.pydata.org/pandas-docs/stable/user_guide/indexing.html#returning-a-view-versus-a-copy\n"
     ]
    }
   ],
   "source": [
    "from sklearn import preprocessing\n",
    "le = preprocessing.LabelEncoder()\n",
    "le.fit(data.classification)\n",
    "data['type'] = le.transform(data['classification'])"
   ]
  },
  {
   "cell_type": "code",
   "execution_count": 24,
   "metadata": {},
   "outputs": [
    {
     "data": {
      "text/html": [
       "<div>\n",
       "<style scoped>\n",
       "    .dataframe tbody tr th:only-of-type {\n",
       "        vertical-align: middle;\n",
       "    }\n",
       "\n",
       "    .dataframe tbody tr th {\n",
       "        vertical-align: top;\n",
       "    }\n",
       "\n",
       "    .dataframe thead th {\n",
       "        text-align: right;\n",
       "    }\n",
       "</style>\n",
       "<table border=\"1\" class=\"dataframe\">\n",
       "  <thead>\n",
       "    <tr style=\"text-align: right;\">\n",
       "      <th></th>\n",
       "      <th>structureId</th>\n",
       "      <th>classification</th>\n",
       "      <th>experimentalTechnique</th>\n",
       "      <th>macromoleculeType</th>\n",
       "      <th>residueCount</th>\n",
       "      <th>resolution</th>\n",
       "      <th>structureMolecularWeight</th>\n",
       "      <th>crystallizationMethod</th>\n",
       "      <th>crystallizationTempK</th>\n",
       "      <th>densityMatthews</th>\n",
       "      <th>densityPercentSol</th>\n",
       "      <th>pdbxDetails</th>\n",
       "      <th>phValue</th>\n",
       "      <th>publicationYear</th>\n",
       "      <th>chainId</th>\n",
       "      <th>sequence</th>\n",
       "      <th>type</th>\n",
       "    </tr>\n",
       "  </thead>\n",
       "  <tbody>\n",
       "    <tr>\n",
       "      <th>67</th>\n",
       "      <td>117E</td>\n",
       "      <td>HYDROLASE</td>\n",
       "      <td>X-RAY DIFFRACTION</td>\n",
       "      <td>Protein</td>\n",
       "      <td>572</td>\n",
       "      <td>2.15</td>\n",
       "      <td>65203.21</td>\n",
       "      <td>NaN</td>\n",
       "      <td>NaN</td>\n",
       "      <td>2.71</td>\n",
       "      <td>54.69</td>\n",
       "      <td>17-19% MPD, 25 MM MES, PH 6.0, 1 MM MNCL2, 0.5...</td>\n",
       "      <td>6.0</td>\n",
       "      <td>1998.0</td>\n",
       "      <td>A</td>\n",
       "      <td>TYTTRQIGAKNTLEYKVYIEKDGKPVSAFHDIPLYADKENNIFNMV...</td>\n",
       "      <td>0</td>\n",
       "    </tr>\n",
       "    <tr>\n",
       "      <th>68</th>\n",
       "      <td>117E</td>\n",
       "      <td>HYDROLASE</td>\n",
       "      <td>X-RAY DIFFRACTION</td>\n",
       "      <td>Protein</td>\n",
       "      <td>572</td>\n",
       "      <td>2.15</td>\n",
       "      <td>65203.21</td>\n",
       "      <td>NaN</td>\n",
       "      <td>NaN</td>\n",
       "      <td>2.71</td>\n",
       "      <td>54.69</td>\n",
       "      <td>17-19% MPD, 25 MM MES, PH 6.0, 1 MM MNCL2, 0.5...</td>\n",
       "      <td>6.0</td>\n",
       "      <td>1998.0</td>\n",
       "      <td>B</td>\n",
       "      <td>TYTTRQIGAKNTLEYKVYIEKDGKPVSAFHDIPLYADKENNIFNMV...</td>\n",
       "      <td>0</td>\n",
       "    </tr>\n",
       "    <tr>\n",
       "      <th>74</th>\n",
       "      <td>11AS</td>\n",
       "      <td>LIGASE</td>\n",
       "      <td>X-RAY DIFFRACTION</td>\n",
       "      <td>Protein</td>\n",
       "      <td>660</td>\n",
       "      <td>2.50</td>\n",
       "      <td>73530.97</td>\n",
       "      <td>NaN</td>\n",
       "      <td>NaN</td>\n",
       "      <td>2.30</td>\n",
       "      <td>47.00</td>\n",
       "      <td>PROTEIN CRYSTALLIZED FROM 45% SATURATED AMMONI...</td>\n",
       "      <td>7.5</td>\n",
       "      <td>1998.0</td>\n",
       "      <td>A</td>\n",
       "      <td>MKTAYIAKQRQISFVKSHFSRQLEERLGLIEVQAPILSRVGDGTQD...</td>\n",
       "      <td>3</td>\n",
       "    </tr>\n",
       "    <tr>\n",
       "      <th>75</th>\n",
       "      <td>11AS</td>\n",
       "      <td>LIGASE</td>\n",
       "      <td>X-RAY DIFFRACTION</td>\n",
       "      <td>Protein</td>\n",
       "      <td>660</td>\n",
       "      <td>2.50</td>\n",
       "      <td>73530.97</td>\n",
       "      <td>NaN</td>\n",
       "      <td>NaN</td>\n",
       "      <td>2.30</td>\n",
       "      <td>47.00</td>\n",
       "      <td>PROTEIN CRYSTALLIZED FROM 45% SATURATED AMMONI...</td>\n",
       "      <td>7.5</td>\n",
       "      <td>1998.0</td>\n",
       "      <td>B</td>\n",
       "      <td>MKTAYIAKQRQISFVKSHFSRQLEERLGLIEVQAPILSRVGDGTQD...</td>\n",
       "      <td>3</td>\n",
       "    </tr>\n",
       "    <tr>\n",
       "      <th>76</th>\n",
       "      <td>11BA</td>\n",
       "      <td>HYDROLASE</td>\n",
       "      <td>X-RAY DIFFRACTION</td>\n",
       "      <td>Protein</td>\n",
       "      <td>248</td>\n",
       "      <td>2.06</td>\n",
       "      <td>28700.28</td>\n",
       "      <td>NaN</td>\n",
       "      <td>NaN</td>\n",
       "      <td>2.48</td>\n",
       "      <td>50.36</td>\n",
       "      <td>pH 4.8</td>\n",
       "      <td>4.8</td>\n",
       "      <td>1998.0</td>\n",
       "      <td>A</td>\n",
       "      <td>KESAAAKFERQHMDSGNSPSSSSNYCNLMMCCRKMTQGKCKPVNTF...</td>\n",
       "      <td>0</td>\n",
       "    </tr>\n",
       "  </tbody>\n",
       "</table>\n",
       "</div>"
      ],
      "text/plain": [
       "   structureId classification experimentalTechnique macromoleculeType  \\\n",
       "67        117E      HYDROLASE     X-RAY DIFFRACTION           Protein   \n",
       "68        117E      HYDROLASE     X-RAY DIFFRACTION           Protein   \n",
       "74        11AS         LIGASE     X-RAY DIFFRACTION           Protein   \n",
       "75        11AS         LIGASE     X-RAY DIFFRACTION           Protein   \n",
       "76        11BA      HYDROLASE     X-RAY DIFFRACTION           Protein   \n",
       "\n",
       "    residueCount  resolution  structureMolecularWeight crystallizationMethod  \\\n",
       "67           572        2.15                  65203.21                   NaN   \n",
       "68           572        2.15                  65203.21                   NaN   \n",
       "74           660        2.50                  73530.97                   NaN   \n",
       "75           660        2.50                  73530.97                   NaN   \n",
       "76           248        2.06                  28700.28                   NaN   \n",
       "\n",
       "    crystallizationTempK  densityMatthews  densityPercentSol  \\\n",
       "67                   NaN             2.71              54.69   \n",
       "68                   NaN             2.71              54.69   \n",
       "74                   NaN             2.30              47.00   \n",
       "75                   NaN             2.30              47.00   \n",
       "76                   NaN             2.48              50.36   \n",
       "\n",
       "                                          pdbxDetails  phValue  \\\n",
       "67  17-19% MPD, 25 MM MES, PH 6.0, 1 MM MNCL2, 0.5...      6.0   \n",
       "68  17-19% MPD, 25 MM MES, PH 6.0, 1 MM MNCL2, 0.5...      6.0   \n",
       "74  PROTEIN CRYSTALLIZED FROM 45% SATURATED AMMONI...      7.5   \n",
       "75  PROTEIN CRYSTALLIZED FROM 45% SATURATED AMMONI...      7.5   \n",
       "76                                             pH 4.8      4.8   \n",
       "\n",
       "    publicationYear chainId  \\\n",
       "67           1998.0       A   \n",
       "68           1998.0       B   \n",
       "74           1998.0       A   \n",
       "75           1998.0       B   \n",
       "76           1998.0       A   \n",
       "\n",
       "                                             sequence  type  \n",
       "67  TYTTRQIGAKNTLEYKVYIEKDGKPVSAFHDIPLYADKENNIFNMV...     0  \n",
       "68  TYTTRQIGAKNTLEYKVYIEKDGKPVSAFHDIPLYADKENNIFNMV...     0  \n",
       "74  MKTAYIAKQRQISFVKSHFSRQLEERLGLIEVQAPILSRVGDGTQD...     3  \n",
       "75  MKTAYIAKQRQISFVKSHFSRQLEERLGLIEVQAPILSRVGDGTQD...     3  \n",
       "76  KESAAAKFERQHMDSGNSPSSSSNYCNLMMCCRKMTQGKCKPVNTF...     0  "
      ]
     },
     "execution_count": 24,
     "metadata": {},
     "output_type": "execute_result"
    }
   ],
   "source": [
    "data.head()"
   ]
  },
  {
   "cell_type": "code",
   "execution_count": 25,
   "metadata": {},
   "outputs": [
    {
     "data": {
      "text/plain": [
       "Index(['structureId', 'classification', 'experimentalTechnique',\n",
       "       'macromoleculeType', 'residueCount', 'resolution',\n",
       "       'structureMolecularWeight', 'crystallizationMethod',\n",
       "       'crystallizationTempK', 'densityMatthews', 'densityPercentSol',\n",
       "       'pdbxDetails', 'phValue', 'publicationYear', 'chainId', 'sequence',\n",
       "       'type'],\n",
       "      dtype='object')"
      ]
     },
     "execution_count": 25,
     "metadata": {},
     "output_type": "execute_result"
    }
   ],
   "source": [
    "data.columns"
   ]
  },
  {
   "cell_type": "code",
   "execution_count": 26,
   "metadata": {},
   "outputs": [
    {
     "data": {
      "text/plain": [
       "HYDROLASE            46336\n",
       "TRANSFERASE          36424\n",
       "OXIDOREDUCTASE       34322\n",
       "IMMUNE SYSTEM        15615\n",
       "LYASE                11682\n",
       "TRANSCRIPTION         8919\n",
       "VIRAL PROTEIN         8495\n",
       "TRANSPORT PROTEIN     8371\n",
       "ISOMERASE             6356\n",
       "LIGASE                4964\n",
       "Name: classification, dtype: int64"
      ]
     },
     "execution_count": 26,
     "metadata": {},
     "output_type": "execute_result"
    }
   ],
   "source": [
    "data.classification.value_counts()"
   ]
  },
  {
   "cell_type": "code",
   "execution_count": 27,
   "metadata": {},
   "outputs": [
    {
     "data": {
      "text/plain": [
       "0    46336\n",
       "7    36424\n",
       "5    34322\n",
       "1    15615\n",
       "4    11682\n",
       "6     8919\n",
       "9     8495\n",
       "8     8371\n",
       "2     6356\n",
       "3     4964\n",
       "Name: type, dtype: int64"
      ]
     },
     "execution_count": 27,
     "metadata": {},
     "output_type": "execute_result"
    }
   ],
   "source": [
    "data.type.value_counts()"
   ]
  },
  {
   "cell_type": "code",
   "execution_count": 28,
   "metadata": {},
   "outputs": [
    {
     "data": {
      "text/html": [
       "<div>\n",
       "<style scoped>\n",
       "    .dataframe tbody tr th:only-of-type {\n",
       "        vertical-align: middle;\n",
       "    }\n",
       "\n",
       "    .dataframe tbody tr th {\n",
       "        vertical-align: top;\n",
       "    }\n",
       "\n",
       "    .dataframe thead th {\n",
       "        text-align: right;\n",
       "    }\n",
       "</style>\n",
       "<table border=\"1\" class=\"dataframe\">\n",
       "  <thead>\n",
       "    <tr style=\"text-align: right;\">\n",
       "      <th></th>\n",
       "      <th>structureId</th>\n",
       "      <th>classification</th>\n",
       "      <th>experimentalTechnique</th>\n",
       "      <th>macromoleculeType</th>\n",
       "      <th>residueCount</th>\n",
       "      <th>resolution</th>\n",
       "      <th>structureMolecularWeight</th>\n",
       "      <th>crystallizationMethod</th>\n",
       "      <th>crystallizationTempK</th>\n",
       "      <th>densityMatthews</th>\n",
       "      <th>densityPercentSol</th>\n",
       "      <th>pdbxDetails</th>\n",
       "      <th>phValue</th>\n",
       "      <th>publicationYear</th>\n",
       "      <th>chainId</th>\n",
       "      <th>sequence</th>\n",
       "      <th>type</th>\n",
       "    </tr>\n",
       "  </thead>\n",
       "  <tbody>\n",
       "    <tr>\n",
       "      <th>433061</th>\n",
       "      <td>5MRR</td>\n",
       "      <td>HYDROLASE</td>\n",
       "      <td>X-RAY DIFFRACTION</td>\n",
       "      <td>Protein</td>\n",
       "      <td>796</td>\n",
       "      <td>1.35</td>\n",
       "      <td>81148.36</td>\n",
       "      <td>VAPOR DIFFUSION, HANGING DROP</td>\n",
       "      <td>295.0</td>\n",
       "      <td>2.29</td>\n",
       "      <td>46.23</td>\n",
       "      <td>1,4M Lithium sulphate, 0,1M BisTris</td>\n",
       "      <td>6.5</td>\n",
       "      <td>NaN</td>\n",
       "      <td>D</td>\n",
       "      <td>VNVLGGIEYSINNATLCSVGFSVTRGATKGFVTAGHCGGVGAIVRI...</td>\n",
       "      <td>0</td>\n",
       "    </tr>\n",
       "    <tr>\n",
       "      <th>154257</th>\n",
       "      <td>3BTJ</td>\n",
       "      <td>TRANSCRIPTION</td>\n",
       "      <td>X-RAY DIFFRACTION</td>\n",
       "      <td>Protein</td>\n",
       "      <td>752</td>\n",
       "      <td>2.98</td>\n",
       "      <td>90702.36</td>\n",
       "      <td>VAPOR DIFFUSION, HANGING DROP</td>\n",
       "      <td>298.0</td>\n",
       "      <td>3.94</td>\n",
       "      <td>68.77</td>\n",
       "      <td>Ammonium sulphate, pH 5.0, VAPOR DIFFUSION, HA...</td>\n",
       "      <td>5.0</td>\n",
       "      <td>2008.0</td>\n",
       "      <td>B</td>\n",
       "      <td>MNLKDKILGVAKELFIKNGYNATTTGEIVKLSESSKGNLYYHFKTK...</td>\n",
       "      <td>6</td>\n",
       "    </tr>\n",
       "    <tr>\n",
       "      <th>132367</th>\n",
       "      <td>2W1L</td>\n",
       "      <td>HYDROLASE</td>\n",
       "      <td>X-RAY DIFFRACTION</td>\n",
       "      <td>Protein</td>\n",
       "      <td>129</td>\n",
       "      <td>1.51</td>\n",
       "      <td>14637.77</td>\n",
       "      <td>NaN</td>\n",
       "      <td>NaN</td>\n",
       "      <td>1.95</td>\n",
       "      <td>37.00</td>\n",
       "      <td>PLEASE SEE REFERENCE., pH 4.2</td>\n",
       "      <td>4.2</td>\n",
       "      <td>2008.0</td>\n",
       "      <td>A</td>\n",
       "      <td>KVFGRCELAAAMKRHGLDNYRGYSLGNWVCAAKFESNFNTQATNRN...</td>\n",
       "      <td>0</td>\n",
       "    </tr>\n",
       "  </tbody>\n",
       "</table>\n",
       "</div>"
      ],
      "text/plain": [
       "       structureId classification experimentalTechnique macromoleculeType  \\\n",
       "433061        5MRR      HYDROLASE     X-RAY DIFFRACTION           Protein   \n",
       "154257        3BTJ  TRANSCRIPTION     X-RAY DIFFRACTION           Protein   \n",
       "132367        2W1L      HYDROLASE     X-RAY DIFFRACTION           Protein   \n",
       "\n",
       "        residueCount  resolution  structureMolecularWeight  \\\n",
       "433061           796        1.35                  81148.36   \n",
       "154257           752        2.98                  90702.36   \n",
       "132367           129        1.51                  14637.77   \n",
       "\n",
       "                crystallizationMethod  crystallizationTempK  densityMatthews  \\\n",
       "433061  VAPOR DIFFUSION, HANGING DROP                 295.0             2.29   \n",
       "154257  VAPOR DIFFUSION, HANGING DROP                 298.0             3.94   \n",
       "132367                            NaN                   NaN             1.95   \n",
       "\n",
       "        densityPercentSol                                        pdbxDetails  \\\n",
       "433061              46.23                1,4M Lithium sulphate, 0,1M BisTris   \n",
       "154257              68.77  Ammonium sulphate, pH 5.0, VAPOR DIFFUSION, HA...   \n",
       "132367              37.00                      PLEASE SEE REFERENCE., pH 4.2   \n",
       "\n",
       "        phValue  publicationYear chainId  \\\n",
       "433061      6.5              NaN       D   \n",
       "154257      5.0           2008.0       B   \n",
       "132367      4.2           2008.0       A   \n",
       "\n",
       "                                                 sequence  type  \n",
       "433061  VNVLGGIEYSINNATLCSVGFSVTRGATKGFVTAGHCGGVGAIVRI...     0  \n",
       "154257  MNLKDKILGVAKELFIKNGYNATTTGEIVKLSESSKGNLYYHFKTK...     6  \n",
       "132367  KVFGRCELAAAMKRHGLDNYRGYSLGNWVCAAKFESNFNTQATNRN...     0  "
      ]
     },
     "execution_count": 28,
     "metadata": {},
     "output_type": "execute_result"
    }
   ],
   "source": [
    "# permute/scramble/shuffle rows of the dataframe\n",
    "data = data.sample(frac=1)\n",
    "data.head(3)"
   ]
  },
  {
   "cell_type": "code",
   "execution_count": 29,
   "metadata": {},
   "outputs": [
    {
     "data": {
      "text/plain": [
       "structureId                  object\n",
       "classification               object\n",
       "experimentalTechnique        object\n",
       "macromoleculeType            object\n",
       "residueCount                  int64\n",
       "resolution                  float64\n",
       "structureMolecularWeight    float64\n",
       "crystallizationMethod        object\n",
       "crystallizationTempK        float64\n",
       "densityMatthews             float64\n",
       "densityPercentSol           float64\n",
       "pdbxDetails                  object\n",
       "phValue                     float64\n",
       "publicationYear             float64\n",
       "chainId                      object\n",
       "sequence                     object\n",
       "type                          int64\n",
       "dtype: object"
      ]
     },
     "execution_count": 29,
     "metadata": {},
     "output_type": "execute_result"
    }
   ],
   "source": [
    "data.dtypes"
   ]
  },
  {
   "cell_type": "code",
   "execution_count": 30,
   "metadata": {},
   "outputs": [
    {
     "data": {
      "text/plain": [
       "structureId                     0\n",
       "classification                  0\n",
       "experimentalTechnique           0\n",
       "macromoleculeType               0\n",
       "residueCount                    0\n",
       "resolution                   3106\n",
       "structureMolecularWeight        0\n",
       "crystallizationMethod       47376\n",
       "crystallizationTempK        45654\n",
       "densityMatthews             11025\n",
       "densityPercentSol           10974\n",
       "pdbxDetails                 16291\n",
       "phValue                     36655\n",
       "publicationYear             30699\n",
       "chainId                         1\n",
       "sequence                        1\n",
       "type                            0\n",
       "dtype: int64"
      ]
     },
     "execution_count": 30,
     "metadata": {},
     "output_type": "execute_result"
    }
   ],
   "source": [
    "#data.isna.sum()\n",
    "data.isnull().sum(axis = 0)"
   ]
  },
  {
   "cell_type": "code",
   "execution_count": 31,
   "metadata": {
    "collapsed": true
   },
   "outputs": [],
   "source": [
    "# remove nan from 'sequence' column\n",
    "data = data[data['sequence'].notnull()]"
   ]
  },
  {
   "cell_type": "code",
   "execution_count": 32,
   "metadata": {},
   "outputs": [
    {
     "data": {
      "text/plain": [
       "structureId                     0\n",
       "classification                  0\n",
       "experimentalTechnique           0\n",
       "macromoleculeType               0\n",
       "residueCount                    0\n",
       "resolution                   3106\n",
       "structureMolecularWeight        0\n",
       "crystallizationMethod       47376\n",
       "crystallizationTempK        45654\n",
       "densityMatthews             11025\n",
       "densityPercentSol           10974\n",
       "pdbxDetails                 16291\n",
       "phValue                     36655\n",
       "publicationYear             30699\n",
       "chainId                         1\n",
       "sequence                        0\n",
       "type                            0\n",
       "dtype: int64"
      ]
     },
     "execution_count": 32,
     "metadata": {},
     "output_type": "execute_result"
    }
   ],
   "source": [
    "data.isnull().sum(axis = 0)"
   ]
  },
  {
   "cell_type": "markdown",
   "metadata": {},
   "source": [
    "## Transform the protein sequence data with CountVectorizer to get peptide frequency. Split the data into training & test sets."
   ]
  },
  {
   "cell_type": "code",
   "execution_count": 33,
   "metadata": {
    "collapsed": true
   },
   "outputs": [],
   "source": [
    "# In this case, tripeptide frequency is used for analysis\n",
    "vect_3 = CountVectorizer(min_df=1,token_pattern=r'\\w{1}',ngram_range=(3,3))"
   ]
  },
  {
   "cell_type": "code",
   "execution_count": 34,
   "metadata": {
    "collapsed": true
   },
   "outputs": [],
   "source": [
    "X = vect_3.fit_transform(data.sequence)\n",
    "y = data.type"
   ]
  },
  {
   "cell_type": "code",
   "execution_count": 35,
   "metadata": {},
   "outputs": [
    {
     "name": "stdout",
     "output_type": "stream",
     "text": [
      "(145186, 8829) (145186,)\n",
      "(36297, 8829) (36297,)\n"
     ]
    }
   ],
   "source": [
    "# Split the data into training and test sets\n",
    "X_train, X_test, y_train, y_test = train_test_split(X,y, test_size=0.2,random_state =42)\n",
    "print(X_train.shape, y_train.shape)\n",
    "print(X_test.shape, y_test.shape)"
   ]
  },
  {
   "cell_type": "code",
   "execution_count": 36,
   "metadata": {},
   "outputs": [
    {
     "data": {
      "text/plain": [
       "0    9200\n",
       "7    7209\n",
       "5    6941\n",
       "1    3194\n",
       "4    2313\n",
       "6    1810\n",
       "9    1703\n",
       "8    1682\n",
       "2    1278\n",
       "3     967\n",
       "Name: type, dtype: int64"
      ]
     },
     "execution_count": 36,
     "metadata": {},
     "output_type": "execute_result"
    }
   ],
   "source": [
    "y_test.value_counts()"
   ]
  },
  {
   "cell_type": "markdown",
   "metadata": {},
   "source": [
    "## Decision Tree Classifier"
   ]
  },
  {
   "cell_type": "code",
   "execution_count": 41,
   "metadata": {},
   "outputs": [
    {
     "name": "stdout",
     "output_type": "stream",
     "text": [
      "Decision Tree Classifier Score: 0.95\n"
     ]
    }
   ],
   "source": [
    "from sklearn.tree import DecisionTreeClassifier\n",
    "#dtc = DecisionTreeClassifier(random_state=0).fit(X_train, y_train)\n",
    "dtc = DecisionTreeClassifier(random_state=0).fit(X_train, y_train)\n",
    "predictions = dtc.predict(X_test)\n",
    "print(\"Decision Tree Classifier Score: {:.2f}\".format(dtc.score(X_test, y_test)))"
   ]
  },
  {
   "cell_type": "code",
   "execution_count": 42,
   "metadata": {},
   "outputs": [
    {
     "name": "stdout",
     "output_type": "stream",
     "text": [
      "Confusion Matrix for Decision Tree Model\n",
      "\n",
      "[[8821   21   12   17   19   83   38  110   40   39]\n",
      " [  74 3026    2    4    3   12   13   21    7   32]\n",
      " [  35    7 1196    3    8    8    6    9    4    2]\n",
      " [  35    7    2  873    3   10    6   27    3    1]\n",
      " [  22    1    7    8 2217   21    5   21    4    7]\n",
      " [  72   12    5    8   16 6746   21   43   11    7]\n",
      " [  74   14    1   20    2   20 1597   63   14    5]\n",
      " [ 122   14    8   16   29   51   84 6855   18   12]\n",
      " [  51    9    3    2    5   35    8   26 1540    3]\n",
      " [  35   14    1    1    1   16    4   15    5 1611]]\n"
     ]
    }
   ],
   "source": [
    "# Generate Confusion Matrix for Decision Tree Classifier\n",
    "actual = y_test\n",
    "predictions = dtc.predict(X_test)\n",
    "print('Confusion Matrix for Decision Tree Model')\n",
    "print()\n",
    "cm = confusion_matrix(actual,predictions)\n",
    "print(cm)"
   ]
  },
  {
   "cell_type": "code",
   "execution_count": 43,
   "metadata": {},
   "outputs": [
    {
     "data": {
      "image/png": "[encoded data removed]",
      "text/plain": [
       "<matplotlib.figure.Figure at 0x1a1a77f630>"
      ]
     },
     "metadata": {},
     "output_type": "display_data"
    }
   ],
   "source": [
    "# plot of confusion matrix\n",
    "plt.figure(figsize=(10,5))\n",
    "plt.matshow(cm, fignum=1)\n",
    "\n",
    "plt.title('Confusion Matrix Plot for Decision Tree Model')\n",
    "plt.colorbar()\n",
    "plt.xlabel('Predicted')\n",
    "plt.ylabel('Actual')\n",
    "\n",
    "plt.show()"
   ]
  },
  {
   "cell_type": "code",
   "execution_count": null,
   "metadata": {
    "collapsed": true
   },
   "outputs": [],
   "source": []
  }
 ],
 "metadata": {
  "kernelspec": {
   "display_name": "Python [default]",
   "language": "python",
   "name": "python3"
  },
  "language_info": {
   "codemirror_mode": {
    "name": "ipython",
    "version": 3
   },
   "file_extension": ".py",
   "mimetype": "text/x-python",
   "name": "python",
   "nbconvert_exporter": "python",
   "pygments_lexer": "ipython3",
   "version": "3.6.9"
  }
 },
 "nbformat": 4,
 "nbformat_minor": 2
}
