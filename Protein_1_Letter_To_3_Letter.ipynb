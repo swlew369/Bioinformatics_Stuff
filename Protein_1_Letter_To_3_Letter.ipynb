{
 "cells": [
  {
   "cell_type": "code",
   "execution_count": 1,
   "metadata": {
    "collapsed": true
   },
   "outputs": [],
   "source": [
    "import pandas as pd\n",
    "import seaborn as sns\n",
    "import time\n",
    "import re\n",
    "import nltk\n",
    "import math\n",
    "from sklearn import svm\n",
    "from sklearn.preprocessing import StandardScaler\n",
    "from sklearn.model_selection import train_test_split, GridSearchCV\n",
    "from sklearn.linear_model import LogisticRegression\n",
    "from sklearn.neighbors import KNeighborsClassifier\n",
    "from sklearn.ensemble import RandomForestClassifier\n",
    "from nltk.corpus import stopwords\n",
    "from sklearn.feature_extraction.text import TfidfVectorizer\n",
    "from sklearn.feature_extraction.text import CountVectorizer\n"
   ]
  },
  {
   "cell_type": "code",
   "execution_count": 2,
   "metadata": {},
   "outputs": [
    {
     "name": "stdout",
     "output_type": "stream",
     "text": [
      "Gly\n"
     ]
    }
   ],
   "source": [
    "aa_d = {'a':'Ala',\n",
    "    'c':'Cys',\n",
    "    'd':'Asp',\n",
    "    'e':'Glu',\n",
    "    'f':'Phe',\n",
    "    'g':'Gly',\n",
    "    'h':'His',\n",
    "    'i':'Ile',\n",
    "    'k':'Lys',\n",
    "    'l':'Leu',\n",
    "    'm':'Met',\n",
    "    'n':'Asn',\n",
    "    'p':'Pro',\n",
    "    'q':'Gln',\n",
    "    'r':'Arg',\n",
    "    's':'Ser',\n",
    "    't':'Thr',\n",
    "    'v':'Val',\n",
    "    'w':'Trp',\n",
    "    'y':'Tyr' }\n",
    "\n",
    "print(aa_d['g'])"
   ]
  },
  {
   "cell_type": "markdown",
   "metadata": {},
   "source": [
    "## AMINO ACID CODE TRANSLATION FROM 1 LETTER TO 3 LETTER WORKS!"
   ]
  },
  {
   "cell_type": "code",
   "execution_count": 3,
   "metadata": {
    "collapsed": true
   },
   "outputs": [],
   "source": [
    "def amino2amino(aa):\n",
    "    aa_d = {'a':'Ala',\n",
    "    'c':'Cys',\n",
    "    'd':'Asp',\n",
    "    'e':'Glu',\n",
    "    'f':'Phe',\n",
    "    'g':'Gly',\n",
    "    'h':'His',\n",
    "    'i':'Ile',\n",
    "    'k':'Lys',\n",
    "    'l':'Leu',\n",
    "    'm':'Met',\n",
    "    'n':'Asn',\n",
    "    'p':'Pro',\n",
    "    'q':'Gln',\n",
    "    'r':'Arg',\n",
    "    's':'Ser',\n",
    "    't':'Thr',\n",
    "    'v':'Val',\n",
    "    'w':'Trp',\n",
    "    'y':'Tyr' }\n",
    "    \n",
    "    if aa not in aa_d.keys():\n",
    "        return 'X'\n",
    "    else:\n",
    "        return aa_d[aa]\n",
    "    \n",
    "    "
   ]
  },
  {
   "cell_type": "code",
   "execution_count": 4,
   "metadata": {},
   "outputs": [
    {
     "name": "stdout",
     "output_type": "stream",
     "text": [
      "Trp\n"
     ]
    }
   ],
   "source": [
    "# Can convert to lowercase before using as input to function amino2amino()\n",
    "amino = 'W'\n",
    "print(amino2amino(amino.lower()))"
   ]
  },
  {
   "cell_type": "code",
   "execution_count": 5,
   "metadata": {},
   "outputs": [
    {
     "data": {
      "text/plain": [
       "['A', 'W', 'K', 'G', 'G', 'F']"
      ]
     },
     "execution_count": 5,
     "metadata": {},
     "output_type": "execute_result"
    }
   ],
   "source": [
    "seq1 = 'AWKGGF'\n",
    "aa_1 = list(seq1)\n",
    "aa_1"
   ]
  },
  {
   "cell_type": "code",
   "execution_count": 6,
   "metadata": {
    "collapsed": true
   },
   "outputs": [],
   "source": [
    "aa_seq1 = []\n",
    "for aa in aa_1:\n",
    "    ami = amino2amino(aa.lower())\n",
    "    aa_seq1.append(ami)"
   ]
  },
  {
   "cell_type": "code",
   "execution_count": 7,
   "metadata": {},
   "outputs": [
    {
     "name": "stdout",
     "output_type": "stream",
     "text": [
      "Ala\n",
      "Trp\n",
      "Lys\n",
      "Gly\n",
      "Gly\n",
      "Phe\n"
     ]
    }
   ],
   "source": [
    "for item in aa_seq1:\n",
    "    print(item)"
   ]
  },
  {
   "cell_type": "code",
   "execution_count": 8,
   "metadata": {},
   "outputs": [
    {
     "data": {
      "text/plain": [
       "['W', 'A', 'L', 'A', 'L', 'A', 'L', 'A', 'L', 'W']"
      ]
     },
     "execution_count": 8,
     "metadata": {},
     "output_type": "execute_result"
    }
   ],
   "source": [
    "seq2 = 'WALALALALW'\n",
    "aa_2 = list(seq2)\n",
    "aa_2"
   ]
  },
  {
   "cell_type": "code",
   "execution_count": 9,
   "metadata": {
    "collapsed": true
   },
   "outputs": [],
   "source": [
    "aa_seq2 = []\n",
    "for aa in aa_2:\n",
    "    ami = amino2amino(aa.lower())\n",
    "    aa_seq2.append(ami)"
   ]
  },
  {
   "cell_type": "code",
   "execution_count": 10,
   "metadata": {},
   "outputs": [
    {
     "name": "stdout",
     "output_type": "stream",
     "text": [
      "Trp\n",
      "Ala\n",
      "Leu\n",
      "Ala\n",
      "Leu\n",
      "Ala\n",
      "Leu\n",
      "Ala\n",
      "Leu\n",
      "Trp\n"
     ]
    }
   ],
   "source": [
    "for item in aa_seq2:\n",
    "    print(item)"
   ]
  },
  {
   "cell_type": "code",
   "execution_count": 11,
   "metadata": {},
   "outputs": [
    {
     "data": {
      "text/plain": [
       "'Ala Trp Lys Gly Gly Phe'"
      ]
     },
     "execution_count": 11,
     "metadata": {},
     "output_type": "execute_result"
    }
   ],
   "source": [
    "seq1a = ' '.join(aa_seq1)\n",
    "seq1a"
   ]
  },
  {
   "cell_type": "code",
   "execution_count": 12,
   "metadata": {},
   "outputs": [
    {
     "data": {
      "text/plain": [
       "'Trp Ala Leu Ala Leu Ala Leu Ala Leu Trp'"
      ]
     },
     "execution_count": 12,
     "metadata": {},
     "output_type": "execute_result"
    }
   ],
   "source": [
    "seq2a = ' '.join(aa_seq2)\n",
    "seq2a"
   ]
  },
  {
   "cell_type": "code",
   "execution_count": 13,
   "metadata": {},
   "outputs": [
    {
     "data": {
      "text/plain": [
       "['Ala Trp Lys Gly Gly Phe', 'Trp Ala Leu Ala Leu Ala Leu Ala Leu Trp']"
      ]
     },
     "execution_count": 13,
     "metadata": {},
     "output_type": "execute_result"
    }
   ],
   "source": [
    "proteins = [seq1a,seq2a]\n",
    "proteins"
   ]
  },
  {
   "cell_type": "code",
   "execution_count": 14,
   "metadata": {},
   "outputs": [
    {
     "name": "stdout",
     "output_type": "stream",
     "text": [
      "{'ala': 0, 'trp': 5, 'lys': 3, 'gly': 1, 'phe': 4, 'leu': 2}\n",
      "\n",
      "[ 1.          1.40546511  1.40546511  1.40546511  1.40546511  1.        ]\n"
     ]
    }
   ],
   "source": [
    "# create the transform\n",
    "vectorizer = TfidfVectorizer()\n",
    "# tokenize and build vocab\n",
    "vectorizer.fit(proteins)\n",
    "# summarize\n",
    "print(vectorizer.vocabulary_)\n",
    "print()\n",
    "print(vectorizer.idf_)"
   ]
  },
  {
   "cell_type": "code",
   "execution_count": 15,
   "metadata": {
    "collapsed": true
   },
   "outputs": [],
   "source": [
    "vector = CountVectorizer()\n",
    "vectors = vector.fit_transform(aa_seq1,aa_seq2)"
   ]
  },
  {
   "cell_type": "code",
   "execution_count": 16,
   "metadata": {},
   "outputs": [
    {
     "data": {
      "text/plain": [
       "<6x5 sparse matrix of type '<class 'numpy.int64'>'\n",
       "\twith 6 stored elements in Compressed Sparse Row format>"
      ]
     },
     "execution_count": 16,
     "metadata": {},
     "output_type": "execute_result"
    }
   ],
   "source": [
    "vectors"
   ]
  },
  {
   "cell_type": "code",
   "execution_count": 17,
   "metadata": {},
   "outputs": [
    {
     "name": "stdout",
     "output_type": "stream",
     "text": [
      "[[1 0 0 0 0]\n",
      " [0 0 0 0 1]\n",
      " [0 0 1 0 0]\n",
      " [0 1 0 0 0]\n",
      " [0 1 0 0 0]\n",
      " [0 0 0 1 0]]\n"
     ]
    }
   ],
   "source": [
    "data = vector.fit_transform(aa_seq1,aa_seq2).toarray()\n",
    "print(data)"
   ]
  },
  {
   "cell_type": "code",
   "execution_count": 18,
   "metadata": {},
   "outputs": [
    {
     "name": "stdout",
     "output_type": "stream",
     "text": [
      "['ala', 'gly', 'lys', 'phe', 'trp']\n"
     ]
    }
   ],
   "source": [
    "print(vector.get_feature_names())"
   ]
  },
  {
   "cell_type": "markdown",
   "metadata": {},
   "source": [
    "## HOLD ON, HOLD ON... NO NEED TO CONVERT 1 LETTER AMINO ACID CODE INTO 3 LETTER AMINO ACID CODE,... SIMPLY SET TfidVectorizer( ) TOKEN PATTERN TO LOOK FOR ONLY 1 CHARACTER WORDS AND YOU ARE GOOD TO GO! IMPORTANT REMOVE ENGLISH STOP WORD ARGUMENT WHEN CREATING  TfidVectorizer( ) TO ALLOW ALANINE (A) TO BE COUNTED AS A WORD!"
   ]
  },
  {
   "cell_type": "markdown",
   "metadata": {},
   "source": [
    "## Important: Use token_pattern = r'\\w{1}' when using TfidVectorizer or CountVectorizer when only looking for single letters."
   ]
  },
  {
   "cell_type": "code",
   "execution_count": 19,
   "metadata": {
    "collapsed": true
   },
   "outputs": [],
   "source": [
    "word_vectorizer = TfidfVectorizer(\n",
    "    sublinear_tf=True,\n",
    "    strip_accents='unicode',\n",
    "    analyzer='word',\n",
    "    token_pattern=r'\\w{1}',  #vectorize 1-character words only\n",
    "    ngram_range=(1, 1),\n",
    "    max_features=30000)"
   ]
  },
  {
   "cell_type": "code",
   "execution_count": 20,
   "metadata": {
    "collapsed": true
   },
   "outputs": [],
   "source": [
    "seq1 = 'AWKGGFALW'\n",
    "seq2 = 'WALALALALWKG'\n",
    "prot_list=[seq1,seq2]"
   ]
  },
  {
   "cell_type": "code",
   "execution_count": 21,
   "metadata": {},
   "outputs": [
    {
     "data": {
      "text/plain": [
       "TfidfVectorizer(analyzer='word', binary=False, decode_error='strict',\n",
       "                dtype=<class 'numpy.float64'>, encoding='utf-8',\n",
       "                input='content', lowercase=True, max_df=1.0, max_features=30000,\n",
       "                min_df=1, ngram_range=(1, 1), norm='l2', preprocessor=None,\n",
       "                smooth_idf=True, stop_words=None, strip_accents='unicode',\n",
       "                sublinear_tf=True, token_pattern='\\\\w{1}', tokenizer=None,\n",
       "                use_idf=True, vocabulary=None)"
      ]
     },
     "execution_count": 21,
     "metadata": {},
     "output_type": "execute_result"
    }
   ],
   "source": [
    "word_vectorizer.fit(prot_list)"
   ]
  },
  {
   "cell_type": "code",
   "execution_count": 22,
   "metadata": {},
   "outputs": [
    {
     "data": {
      "text/plain": [
       "['a', 'f', 'g', 'k', 'l', 'w']"
      ]
     },
     "execution_count": 22,
     "metadata": {},
     "output_type": "execute_result"
    }
   ],
   "source": [
    "feature_names = word_vectorizer.get_feature_names()\n",
    "feature_names"
   ]
  },
  {
   "cell_type": "code",
   "execution_count": 23,
   "metadata": {},
   "outputs": [
    {
     "data": {
      "text/plain": [
       "CountVectorizer(analyzer='word', binary=False, decode_error='strict',\n",
       "                dtype=<class 'numpy.int64'>, encoding='utf-8', input='content',\n",
       "                lowercase=True, max_df=1.0, max_features=None, min_df=1,\n",
       "                ngram_range=(1, 1), preprocessor=None, stop_words=None,\n",
       "                strip_accents=None, token_pattern='\\\\w{1}', tokenizer=None,\n",
       "                vocabulary=None)"
      ]
     },
     "execution_count": 23,
     "metadata": {},
     "output_type": "execute_result"
    }
   ],
   "source": [
    "vectorizer = CountVectorizer(min_df=1,token_pattern=r'\\w{1}',ngram_range=(1, 1))\n",
    "#vectorizer = CountVectorizer(min_df=1,token_pattern=r'\\w{1}',ngram_range=(2, 2))\n",
    "vectorizer.fit(prot_list)"
   ]
  },
  {
   "cell_type": "code",
   "execution_count": 24,
   "metadata": {},
   "outputs": [
    {
     "name": "stdout",
     "output_type": "stream",
     "text": [
      "Amino Acids for each protein:\n",
      "['a', 'f', 'g', 'k', 'l', 'w']\n"
     ]
    }
   ],
   "source": [
    "# See this token pattern,'\\\\w{1}' , works with single letters which is needed to study amino acid composition!\n",
    "print(\"Amino Acids for each protein:\")\n",
    "print(vectorizer.get_feature_names())\n"
   ]
  },
  {
   "cell_type": "code",
   "execution_count": 25,
   "metadata": {},
   "outputs": [
    {
     "name": "stdout",
     "output_type": "stream",
     "text": [
      "\n",
      "Transformed Single Amino Acid vector is \n",
      "[[2 1 2 1 1 2]\n",
      " [4 0 1 1 4 2]]\n"
     ]
    }
   ],
   "source": [
    "x = vectorizer.transform(prot_list)\n",
    "x = x.toarray()\n",
    "print(\"\")\n",
    "print(\"Transformed Single Amino Acid vector is \\n{}\".format(x))"
   ]
  },
  {
   "cell_type": "code",
   "execution_count": 26,
   "metadata": {},
   "outputs": [
    {
     "name": "stdout",
     "output_type": "stream",
     "text": [
      "Dipeptides for each protein:\n",
      "['a l', 'a w', 'f a', 'g f', 'g g', 'k g', 'l a', 'l w', 'w a', 'w k']\n"
     ]
    }
   ],
   "source": [
    "vect_2 = CountVectorizer(min_df=1,token_pattern=r'\\w{1}',ngram_range=(2,2))\n",
    "vect_2.fit(prot_list)\n",
    "print(\"Dipeptides for each protein:\")\n",
    "print(vect_2.get_feature_names())"
   ]
  },
  {
   "cell_type": "code",
   "execution_count": 27,
   "metadata": {},
   "outputs": [
    {
     "name": "stdout",
     "output_type": "stream",
     "text": [
      "\n",
      "Transformed Dipeptide vector is \n",
      "[[1 1 1 1 1 1 0 1 0 1]\n",
      " [4 0 0 0 0 1 3 1 1 1]]\n"
     ]
    }
   ],
   "source": [
    "x2 = vect_2.transform(prot_list)\n",
    "x2 = x2.toarray()\n",
    "print(\"\")\n",
    "print(\"Transformed Dipeptide vector is \\n{}\".format(x2))"
   ]
  },
  {
   "cell_type": "code",
   "execution_count": 28,
   "metadata": {},
   "outputs": [
    {
     "name": "stdout",
     "output_type": "stream",
     "text": [
      "Tripeptides for each protein:\n",
      "['a l a', 'a l w', 'a w k', 'f a l', 'g f a', 'g g f', 'k g g', 'l a l', 'l w k', 'w a l', 'w k g']\n"
     ]
    }
   ],
   "source": [
    "vect_3 = CountVectorizer(min_df=1,token_pattern=r'\\w{1}',ngram_range=(3, 3))\n",
    "vect_3.fit(prot_list)\n",
    "print(\"Tripeptides for each protein:\")\n",
    "print(vect_3.get_feature_names())\n"
   ]
  },
  {
   "cell_type": "code",
   "execution_count": 29,
   "metadata": {},
   "outputs": [
    {
     "name": "stdout",
     "output_type": "stream",
     "text": [
      "\n",
      "Transformed tripeptide vector is \n",
      "[[0 1 1 1 1 1 1 0 0 0 1]\n",
      " [3 1 0 0 0 0 0 3 1 1 1]]\n"
     ]
    }
   ],
   "source": [
    "x3 = vect_3.transform(prot_list)\n",
    "x3 = x3.toarray()\n",
    "print(\"\")\n",
    "print(\"Transformed tripeptide vector is \\n{}\".format(x3))"
   ]
  }
 ],
 "metadata": {
  "kernelspec": {
   "display_name": "Python [default]",
   "language": "python",
   "name": "python3"
  },
  "language_info": {
   "codemirror_mode": {
    "name": "ipython",
    "version": 3
   },
   "file_extension": ".py",
   "mimetype": "text/x-python",
   "name": "python",
   "nbconvert_exporter": "python",
   "pygments_lexer": "ipython3",
   "version": "3.6.9"
  }
 },
 "nbformat": 4,
 "nbformat_minor": 2
}
