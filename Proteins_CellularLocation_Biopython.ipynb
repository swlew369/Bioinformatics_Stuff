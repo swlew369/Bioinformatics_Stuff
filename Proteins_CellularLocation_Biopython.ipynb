{
 "cells": [
  {
   "cell_type": "code",
   "execution_count": 1,
   "metadata": {
    "collapsed": true
   },
   "outputs": [],
   "source": [
    "import pandas as pd\n",
    "import seaborn as sns\n",
    "import numpy as np\n",
    "import time\n",
    "import re\n",
    "import nltk\n",
    "import math\n",
    "import os\n",
    "import matplotlib.pyplot as plt\n",
    "import sklearn.metrics\n",
    "from sklearn import svm\n",
    "from sklearn.ensemble import GradientBoostingClassifier\n",
    "from sklearn.tree import DecisionTreeClassifier\n",
    "from sklearn.preprocessing import StandardScaler\n",
    "from sklearn.model_selection import train_test_split, GridSearchCV\n",
    "from sklearn.linear_model import LogisticRegression\n",
    "from sklearn.neighbors import KNeighborsClassifier\n",
    "from sklearn.ensemble import RandomForestClassifier\n",
    "from sklearn.naive_bayes import MultinomialNB\n",
    "from nltk.corpus import stopwords\n",
    "from sklearn.feature_extraction.text import TfidfVectorizer\n",
    "from sklearn.feature_extraction.text import CountVectorizer\n",
    "from sklearn.metrics import roc_auc_score\n",
    "import sklearn.metrics\n",
    "from sklearn.metrics import confusion_matrix\n",
    "from Bio.SeqUtils.ProtParam import ProteinAnalysis\n",
    "from imblearn.over_sampling import SMOTE\n",
    "\n",
    "%matplotlib inline\n"
   ]
  },
  {
   "cell_type": "code",
   "execution_count": 2,
   "metadata": {
    "collapsed": true
   },
   "outputs": [],
   "source": [
    "def fasta_parser(filename):\n",
    "    if os.path.exists(filename):\n",
    "        pass\n",
    "    else:                     \n",
    "        print(\"The file, %s, does not exist\" % filename)\n",
    "        \n",
    "    file = open(filename,mode='r')\n",
    "    rec_all = file.read()\n",
    "    file.close()\n",
    "    # remove all whitespace from string all_of_it\n",
    "    rec_all = rec_all.replace(' ','')\n",
    "    # split records by > \n",
    "    records = rec_all.split('>')\n",
    "    # Parse out the headers & sequences for each record\n",
    "    headers = []\n",
    "    sequences = []\n",
    "    for rec in records:\n",
    "        s = ''\n",
    "        data = rec.split('\\n')\n",
    "        sq = s.join(data[1:])\n",
    "        if len(data[0]) > 0:\n",
    "            headers.append(data[0])\n",
    "   \n",
    "        if (len(sq) > 0):\n",
    "            sequences.append(s.join(data[1:]))\n",
    "    #print(sequences)\n",
    "    return headers, sequences"
   ]
  },
  {
   "cell_type": "markdown",
   "metadata": {},
   "source": [
    "## The dataset contains 5959 proteins annotated to one of 11 different subcellular locations which are: chloroplast, cytoplasm, endoplasmic reticulum, extracellular space, Golgi apparatus, lysosomal, mitochondrion, nucleus, peroxisome, plasma membrane and vacuole which represented proteins of plants cell and fungal cell while animal cells shared all localizations with them, but have lysosomes instead of vacuoles. The only variable we intend to consider is protein sequence.\n"
   ]
  },
  {
   "cell_type": "code",
   "execution_count": 3,
   "metadata": {},
   "outputs": [
    {
     "data": {
      "text/html": [
       "<div>\n",
       "<style scoped>\n",
       "    .dataframe tbody tr th:only-of-type {\n",
       "        vertical-align: middle;\n",
       "    }\n",
       "\n",
       "    .dataframe tbody tr th {\n",
       "        vertical-align: top;\n",
       "    }\n",
       "\n",
       "    .dataframe thead th {\n",
       "        text-align: right;\n",
       "    }\n",
       "</style>\n",
       "<table border=\"1\" class=\"dataframe\">\n",
       "  <thead>\n",
       "    <tr style=\"text-align: right;\">\n",
       "      <th></th>\n",
       "      <th>label</th>\n",
       "      <th>name</th>\n",
       "      <th>sequence</th>\n",
       "    </tr>\n",
       "  </thead>\n",
       "  <tbody>\n",
       "    <tr>\n",
       "      <th>0</th>\n",
       "      <td>chloroplast.fasta</td>\n",
       "      <td>P46644 cTP 43</td>\n",
       "      <td>MKTTHSSSSSSDRRGARHNSGSDSDNSSYASTSGGTGGSVSHVADG...</td>\n",
       "    </tr>\n",
       "    <tr>\n",
       "      <th>1</th>\n",
       "      <td>chloroplast.fasta</td>\n",
       "      <td>P46248 cTP 52</td>\n",
       "      <td>MASMSGSTSRNKDKKGTSASNKAKSSRVTMTVAVKSRGTMADGVSA...</td>\n",
       "    </tr>\n",
       "    <tr>\n",
       "      <th>2</th>\n",
       "      <td>chloroplast.fasta</td>\n",
       "      <td>Q96375 cTP 49</td>\n",
       "      <td>MYASSARDGGKWCNARRKSKDAYHSCKSNGHKKVKGVKATAAATTK...</td>\n",
       "    </tr>\n",
       "  </tbody>\n",
       "</table>\n",
       "</div>"
      ],
      "text/plain": [
       "               label           name  \\\n",
       "0  chloroplast.fasta  P46644 cTP 43   \n",
       "1  chloroplast.fasta  P46248 cTP 52   \n",
       "2  chloroplast.fasta  Q96375 cTP 49   \n",
       "\n",
       "                                            sequence  \n",
       "0  MKTTHSSSSSSDRRGARHNSGSDSDNSSYASTSGGTGGSVSHVADG...  \n",
       "1  MASMSGSTSRNKDKKGTSASNKAKSSRVTMTVAVKSRGTMADGVSA...  \n",
       "2  MYASSARDGGKWCNARRKSKDAYHSCKSNGHKKVKGVKATAAATTK...  "
      ]
     },
     "execution_count": 3,
     "metadata": {},
     "output_type": "execute_result"
    }
   ],
   "source": [
    "# data downloaded from kaggle\n",
    "# https://www.kaggle.com/lzyacht/proteinsubcellularlocalization/downloads/proteinsubcellularlocalization.zip/1\n",
    "# data is from SWISS-PROT database release 42 (2003–2004)\n",
    "df = pd.read_csv('proteinsLocations.csv')\n",
    "df.head(3)"
   ]
  },
  {
   "cell_type": "code",
   "execution_count": 4,
   "metadata": {},
   "outputs": [
    {
     "data": {
      "text/plain": [
       "(5959, 3)"
      ]
     },
     "execution_count": 4,
     "metadata": {},
     "output_type": "execute_result"
    }
   ],
   "source": [
    "df.shape"
   ]
  },
  {
   "cell_type": "code",
   "execution_count": 5,
   "metadata": {},
   "outputs": [
    {
     "data": {
      "text/plain": [
       "label       object\n",
       "name        object\n",
       "sequence    object\n",
       "dtype: object"
      ]
     },
     "execution_count": 5,
     "metadata": {},
     "output_type": "execute_result"
    }
   ],
   "source": [
    "df.dtypes"
   ]
  },
  {
   "cell_type": "code",
   "execution_count": 6,
   "metadata": {},
   "outputs": [
    {
     "data": {
      "text/plain": [
       "cytoplasmic.fasta        1411\n",
       "plasma_membrane.fasta    1238\n",
       "extracellular.fasta       843\n",
       "nuclear.fasta             837\n",
       "mitochondrial.fasta       510\n",
       "chloroplast.fasta         449\n",
       "ER.fasta                  198\n",
       "peroxisomal.fasta         157\n",
       "Golgi.fasta               150\n",
       "lysosomal.fasta           103\n",
       "vacuolar.fasta             63\n",
       "Name: label, dtype: int64"
      ]
     },
     "execution_count": 6,
     "metadata": {},
     "output_type": "execute_result"
    }
   ],
   "source": [
    "df.label.value_counts()"
   ]
  },
  {
   "cell_type": "code",
   "execution_count": 7,
   "metadata": {},
   "outputs": [
    {
     "data": {
      "text/plain": [
       "label       0\n",
       "name        0\n",
       "sequence    0\n",
       "dtype: int64"
      ]
     },
     "execution_count": 7,
     "metadata": {},
     "output_type": "execute_result"
    }
   ],
   "source": [
    "df.isnull().sum()"
   ]
  },
  {
   "cell_type": "markdown",
   "metadata": {},
   "source": [
    "## Encode different subcellular locations as integers"
   ]
  },
  {
   "cell_type": "code",
   "execution_count": 8,
   "metadata": {
    "collapsed": true
   },
   "outputs": [],
   "source": [
    "from sklearn import preprocessing\n",
    "le = preprocessing.LabelEncoder()\n",
    "le.fit(df.label)\n",
    "df['location'] = le.transform(df['label'])"
   ]
  },
  {
   "cell_type": "code",
   "execution_count": 9,
   "metadata": {
    "collapsed": true
   },
   "outputs": [],
   "source": [
    "# remove non-coding amino acid letters like X\n",
    "df['sequence'] = df['sequence'].str.replace('X','G')\n",
    "df['sequence'] = df['sequence'].str.replace('B','G')"
   ]
  },
  {
   "cell_type": "markdown",
   "metadata": {},
   "source": [
    "## Derive Features Using Biopython"
   ]
  },
  {
   "cell_type": "code",
   "execution_count": 10,
   "metadata": {
    "collapsed": true
   },
   "outputs": [],
   "source": [
    "df['MW'] = df['sequence'].apply(lambda seq: ProteinAnalysis(seq).molecular_weight())\n",
    "df['grav'] = df['sequence'].apply(lambda seq: ProteinAnalysis(seq).gravy())\n",
    "df['instability'] = df['sequence'].apply(lambda seq: ProteinAnalysis(seq).instability_index())\n",
    "df['isoelectric'] = df['sequence'].apply(lambda seq: ProteinAnalysis(seq).isoelectric_point())\n",
    "df['aromaticity'] = df['sequence'].apply(lambda seq: ProteinAnalysis(seq).aromaticity())\n",
    "df['helix'] = df['sequence'].apply(lambda seq: ProteinAnalysis(seq).secondary_structure_fraction()[0])\n",
    "df['turn'] = df['sequence'].apply(lambda seq: ProteinAnalysis(seq).secondary_structure_fraction()[1])\n",
    "df['sheet'] = df['sequence'].apply(lambda seq: ProteinAnalysis(seq).secondary_structure_fraction()[2])"
   ]
  },
  {
   "cell_type": "code",
   "execution_count": null,
   "metadata": {
    "collapsed": true
   },
   "outputs": [],
   "source": []
  },
  {
   "cell_type": "code",
   "execution_count": 11,
   "metadata": {},
   "outputs": [
    {
     "data": {
      "text/html": [
       "<div>\n",
       "<style scoped>\n",
       "    .dataframe tbody tr th:only-of-type {\n",
       "        vertical-align: middle;\n",
       "    }\n",
       "\n",
       "    .dataframe tbody tr th {\n",
       "        vertical-align: top;\n",
       "    }\n",
       "\n",
       "    .dataframe thead th {\n",
       "        text-align: right;\n",
       "    }\n",
       "</style>\n",
       "<table border=\"1\" class=\"dataframe\">\n",
       "  <thead>\n",
       "    <tr style=\"text-align: right;\">\n",
       "      <th></th>\n",
       "      <th>label</th>\n",
       "      <th>name</th>\n",
       "      <th>sequence</th>\n",
       "      <th>location</th>\n",
       "      <th>MW</th>\n",
       "      <th>grav</th>\n",
       "      <th>instability</th>\n",
       "      <th>isoelectric</th>\n",
       "      <th>aromaticity</th>\n",
       "      <th>helix</th>\n",
       "      <th>turn</th>\n",
       "      <th>sheet</th>\n",
       "    </tr>\n",
       "  </thead>\n",
       "  <tbody>\n",
       "    <tr>\n",
       "      <th>0</th>\n",
       "      <td>chloroplast.fasta</td>\n",
       "      <td>P46644 cTP 43</td>\n",
       "      <td>MKTTHSSSSSSDRRGARHNSGSDSDNSSYASTSGGTGGSVSHVADG...</td>\n",
       "      <td>2</td>\n",
       "      <td>32103.0795</td>\n",
       "      <td>-0.766013</td>\n",
       "      <td>23.259150</td>\n",
       "      <td>10.171692</td>\n",
       "      <td>0.062092</td>\n",
       "      <td>0.160131</td>\n",
       "      <td>0.303922</td>\n",
       "      <td>0.160131</td>\n",
       "    </tr>\n",
       "    <tr>\n",
       "      <th>1</th>\n",
       "      <td>chloroplast.fasta</td>\n",
       "      <td>P46248 cTP 52</td>\n",
       "      <td>MASMSGSTSRNKDKKGTSASNKAKSSRVTMTVAVKSRGTMADGVSA...</td>\n",
       "      <td>2</td>\n",
       "      <td>32483.8687</td>\n",
       "      <td>-0.736039</td>\n",
       "      <td>16.642208</td>\n",
       "      <td>10.038025</td>\n",
       "      <td>0.068182</td>\n",
       "      <td>0.165584</td>\n",
       "      <td>0.292208</td>\n",
       "      <td>0.198052</td>\n",
       "    </tr>\n",
       "    <tr>\n",
       "      <th>2</th>\n",
       "      <td>chloroplast.fasta</td>\n",
       "      <td>Q96375 cTP 49</td>\n",
       "      <td>MYASSARDGGKWCNARRKSKDAYHSCKSNGHKKVKGVKATAAATTK...</td>\n",
       "      <td>2</td>\n",
       "      <td>47361.6761</td>\n",
       "      <td>-0.764537</td>\n",
       "      <td>24.365859</td>\n",
       "      <td>9.954407</td>\n",
       "      <td>0.061674</td>\n",
       "      <td>0.158590</td>\n",
       "      <td>0.306167</td>\n",
       "      <td>0.174009</td>\n",
       "    </tr>\n",
       "  </tbody>\n",
       "</table>\n",
       "</div>"
      ],
      "text/plain": [
       "               label           name  \\\n",
       "0  chloroplast.fasta  P46644 cTP 43   \n",
       "1  chloroplast.fasta  P46248 cTP 52   \n",
       "2  chloroplast.fasta  Q96375 cTP 49   \n",
       "\n",
       "                                            sequence  location          MW  \\\n",
       "0  MKTTHSSSSSSDRRGARHNSGSDSDNSSYASTSGGTGGSVSHVADG...         2  32103.0795   \n",
       "1  MASMSGSTSRNKDKKGTSASNKAKSSRVTMTVAVKSRGTMADGVSA...         2  32483.8687   \n",
       "2  MYASSARDGGKWCNARRKSKDAYHSCKSNGHKKVKGVKATAAATTK...         2  47361.6761   \n",
       "\n",
       "       grav  instability  isoelectric  aromaticity     helix      turn  \\\n",
       "0 -0.766013    23.259150    10.171692     0.062092  0.160131  0.303922   \n",
       "1 -0.736039    16.642208    10.038025     0.068182  0.165584  0.292208   \n",
       "2 -0.764537    24.365859     9.954407     0.061674  0.158590  0.306167   \n",
       "\n",
       "      sheet  \n",
       "0  0.160131  \n",
       "1  0.198052  \n",
       "2  0.174009  "
      ]
     },
     "execution_count": 11,
     "metadata": {},
     "output_type": "execute_result"
    }
   ],
   "source": [
    "df.head(3)"
   ]
  },
  {
   "cell_type": "code",
   "execution_count": 12,
   "metadata": {},
   "outputs": [
    {
     "data": {
      "text/html": [
       "<div>\n",
       "<style scoped>\n",
       "    .dataframe tbody tr th:only-of-type {\n",
       "        vertical-align: middle;\n",
       "    }\n",
       "\n",
       "    .dataframe tbody tr th {\n",
       "        vertical-align: top;\n",
       "    }\n",
       "\n",
       "    .dataframe thead th {\n",
       "        text-align: right;\n",
       "    }\n",
       "</style>\n",
       "<table border=\"1\" class=\"dataframe\">\n",
       "  <thead>\n",
       "    <tr style=\"text-align: right;\">\n",
       "      <th></th>\n",
       "      <th>label</th>\n",
       "      <th>name</th>\n",
       "      <th>sequence</th>\n",
       "      <th>location</th>\n",
       "      <th>MW</th>\n",
       "      <th>grav</th>\n",
       "      <th>instability</th>\n",
       "      <th>isoelectric</th>\n",
       "      <th>aromaticity</th>\n",
       "      <th>helix</th>\n",
       "      <th>turn</th>\n",
       "      <th>sheet</th>\n",
       "    </tr>\n",
       "  </thead>\n",
       "  <tbody>\n",
       "    <tr>\n",
       "      <th>5954</th>\n",
       "      <td>vacuolar.fasta</td>\n",
       "      <td>Q9P7E9 SA 67 89</td>\n",
       "      <td>MNAYGDTNNHGKSSTRHWRKRSAVSSSSSYSNSNTVKVSAKKRRRK...</td>\n",
       "      <td>10</td>\n",
       "      <td>62809.1971</td>\n",
       "      <td>-1.139535</td>\n",
       "      <td>30.272987</td>\n",
       "      <td>9.639954</td>\n",
       "      <td>0.118068</td>\n",
       "      <td>0.223614</td>\n",
       "      <td>0.322004</td>\n",
       "      <td>0.067979</td>\n",
       "    </tr>\n",
       "    <tr>\n",
       "      <th>5955</th>\n",
       "      <td>vacuolar.fasta</td>\n",
       "      <td>P33894 SA 120 140</td>\n",
       "      <td>MSASTHSHKRKNSHRKSSNSSMDKNNDSVANTDSNNGHTNRTATDV...</td>\n",
       "      <td>10</td>\n",
       "      <td>66361.1711</td>\n",
       "      <td>-1.390236</td>\n",
       "      <td>22.821212</td>\n",
       "      <td>9.633118</td>\n",
       "      <td>0.102694</td>\n",
       "      <td>0.186869</td>\n",
       "      <td>0.319865</td>\n",
       "      <td>0.077441</td>\n",
       "    </tr>\n",
       "    <tr>\n",
       "      <th>5956</th>\n",
       "      <td>vacuolar.fasta</td>\n",
       "      <td>P18962 SA 30 45</td>\n",
       "      <td>MGGVRDDTKKKHDKRVGVWGTVKSHHSNTDYNSNYTNDGKKVSSVV...</td>\n",
       "      <td>10</td>\n",
       "      <td>62188.9305</td>\n",
       "      <td>-1.164528</td>\n",
       "      <td>20.388414</td>\n",
       "      <td>9.398499</td>\n",
       "      <td>0.106952</td>\n",
       "      <td>0.228164</td>\n",
       "      <td>0.322638</td>\n",
       "      <td>0.065954</td>\n",
       "    </tr>\n",
       "    <tr>\n",
       "      <th>5957</th>\n",
       "      <td>vacuolar.fasta</td>\n",
       "      <td>P49047 SP 20</td>\n",
       "      <td>MTTVVSAVAAVSGDVKSASKRTNDDDSTKWAVVAGSSGYWNYRHAD...</td>\n",
       "      <td>10</td>\n",
       "      <td>34796.6113</td>\n",
       "      <td>-0.785366</td>\n",
       "      <td>28.781707</td>\n",
       "      <td>9.333679</td>\n",
       "      <td>0.082317</td>\n",
       "      <td>0.192073</td>\n",
       "      <td>0.329268</td>\n",
       "      <td>0.134146</td>\n",
       "    </tr>\n",
       "    <tr>\n",
       "      <th>5958</th>\n",
       "      <td>vacuolar.fasta</td>\n",
       "      <td>Q39044 SP 21</td>\n",
       "      <td>MAKSCYRAVVHASRGRKMTANADDDGVGTRWAVVAGSSGYGNYRHA...</td>\n",
       "      <td>10</td>\n",
       "      <td>37238.6991</td>\n",
       "      <td>-0.773623</td>\n",
       "      <td>21.845507</td>\n",
       "      <td>9.433899</td>\n",
       "      <td>0.095652</td>\n",
       "      <td>0.197101</td>\n",
       "      <td>0.286957</td>\n",
       "      <td>0.147826</td>\n",
       "    </tr>\n",
       "  </tbody>\n",
       "</table>\n",
       "</div>"
      ],
      "text/plain": [
       "               label               name  \\\n",
       "5954  vacuolar.fasta    Q9P7E9 SA 67 89   \n",
       "5955  vacuolar.fasta  P33894 SA 120 140   \n",
       "5956  vacuolar.fasta    P18962 SA 30 45   \n",
       "5957  vacuolar.fasta       P49047 SP 20   \n",
       "5958  vacuolar.fasta       Q39044 SP 21   \n",
       "\n",
       "                                               sequence  location          MW  \\\n",
       "5954  MNAYGDTNNHGKSSTRHWRKRSAVSSSSSYSNSNTVKVSAKKRRRK...        10  62809.1971   \n",
       "5955  MSASTHSHKRKNSHRKSSNSSMDKNNDSVANTDSNNGHTNRTATDV...        10  66361.1711   \n",
       "5956  MGGVRDDTKKKHDKRVGVWGTVKSHHSNTDYNSNYTNDGKKVSSVV...        10  62188.9305   \n",
       "5957  MTTVVSAVAAVSGDVKSASKRTNDDDSTKWAVVAGSSGYWNYRHAD...        10  34796.6113   \n",
       "5958  MAKSCYRAVVHASRGRKMTANADDDGVGTRWAVVAGSSGYGNYRHA...        10  37238.6991   \n",
       "\n",
       "          grav  instability  isoelectric  aromaticity     helix      turn  \\\n",
       "5954 -1.139535    30.272987     9.639954     0.118068  0.223614  0.322004   \n",
       "5955 -1.390236    22.821212     9.633118     0.102694  0.186869  0.319865   \n",
       "5956 -1.164528    20.388414     9.398499     0.106952  0.228164  0.322638   \n",
       "5957 -0.785366    28.781707     9.333679     0.082317  0.192073  0.329268   \n",
       "5958 -0.773623    21.845507     9.433899     0.095652  0.197101  0.286957   \n",
       "\n",
       "         sheet  \n",
       "5954  0.067979  \n",
       "5955  0.077441  \n",
       "5956  0.065954  \n",
       "5957  0.134146  \n",
       "5958  0.147826  "
      ]
     },
     "execution_count": 12,
     "metadata": {},
     "output_type": "execute_result"
    }
   ],
   "source": [
    "df.tail()"
   ]
  },
  {
   "cell_type": "code",
   "execution_count": 13,
   "metadata": {},
   "outputs": [
    {
     "data": {
      "text/plain": [
       "Index(['label', 'name', 'sequence', 'location', 'MW', 'grav', 'instability',\n",
       "       'isoelectric', 'aromaticity', 'helix', 'turn', 'sheet'],\n",
       "      dtype='object')"
      ]
     },
     "execution_count": 13,
     "metadata": {},
     "output_type": "execute_result"
    }
   ],
   "source": [
    "df.columns"
   ]
  },
  {
   "cell_type": "code",
   "execution_count": 14,
   "metadata": {},
   "outputs": [
    {
     "data": {
      "text/plain": [
       "label           object\n",
       "name            object\n",
       "sequence        object\n",
       "location         int64\n",
       "MW             float64\n",
       "grav           float64\n",
       "instability    float64\n",
       "isoelectric    float64\n",
       "aromaticity    float64\n",
       "helix          float64\n",
       "turn           float64\n",
       "sheet          float64\n",
       "dtype: object"
      ]
     },
     "execution_count": 14,
     "metadata": {},
     "output_type": "execute_result"
    }
   ],
   "source": [
    "df.dtypes"
   ]
  },
  {
   "cell_type": "code",
   "execution_count": 15,
   "metadata": {},
   "outputs": [
    {
     "data": {
      "text/plain": [
       "3     1411\n",
       "9     1238\n",
       "4      843\n",
       "7      837\n",
       "6      510\n",
       "2      449\n",
       "0      198\n",
       "8      157\n",
       "1      150\n",
       "5      103\n",
       "10      63\n",
       "Name: location, dtype: int64"
      ]
     },
     "execution_count": 15,
     "metadata": {},
     "output_type": "execute_result"
    }
   ],
   "source": [
    "df.location.value_counts()"
   ]
  },
  {
   "cell_type": "code",
   "execution_count": null,
   "metadata": {
    "collapsed": true
   },
   "outputs": [],
   "source": []
  },
  {
   "cell_type": "markdown",
   "metadata": {},
   "source": [
    "## Binary Classification: Select only data for proteins in the cytoplasm or plasma membrane for classification"
   ]
  },
  {
   "cell_type": "code",
   "execution_count": 16,
   "metadata": {},
   "outputs": [
    {
     "data": {
      "text/html": [
       "<div>\n",
       "<style scoped>\n",
       "    .dataframe tbody tr th:only-of-type {\n",
       "        vertical-align: middle;\n",
       "    }\n",
       "\n",
       "    .dataframe tbody tr th {\n",
       "        vertical-align: top;\n",
       "    }\n",
       "\n",
       "    .dataframe thead th {\n",
       "        text-align: right;\n",
       "    }\n",
       "</style>\n",
       "<table border=\"1\" class=\"dataframe\">\n",
       "  <thead>\n",
       "    <tr style=\"text-align: right;\">\n",
       "      <th></th>\n",
       "      <th>label</th>\n",
       "      <th>name</th>\n",
       "      <th>sequence</th>\n",
       "      <th>location</th>\n",
       "      <th>MW</th>\n",
       "      <th>grav</th>\n",
       "      <th>instability</th>\n",
       "      <th>isoelectric</th>\n",
       "      <th>aromaticity</th>\n",
       "      <th>helix</th>\n",
       "      <th>turn</th>\n",
       "      <th>sheet</th>\n",
       "    </tr>\n",
       "  </thead>\n",
       "  <tbody>\n",
       "    <tr>\n",
       "      <th>449</th>\n",
       "      <td>cytoplasmic.fasta</td>\n",
       "      <td>P31946</td>\n",
       "      <td>TMDKSVKAKAARYDDMAAAMKAVTGHSNRNSVAYKNVVGARRSSWR...</td>\n",
       "      <td>3</td>\n",
       "      <td>16939.5451</td>\n",
       "      <td>-1.089032</td>\n",
       "      <td>19.861935</td>\n",
       "      <td>9.868225</td>\n",
       "      <td>0.083871</td>\n",
       "      <td>0.154839</td>\n",
       "      <td>0.277419</td>\n",
       "      <td>0.180645</td>\n",
       "    </tr>\n",
       "    <tr>\n",
       "      <th>450</th>\n",
       "      <td>cytoplasmic.fasta</td>\n",
       "      <td>P42655</td>\n",
       "      <td>MDDRDVYAKAARYDMVSMKKVAGMDVTVRNSVAYKNVGARRASWRS...</td>\n",
       "      <td>3</td>\n",
       "      <td>18528.3574</td>\n",
       "      <td>-1.028743</td>\n",
       "      <td>16.606587</td>\n",
       "      <td>9.461609</td>\n",
       "      <td>0.083832</td>\n",
       "      <td>0.161677</td>\n",
       "      <td>0.209581</td>\n",
       "      <td>0.209581</td>\n",
       "    </tr>\n",
       "    <tr>\n",
       "      <th>451</th>\n",
       "      <td>cytoplasmic.fasta</td>\n",
       "      <td>P35214</td>\n",
       "      <td>VDRVKARAARYDDMAAAMKNVTNSNRNSVAYKNVVGARRSSWRVSS...</td>\n",
       "      <td>3</td>\n",
       "      <td>18340.9886</td>\n",
       "      <td>-1.018788</td>\n",
       "      <td>23.423030</td>\n",
       "      <td>9.645447</td>\n",
       "      <td>0.096970</td>\n",
       "      <td>0.187879</td>\n",
       "      <td>0.242424</td>\n",
       "      <td>0.175758</td>\n",
       "    </tr>\n",
       "    <tr>\n",
       "      <th>452</th>\n",
       "      <td>cytoplasmic.fasta</td>\n",
       "      <td>Q91896</td>\n",
       "      <td>MDKNVKAKAARYDDMAACMKRVTGGSNRNSVAYKNVVGARRSSWRV...</td>\n",
       "      <td>3</td>\n",
       "      <td>17275.1223</td>\n",
       "      <td>-0.880124</td>\n",
       "      <td>27.426087</td>\n",
       "      <td>9.872498</td>\n",
       "      <td>0.068323</td>\n",
       "      <td>0.149068</td>\n",
       "      <td>0.242236</td>\n",
       "      <td>0.204969</td>\n",
       "    </tr>\n",
       "    <tr>\n",
       "      <th>453</th>\n",
       "      <td>cytoplasmic.fasta</td>\n",
       "      <td>Q15172</td>\n",
       "      <td>MSSSSAGAASAASASKVDGTRKSVRKARKRSGSSRSGSAHKDATSN...</td>\n",
       "      <td>3</td>\n",
       "      <td>29992.3656</td>\n",
       "      <td>-1.147970</td>\n",
       "      <td>33.601845</td>\n",
       "      <td>10.274597</td>\n",
       "      <td>0.066421</td>\n",
       "      <td>0.151292</td>\n",
       "      <td>0.269373</td>\n",
       "      <td>0.147601</td>\n",
       "    </tr>\n",
       "  </tbody>\n",
       "</table>\n",
       "</div>"
      ],
      "text/plain": [
       "                 label    name  \\\n",
       "449  cytoplasmic.fasta  P31946   \n",
       "450  cytoplasmic.fasta  P42655   \n",
       "451  cytoplasmic.fasta  P35214   \n",
       "452  cytoplasmic.fasta  Q91896   \n",
       "453  cytoplasmic.fasta  Q15172   \n",
       "\n",
       "                                              sequence  location          MW  \\\n",
       "449  TMDKSVKAKAARYDDMAAAMKAVTGHSNRNSVAYKNVVGARRSSWR...         3  16939.5451   \n",
       "450  MDDRDVYAKAARYDMVSMKKVAGMDVTVRNSVAYKNVGARRASWRS...         3  18528.3574   \n",
       "451  VDRVKARAARYDDMAAAMKNVTNSNRNSVAYKNVVGARRSSWRVSS...         3  18340.9886   \n",
       "452  MDKNVKAKAARYDDMAACMKRVTGGSNRNSVAYKNVVGARRSSWRV...         3  17275.1223   \n",
       "453  MSSSSAGAASAASASKVDGTRKSVRKARKRSGSSRSGSAHKDATSN...         3  29992.3656   \n",
       "\n",
       "         grav  instability  isoelectric  aromaticity     helix      turn  \\\n",
       "449 -1.089032    19.861935     9.868225     0.083871  0.154839  0.277419   \n",
       "450 -1.028743    16.606587     9.461609     0.083832  0.161677  0.209581   \n",
       "451 -1.018788    23.423030     9.645447     0.096970  0.187879  0.242424   \n",
       "452 -0.880124    27.426087     9.872498     0.068323  0.149068  0.242236   \n",
       "453 -1.147970    33.601845    10.274597     0.066421  0.151292  0.269373   \n",
       "\n",
       "        sheet  \n",
       "449  0.180645  \n",
       "450  0.209581  \n",
       "451  0.175758  \n",
       "452  0.204969  \n",
       "453  0.147601  "
      ]
     },
     "execution_count": 16,
     "metadata": {},
     "output_type": "execute_result"
    }
   ],
   "source": [
    "# select only two types of proteins: cytoplasmic and plasma membrane proteins\n",
    "mask = ((df.location == 3) | (df.location == 9))\n",
    "#mask = ((df.location == 3) | (df.location == 6))\n",
    "data = df[mask]\n",
    "data.head()"
   ]
  },
  {
   "cell_type": "code",
   "execution_count": 17,
   "metadata": {},
   "outputs": [
    {
     "data": {
      "text/html": [
       "<div>\n",
       "<style scoped>\n",
       "    .dataframe tbody tr th:only-of-type {\n",
       "        vertical-align: middle;\n",
       "    }\n",
       "\n",
       "    .dataframe tbody tr th {\n",
       "        vertical-align: top;\n",
       "    }\n",
       "\n",
       "    .dataframe thead th {\n",
       "        text-align: right;\n",
       "    }\n",
       "</style>\n",
       "<table border=\"1\" class=\"dataframe\">\n",
       "  <thead>\n",
       "    <tr style=\"text-align: right;\">\n",
       "      <th></th>\n",
       "      <th>label</th>\n",
       "      <th>name</th>\n",
       "      <th>sequence</th>\n",
       "      <th>location</th>\n",
       "      <th>MW</th>\n",
       "      <th>grav</th>\n",
       "      <th>instability</th>\n",
       "      <th>isoelectric</th>\n",
       "      <th>aromaticity</th>\n",
       "      <th>helix</th>\n",
       "      <th>turn</th>\n",
       "      <th>sheet</th>\n",
       "    </tr>\n",
       "  </thead>\n",
       "  <tbody>\n",
       "    <tr>\n",
       "      <th>599</th>\n",
       "      <td>cytoplasmic.fasta</td>\n",
       "      <td>Q62877</td>\n",
       "      <td>GSRASTRDKKTGSHSTRYSRTSDKGNGTSRDRANGDRNASGDVNRG...</td>\n",
       "      <td>3</td>\n",
       "      <td>12802.5778</td>\n",
       "      <td>-1.611966</td>\n",
       "      <td>18.907692</td>\n",
       "      <td>10.171692</td>\n",
       "      <td>0.017094</td>\n",
       "      <td>0.094017</td>\n",
       "      <td>0.316239</td>\n",
       "      <td>0.102564</td>\n",
       "    </tr>\n",
       "    <tr>\n",
       "      <th>864</th>\n",
       "      <td>cytoplasmic.fasta</td>\n",
       "      <td>P29452</td>\n",
       "      <td>MADKRAKRKNSVSGTNGDKRVNMDKKANTAMDKARDCDHVSKKGAS...</td>\n",
       "      <td>3</td>\n",
       "      <td>27086.1368</td>\n",
       "      <td>-1.067871</td>\n",
       "      <td>26.426506</td>\n",
       "      <td>9.791199</td>\n",
       "      <td>0.040161</td>\n",
       "      <td>0.124498</td>\n",
       "      <td>0.236948</td>\n",
       "      <td>0.132530</td>\n",
       "    </tr>\n",
       "    <tr>\n",
       "      <th>5195</th>\n",
       "      <td>plasma_membrane.fasta</td>\n",
       "      <td>Q13651 SP 21</td>\n",
       "      <td>MCVVAASRGSDAHGTSSVWAHHHWTNSSTCYVARYGSWNSSNCSTS...</td>\n",
       "      <td>9</td>\n",
       "      <td>36865.0899</td>\n",
       "      <td>-0.777933</td>\n",
       "      <td>18.958659</td>\n",
       "      <td>9.401794</td>\n",
       "      <td>0.058659</td>\n",
       "      <td>0.148045</td>\n",
       "      <td>0.365922</td>\n",
       "      <td>0.108939</td>\n",
       "    </tr>\n",
       "  </tbody>\n",
       "</table>\n",
       "</div>"
      ],
      "text/plain": [
       "                      label          name  \\\n",
       "599       cytoplasmic.fasta        Q62877   \n",
       "864       cytoplasmic.fasta        P29452   \n",
       "5195  plasma_membrane.fasta  Q13651 SP 21   \n",
       "\n",
       "                                               sequence  location          MW  \\\n",
       "599   GSRASTRDKKTGSHSTRYSRTSDKGNGTSRDRANGDRNASGDVNRG...         3  12802.5778   \n",
       "864   MADKRAKRKNSVSGTNGDKRVNMDKKANTAMDKARDCDHVSKKGAS...         3  27086.1368   \n",
       "5195  MCVVAASRGSDAHGTSSVWAHHHWTNSSTCYVARYGSWNSSNCSTS...         9  36865.0899   \n",
       "\n",
       "          grav  instability  isoelectric  aromaticity     helix      turn  \\\n",
       "599  -1.611966    18.907692    10.171692     0.017094  0.094017  0.316239   \n",
       "864  -1.067871    26.426506     9.791199     0.040161  0.124498  0.236948   \n",
       "5195 -0.777933    18.958659     9.401794     0.058659  0.148045  0.365922   \n",
       "\n",
       "         sheet  \n",
       "599   0.102564  \n",
       "864   0.132530  \n",
       "5195  0.108939  "
      ]
     },
     "execution_count": 17,
     "metadata": {},
     "output_type": "execute_result"
    }
   ],
   "source": [
    "# scramble the data\n",
    "data = data.sample(frac=1)\n",
    "data.head(3)"
   ]
  },
  {
   "cell_type": "code",
   "execution_count": 18,
   "metadata": {},
   "outputs": [
    {
     "data": {
      "text/plain": [
       "3    1411\n",
       "9    1238\n",
       "Name: location, dtype: int64"
      ]
     },
     "execution_count": 18,
     "metadata": {},
     "output_type": "execute_result"
    }
   ],
   "source": [
    "data.location.value_counts()"
   ]
  },
  {
   "cell_type": "code",
   "execution_count": 19,
   "metadata": {},
   "outputs": [
    {
     "name": "stdout",
     "output_type": "stream",
     "text": [
      "(2119, 8) (2119,)\n",
      "(530, 8) (530,)\n"
     ]
    }
   ],
   "source": [
    "predictors = ['MW', 'grav', 'instability', 'isoelectric','aromaticity', 'helix','turn','sheet']\n",
    "X = data[predictors]\n",
    "y = data.location\n",
    "\n",
    "# Split the data into training and test sets\n",
    "X_train, X_test, y_train, y_test = train_test_split(X,y, test_size=0.2,random_state =42)\n",
    "print(X_train.shape, y_train.shape)\n",
    "print(X_test.shape, y_test.shape)"
   ]
  },
  {
   "cell_type": "code",
   "execution_count": 20,
   "metadata": {},
   "outputs": [
    {
     "name": "stdout",
     "output_type": "stream",
     "text": [
      "2119\n",
      "530\n"
     ]
    }
   ],
   "source": [
    "print(len(y_train))\n",
    "print(len(y_test))"
   ]
  },
  {
   "cell_type": "code",
   "execution_count": 21,
   "metadata": {},
   "outputs": [
    {
     "data": {
      "text/plain": [
       "3    1135\n",
       "9     984\n",
       "Name: location, dtype: int64"
      ]
     },
     "execution_count": 21,
     "metadata": {},
     "output_type": "execute_result"
    }
   ],
   "source": [
    "y_train.value_counts()"
   ]
  },
  {
   "cell_type": "code",
   "execution_count": 22,
   "metadata": {},
   "outputs": [
    {
     "data": {
      "text/plain": [
       "3    276\n",
       "9    254\n",
       "Name: location, dtype: int64"
      ]
     },
     "execution_count": 22,
     "metadata": {},
     "output_type": "execute_result"
    }
   ],
   "source": [
    "y_test.value_counts()"
   ]
  },
  {
   "cell_type": "markdown",
   "metadata": {},
   "source": [
    "## Decision Tree Classifier"
   ]
  },
  {
   "cell_type": "code",
   "execution_count": 23,
   "metadata": {},
   "outputs": [
    {
     "name": "stdout",
     "output_type": "stream",
     "text": [
      "Decision Tree Classifier Score: 0.76\n"
     ]
    }
   ],
   "source": [
    "from sklearn.tree import DecisionTreeClassifier\n",
    "#dtc = DecisionTreeClassifier(random_state=0).fit(X_train, y_train)\n",
    "dtc = DecisionTreeClassifier(random_state=0).fit(X_train, y_train)\n",
    "predictions = dtc.predict(X_test)\n",
    "print(\"Decision Tree Classifier Score: {:.2f}\".format(dtc.score(X_test, y_test)))"
   ]
  },
  {
   "cell_type": "code",
   "execution_count": 24,
   "metadata": {},
   "outputs": [
    {
     "name": "stdout",
     "output_type": "stream",
     "text": [
      "{'MW': 0.13214073221738412, 'grav': 0.22886205668210738, 'instability': 0.11004334723391444, 'isoelectric': 0.099147917540500702, 'aromaticity': 0.080736958985720933, 'helix': 0.041900727437864306, 'turn': 0.070377313418456502, 'sheet': 0.23679094648405152}\n"
     ]
    }
   ],
   "source": [
    "print(dict(zip(predictors, dtc.feature_importances_)))"
   ]
  },
  {
   "cell_type": "code",
   "execution_count": 25,
   "metadata": {},
   "outputs": [
    {
     "name": "stdout",
     "output_type": "stream",
     "text": [
      "Confusion Matrix for Decision Tree Model\n",
      "\n",
      "[[211  65]\n",
      " [ 62 192]]\n"
     ]
    }
   ],
   "source": [
    "# Generate Confusion Matrix for Decision Tree Classifier\n",
    "actual = y_test\n",
    "predictions = dtc.predict(X_test)\n",
    "print('Confusion Matrix for Decision Tree Model')\n",
    "print()\n",
    "cm = confusion_matrix(actual,predictions)\n",
    "print(cm)"
   ]
  },
  {
   "cell_type": "code",
   "execution_count": 26,
   "metadata": {},
   "outputs": [
    {
     "data": {
      "image/png": "[encoded data removed]",
      "text/plain": [
       "<matplotlib.figure.Figure at 0x1a18ceba90>"
      ]
     },
     "metadata": {},
     "output_type": "display_data"
    }
   ],
   "source": [
    "# Nice plot of confusion matrix\n",
    "# Adjust size of confusion matrix by following code taken from StackOverflow\n",
    "# https://stackoverflow.com/questions/43021762/matplotlib-how-to-change-figsize-for-matshow\n",
    "plt.figure(figsize=(10,5))\n",
    "plt.matshow(cm, fignum=1)\n",
    "\n",
    "plt.title('Confusion Matrix Plot for Decision Tree Model')\n",
    "plt.colorbar()\n",
    "plt.xlabel('Predicted')\n",
    "plt.ylabel('Actual')\n",
    "\n",
    "plt.show()"
   ]
  },
  {
   "cell_type": "markdown",
   "metadata": {
    "collapsed": true
   },
   "source": [
    "## Logistic Regression"
   ]
  },
  {
   "cell_type": "code",
   "execution_count": 27,
   "metadata": {},
   "outputs": [
    {
     "name": "stdout",
     "output_type": "stream",
     "text": [
      "Logistic Regression Score: 0.62\n"
     ]
    },
    {
     "name": "stderr",
     "output_type": "stream",
     "text": [
      "/Users/scottlew/miniconda3/lib/python3.6/site-packages/sklearn/linear_model/logistic.py:432: FutureWarning: Default solver will be changed to 'lbfgs' in 0.22. Specify a solver to silence this warning.\n",
      "  FutureWarning)\n"
     ]
    }
   ],
   "source": [
    "# Logistic Regression \n",
    "lr = LogisticRegression()\n",
    "lr.fit(X_train, y_train)\n",
    "lr.predict(X_test)\n",
    "print(\"Logistic Regression Score: {:.2f}\".format(lr.score(X_test, y_test)))"
   ]
  },
  {
   "cell_type": "code",
   "execution_count": 28,
   "metadata": {},
   "outputs": [
    {
     "name": "stdout",
     "output_type": "stream",
     "text": [
      "Confusion Matrix for Logistic Regression Model\n",
      "\n",
      "[[204  72]\n",
      " [130 124]]\n"
     ]
    }
   ],
   "source": [
    "# Generate Confusion Matrix for Logistic Regression\n",
    "actual = y_test\n",
    "predictions = lr.predict(X_test)\n",
    "print('Confusion Matrix for Logistic Regression Model')\n",
    "print()\n",
    "cm = confusion_matrix(actual,predictions)\n",
    "print(cm)"
   ]
  },
  {
   "cell_type": "code",
   "execution_count": 29,
   "metadata": {},
   "outputs": [
    {
     "data": {
      "image/png": "[encoded data removed]",
      "text/plain": [
       "<matplotlib.figure.Figure at 0x1a19ca4b70>"
      ]
     },
     "metadata": {},
     "output_type": "display_data"
    }
   ],
   "source": [
    "plt.figure(figsize=(10,5))\n",
    "plt.matshow(cm, fignum=1)\n",
    "\n",
    "plt.title('Confusion Matrix Plot for Logistic Regression Model')\n",
    "plt.colorbar()\n",
    "plt.xlabel('Predicted')\n",
    "plt.ylabel('Actual')\n",
    "\n",
    "plt.show()"
   ]
  },
  {
   "cell_type": "code",
   "execution_count": null,
   "metadata": {
    "collapsed": true
   },
   "outputs": [],
   "source": []
  },
  {
   "cell_type": "markdown",
   "metadata": {},
   "source": [
    "## Multi class Classification Using All The Data"
   ]
  },
  {
   "cell_type": "code",
   "execution_count": 30,
   "metadata": {},
   "outputs": [
    {
     "data": {
      "text/html": [
       "<div>\n",
       "<style scoped>\n",
       "    .dataframe tbody tr th:only-of-type {\n",
       "        vertical-align: middle;\n",
       "    }\n",
       "\n",
       "    .dataframe tbody tr th {\n",
       "        vertical-align: top;\n",
       "    }\n",
       "\n",
       "    .dataframe thead th {\n",
       "        text-align: right;\n",
       "    }\n",
       "</style>\n",
       "<table border=\"1\" class=\"dataframe\">\n",
       "  <thead>\n",
       "    <tr style=\"text-align: right;\">\n",
       "      <th></th>\n",
       "      <th>label</th>\n",
       "      <th>name</th>\n",
       "      <th>sequence</th>\n",
       "      <th>location</th>\n",
       "      <th>MW</th>\n",
       "      <th>grav</th>\n",
       "      <th>instability</th>\n",
       "      <th>isoelectric</th>\n",
       "      <th>aromaticity</th>\n",
       "      <th>helix</th>\n",
       "      <th>turn</th>\n",
       "      <th>sheet</th>\n",
       "    </tr>\n",
       "  </thead>\n",
       "  <tbody>\n",
       "    <tr>\n",
       "      <th>4156</th>\n",
       "      <td>nuclear.fasta</td>\n",
       "      <td>P49592</td>\n",
       "      <td>MDMDVGKSKDASKATMTKKMDVRVARDADCCVNVSSSNDVCNKDKR...</td>\n",
       "      <td>7</td>\n",
       "      <td>10969.3995</td>\n",
       "      <td>-0.570297</td>\n",
       "      <td>27.764356</td>\n",
       "      <td>9.674011</td>\n",
       "      <td>0.049505</td>\n",
       "      <td>0.168317</td>\n",
       "      <td>0.198020</td>\n",
       "      <td>0.227723</td>\n",
       "    </tr>\n",
       "    <tr>\n",
       "      <th>5464</th>\n",
       "      <td>plasma_membrane.fasta</td>\n",
       "      <td>P41217 SP 30</td>\n",
       "      <td>MRVRMSHSTYSVWVMAAVVCTAVVVTDRYTASKCSNAAVTWKKKAV...</td>\n",
       "      <td>9</td>\n",
       "      <td>19678.0609</td>\n",
       "      <td>-0.392265</td>\n",
       "      <td>16.639227</td>\n",
       "      <td>9.841125</td>\n",
       "      <td>0.077348</td>\n",
       "      <td>0.243094</td>\n",
       "      <td>0.265193</td>\n",
       "      <td>0.104972</td>\n",
       "    </tr>\n",
       "    <tr>\n",
       "      <th>3829</th>\n",
       "      <td>nuclear.fasta</td>\n",
       "      <td>Q13362</td>\n",
       "      <td>MTCNKAGSRMVVDAANSNGVVHRDVADKKRCCVDVSDSDKWKVKRA...</td>\n",
       "      <td>7</td>\n",
       "      <td>34376.6635</td>\n",
       "      <td>-1.045364</td>\n",
       "      <td>23.597020</td>\n",
       "      <td>10.037903</td>\n",
       "      <td>0.079470</td>\n",
       "      <td>0.185430</td>\n",
       "      <td>0.195364</td>\n",
       "      <td>0.168874</td>\n",
       "    </tr>\n",
       "  </tbody>\n",
       "</table>\n",
       "</div>"
      ],
      "text/plain": [
       "                      label          name  \\\n",
       "4156          nuclear.fasta        P49592   \n",
       "5464  plasma_membrane.fasta  P41217 SP 30   \n",
       "3829          nuclear.fasta        Q13362   \n",
       "\n",
       "                                               sequence  location          MW  \\\n",
       "4156  MDMDVGKSKDASKATMTKKMDVRVARDADCCVNVSSSNDVCNKDKR...         7  10969.3995   \n",
       "5464  MRVRMSHSTYSVWVMAAVVCTAVVVTDRYTASKCSNAAVTWKKKAV...         9  19678.0609   \n",
       "3829  MTCNKAGSRMVVDAANSNGVVHRDVADKKRCCVDVSDSDKWKVKRA...         7  34376.6635   \n",
       "\n",
       "          grav  instability  isoelectric  aromaticity     helix      turn  \\\n",
       "4156 -0.570297    27.764356     9.674011     0.049505  0.168317  0.198020   \n",
       "5464 -0.392265    16.639227     9.841125     0.077348  0.243094  0.265193   \n",
       "3829 -1.045364    23.597020    10.037903     0.079470  0.185430  0.195364   \n",
       "\n",
       "         sheet  \n",
       "4156  0.227723  \n",
       "5464  0.104972  \n",
       "3829  0.168874  "
      ]
     },
     "execution_count": 30,
     "metadata": {},
     "output_type": "execute_result"
    }
   ],
   "source": [
    "df = df.sample(frac=1)\n",
    "df.head(3)"
   ]
  },
  {
   "cell_type": "code",
   "execution_count": 31,
   "metadata": {},
   "outputs": [
    {
     "name": "stdout",
     "output_type": "stream",
     "text": [
      "(4767, 8) (4767,)\n",
      "(1192, 8) (1192,)\n"
     ]
    }
   ],
   "source": [
    "predictors = ['MW', 'grav', 'instability', 'isoelectric','aromaticity', 'helix','turn','sheet']\n",
    "X = df[predictors]\n",
    "y = df.location\n",
    "\n",
    "# Split the data into training and test sets\n",
    "X_train, X_test, y_train, y_test = train_test_split(X,y, test_size=0.2,random_state =42)\n",
    "print(X_train.shape, y_train.shape)\n",
    "print(X_test.shape, y_test.shape)"
   ]
  },
  {
   "cell_type": "code",
   "execution_count": 32,
   "metadata": {},
   "outputs": [
    {
     "name": "stdout",
     "output_type": "stream",
     "text": [
      "Decision Tree Classifier Score: 0.38\n"
     ]
    }
   ],
   "source": [
    "dtc = DecisionTreeClassifier(random_state=0).fit(X_train, y_train)\n",
    "predictions = dtc.predict(X_test)\n",
    "print(\"Decision Tree Classifier Score: {:.2f}\".format(dtc.score(X_test, y_test)))"
   ]
  },
  {
   "cell_type": "code",
   "execution_count": 33,
   "metadata": {},
   "outputs": [
    {
     "name": "stdout",
     "output_type": "stream",
     "text": [
      "Confusion Matrix for Decision Tree Model Using All of the Dataset\n",
      "\n",
      "[[  6   0   3  10   5   3   2   6   1   1   2]\n",
      " [  1   5   4  10   0   1   5   6   0   8   1]\n",
      " [  3   4  32  19   6   3  13  12   2   8   1]\n",
      " [ 14   4  14 123  26   0  28  44   7  20   3]\n",
      " [  3   0  15  30  64   2   6  15   1  22   3]\n",
      " [  1   0   3   3   2   2   1   0   0  10   4]\n",
      " [  2   6   9  18  12   1  22   8   7   6   1]\n",
      " [  1   0   2  36  12   0  11  69   1  17   2]\n",
      " [  2   3   4   9   1   0   3   5   2   6   0]\n",
      " [ 11   9  11  23  27   6  10  17   6 125   1]\n",
      " [  0   1   0   1   2   3   1   1   0   4   2]]\n"
     ]
    }
   ],
   "source": [
    "# Generate Confusion Matrix for Decision Tree Classifier\n",
    "actual = y_test\n",
    "predictions = dtc.predict(X_test)\n",
    "print('Confusion Matrix for Decision Tree Model Using All of the Dataset')\n",
    "print()\n",
    "cm = confusion_matrix(actual,predictions)\n",
    "print(cm)"
   ]
  },
  {
   "cell_type": "code",
   "execution_count": 34,
   "metadata": {},
   "outputs": [
    {
     "name": "stdout",
     "output_type": "stream",
     "text": [
      "Logistic Regression Score: 0.31\n"
     ]
    },
    {
     "name": "stderr",
     "output_type": "stream",
     "text": [
      "/Users/scottlew/miniconda3/lib/python3.6/site-packages/sklearn/linear_model/logistic.py:432: FutureWarning: Default solver will be changed to 'lbfgs' in 0.22. Specify a solver to silence this warning.\n",
      "  FutureWarning)\n",
      "/Users/scottlew/miniconda3/lib/python3.6/site-packages/sklearn/linear_model/logistic.py:469: FutureWarning: Default multi_class will be changed to 'auto' in 0.22. Specify the multi_class option to silence this warning.\n",
      "  \"this warning.\", FutureWarning)\n"
     ]
    }
   ],
   "source": [
    "# Logistic Regression \n",
    "lr = LogisticRegression()\n",
    "lr.fit(X_train, y_train)\n",
    "lr.predict(X_test)\n",
    "print(\"Logistic Regression Score: {:.2f}\".format(lr.score(X_test, y_test)))"
   ]
  },
  {
   "cell_type": "code",
   "execution_count": 35,
   "metadata": {},
   "outputs": [
    {
     "name": "stdout",
     "output_type": "stream",
     "text": [
      "Confusion Matrix for Logistic Regression Model\n",
      "\n",
      "[[  0   0   0  26   3   0   0   3   0   7   0]\n",
      " [  0   0   0  17   2   0   0  10   0  12   0]\n",
      " [  0   0   0  60  25   0   0  13   0   5   0]\n",
      " [  0   0   0 175  29   0   0  23   0  56   0]\n",
      " [  0   0   0  68  55   0   0  28   0  10   0]\n",
      " [  0   0   0  17   1   0   0   2   0   6   0]\n",
      " [  0   0   0  61  15   0   0  12   0   4   0]\n",
      " [  0   0   0  38  17   0   0  53   0  43   0]\n",
      " [  0   0   0  19   4   0   0   7   0   5   0]\n",
      " [  0   0   0 104  21   0   0  31   0  90   0]\n",
      " [  0   0   0  10   0   0   0   1   0   4   0]]\n"
     ]
    }
   ],
   "source": [
    "# Generate Confusion Matrix for Logistic Regression\n",
    "actual = y_test\n",
    "predictions = lr.predict(X_test)\n",
    "print('Confusion Matrix for Logistic Regression Model')\n",
    "print()\n",
    "cm = confusion_matrix(actual,predictions)\n",
    "print(cm)"
   ]
  },
  {
   "cell_type": "markdown",
   "metadata": {},
   "source": [
    "## Radius Neighbor Classifier"
   ]
  },
  {
   "cell_type": "code",
   "execution_count": 38,
   "metadata": {},
   "outputs": [
    {
     "name": "stdout",
     "output_type": "stream",
     "text": [
      "Radius Neighbor Score: 0.31\n"
     ]
    }
   ],
   "source": [
    "from sklearn.neighbors import RadiusNeighborsClassifier\n",
    "neigh = RadiusNeighborsClassifier(radius=1.0)\n",
    "neigh.fit(X_train, y_train) \n",
    "print(\"Radius Neighbor Score: {:.2f}\".format(lr.score(X_test, y_test)))"
   ]
  },
  {
   "cell_type": "markdown",
   "metadata": {},
   "source": [
    "## Ridge Classifier"
   ]
  },
  {
   "cell_type": "code",
   "execution_count": 39,
   "metadata": {},
   "outputs": [
    {
     "name": "stdout",
     "output_type": "stream",
     "text": [
      "Ridge Classifier Score: 0.42\n"
     ]
    }
   ],
   "source": [
    "from sklearn.linear_model import RidgeClassifier\n",
    "\n",
    "rdg = RidgeClassifier().fit(X_train, y_train)\n",
    "print(\"Ridge Classifier Score: {:.2f}\".format(rdg.score(X_test, y_test)))"
   ]
  }
 ],
 "metadata": {
  "kernelspec": {
   "display_name": "Python [default]",
   "language": "python",
   "name": "python3"
  },
  "language_info": {
   "codemirror_mode": {
    "name": "ipython",
    "version": 3
   },
   "file_extension": ".py",
   "mimetype": "text/x-python",
   "name": "python",
   "nbconvert_exporter": "python",
   "pygments_lexer": "ipython3",
   "version": "3.6.9"
  }
 },
 "nbformat": 4,
 "nbformat_minor": 2
}
